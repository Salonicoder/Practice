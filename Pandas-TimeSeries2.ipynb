{
 "cells": [
  {
   "cell_type": "code",
   "execution_count": 2,
   "id": "139d59bd",
   "metadata": {},
   "outputs": [],
   "source": [
    "import pandas as pd\n",
    "import numpy as np\n",
    "import datetime"
   ]
  },
  {
   "cell_type": "code",
   "execution_count": 3,
   "id": "752c1036",
   "metadata": {},
   "outputs": [
    {
     "name": "stdout",
     "output_type": "stream",
     "text": [
      "2014-08-01   -0.742600\n",
      "2014-08-02    1.426447\n",
      "2014-08-03   -0.835123\n",
      "2014-08-04   -0.141280\n",
      "dtype: float64\n"
     ]
    }
   ],
   "source": [
    "#Q6 Write a Pandas program to create a time-series from a given list of dates as strings.\n",
    "dates = ['2014-08-01','2014-08-02','2014-08-03','2014-08-04']\n",
    "time_series = pd.Series(np.random.randn(4), dates)\n",
    "print(time_series)"
   ]
  },
  {
   "cell_type": "code",
   "execution_count": 4,
   "id": "663fd0e0",
   "metadata": {},
   "outputs": [
    {
     "name": "stdout",
     "output_type": "stream",
     "text": [
      "Time series object with indexed data:\n",
      "2011-09-02    0\n",
      "2012-08-04    1\n",
      "2015-09-03    2\n",
      "2010-08-04    3\n",
      "2015-03-03    4\n",
      "2011-08-04    5\n",
      "2015-04-03    6\n",
      "2012-08-04    7\n",
      "dtype: int64\n",
      "\n",
      "Dates of same year:\n",
      "2015-09-03    2\n",
      "2015-03-03    4\n",
      "2015-04-03    6\n",
      "dtype: int64\n",
      "\n",
      "Dates between 2012-01-01 and 2012-12-31\n",
      "2012-08-04    1\n",
      "2012-08-04    7\n",
      "dtype: int64\n"
     ]
    },
    {
     "name": "stderr",
     "output_type": "stream",
     "text": [
      "C:\\Users\\singh\\AppData\\Local\\Temp/ipykernel_23972/2032213646.py:14: FutureWarning: Value based partial slicing on non-monotonic DatetimeIndexes with non-existing keys is deprecated and will raise a KeyError in a future Version.\n",
      "  print(s_dates['2012-01-01':'2012-12-31'])\n"
     ]
    }
   ],
   "source": [
    "#Q7\n",
    "index = pd.DatetimeIndex(['2011-09-02', '2012-08-04',\n",
    "                          '2015-09-03', '2010-08-04',\n",
    "                          '2015-03-03', '2011-08-04',\n",
    "                          '2015-04-03', '2012-08-04'])\n",
    "\n",
    "s_dates = pd.Series([0, 1, 2, 3, 4, 5, 6, 7], index=index)\n",
    "\n",
    "print(\"Time series object with indexed data:\")\n",
    "print(s_dates)\n",
    "print(\"\\nDates of same year:\")\n",
    "print(s_dates['2015'])\n",
    "print(\"\\nDates between 2012-01-01 and 2012-12-31\")\n",
    "print(s_dates['2012-01-01':'2012-12-31'])"
   ]
  },
  {
   "cell_type": "code",
   "execution_count": 5,
   "id": "bcdeff55",
   "metadata": {},
   "outputs": [
    {
     "name": "stdout",
     "output_type": "stream",
     "text": [
      "Date range of perods 45:\n",
      "DatetimeIndex(['2020-01-01', '2020-01-02', '2020-01-03', '2020-01-04',\n",
      "               '2020-01-05', '2020-01-06', '2020-01-07', '2020-01-08',\n",
      "               '2020-01-09', '2020-01-10', '2020-01-11', '2020-01-12',\n",
      "               '2020-01-13', '2020-01-14', '2020-01-15', '2020-01-16',\n",
      "               '2020-01-17', '2020-01-18', '2020-01-19', '2020-01-20',\n",
      "               '2020-01-21', '2020-01-22', '2020-01-23', '2020-01-24',\n",
      "               '2020-01-25', '2020-01-26', '2020-01-27', '2020-01-28',\n",
      "               '2020-01-29', '2020-01-30', '2020-01-31', '2020-02-01',\n",
      "               '2020-02-02', '2020-02-03', '2020-02-04', '2020-02-05',\n",
      "               '2020-02-06', '2020-02-07', '2020-02-08', '2020-02-09',\n",
      "               '2020-02-10', '2020-02-11', '2020-02-12', '2020-02-13',\n",
      "               '2020-02-14'],\n",
      "              dtype='datetime64[ns]', freq='D')\n"
     ]
    }
   ],
   "source": [
    "#Q8\n",
    "date_range = pd.date_range('2020-01-01', periods=45)\n",
    "print(\"Date range of perods 45:\")\n",
    "print(date_range)"
   ]
  },
  {
   "cell_type": "code",
   "execution_count": 6,
   "id": "d45dc2cf",
   "metadata": {},
   "outputs": [
    {
     "name": "stdout",
     "output_type": "stream",
     "text": [
      "Month of December 2020:\n",
      "0    2020-12-01\n",
      "1    2020-12-02\n",
      "2    2020-12-03\n",
      "3    2020-12-04\n",
      "4    2020-12-05\n",
      "5    2020-12-06\n",
      "6    2020-12-07\n",
      "7    2020-12-08\n",
      "8    2020-12-09\n",
      "9    2020-12-10\n",
      "10   2020-12-11\n",
      "11   2020-12-12\n",
      "12   2020-12-13\n",
      "13   2020-12-14\n",
      "14   2020-12-15\n",
      "15   2020-12-16\n",
      "16   2020-12-17\n",
      "17   2020-12-18\n",
      "18   2020-12-19\n",
      "19   2020-12-20\n",
      "20   2020-12-21\n",
      "21   2020-12-22\n",
      "22   2020-12-23\n",
      "23   2020-12-24\n",
      "24   2020-12-25\n",
      "25   2020-12-26\n",
      "26   2020-12-27\n",
      "27   2020-12-28\n",
      "28   2020-12-29\n",
      "29   2020-12-30\n",
      "30   2020-12-31\n",
      "dtype: datetime64[ns]\n",
      "\n",
      "Maximum date:  2020-12-31 00:00:00\n",
      "Minimum date:  2020-12-01 00:00:00\n",
      "Maximum index:  30\n",
      "Minimum index:  0\n"
     ]
    }
   ],
   "source": [
    "#Q9\n",
    "dates = pd.Series(pd.date_range('2020-12-01',periods=31, freq='D'))\n",
    "print(\"Month of December 2020:\")\n",
    "print(dates)\n",
    "dates = pd.Series(pd.date_range('2020-12-01',periods=31, freq='D'))\n",
    "print(\"\\nMaximum date: \", dates.max())\n",
    "print(\"Minimum date: \", dates.min())\n",
    "print(\"Maximum index: \", dates.idxmax())\n",
    "print(\"Minimum index: \", dates.idxmin())"
   ]
  },
  {
   "cell_type": "code",
   "execution_count": 7,
   "id": "aa7c65d8",
   "metadata": {},
   "outputs": [
    {
     "name": "stdout",
     "output_type": "stream",
     "text": [
      "Time series using three months frequency:\n",
      "DatetimeIndex(['2024-01-31', '2024-04-30', '2024-07-31', '2024-10-31',\n",
      "               '2025-01-31', '2025-04-30', '2025-07-31', '2025-10-31',\n",
      "               '2026-01-31', '2026-04-30', '2026-07-31', '2026-10-31',\n",
      "               '2027-01-31', '2027-04-30', '2027-07-31', '2027-10-31',\n",
      "               '2028-01-31', '2028-04-30', '2028-07-31', '2028-10-31',\n",
      "               '2029-01-31', '2029-04-30', '2029-07-31', '2029-10-31',\n",
      "               '2030-01-31', '2030-04-30', '2030-07-31', '2030-10-31',\n",
      "               '2031-01-31', '2031-04-30', '2031-07-31', '2031-10-31',\n",
      "               '2032-01-31', '2032-04-30', '2032-07-31', '2032-10-31'],\n",
      "              dtype='datetime64[ns]', freq='3M')\n"
     ]
    }
   ],
   "source": [
    "time_series = pd.date_range('1/1/2024', periods = 36, freq='3M')\n",
    "print(\"Time series using three months frequency:\")\n",
    "print(time_series) "
   ]
  }
 ],
 "metadata": {
  "kernelspec": {
   "display_name": "Python 3 (ipykernel)",
   "language": "python",
   "name": "python3"
  },
  "language_info": {
   "codemirror_mode": {
    "name": "ipython",
    "version": 3
   },
   "file_extension": ".py",
   "mimetype": "text/x-python",
   "name": "python",
   "nbconvert_exporter": "python",
   "pygments_lexer": "ipython3",
   "version": "3.9.7"
  }
 },
 "nbformat": 4,
 "nbformat_minor": 5
}
