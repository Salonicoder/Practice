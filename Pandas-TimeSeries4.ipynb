{
 "cells": [
  {
   "cell_type": "code",
   "execution_count": 1,
   "id": "7bed23ae",
   "metadata": {},
   "outputs": [],
   "source": [
    "import pandas as pd"
   ]
  },
  {
   "cell_type": "code",
   "execution_count": 3,
   "id": "093120a8",
   "metadata": {},
   "outputs": [
    {
     "name": "stdout",
     "output_type": "stream",
     "text": [
      "For a frequency of 1 hours 20 minutes, here we have combined the hour (H) and minute (T):\n",
      "\n",
      "TimedeltaIndex(['0 days 00:00:00', '0 days 01:20:00', '0 days 02:40:00',\n",
      "                '0 days 04:00:00', '0 days 05:20:00', '0 days 06:40:00',\n",
      "                '0 days 08:00:00', '0 days 09:20:00', '0 days 10:40:00',\n",
      "                '0 days 12:00:00', '0 days 13:20:00', '0 days 14:40:00',\n",
      "                '0 days 16:00:00', '0 days 17:20:00', '0 days 18:40:00',\n",
      "                '0 days 20:00:00', '0 days 21:20:00', '0 days 22:40:00',\n",
      "                '1 days 00:00:00', '1 days 01:20:00', '1 days 02:40:00',\n",
      "                '1 days 04:00:00', '1 days 05:20:00', '1 days 06:40:00',\n",
      "                '1 days 08:00:00', '1 days 09:20:00', '1 days 10:40:00',\n",
      "                '1 days 12:00:00', '1 days 13:20:00', '1 days 14:40:00'],\n",
      "               dtype='timedelta64[ns]', freq='80T')\n"
     ]
    }
   ],
   "source": [
    "#Q16\n",
    "result = pd.timedelta_range(0, periods=30, freq=\"1H20T\")\n",
    "print(\"For a frequency of 1 hours 20 minutes, here we have combined the hour (H) and minute (T):\\n\")\n",
    "print(result)"
   ]
  },
  {
   "cell_type": "code",
   "execution_count": 4,
   "id": "3f0677b2",
   "metadata": {},
   "outputs": [
    {
     "name": "stdout",
     "output_type": "stream",
     "text": [
      "Timezone: Europe/Berlin:\n",
      "Using pytz:\n",
      "Europe/Berlin\n",
      "Using dateutil:\n",
      "tzfile('Europe/Berlin')\n",
      "\n",
      "US/Pacific:\n",
      "Using pytz:\n",
      "US/Pacific\n",
      "Using dateutil:\n",
      "tzfile('US/Pacific')\n"
     ]
    }
   ],
   "source": [
    "#Q18\n",
    "print(\"Timezone: Europe/Berlin:\")\n",
    "print(\"Using pytz:\")\n",
    "date_pytz = pd.Timestamp('2019-01-01', tz = 'Europe/Berlin')\n",
    "print(date_pytz.tz)  \n",
    "print(\"Using dateutil:\")\n",
    "date_util = pd.Timestamp('2019-01-01', tz = 'dateutil/Europe/Berlin')\n",
    "print(date_util.tz)\n",
    "print(\"\\nUS/Pacific:\")\n",
    "print(\"Using pytz:\")\n",
    "date_pytz = pd.Timestamp('2019-01-01', tz = 'US/Pacific')\n",
    "print(date_pytz.tz)  \n",
    "print(\"Using dateutil:\")\n",
    "date_util = pd.Timestamp('2019-01-01', tz = 'dateutil/US/Pacific')\n",
    "print(date_util.tz)"
   ]
  },
  {
   "cell_type": "code",
   "execution_count": 5,
   "id": "16bc8e0c",
   "metadata": {},
   "outputs": [
    {
     "name": "stdout",
     "output_type": "stream",
     "text": [
      "Time series data with time zone:\n",
      "2019-01-01 00:00:00+01:00\n",
      "2019-01-01 00:00:00-08:00\n",
      "2019-01-01 00:00:00-05:00\n",
      "\n",
      "Time series data without time zone:\n",
      "2019-01-01 00:00:00\n",
      "2019-01-01 00:00:00\n",
      "2019-01-01 00:00:00\n"
     ]
    }
   ],
   "source": [
    "#Q19\n",
    "date1 = pd.Timestamp('2019-01-01', tz='Europe/Berlin')\n",
    "date2 = pd.Timestamp('2019-01-01', tz='US/Pacific')\n",
    "date3 = pd.Timestamp('2019-01-01', tz='US/Eastern')\n",
    "print(\"Time series data with time zone:\")\n",
    "print(date1)\n",
    "print(date2)\n",
    "print(date3)\n",
    "print(\"\\nTime series data without time zone:\")\n",
    "print(date1.tz_localize(None))\n",
    "print(date2.tz_localize(None))\n",
    "print(date3.tz_localize(None))"
   ]
  },
  {
   "cell_type": "code",
   "execution_count": 6,
   "id": "06310fb3",
   "metadata": {},
   "outputs": [
    {
     "name": "stdout",
     "output_type": "stream",
     "text": [
      "Subtract two timestamps of same time zone:\n",
      "Difference:  30 days 18:00:00\n",
      "\n",
      "Subtract two timestamps of different time zone:\n",
      "Difference:  0 days 05:00:00\n"
     ]
    }
   ],
   "source": [
    "#Q20\n",
    "print(\"Subtract two timestamps of same time zone:\")\n",
    "date1 = pd.Timestamp('2019-03-01 12:00', tz='US/Eastern')\n",
    "date2 = pd.Timestamp('2019-04-01 07:00', tz='US/Eastern')\n",
    "print(\"Difference: \", (date2-date1))\n",
    "print(\"\\nSubtract two timestamps of different time zone:\")\n",
    "date1 = pd.Timestamp('2019-03-01 12:00', tz='US/Eastern')\n",
    "date2 = pd.Timestamp('2019-03-01 07:00', tz='US/Pacific')\n",
    "# Remove the time zone and do the subtraction\n",
    "print(\"Difference: \", (date1.tz_localize(None) - date2.tz_localize(None)))"
   ]
  },
  {
   "cell_type": "code",
   "execution_count": 11,
   "id": "ac44a921",
   "metadata": {},
   "outputs": [
    {
     "name": "stdout",
     "output_type": "stream",
     "text": [
      "All Thursdays between 2024-01-01 and 2024-12-31:\n",
      "\n",
      "['2024-01-04T00:00:00.000000000' '2024-01-11T00:00:00.000000000'\n",
      " '2024-01-18T00:00:00.000000000' '2024-01-25T00:00:00.000000000'\n",
      " '2024-02-01T00:00:00.000000000' '2024-02-08T00:00:00.000000000'\n",
      " '2024-02-15T00:00:00.000000000' '2024-02-22T00:00:00.000000000'\n",
      " '2024-02-29T00:00:00.000000000' '2024-03-07T00:00:00.000000000'\n",
      " '2024-03-14T00:00:00.000000000' '2024-03-21T00:00:00.000000000'\n",
      " '2024-03-28T00:00:00.000000000' '2024-04-04T00:00:00.000000000'\n",
      " '2024-04-11T00:00:00.000000000' '2024-04-18T00:00:00.000000000'\n",
      " '2024-04-25T00:00:00.000000000' '2024-05-02T00:00:00.000000000'\n",
      " '2024-05-09T00:00:00.000000000' '2024-05-16T00:00:00.000000000'\n",
      " '2024-05-23T00:00:00.000000000' '2024-05-30T00:00:00.000000000'\n",
      " '2024-06-06T00:00:00.000000000' '2024-06-13T00:00:00.000000000'\n",
      " '2024-06-20T00:00:00.000000000' '2024-06-27T00:00:00.000000000'\n",
      " '2024-07-04T00:00:00.000000000' '2024-07-11T00:00:00.000000000'\n",
      " '2024-07-18T00:00:00.000000000' '2024-07-25T00:00:00.000000000'\n",
      " '2024-08-01T00:00:00.000000000' '2024-08-08T00:00:00.000000000'\n",
      " '2024-08-15T00:00:00.000000000' '2024-08-22T00:00:00.000000000'\n",
      " '2024-08-29T00:00:00.000000000' '2024-09-05T00:00:00.000000000'\n",
      " '2024-09-12T00:00:00.000000000' '2024-09-19T00:00:00.000000000'\n",
      " '2024-09-26T00:00:00.000000000' '2024-10-03T00:00:00.000000000'\n",
      " '2024-10-10T00:00:00.000000000' '2024-10-17T00:00:00.000000000'\n",
      " '2024-10-24T00:00:00.000000000' '2024-10-31T00:00:00.000000000'\n",
      " '2024-11-07T00:00:00.000000000' '2024-11-14T00:00:00.000000000'\n",
      " '2024-11-21T00:00:00.000000000' '2024-11-28T00:00:00.000000000'\n",
      " '2024-12-05T00:00:00.000000000' '2024-12-12T00:00:00.000000000'\n",
      " '2024-12-19T00:00:00.000000000' '2024-12-26T00:00:00.000000000']\n"
     ]
    }
   ],
   "source": [
    "#Q21\n",
    "thursdays  = pd.date_range('2024-01-01', \n",
    "                           '2024-12-31', freq=\"W-THU\")\n",
    "print(\"All Thursdays between 2024-01-01 and 2024-12-31:\\n\")\n",
    "print(thursdays.values)"
   ]
  },
  {
   "cell_type": "code",
   "execution_count": 12,
   "id": "1aa5dd62",
   "metadata": {},
   "outputs": [
    {
     "name": "stdout",
     "output_type": "stream",
     "text": [
      "All the business quarterly begin dates of 2024:\n",
      "['2024-03-01T00:00:00.000000000' '2024-06-03T00:00:00.000000000'\n",
      " '2024-09-02T00:00:00.000000000' '2024-12-02T00:00:00.000000000']\n",
      "/nAll the business quarterly end dates of 2024:\n",
      "['2024-03-29T00:00:00.000000000' '2024-06-28T00:00:00.000000000'\n",
      " '2024-09-30T00:00:00.000000000' '2024-12-31T00:00:00.000000000']\n"
     ]
    }
   ],
   "source": [
    "#Q22\n",
    "q_start_dates = pd.date_range('2024-01-01', '2024-12-31', freq='BQS-JUN')\n",
    "q_end_dates = pd.date_range('2024-01-01', '2024-12-31', freq='BQ-JUN')\n",
    "print(\"All the business quarterly begin dates of 2024:\")\n",
    "print(q_start_dates.values)\n",
    "print(\"/nAll the business quarterly end dates of 2024:\")\n",
    "print(q_end_dates.values)"
   ]
  },
  {
   "cell_type": "code",
   "execution_count": 13,
   "id": "cd406f17",
   "metadata": {},
   "outputs": [
    {
     "name": "stdout",
     "output_type": "stream",
     "text": [
      "Sequences of fixed-frequency dates and time spans (1 H):\n",
      "\n",
      "DatetimeIndex(['2030-01-01 00:00:00', '2030-01-01 01:00:00',\n",
      "               '2030-01-01 02:00:00', '2030-01-01 03:00:00',\n",
      "               '2030-01-01 04:00:00', '2030-01-01 05:00:00',\n",
      "               '2030-01-01 06:00:00', '2030-01-01 07:00:00',\n",
      "               '2030-01-01 08:00:00', '2030-01-01 09:00:00'],\n",
      "              dtype='datetime64[ns]', freq='H')\n",
      "\n",
      "Sequences of fixed-frequency dates and time spans (3 H): \n",
      "\n",
      "DatetimeIndex(['2030-01-01 00:00:00', '2030-01-01 03:00:00',\n",
      "               '2030-01-01 06:00:00', '2030-01-01 09:00:00',\n",
      "               '2030-01-01 12:00:00', '2030-01-01 15:00:00',\n",
      "               '2030-01-01 18:00:00', '2030-01-01 21:00:00',\n",
      "               '2030-01-02 00:00:00', '2030-01-02 03:00:00'],\n",
      "              dtype='datetime64[ns]', freq='3H')\n"
     ]
    }
   ],
   "source": [
    "#Q23\n",
    "print(\"Sequences of fixed-frequency dates and time spans (1 H):\\n\")\n",
    "r1 = pd.date_range('2030-01-01', periods=10, freq='H')\n",
    "print(r1)\n",
    "print(\"\\nSequences of fixed-frequency dates and time spans (3 H): \\n\")\n",
    "r2 = pd.date_range('2030-01-01', periods=10, freq='3H')\n",
    "print(r2)"
   ]
  },
  {
   "cell_type": "code",
   "execution_count": 14,
   "id": "1de895f9",
   "metadata": {},
   "outputs": [
    {
     "name": "stdout",
     "output_type": "stream",
     "text": [
      "Time series with frequency 3h10min:\n",
      "DatetimeIndex(['2029-01-01 00:00:00', '2029-01-01 03:10:00',\n",
      "               '2029-01-01 06:20:00', '2029-01-01 09:30:00',\n",
      "               '2029-01-01 12:40:00', '2029-01-01 15:50:00',\n",
      "               '2029-01-01 19:00:00', '2029-01-01 22:10:00',\n",
      "               '2029-01-02 01:20:00', '2029-01-02 04:30:00',\n",
      "               '2029-01-02 07:40:00', '2029-01-02 10:50:00',\n",
      "               '2029-01-02 14:00:00', '2029-01-02 17:10:00',\n",
      "               '2029-01-02 20:20:00', '2029-01-02 23:30:00',\n",
      "               '2029-01-03 02:40:00', '2029-01-03 05:50:00',\n",
      "               '2029-01-03 09:00:00', '2029-01-03 12:10:00'],\n",
      "              dtype='datetime64[ns]', freq='190T')\n",
      "\n",
      "Time series with frequency 1 day 10 minutes and 20 microseconds:\n",
      "DatetimeIndex([       '2029-01-01 00:00:00', '2029-01-02 00:10:00.000020',\n",
      "               '2029-01-03 00:20:00.000040', '2029-01-04 00:30:00.000060',\n",
      "               '2029-01-05 00:40:00.000080', '2029-01-06 00:50:00.000100',\n",
      "               '2029-01-07 01:00:00.000120', '2029-01-08 01:10:00.000140',\n",
      "               '2029-01-09 01:20:00.000160', '2029-01-10 01:30:00.000180',\n",
      "               '2029-01-11 01:40:00.000200', '2029-01-12 01:50:00.000220',\n",
      "               '2029-01-13 02:00:00.000240', '2029-01-14 02:10:00.000260',\n",
      "               '2029-01-15 02:20:00.000280', '2029-01-16 02:30:00.000300',\n",
      "               '2029-01-17 02:40:00.000320', '2029-01-18 02:50:00.000340',\n",
      "               '2029-01-19 03:00:00.000360', '2029-01-20 03:10:00.000380'],\n",
      "              dtype='datetime64[ns]', freq='87000000020U')\n"
     ]
    }
   ],
   "source": [
    "#Q24\n",
    "dateset1 = pd.date_range('2029-01-01 00:00:00', periods=20, freq='3h10min')\n",
    "print(\"Time series with frequency 3h10min:\")\n",
    "print(dateset1)\n",
    "dateset2 = pd.date_range('2029-01-01 00:00:00', periods=20, freq='1D10min20U')\n",
    "print(\"\\nTime series with frequency 1 day 10 minutes and 20 microseconds:\")\n",
    "print(dateset2)"
   ]
  }
 ],
 "metadata": {
  "kernelspec": {
   "display_name": "Python 3 (ipykernel)",
   "language": "python",
   "name": "python3"
  },
  "language_info": {
   "codemirror_mode": {
    "name": "ipython",
    "version": 3
   },
   "file_extension": ".py",
   "mimetype": "text/x-python",
   "name": "python",
   "nbconvert_exporter": "python",
   "pygments_lexer": "ipython3",
   "version": "3.9.7"
  }
 },
 "nbformat": 4,
 "nbformat_minor": 5
}
