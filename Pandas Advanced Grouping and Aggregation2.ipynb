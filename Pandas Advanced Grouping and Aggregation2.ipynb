{
 "cells": [
  {
   "cell_type": "code",
   "execution_count": 1,
   "id": "3c6019e8",
   "metadata": {},
   "outputs": [],
   "source": [
    "import pandas as pd"
   ]
  },
  {
   "cell_type": "code",
   "execution_count": 2,
   "id": "c1e10a99",
   "metadata": {},
   "outputs": [
    {
     "name": "stdout",
     "output_type": "stream",
     "text": [
      "Sample DataFrame:\n",
      "  Category  Value1  Value2\n",
      "0        A       1      10\n",
      "1        A       2      20\n",
      "2        B       3      30\n",
      "3        B       4      40\n",
      "4        C       5      50\n",
      "5        C       6      60\n",
      "\n",
      "Group by 'Category' and apply different aggregations:\n",
      "          Value1  Value2\n",
      "Category                \n",
      "A              3    15.0\n",
      "B              7    35.0\n",
      "C             11    55.0\n"
     ]
    }
   ],
   "source": [
    "# Sample DataFrame\n",
    "data = {'Category': ['A', 'A', 'B', 'B', 'C', 'C'],\n",
    "        'Value1': [1, 2, 3, 4, 5, 6],\n",
    "        'Value2': [10, 20, 30, 40, 50, 60]}\n",
    "df = pd.DataFrame(data)\n",
    "print(\"Sample DataFrame:\")\n",
    "print(df)\n",
    "# Group by 'Category' and apply different aggregations\n",
    "print(\"\\nGroup by 'Category' and apply different aggregations:\")\n",
    "grouped = df.groupby('Category').agg({'Value1': 'sum', 'Value2': 'mean'})\n",
    "print(grouped)"
   ]
  },
  {
   "cell_type": "code",
   "execution_count": 3,
   "id": "f8576cdf",
   "metadata": {},
   "outputs": [
    {
     "name": "stdout",
     "output_type": "stream",
     "text": [
      "Sample DataFrame:\n",
      "  Category  Value\n",
      "0        A      5\n",
      "1        A     15\n",
      "2        B     25\n",
      "3        B     35\n",
      "4        C     45\n",
      "5        C     55\n",
      "\n",
      "Group by 'Category' and apply lambda function:\n",
      "          Value\n",
      "Category       \n",
      "A            10\n",
      "B            10\n",
      "C            10\n"
     ]
    }
   ],
   "source": [
    "# Sample DataFrame\n",
    "data = {'Category': ['A', 'A', 'B', 'B', 'C', 'C'],\n",
    "        'Value': [5, 15, 25, 35, 45, 55]}\n",
    "\n",
    "df = pd.DataFrame(data)\n",
    "print(\"Sample DataFrame:\")\n",
    "print(df)\n",
    "\n",
    "# Group by 'Category' and apply lambda function\n",
    "print(\"\\nGroup by 'Category' and apply lambda function:\")\n",
    "grouped = df.groupby('Category').agg(lambda x: x.max() - x.min())\n",
    "print(grouped)"
   ]
  },
  {
   "cell_type": "code",
   "execution_count": 4,
   "id": "5e80306d",
   "metadata": {},
   "outputs": [
    {
     "name": "stdout",
     "output_type": "stream",
     "text": [
      "Sample DataFrame:\n",
      "  Category Type  Value\n",
      "0        A    X      1\n",
      "1        A    Y      2\n",
      "2        B    X      3\n",
      "3        B    Y      4\n",
      "4        C    X      5\n",
      "5        C    Y      6\n",
      "\n",
      "Group by 'Category' and 'Type':\n",
      "               Value\n",
      "Category Type       \n",
      "A        X         1\n",
      "         Y         2\n",
      "B        X         3\n",
      "         Y         4\n",
      "C        X         5\n",
      "         Y         6\n"
     ]
    }
   ],
   "source": [
    "# Sample DataFrame\n",
    "data = {'Category': ['A', 'A', 'B', 'B', 'C', 'C'],\n",
    "        'Type': ['X', 'Y', 'X', 'Y', 'X', 'Y'],\n",
    "        'Value': [1, 2, 3, 4, 5, 6]}\n",
    "df = pd.DataFrame(data)\n",
    "print(\"Sample DataFrame:\")\n",
    "print(df)\n",
    "# Group by 'Category' and 'Type'\n",
    "print(\"\\nGroup by 'Category' and 'Type':\")\n",
    "grouped = df.groupby(['Category', 'Type']).sum()\n",
    "print(grouped)"
   ]
  },
  {
   "cell_type": "code",
   "execution_count": 5,
   "id": "680e461a",
   "metadata": {},
   "outputs": [
    {
     "name": "stdout",
     "output_type": "stream",
     "text": [
      "Sample DataFrame:\n",
      "  Category  Value1  Value2\n",
      "0        A      10     100\n",
      "1        A      20     200\n",
      "2        B      30     300\n",
      "3        B      40     400\n",
      "4        C      50     500\n",
      "5        C      60     600\n",
      "\n",
      "Group by 'Category' and apply different functions:\n",
      "          Value1  Value2\n",
      "Category                \n",
      "A           15.0     300\n",
      "B           35.0     700\n",
      "C           55.0    1100\n"
     ]
    }
   ],
   "source": [
    "# Sample DataFrame\n",
    "data = {'Category': ['A', 'A', 'B', 'B', 'C', 'C'],\n",
    "        'Value1': [10, 20, 30, 40, 50, 60],\n",
    "        'Value2': [100, 200, 300, 400, 500, 600]}\n",
    "\n",
    "df = pd.DataFrame(data)\n",
    "print(\"Sample DataFrame:\")\n",
    "print(df)\n",
    "# Group by 'Category' and apply different functions\n",
    "print(\"\\nGroup by 'Category' and apply different functions:\")\n",
    "grouped = df.groupby('Category').agg({'Value1': 'mean', 'Value2': 'sum'})\n",
    "print(grouped)"
   ]
  },
  {
   "cell_type": "code",
   "execution_count": 6,
   "id": "fadcdef6",
   "metadata": {},
   "outputs": [
    {
     "name": "stdout",
     "output_type": "stream",
     "text": [
      "Sample DataFrame:\n",
      "  Category  Value1  Value2\n",
      "0        A       5      50\n",
      "1        A      10     100\n",
      "2        B      15     150\n",
      "3        B      20     200\n",
      "4        C      25     250\n",
      "5        C      30     300\n",
      "\n",
      "Group by 'Category' and apply named aggregations:\n",
      "          Value1_mean  Value2_sum\n",
      "Category                         \n",
      "A                 7.5         150\n",
      "B                17.5         350\n",
      "C                27.5         550\n"
     ]
    }
   ],
   "source": [
    "# Sample DataFrame\n",
    "data = {'Category': ['A', 'A', 'B', 'B', 'C', 'C'],\n",
    "        'Value1': [5, 10, 15, 20, 25, 30],\n",
    "        'Value2': [50, 100, 150, 200, 250, 300]}\n",
    "\n",
    "df = pd.DataFrame(data)\n",
    "print(\"Sample DataFrame:\")\n",
    "print(df)\n",
    "\n",
    "# Group by 'Category' and apply named aggregations\n",
    "print(\"\\nGroup by 'Category' and apply named aggregations:\")\n",
    "grouped = df.groupby('Category').agg(\n",
    "    Value1_mean=('Value1', 'mean'),\n",
    "    Value2_sum=('Value2', 'sum')\n",
    ")\n",
    "\n",
    "print(grouped)"
   ]
  }
 ],
 "metadata": {
  "kernelspec": {
   "display_name": "Python 3 (ipykernel)",
   "language": "python",
   "name": "python3"
  },
  "language_info": {
   "codemirror_mode": {
    "name": "ipython",
    "version": 3
   },
   "file_extension": ".py",
   "mimetype": "text/x-python",
   "name": "python",
   "nbconvert_exporter": "python",
   "pygments_lexer": "ipython3",
   "version": "3.9.7"
  }
 },
 "nbformat": 4,
 "nbformat_minor": 5
}
