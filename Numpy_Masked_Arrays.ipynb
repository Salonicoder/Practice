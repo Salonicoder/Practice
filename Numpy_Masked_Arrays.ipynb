{
 "cells": [
  {
   "cell_type": "code",
   "execution_count": 1,
   "id": "737132e2",
   "metadata": {},
   "outputs": [],
   "source": [
    "import numpy as np"
   ]
  },
  {
   "cell_type": "code",
   "execution_count": 2,
   "id": "28877fda",
   "metadata": {},
   "outputs": [
    {
     "name": "stdout",
     "output_type": "stream",
     "text": [
      "Original Array:\n",
      "[ 1  2  3  4  5  6  7  8  9 10]\n",
      "\n",
      "Masked Array:\n",
      "[1 -- 3 -- 5 -- 7 -- 9 --]\n"
     ]
    }
   ],
   "source": [
    "# Define a regular NumPy array\n",
    "data = np.array([1, 2, 3, 4, 5, 6, 7, 8, 9, 10])\n",
    "\n",
    "# Create a mask to specify which values to mask\n",
    "mask = np.array([False, True, False, True, False, True, False, True, False, True])\n",
    "\n",
    "# Create a masked array using the regular array and the mask\n",
    "masked_array = np.ma.masked_array(data, mask=mask)\n",
    "\n",
    "# Print the original array and the masked array\n",
    "print(\"Original Array:\")\n",
    "print(data)\n",
    "\n",
    "print(\"\\nMasked Array:\")\n",
    "print(masked_array)"
   ]
  },
  {
   "cell_type": "code",
   "execution_count": 3,
   "id": "50a2df36",
   "metadata": {},
   "outputs": [
    {
     "name": "stdout",
     "output_type": "stream",
     "text": [
      "Original Masked Array:\n",
      "[1 -- 3 -- 5 -- 7 -- 9 --]\n",
      "\n",
      "Filled Array:\n",
      "[ 1 -1  3 -1  5 -1  7 -1  9 -1]\n"
     ]
    }
   ],
   "source": [
    "# Create a regular NumPy array\n",
    "data = np.array([1, 2, 3, 4, 5, 6, 7, 8, 9, 10])\n",
    "\n",
    "# Create a mask to specify which values to mask\n",
    "mask = np.array([False, True, False, True, False, True, False, True, False, True])\n",
    "\n",
    "# Create a masked array using the regular array and the mask\n",
    "masked_array = np.ma.masked_array(data, mask=mask)\n",
    "\n",
    "# Fill the masked values with a specified number (e.g., -1)\n",
    "filled_array = np.ma.filled(masked_array, fill_value=-1)\n",
    "\n",
    "# Print the original masked array and the filled array\n",
    "print(\"Original Masked Array:\")\n",
    "print(masked_array)\n",
    "\n",
    "print(\"\\nFilled Array:\")\n",
    "print(filled_array)"
   ]
  },
  {
   "cell_type": "code",
   "execution_count": 4,
   "id": "74b2a5a5",
   "metadata": {},
   "outputs": [
    {
     "name": "stdout",
     "output_type": "stream",
     "text": [
      "Original Array:\n",
      "[ 1.  2.  3.  4.  5. nan  7.  8.  9. 10.]\n",
      "\n",
      "Masked Array:\n",
      "[1.0 2.0 3.0 4.0 5.0 -- 7.0 8.0 9.0 10.0]\n",
      "\n",
      "Mean of the Masked Array, Ignoring Masked Values:\n",
      "5.444444444444445\n"
     ]
    }
   ],
   "source": [
    "# Create a regular NumPy array\n",
    "data = np.array([1, 2, 3, 4, 5, np.nan, 7, 8, 9, 10])\n",
    "\n",
    "# Create a mask to specify which values to mask\n",
    "mask = np.isnan(data)\n",
    "\n",
    "# Create a masked array using the regular array and the mask\n",
    "masked_array = np.ma.masked_array(data, mask=mask)\n",
    "\n",
    "# Compute the mean of the masked array, ignoring the masked values\n",
    "mean_value = np.ma.mean(masked_array)\n",
    "\n",
    "# Print the original array, the masked array, and the computed mean\n",
    "print(\"Original Array:\")\n",
    "print(data)\n",
    "\n",
    "print(\"\\nMasked Array:\")\n",
    "print(masked_array)\n",
    "\n",
    "print(\"\\nMean of the Masked Array, Ignoring Masked Values:\")\n",
    "print(mean_value)"
   ]
  },
  {
   "cell_type": "code",
   "execution_count": 5,
   "id": "095abe3a",
   "metadata": {},
   "outputs": [
    {
     "name": "stdout",
     "output_type": "stream",
     "text": [
      "Original Array:\n",
      "[ 1.  2.  3.  4.  5. nan  7.  8.  9. 10.]\n",
      "\n",
      "Masked Array:\n",
      "[1.0 2.0 3.0 4.0 5.0 -- 7.0 8.0 9.0 10.0]\n",
      "\n",
      "Mean of the Masked Array, Ignoring Masked Values:\n",
      "5.444444444444445\n"
     ]
    }
   ],
   "source": [
    "# Create a regular NumPy array\n",
    "data = np.array([1, 2, 3, 4, 5, np.nan, 7, 8, 9, 10])\n",
    "\n",
    "# Create a mask to specify which values to mask\n",
    "mask = np.isnan(data)\n",
    "\n",
    "# Create a masked array using the regular array and the mask\n",
    "masked_array = np.ma.masked_array(data, mask=mask)\n",
    "\n",
    "# Compute the mean of the masked array, ignoring the masked values\n",
    "mean_value = np.ma.mean(masked_array)\n",
    "\n",
    "# Print the original array, the masked array, and the computed mean\n",
    "print(\"Original Array:\")\n",
    "print(data)\n",
    "\n",
    "print(\"\\nMasked Array:\")\n",
    "print(masked_array)\n",
    "\n",
    "print(\"\\nMean of the Masked Array, Ignoring Masked Values:\")\n",
    "print(mean_value)"
   ]
  },
  {
   "cell_type": "code",
   "execution_count": 6,
   "id": "c2195051",
   "metadata": {},
   "outputs": [
    {
     "name": "stdout",
     "output_type": "stream",
     "text": [
      "Original Array:\n",
      "[ 1  2  3  4  5  6  7  8  9 10]\n",
      "\n",
      "Masked Array (elements > 5 are masked):\n",
      "[1 2 3 4 5 -- -- -- -- --]\n"
     ]
    }
   ],
   "source": [
    "# Create a regular NumPy array\n",
    "data = np.array([1, 2, 3, 4, 5, 6, 7, 8, 9, 10])\n",
    "\n",
    "# Specify the value above which elements will be masked\n",
    "threshold_value = 5\n",
    "\n",
    "# Create a mask where all elements greater than the specified value are masked\n",
    "mask = data > threshold_value\n",
    "\n",
    "# Create a masked array using the regular array and the mask\n",
    "masked_array = np.ma.masked_array(data, mask=mask)\n",
    "\n",
    "# Print the original array and the masked array\n",
    "print(\"Original Array:\")\n",
    "print(data)\n",
    "\n",
    "print(\"\\nMasked Array (elements > 5 are masked):\")\n",
    "print(masked_array)"
   ]
  },
  {
   "cell_type": "code",
   "execution_count": 7,
   "id": "5240fd9d",
   "metadata": {},
   "outputs": [
    {
     "name": "stdout",
     "output_type": "stream",
     "text": [
      "Original Array:\n",
      "[ 1.  2.  3. nan  5.  6. nan  8.  9. 10.]\n",
      "\n",
      "Masked Array:\n",
      "[1.0 2.0 3.0 -- 5.0 6.0 -- 8.0 9.0 10.0]\n",
      "\n",
      "Filled Array (masked values replaced with mean):\n",
      "[ 1.   2.   3.   5.5  5.   6.   5.5  8.   9.  10. ]\n"
     ]
    }
   ],
   "source": [
    "# Create a regular NumPy array with some NaN values\n",
    "data = np.array([1, 2, 3, np.nan, 5, 6, np.nan, 8, 9, 10])\n",
    "\n",
    "# Create a mask to specify which values to mask (e.g., NaN values)\n",
    "mask = np.isnan(data)\n",
    "\n",
    "# Create a masked array using the regular array and the mask\n",
    "masked_array = np.ma.masked_array(data, mask=mask)\n",
    "\n",
    "# Compute the mean of the unmasked elements\n",
    "mean_value = masked_array.mean()\n",
    "\n",
    "# Replace all masked values with the mean of the unmasked elements\n",
    "filled_array = masked_array.filled(mean_value)\n",
    "\n",
    "# Print the original array, the masked array, and the filled array\n",
    "print(\"Original Array:\")\n",
    "print(data)\n",
    "\n",
    "print(\"\\nMasked Array:\")\n",
    "print(masked_array)\n",
    "\n",
    "print(\"\\nFilled Array (masked values replaced with mean):\")\n",
    "print(filled_array)"
   ]
  }
 ],
 "metadata": {
  "kernelspec": {
   "display_name": "Python 3 (ipykernel)",
   "language": "python",
   "name": "python3"
  },
  "language_info": {
   "codemirror_mode": {
    "name": "ipython",
    "version": 3
   },
   "file_extension": ".py",
   "mimetype": "text/x-python",
   "name": "python",
   "nbconvert_exporter": "python",
   "pygments_lexer": "ipython3",
   "version": "3.9.7"
  }
 },
 "nbformat": 4,
 "nbformat_minor": 5
}
