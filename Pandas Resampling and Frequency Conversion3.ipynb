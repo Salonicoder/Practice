{
 "cells": [
  {
   "cell_type": "code",
   "execution_count": 1,
   "id": "7a857530",
   "metadata": {},
   "outputs": [],
   "source": [
    "# Import necessary libraries\n",
    "import pandas as pd\n",
    "import numpy as np\n"
   ]
  },
  {
   "cell_type": "code",
   "execution_count": 2,
   "id": "ca54b6ad",
   "metadata": {},
   "outputs": [
    {
     "name": "stdout",
     "output_type": "stream",
     "text": [
      "Shifted Forward:\n",
      " 2018-01-01         NaN\n",
      "2018-01-02         NaN\n",
      "2018-01-03   -0.239091\n",
      "2018-01-04    1.230786\n",
      "2018-01-05   -1.682539\n",
      "2018-01-06    0.400922\n",
      "2018-01-07   -0.645305\n",
      "2018-01-08    1.588931\n",
      "2018-01-09   -0.901473\n",
      "2018-01-10    0.916416\n",
      "Freq: D, dtype: float64\n",
      "Shifted Backward:\n",
      " 2018-01-01   -1.682539\n",
      "2018-01-02    0.400922\n",
      "2018-01-03   -0.645305\n",
      "2018-01-04    1.588931\n",
      "2018-01-05   -0.901473\n",
      "2018-01-06    0.916416\n",
      "2018-01-07    0.897869\n",
      "2018-01-08    1.083698\n",
      "2018-01-09         NaN\n",
      "2018-01-10         NaN\n",
      "Freq: D, dtype: float64\n"
     ]
    }
   ],
   "source": [
    "# Create a time series data with daily frequency\n",
    "date_rng = pd.date_range(start='2018-01-01', end='2018-01-10', freq='D')\n",
    "ts = pd.Series(np.random.randn(len(date_rng)), index=date_rng)\n",
    "\n",
    "# Shift the time series data forward by 2 days\n",
    "ts_shifted_forward = ts.shift(2)\n",
    "\n",
    "# Shift the time series data backward by 2 days\n",
    "ts_shifted_backward = ts.shift(-2)\n",
    "\n",
    "# Display the shifted time series data\n",
    "print(\"Shifted Forward:\\n\", ts_shifted_forward)\n",
    "print(\"Shifted Backward:\\n\", ts_shifted_backward)"
   ]
  },
  {
   "cell_type": "code",
   "execution_count": 3,
   "id": "62ddd0d7",
   "metadata": {},
   "outputs": [
    {
     "name": "stdout",
     "output_type": "stream",
     "text": [
      "2020-01-01         NaN\n",
      "2020-01-02         NaN\n",
      "2020-01-03    0.103759\n",
      "2020-01-04    0.076760\n",
      "2020-01-05   -0.064062\n",
      "2020-01-06    0.021339\n",
      "2020-01-07    0.088881\n",
      "2020-01-08    0.053171\n",
      "2020-01-09   -0.216542\n",
      "2020-01-10   -0.527179\n",
      "Freq: D, dtype: float64\n"
     ]
    }
   ],
   "source": [
    "# Create a time series data with hourly frequency\n",
    "date_rng = pd.date_range(start='2020-01-01', end='2020-01-10', freq='H')\n",
    "ts = pd.Series(np.random.randn(len(date_rng)), index=date_rng)\n",
    "\n",
    "# Resample the time series to daily frequency\n",
    "ts_daily = ts.resample('D').mean()\n",
    "\n",
    "# Calculate the rolling mean with a window of 3 days\n",
    "ts_rolling_mean = ts_daily.rolling(window=3).mean()\n",
    "\n",
    "# Display the rolling mean of the resampled time series\n",
    "print(ts_rolling_mean)"
   ]
  },
  {
   "cell_type": "code",
   "execution_count": 4,
   "id": "3f0096b4",
   "metadata": {},
   "outputs": [
    {
     "name": "stdout",
     "output_type": "stream",
     "text": [
      "2023-01-01    0.329438\n",
      "2023-01-02    0.099975\n",
      "2023-01-03   -0.027201\n",
      "2023-01-04    0.054578\n",
      "2023-01-05   -1.061237\n",
      "Freq: D, dtype: float64\n"
     ]
    }
   ],
   "source": [
    "# Create a time series data with hourly frequency\n",
    "date_rng = pd.date_range(start='2023-01-01', end='2023-01-05', freq='H')\n",
    "ts = pd.Series(np.random.randn(len(date_rng)), index=date_rng)\n",
    "\n",
    "# Introduce some missing values\n",
    "ts.iloc[10:20] = np.nan\n",
    "\n",
    "# Fill missing values using forward fill method\n",
    "ts_filled = ts.ffill()\n",
    "\n",
    "# Resample the time series to daily frequency\n",
    "ts_daily = ts_filled.resample('D').mean()\n",
    "\n",
    "# Display the resampled time series\n",
    "print(ts_daily)"
   ]
  },
  {
   "cell_type": "code",
   "execution_count": 5,
   "id": "2257ae8a",
   "metadata": {},
   "outputs": [
    {
     "name": "stdout",
     "output_type": "stream",
     "text": [
      "2023-01-01    0.320732\n",
      "2023-01-03    0.076646\n",
      "2023-01-05    0.195510\n",
      "2023-01-07   -0.057095\n",
      "2023-01-09   -0.048658\n",
      "Freq: 2D, dtype: float64\n"
     ]
    }
   ],
   "source": [
    "# Create a time series data with hourly frequency\n",
    "date_rng = pd.date_range(start='2023-01-01', end='2023-01-10', freq='H')\n",
    "ts = pd.Series(np.random.randn(len(date_rng)), index=date_rng)\n",
    "\n",
    "# Define a custom function to resample using Grouper\n",
    "def custom_resample(ts, freq):\n",
    "    return ts.groupby(pd.Grouper(freq=freq)).mean()\n",
    "\n",
    "# Resample the time series to a custom period of 2 days\n",
    "ts_custom = custom_resample(ts, '2D')\n",
    "\n",
    "# Display the resampled time series\n",
    "print(ts_custom)"
   ]
  },
  {
   "cell_type": "code",
   "execution_count": 6,
   "id": "9643e194",
   "metadata": {},
   "outputs": [
    {
     "name": "stdout",
     "output_type": "stream",
     "text": [
      "2021-01-01          NaN\n",
      "2021-01-02    -1.103345\n",
      "2021-01-03   -13.967114\n",
      "2021-01-04    -0.253853\n",
      "2021-01-05    -2.751766\n",
      "2021-01-06     0.199111\n",
      "2021-01-07    -0.010948\n",
      "2021-01-08     2.583307\n",
      "2021-01-09    -1.575963\n",
      "2021-01-10    -0.689785\n",
      "Freq: D, dtype: float64\n"
     ]
    }
   ],
   "source": [
    "# Create a time series data with daily frequency\n",
    "date_rng = pd.date_range(start='2021-01-01', end='2021-01-10', freq='D')\n",
    "ts = pd.Series(np.random.randn(len(date_rng)), index=date_rng)\n",
    "\n",
    "# Resample the time series to daily frequency\n",
    "ts_daily = ts.resample('D').mean()\n",
    "\n",
    "# Calculate the percentage change in the resampled data\n",
    "ts_pct_change = ts_daily.pct_change()\n",
    "\n",
    "# Display the percentage change in the resampled time series\n",
    "print(ts_pct_change)"
   ]
  }
 ],
 "metadata": {
  "kernelspec": {
   "display_name": "Python 3 (ipykernel)",
   "language": "python",
   "name": "python3"
  },
  "language_info": {
   "codemirror_mode": {
    "name": "ipython",
    "version": 3
   },
   "file_extension": ".py",
   "mimetype": "text/x-python",
   "name": "python",
   "nbconvert_exporter": "python",
   "pygments_lexer": "ipython3",
   "version": "3.9.7"
  }
 },
 "nbformat": 4,
 "nbformat_minor": 5
}
