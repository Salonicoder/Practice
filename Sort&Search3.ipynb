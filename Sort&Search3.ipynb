{
 "cells": [
  {
   "cell_type": "code",
   "execution_count": 1,
   "id": "58576f48",
   "metadata": {},
   "outputs": [
    {
     "name": "stdout",
     "output_type": "stream",
     "text": [
      "Original array:\n",
      "[(1+2j), (3-1j), (3-2j), (4-3j), (3+5j)]\n",
      "\n",
      "Sorted a given complex array using the real part first, then the imaginary part.\n",
      "[1.+2.j 3.-2.j 3.-1.j 3.+5.j 4.-3.j]\n"
     ]
    }
   ],
   "source": [
    "# Importing the NumPy library\n",
    "import numpy as np\n",
    "\n",
    "# Creating a list of complex numbers\n",
    "complex_num = [1 + 2j, 3 - 1j, 3 - 2j, 4 - 3j, 3 + 5j]\n",
    "\n",
    "# Displaying the original array of complex numbers\n",
    "print(\"Original array:\")\n",
    "print(complex_num)\n",
    "\n",
    "# Sorting the given complex array using the real part first, then the imaginary part\n",
    "print(\"\\nSorted a given complex array using the real part first, then the imaginary part.\")\n",
    "print(np.sort_complex(complex_num)) \n"
   ]
  },
  {
   "cell_type": "code",
   "execution_count": 2,
   "id": "92eac435",
   "metadata": {},
   "outputs": [
    {
     "name": "stdout",
     "output_type": "stream",
     "text": [
      "Original array:\n",
      "[ 70  50  20  30 -11  60  50  40]\n",
      "\n",
      "After partitioning on 4 the position:\n",
      "[-11  30  20  40  50  50  60  70]\n"
     ]
    }
   ],
   "source": [
    "#Q7\n",
    "# Creating an array of integers\n",
    "nums = np.array([70, 50, 20, 30, -11, 60, 50, 40])\n",
    "\n",
    "# Displaying the original array\n",
    "print(\"Original array:\")\n",
    "print(nums)\n",
    "\n",
    "# Partitioning the array at the 4th position\n",
    "print(\"\\nAfter partitioning on 4 the position:\")\n",
    "print(np.partition(nums, 4)) "
   ]
  }
 ],
 "metadata": {
  "kernelspec": {
   "display_name": "Python 3 (ipykernel)",
   "language": "python",
   "name": "python3"
  },
  "language_info": {
   "codemirror_mode": {
    "name": "ipython",
    "version": 3
   },
   "file_extension": ".py",
   "mimetype": "text/x-python",
   "name": "python",
   "nbconvert_exporter": "python",
   "pygments_lexer": "ipython3",
   "version": "3.9.7"
  }
 },
 "nbformat": 4,
 "nbformat_minor": 5
}
