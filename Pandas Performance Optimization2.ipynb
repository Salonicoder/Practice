{
 "cells": [
  {
   "cell_type": "code",
   "execution_count": 3,
   "id": "65a9061f",
   "metadata": {},
   "outputs": [],
   "source": [
    "import pandas as pd  # Import the Pandas library\n",
    "import numpy as np  # Import the NumPy library\n",
    "import time  # Import the time module to measure execution time"
   ]
  },
  {
   "cell_type": "code",
   "execution_count": 4,
   "id": "2d422237",
   "metadata": {},
   "outputs": [
    {
     "name": "stdout",
     "output_type": "stream",
     "text": [
      "Time taken using apply: 0.20052480697631836 seconds\n",
      "Time taken using vectorized operations: 0.0 seconds\n"
     ]
    }
   ],
   "source": [
    "# Create a large DataFrame with random integers\n",
    "np.random.seed(0)  # Set seed for reproducibility\n",
    "data = np.random.randint(1, 100, size=(1000000, 1))  # Generate random data\n",
    "df = pd.DataFrame(data, columns=['Values'])  # Create a DataFrame\n",
    "\n",
    "# Define a custom function to apply\n",
    "def custom_function(x):\n",
    "    return x * 2 + 3\n",
    "\n",
    "# Measure the time taken to apply the custom function using apply\n",
    "start_time = time.time()  # Record the start time\n",
    "df['Apply_Result'] = df['Values'].apply(custom_function)  # Apply the custom function using apply\n",
    "time_apply = time.time() - start_time  # Calculate the time taken\n",
    "\n",
    "# Measure the time taken to apply the custom function using vectorized operations\n",
    "start_time = time.time()  # Record the start time\n",
    "df['Vectorized_Result'] = custom_function(df['Values'])  # Apply the custom function using vectorized operations\n",
    "time_vectorized = time.time() - start_time  # Calculate the time taken\n",
    "\n",
    "# Print the time taken for both methods\n",
    "print(\"Time taken using apply:\", time_apply, \"seconds\")\n",
    "print(\"Time taken using vectorized operations:\", time_vectorized, \"seconds\")"
   ]
  },
  {
   "cell_type": "code",
   "execution_count": 6,
   "id": "292030ec",
   "metadata": {},
   "outputs": [
    {
     "name": "stdout",
     "output_type": "stream",
     "text": [
      "Time taken using for loop: 3.429757595062256 seconds\n",
      "Time taken using boolean indexing: 0.0053768157958984375 seconds\n"
     ]
    }
   ],
   "source": [
    "# Create a sample DataFrame\n",
    "np.random.seed(0)  # Set seed for reproducibility\n",
    "data = {\n",
    "    'A': np.random.randint(1, 100, size=100000),\n",
    "    'B': np.random.randint(1, 100, size=100000)\n",
    "}\n",
    "df = pd.DataFrame(data)\n",
    "\n",
    "# Define the condition\n",
    "condition = 50\n",
    "\n",
    "# Filter rows using a for loop\n",
    "start_time = time.time()  # Record the start time\n",
    "filtered_rows_loop = []\n",
    "for index, row in df.iterrows():\n",
    "    if row['A'] > condition:\n",
    "        filtered_rows_loop.append(row)\n",
    "filtered_df_loop = pd.DataFrame(filtered_rows_loop)\n",
    "time_for_loop = time.time() - start_time  # Calculate the time taken\n",
    "\n",
    "# Filter rows using boolean indexing\n",
    "start_time = time.time()  # Record the start time\n",
    "filtered_df_bool = df[df['A'] > condition]\n",
    "time_boolean_indexing = time.time() - start_time  # Calculate the time taken\n",
    "\n",
    "# Print the time taken for both methods\n",
    "print(\"Time taken using for loop:\", time_for_loop, \"seconds\")\n",
    "print(\"Time taken using boolean indexing:\", time_boolean_indexing, \"seconds\")"
   ]
  }
 ],
 "metadata": {
  "kernelspec": {
   "display_name": "Python 3 (ipykernel)",
   "language": "python",
   "name": "python3"
  },
  "language_info": {
   "codemirror_mode": {
    "name": "ipython",
    "version": 3
   },
   "file_extension": ".py",
   "mimetype": "text/x-python",
   "name": "python",
   "nbconvert_exporter": "python",
   "pygments_lexer": "ipython3",
   "version": "3.9.7"
  }
 },
 "nbformat": 4,
 "nbformat_minor": 5
}
