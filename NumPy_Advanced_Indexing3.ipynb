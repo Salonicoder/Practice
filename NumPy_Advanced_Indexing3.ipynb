{
 "cells": [
  {
   "cell_type": "code",
   "execution_count": 1,
   "id": "916f9edd",
   "metadata": {},
   "outputs": [],
   "source": [
    "import numpy as np"
   ]
  },
  {
   "cell_type": "code",
   "execution_count": 2,
   "id": "f94bf90a",
   "metadata": {},
   "outputs": [
    {
     "name": "stdout",
     "output_type": "stream",
     "text": [
      "Original 3D array:\n",
      " [[[ 8  4 89 79 92]\n",
      "  [34 97 54 63 69]\n",
      "  [92  3 16 15 52]\n",
      "  [66 75 29 11 29]]\n",
      "\n",
      " [[74 87  4 88 86]\n",
      "  [ 5 19 46 99 45]\n",
      "  [ 3 61 52  9 62]\n",
      "  [97 35 71 71 46]]\n",
      "\n",
      " [[32 30 19 88 74]\n",
      "  [83  0 71 89 23]\n",
      "  [27 82 72 51 25]\n",
      "  [ 7 86 38  4 32]]]\n",
      "Depth indices:\n",
      " [0 1 2]\n",
      "Row indices:\n",
      " [1 2 3]\n",
      "Column indices:\n",
      " [2 3 4]\n",
      "Selected elements:\n",
      " [[[54 63 69]\n",
      "  [16 15 52]\n",
      "  [29 11 29]]\n",
      "\n",
      " [[46 99 45]\n",
      "  [52  9 62]\n",
      "  [71 71 46]]\n",
      "\n",
      " [[71 89 23]\n",
      "  [72 51 25]\n",
      "  [38  4 32]]]\n"
     ]
    }
   ],
   "source": [
    "# Create a 3D NumPy array of shape (3, 4, 5) with random integers\n",
    "array_3d = np.random.randint(0, 100, size=(3, 4, 5))\n",
    "\n",
    "# Define the indices to select specific elements along each axis\n",
    "depth_indices = np.array([0, 1, 2])\n",
    "row_indices = np.array([1, 2, 3])\n",
    "column_indices = np.array([2, 3, 4])\n",
    "\n",
    "# Use integer array indexing to select elements along specific axes\n",
    "selected_elements = array_3d[depth_indices[:, np.newaxis, np.newaxis], row_indices[:, np.newaxis], column_indices]\n",
    "\n",
    "# Print the original array and the selected elements\n",
    "print('Original 3D array:\\n', array_3d)\n",
    "print('Depth indices:\\n', depth_indices)\n",
    "print('Row indices:\\n', row_indices)\n",
    "print('Column indices:\\n', column_indices)\n",
    "print('Selected elements:\\n', selected_elements)"
   ]
  },
  {
   "cell_type": "code",
   "execution_count": 3,
   "id": "048a7fec",
   "metadata": {},
   "outputs": [
    {
     "name": "stdout",
     "output_type": "stream",
     "text": [
      "Original 2D array:\n",
      " [[48 16 64 30 98]\n",
      " [19 96 43 47 57]\n",
      " [97 17 19 57  5]\n",
      " [28 89 75 50 16]\n",
      " [66  5  5 68 26]]\n",
      "Condition (elements > 50):\n",
      " [[False False  True False  True]\n",
      " [False  True False False  True]\n",
      " [ True False False  True False]\n",
      " [False  True  True False False]\n",
      " [ True False False  True False]]\n",
      "Row indices:\n",
      " [1 3 4]\n",
      "Selected elements using combined indexing:\n",
      " [[96 57]\n",
      " [89 16]\n",
      " [ 5 26]]\n"
     ]
    }
   ],
   "source": [
    "# Create a 2D NumPy array of shape (5, 5) with random integers\n",
    "array_2d = np.random.randint(0, 100, size=(5,5))\n",
    "\n",
    "# Define the boolean condition to select elements greater than 50\n",
    "condition = array_2d > 50\n",
    "\n",
    "# Define the specific rows to apply the condition\n",
    "row_indices = np.array([1, 3, 4])\n",
    "\n",
    "# Use a combination of boolean and integer indexing to select elements\n",
    "selected_elements = array_2d[row_indices][:, condition[row_indices][0]]\n",
    "\n",
    "# Print the original array and the selected elements\n",
    "print('Original 2D array:\\n', array_2d)\n",
    "print('Condition (elements > 50):\\n', condition)\n",
    "print('Row indices:\\n', row_indices)\n",
    "print('Selected elements using combined indexing:\\n', selected_elements)"
   ]
  },
  {
   "cell_type": "code",
   "execution_count": 4,
   "id": "a5f0bc27",
   "metadata": {},
   "outputs": [
    {
     "name": "stdout",
     "output_type": "stream",
     "text": [
      "Original 1D array:\n",
      " [71 43 86 13  1 16 60 54  3 84  1 26 82 71  6 99 16 58 55 11]\n",
      "Condition (elements > 30 AND < 70 OR divisible by 10):\n",
      " [False  True False False False False  True  True False False False False\n",
      " False False False False False  True  True False]\n",
      "Selected elements:\n",
      " [43 60 54 58 55]\n"
     ]
    }
   ],
   "source": [
    "# Create a 1D NumPy array with random integers\n",
    "array_1d = np.random.randint(0, 100, size=20)\n",
    "\n",
    "# Define multiple conditions using logical operators\n",
    "condition = (array_1d > 30) & (array_1d < 70) | (array_1d % 10 == 0)\n",
    "\n",
    "# Use boolean indexing to select elements that meet the conditions\n",
    "selected_elements = array_1d[condition]\n",
    "\n",
    "# Print the original array and the selected elements\n",
    "print('Original 1D array:\\n', array_1d)\n",
    "print('Condition (elements > 30 AND < 70 OR divisible by 10):\\n', condition)\n",
    "print('Selected elements:\\n', selected_elements)"
   ]
  },
  {
   "cell_type": "code",
   "execution_count": 5,
   "id": "f5b17678",
   "metadata": {},
   "outputs": [
    {
     "name": "stdout",
     "output_type": "stream",
     "text": [
      "Original 2D array:\n",
      " [[18 41 56 10 83 45]\n",
      " [54 40  3 97 34 61]\n",
      " [45 81 28 10 76 34]\n",
      " [51 58 83 46 51  1]\n",
      " [49 93 34 92 99 78]\n",
      " [61 61 28  8 88 46]]\n",
      "Row indices: [2 3 4]\n",
      "Column indices: [1 2 3]\n",
      "Selected subarray:\n",
      " [[81 28 10]\n",
      " [58 83 46]\n",
      " [93 34 92]]\n"
     ]
    }
   ],
   "source": [
    "# Create a 2D NumPy array of shape (6, 6) with random integers\n",
    "array_2d = np.random.randint(0, 100, size=(6, 6))\n",
    "\n",
    "# Define the row and column indices to slice the array\n",
    "row_indices = np.arange(2, 5)  # rows from index 2 to 4 (inclusive)\n",
    "col_indices = np.arange(1, 4)  # columns from index 1 to 3 (inclusive)\n",
    "\n",
    "# Use slicing in combination with index arrays to select a subarray\n",
    "subarray = array_2d[row_indices[:, np.newaxis], col_indices]\n",
    "\n",
    "# Print the original array and the selected subarray\n",
    "print('Original 2D array:\\n', array_2d)\n",
    "print('Row indices:', row_indices)\n",
    "print('Column indices:', col_indices)\n",
    "print('Selected subarray:\\n', subarray)"
   ]
  },
  {
   "cell_type": "code",
   "execution_count": 6,
   "id": "079ed230",
   "metadata": {},
   "outputs": [
    {
     "name": "stdout",
     "output_type": "stream",
     "text": [
      "Original 3D array:\n",
      " [[[93 -1 -1 86]\n",
      "  [-1 91 54 -1]\n",
      "  [58 -1 -1 -1]\n",
      "  [72 -1 94 -1]]\n",
      "\n",
      " [[94 70 60 -1]\n",
      "  [-1 82 86 -1]\n",
      "  [-1 63 94 50]\n",
      "  [-1 85 -1 82]]\n",
      "\n",
      " [[74 -1 -1 -1]\n",
      "  [-1 72 57 53]\n",
      "  [91 77 -1 91]\n",
      "  [99 -1 -1 70]]\n",
      "\n",
      " [[-1 99 93 92]\n",
      "  [-1 53 -1 -1]\n",
      "  [-1 -1 -1 -1]\n",
      "  [87 75 67 -1]]]\n",
      "Condition (elements < 50):\n",
      " [[[False  True  True False]\n",
      "  [ True False False  True]\n",
      "  [False  True  True  True]\n",
      "  [False  True False  True]]\n",
      "\n",
      " [[False False False  True]\n",
      "  [ True False False  True]\n",
      "  [ True False False False]\n",
      "  [ True False  True False]]\n",
      "\n",
      " [[False  True  True  True]\n",
      "  [ True False False False]\n",
      "  [False False  True False]\n",
      "  [False  True  True False]]\n",
      "\n",
      " [[ True False False False]\n",
      "  [ True False  True  True]\n",
      "  [ True  True  True  True]\n",
      "  [False False False  True]]]\n",
      "Modified 3D array with elements < 50 set to -1:\n",
      " [[[93 -1 -1 86]\n",
      "  [-1 91 54 -1]\n",
      "  [58 -1 -1 -1]\n",
      "  [72 -1 94 -1]]\n",
      "\n",
      " [[94 70 60 -1]\n",
      "  [-1 82 86 -1]\n",
      "  [-1 63 94 50]\n",
      "  [-1 85 -1 82]]\n",
      "\n",
      " [[74 -1 -1 -1]\n",
      "  [-1 72 57 53]\n",
      "  [91 77 -1 91]\n",
      "  [99 -1 -1 70]]\n",
      "\n",
      " [[-1 99 93 92]\n",
      "  [-1 53 -1 -1]\n",
      "  [-1 -1 -1 -1]\n",
      "  [87 75 67 -1]]]\n"
     ]
    }
   ],
   "source": [
    "# Create a 3D NumPy array of shape (4, 4, 4) with random integers\n",
    "array_3d = np.random.randint(0, 100, size=(4, 4, 4))\n",
    "\n",
    "# Define the condition to set elements less than 50 to -1\n",
    "condition = array_3d < 50\n",
    "\n",
    "# Use boolean indexing to set elements that meet the condition to -1\n",
    "array_3d[condition] = -1\n",
    "\n",
    "# Print the original array and the modified array\n",
    "print('Original 3D array:\\n', array_3d)\n",
    "print('Condition (elements < 50):\\n', condition)\n",
    "print('Modified 3D array with elements < 50 set to -1:\\n', array_3d)"
   ]
  }
 ],
 "metadata": {
  "kernelspec": {
   "display_name": "Python 3 (ipykernel)",
   "language": "python",
   "name": "python3"
  },
  "language_info": {
   "codemirror_mode": {
    "name": "ipython",
    "version": 3
   },
   "file_extension": ".py",
   "mimetype": "text/x-python",
   "name": "python",
   "nbconvert_exporter": "python",
   "pygments_lexer": "ipython3",
   "version": "3.9.7"
  }
 },
 "nbformat": 4,
 "nbformat_minor": 5
}
