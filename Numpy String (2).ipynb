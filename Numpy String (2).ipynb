{
 "cells": [
  {
   "cell_type": "code",
   "execution_count": 1,
   "id": "d8a4e3b1",
   "metadata": {},
   "outputs": [],
   "source": [
    "import pandas as pd\n",
    "import numpy as np"
   ]
  },
  {
   "cell_type": "code",
   "execution_count": 2,
   "id": "4313da30",
   "metadata": {},
   "outputs": [
    {
     "data": {
      "text/plain": [
       "array(['Python', 'PHP', 'JS', 'EXAMPLES', 'HTML'], dtype='<U8')"
      ]
     },
     "execution_count": 2,
     "metadata": {},
     "output_type": "execute_result"
    }
   ],
   "source": [
    "x1 = np.array(['Python', 'PHP', 'JS', 'EXAMPLES', 'HTML'], dtype=str)\n",
    "x1"
   ]
  },
  {
   "cell_type": "code",
   "execution_count": 3,
   "id": "7a793bfb",
   "metadata": {},
   "outputs": [
    {
     "data": {
      "text/plain": [
       "array([ 0,  0, -1,  4, -1])"
      ]
     },
     "execution_count": 3,
     "metadata": {},
     "output_type": "execute_result"
    }
   ],
   "source": [
    "r = np.char.find(x1, 'P')\n",
    "r"
   ]
  },
  {
   "cell_type": "code",
   "execution_count": 6,
   "id": "b4fa0205",
   "metadata": {},
   "outputs": [
    {
     "name": "stdout",
     "output_type": "stream",
     "text": [
      "\n",
      "Original Array:\n",
      "['Python' 'PHP' 'JS' 'Examples' 'html5' '5']\n",
      "Digits only = [False False False False False  True]\n",
      "Lower cases only = [False False False False  True False]\n",
      "Upper cases only = [False  True  True False False False]\n"
     ]
    }
   ],
   "source": [
    "# Creating a NumPy array containing strings\n",
    "x = np.array(['Python', 'PHP', 'JS', 'Examples', 'html5', '5'], dtype=str)\n",
    "\n",
    "# Displaying the content of the original array\n",
    "print(\"\\nOriginal Array:\")\n",
    "print(x)\n",
    "\n",
    "# Checking if each element contains digits only\n",
    "r1 = np.char.isdigit(x)\n",
    "\n",
    "# Checking if each element contains lower case letters only\n",
    "r2 = np.char.islower(x)\n",
    "\n",
    "# Checking if each element contains upper case letters only\n",
    "r3 = np.char.isupper(x)\n",
    "\n",
    "# Displaying results\n",
    "print(\"Digits only =\", r1)\n",
    "print(\"Lower cases only =\", r2)\n",
    "print(\"Upper cases only =\", r3) "
   ]
  },
  {
   "cell_type": "code",
   "execution_count": 7,
   "id": "c2d2692f",
   "metadata": {},
   "outputs": [
    {
     "data": {
      "text/plain": [
       "array([ True,  True, False, False, False])"
      ]
     },
     "execution_count": 7,
     "metadata": {},
     "output_type": "execute_result"
    }
   ],
   "source": [
    "s = np.char.startswith(x1, \"P\")\n",
    "s"
   ]
  },
  {
   "cell_type": "code",
   "execution_count": 8,
   "id": "c215a76f",
   "metadata": {},
   "outputs": [
    {
     "data": {
      "text/plain": [
       "array(['1.12', '2.23', '3.71', '4.23', '5.11'], dtype='<U4')"
      ]
     },
     "execution_count": 8,
     "metadata": {},
     "output_type": "execute_result"
    }
   ],
   "source": [
    "nums = np.array(['1.12', '2.23', '3.71', '4.23', '5.11'], dtype=str)\n",
    "nums"
   ]
  },
  {
   "cell_type": "code",
   "execution_count": 9,
   "id": "fb39b715",
   "metadata": {},
   "outputs": [
    {
     "data": {
      "text/plain": [
       "array(['001.12', '002.23', '003.71', '004.23', '005.11'], dtype='<U6')"
      ]
     },
     "execution_count": 9,
     "metadata": {},
     "output_type": "execute_result"
    }
   ],
   "source": [
    "np.char.add('00', nums)"
   ]
  },
  {
   "cell_type": "code",
   "execution_count": 10,
   "id": "9d66b0fb",
   "metadata": {},
   "outputs": [
    {
     "data": {
      "text/plain": [
       "array(['001.12', '002.23', '003.71', '004.23', '005.11'], dtype='<U6')"
      ]
     },
     "execution_count": 10,
     "metadata": {},
     "output_type": "execute_result"
    }
   ],
   "source": [
    "np.char.rjust(nums, 6, fillchar='0')"
   ]
  },
  {
   "cell_type": "code",
   "execution_count": 11,
   "id": "0fc523a6",
   "metadata": {},
   "outputs": [
    {
     "name": "stdout",
     "output_type": "stream",
     "text": [
      "Original array of string values:\n",
      "[['Python-NumPy-Exercises']\n",
      " ['-Python-']]\n",
      "\n",
      "Replace '-' with '=' character in the said array of string values:\n",
      "[['Python==NumPy==Exercises']\n",
      " ['==Python==']]\n",
      "\n",
      "Replace '-' with ' ' character in the said array of string values:\n",
      "[['Python NumPy Exercises']\n",
      " ['Python']]\n"
     ]
    }
   ],
   "source": [
    "# Creating a NumPy array containing strings\n",
    "str1 = np.array([['Python-NumPy-Exercises'], ['-Python-']])\n",
    "\n",
    "# Displaying the original array of string values\n",
    "print(\"Original array of string values:\") \n",
    "print(str1)\n",
    "\n",
    "# Replacing '-' with '=' character in the array of string values using np.char.replace() and np.char.strip()\n",
    "print(\"\\nReplace '-' with '=' character in the said array of string values:\")\n",
    "print(np.char.strip(np.char.replace(str1, '-', '==')))\n",
    "\n",
    "# Replacing '-' with ' ' character in the array of string values using np.char.replace() and np.char.strip()\n",
    "print(\"\\nReplace '-' with ' ' character in the said array of string values:\")\n",
    "print(np.char.strip(np.char.replace(str1, '-', ' '))) "
   ]
  },
  {
   "cell_type": "code",
   "execution_count": 12,
   "id": "3e8a6d85",
   "metadata": {},
   "outputs": [
    {
     "name": "stdout",
     "output_type": "stream",
     "text": [
      "Original array of string values:\n",
      "[['Python' 'NumPy' 'Exercises']\n",
      " ['Python' 'Pandas' 'Exercises']\n",
      " ['Python' 'Machine learning' 'Python']]\n",
      "\n",
      "Count 'Python' row wise in the above array of string values:\n",
      "[[1 0 0]\n",
      " [1 0 0]\n",
      " [1 0 1]]\n"
     ]
    }
   ],
   "source": [
    "# Creating a NumPy array containing string values\n",
    "str1 = np.array([['Python','NumPy','Exercises'],\n",
    "                 ['Python','Pandas','Exercises'],\n",
    "                 ['Python','Machine learning','Python']])\n",
    "\n",
    "# Displaying the original array of string values\n",
    "print(\"Original array of string values:\") \n",
    "print(str1)\n",
    "\n",
    "# Counting occurrences of 'Python' row-wise in the array using np.char.count()\n",
    "print(\"\\nCount 'Python' row wise in the above array of string values:\")\n",
    "print(np.char.count(str1, 'Python')) "
   ]
  },
  {
   "cell_type": "code",
   "execution_count": 17,
   "id": "07e0a730",
   "metadata": {},
   "outputs": [
    {
     "name": "stdout",
     "output_type": "stream",
     "text": [
      "Original text:\n",
      "01\tV\tDebby Pramod\n",
      "02\tV\tArtemiy Ellie\n",
      "03\tV\tBaptist Kamal\n",
      "04\tV\tLavanya Davide\n",
      "05\tV\tFulton Antwan\n",
      "06\tV\tEuanthe Sandeep\n",
      "07\tV\tEndzela Sanda\n",
      "08\tV\tVictoire Waman\n",
      "09\tV\tBriar Nur\n",
      "10\tV\tRose Lykos\n",
      "\n",
      "Array from the said text:\n",
      "[['01' 'V' 'Debby Pramod']\n",
      " ['02' 'V' 'Artemiy Ellie']\n",
      " ['03' 'V' 'Baptist Kamal']\n",
      " ['04' 'V' 'Lavanya Davide']\n",
      " ['05' 'V' 'Fulton Antwan']\n",
      " ['06' 'V' 'Euanthe Sandeep']\n",
      " ['07' 'V' 'Endzela Sanda']\n",
      " ['08' 'V' 'Victoire Waman']\n",
      " ['09' 'V' 'Briar Nur']\n",
      " ['10' 'V' 'Rose Lykos']]\n"
     ]
    }
   ],
   "source": [
    "# The string containing student information\n",
    "student = \"\"\"01\tV\tDebby Pramod\n",
    "02\tV\tArtemiy Ellie\n",
    "03\tV\tBaptist Kamal\n",
    "04\tV\tLavanya Davide\n",
    "05\tV\tFulton Antwan\n",
    "06\tV\tEuanthe Sandeep\n",
    "07\tV\tEndzela Sanda\n",
    "08\tV\tVictoire Waman\n",
    "09\tV\tBriar Nur\n",
    "10\tV\tRose Lykos\"\"\"\n",
    "\n",
    "# Displaying the original text\n",
    "print(\"Original text:\") \n",
    "print(student)\n",
    "\n",
    "# Splitting the text into lines and then further splitting by tab ('\\t')\n",
    "text_lines = student.splitlines()\n",
    "text_lines = [r.split('\\t') for r in text_lines]\n",
    "\n",
    "# Creating a NumPy array from the split text\n",
    "result = np.array(text_lines, dtype=str)\n",
    "print(\"\\nArray from the said text:\")\n",
    "print(result) "
   ]
  }
 ],
 "metadata": {
  "kernelspec": {
   "display_name": "Python 3 (ipykernel)",
   "language": "python",
   "name": "python3"
  },
  "language_info": {
   "codemirror_mode": {
    "name": "ipython",
    "version": 3
   },
   "file_extension": ".py",
   "mimetype": "text/x-python",
   "name": "python",
   "nbconvert_exporter": "python",
   "pygments_lexer": "ipython3",
   "version": "3.9.7"
  }
 },
 "nbformat": 4,
 "nbformat_minor": 5
}
