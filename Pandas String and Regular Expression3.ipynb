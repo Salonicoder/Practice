{
 "cells": [
  {
   "cell_type": "code",
   "execution_count": 1,
   "id": "35cdde4d",
   "metadata": {},
   "outputs": [],
   "source": [
    "import pandas as pd\n",
    "import numpy as np"
   ]
  },
  {
   "cell_type": "code",
   "execution_count": 2,
   "id": "b8fee29b",
   "metadata": {},
   "outputs": [
    {
     "name": "stdout",
     "output_type": "stream",
     "text": [
      "Original DataFrame:\n",
      "  company_code date_of_sale  sale_amount\n",
      "0         Abcd   12/05/2002      12348.5\n",
      "1         EFGF   16/02/1999     233331.2\n",
      "2      skfsalf   25/09/1998         22.5\n",
      "3      sdfslew   12/02/2022    2566552.0\n",
      "4       safsdf   15/09/1997         23.0\n",
      "\n",
      "Length of sale_amount:\n",
      "  company_code date_of_sale  sale_amount  sale_amount_length\n",
      "0         Abcd   12/05/2002      12348.5                   7\n",
      "1         EFGF   16/02/1999     233331.2                   8\n",
      "2      skfsalf   25/09/1998         22.5                   4\n",
      "3      sdfslew   12/02/2022    2566552.0                   9\n",
      "4       safsdf   15/09/1997         23.0                   4\n"
     ]
    }
   ],
   "source": [
    "df = pd.DataFrame({\n",
    "    'company_code': ['Abcd','EFGF', 'skfsalf', 'sdfslew', 'safsdf'],\n",
    "    'date_of_sale': ['12/05/2002','16/02/1999','25/09/1998','12/02/2022','15/09/1997'],\n",
    "    'sale_amount': [12348.5, 233331.2, 22.5, 2566552.0, 23.0]\n",
    "})\n",
    "print(\"Original DataFrame:\")\n",
    "print(df)\n",
    "print(\"\\nLength of sale_amount:\")\n",
    "df['sale_amount_length'] = df['sale_amount'].map(str).apply(len)\n",
    "print(df)"
   ]
  },
  {
   "cell_type": "code",
   "execution_count": 3,
   "id": "d101699f",
   "metadata": {},
   "outputs": [
    {
     "name": "stdout",
     "output_type": "stream",
     "text": [
      "Original DataFrame:\n",
      "  company_code date_of_sale  sale_amount\n",
      "0         Abcd   12/05/2002      12348.5\n",
      "1         EFGF   16/02/1999     233331.2\n",
      "2      zefsalf   25/09/1998         22.5\n",
      "3      sdfslew   12/02/2022    2566552.0\n",
      "4      zekfsdf   15/09/1997         23.0\n",
      "\n",
      "If a specified column starts with a specified string?\n",
      "  company_code date_of_sale  sale_amount  company_code_starts_with\n",
      "0         Abcd   12/05/2002      12348.5                     False\n",
      "1         EFGF   16/02/1999     233331.2                     False\n",
      "2      zefsalf   25/09/1998         22.5                      True\n",
      "3      sdfslew   12/02/2022    2566552.0                     False\n",
      "4      zekfsdf   15/09/1997         23.0                      True\n"
     ]
    }
   ],
   "source": [
    "df = pd.DataFrame({\n",
    "    'company_code': ['Abcd','EFGF', 'zefsalf', 'sdfslew', 'zekfsdf'],\n",
    "    'date_of_sale': ['12/05/2002','16/02/1999','25/09/1998','12/02/2022','15/09/1997'],\n",
    "    'sale_amount': [12348.5, 233331.2, 22.5, 2566552.0, 23.0]\n",
    "})\n",
    "print(\"Original DataFrame:\")\n",
    "print(df)\n",
    "print(\"\\nIf a specified column starts with a specified string?\")\n",
    "df['company_code_starts_with'] = list(\n",
    "    map(lambda x: x.startswith('ze'), df['company_code']))\n",
    "print(df)"
   ]
  },
  {
   "cell_type": "code",
   "execution_count": 4,
   "id": "bb067771",
   "metadata": {},
   "outputs": [
    {
     "name": "stdout",
     "output_type": "stream",
     "text": [
      "Original DataFrame:\n",
      "  company_code date_of_sale  sale_amount\n",
      "0         Abcd   12/05/2002      12348.5\n",
      "1         EFGF   16/02/1999     233331.2\n",
      "2      zefsalf   25/09/1998         22.5\n",
      "3      sdfslew   12/02/2022    2566552.0\n",
      "4      zekfsdf   15/09/1997         23.0\n",
      "\n",
      "Swapp cases in comapny_code:\n",
      "  company_code date_of_sale  sale_amount swapped_company_code\n",
      "0         Abcd   12/05/2002      12348.5                 aBCD\n",
      "1         EFGF   16/02/1999     233331.2                 efgf\n",
      "2      zefsalf   25/09/1998         22.5              ZEFSALF\n",
      "3      sdfslew   12/02/2022    2566552.0              SDFSLEW\n",
      "4      zekfsdf   15/09/1997         23.0              ZEKFSDF\n"
     ]
    }
   ],
   "source": [
    "df = pd.DataFrame({\n",
    "    'company_code': ['Abcd','EFGF', 'zefsalf', 'sdfslew', 'zekfsdf'],\n",
    "    'date_of_sale': ['12/05/2002','16/02/1999','25/09/1998','12/02/2022','15/09/1997'],\n",
    "    'sale_amount': [12348.5, 233331.2, 22.5, 2566552.0, 23.0]\n",
    "})\n",
    "print(\"Original DataFrame:\")\n",
    "print(df)\n",
    "print(\"\\nSwapp cases in comapny_code:\")\n",
    "df['swapped_company_code'] = list(map(lambda x: x.swapcase(), df['company_code']))\n",
    "print(df)"
   ]
  },
  {
   "cell_type": "code",
   "execution_count": 5,
   "id": "a5a63c37",
   "metadata": {},
   "outputs": [
    {
     "name": "stdout",
     "output_type": "stream",
     "text": [
      "Original DataFrame:\n",
      "  company_code date_of_sale  sale_amount\n",
      "0         Abcd   12/05/2002      12348.5\n",
      "1         EFGF   16/02/1999     233331.2\n",
      "2      zefsalf   25/09/1998         22.5\n",
      "3      sdfslew   12/02/2022    2566552.0\n",
      "4      zekfsdf   15/09/1997         23.0\n",
      "\n",
      "Upper cases in comapny_code:\n",
      "  company_code date_of_sale  sale_amount upper_company_code\n",
      "0         Abcd   12/05/2002      12348.5               ABCD\n",
      "1         EFGF   16/02/1999     233331.2               EFGF\n",
      "2      zefsalf   25/09/1998         22.5            ZEFSALF\n",
      "3      sdfslew   12/02/2022    2566552.0            SDFSLEW\n",
      "4      zekfsdf   15/09/1997         23.0            ZEKFSDF\n",
      "\n",
      "Lower cases in comapny_code:\n",
      "  company_code date_of_sale  sale_amount lower_company_code\n",
      "0         Abcd   12/05/2002      12348.5               abcd\n",
      "1         EFGF   16/02/1999     233331.2               efgf\n",
      "2      zefsalf   25/09/1998         22.5            zefsalf\n",
      "3      sdfslew   12/02/2022    2566552.0            sdfslew\n",
      "4      zekfsdf   15/09/1997         23.0            zekfsdf\n"
     ]
    }
   ],
   "source": [
    "df = pd.DataFrame({\n",
    "    'company_code': ['Abcd','EFGF', 'zefsalf', 'sdfslew', 'zekfsdf'],\n",
    "    'date_of_sale': ['12/05/2002','16/02/1999','25/09/1998','12/02/2022','15/09/1997'],\n",
    "    'sale_amount': [12348.5, 233331.2, 22.5, 2566552.0, 23.0]\n",
    "})\n",
    "\n",
    "df1 = pd.DataFrame({\n",
    "    'company_code': ['Abcd','EFGF', 'zefsalf', 'sdfslew', 'zekfsdf'],\n",
    "    'date_of_sale': ['12/05/2002','16/02/1999','25/09/1998','12/02/2022','15/09/1997'],\n",
    "    'sale_amount': [12348.5, 233331.2, 22.5, 2566552.0, 23.0]\n",
    "})\n",
    "print(\"Original DataFrame:\")\n",
    "print(df)\n",
    "print(\"\\nUpper cases in comapny_code:\")\n",
    "df['upper_company_code'] = list(map(lambda x: x.upper(), df['company_code']))\n",
    "print(df)\n",
    "print(\"\\nLower cases in comapny_code:\")\n",
    "df1['lower_company_code'] = list(map(lambda x: x.lower(), df1['company_code']))\n",
    "print(df1)"
   ]
  },
  {
   "cell_type": "code",
   "execution_count": 6,
   "id": "98d2464b",
   "metadata": {},
   "outputs": [
    {
     "name": "stdout",
     "output_type": "stream",
     "text": [
      "Original DataFrame:\n",
      "  company_code date_of_sale  sale_amount\n",
      "0         Abcd   12/05/2002      12348.5\n",
      "1         EFGF   16/02/1999     233331.2\n",
      "2      zefsalf   25/09/1998         22.5\n",
      "3      sdfslew   12/02/2022    2566552.0\n",
      "4      zekfsdf   15/09/1997         23.0\n",
      "\n",
      "Title cases:\n",
      "  company_code date_of_sale  sale_amount company_code_title_cases\n",
      "0         Abcd   12/05/2002      12348.5                     Abcd\n",
      "1         EFGF   16/02/1999     233331.2                     Efgf\n",
      "2      zefsalf   25/09/1998         22.5                  Zefsalf\n",
      "3      sdfslew   12/02/2022    2566552.0                  Sdfslew\n",
      "4      zekfsdf   15/09/1997         23.0                  Zekfsdf\n"
     ]
    }
   ],
   "source": [
    "df = pd.DataFrame({\n",
    "    'company_code': ['Abcd','EFGF', 'zefsalf', 'sdfslew', 'zekfsdf'],\n",
    "    'date_of_sale': ['12/05/2002','16/02/1999','25/09/1998','12/02/2022','15/09/1997'],\n",
    "    'sale_amount': [12348.5, 233331.2, 22.5, 2566552.0, 23.0]\n",
    "})\n",
    "\n",
    "print(\"Original DataFrame:\")\n",
    "print(df)\n",
    "\n",
    "print(\"\\nTitle cases:\")\n",
    "df['company_code_title_cases'] = list(map(lambda x: x.title(), df['company_code']))\n",
    "print(df)"
   ]
  }
 ],
 "metadata": {
  "kernelspec": {
   "display_name": "Python 3 (ipykernel)",
   "language": "python",
   "name": "python3"
  },
  "language_info": {
   "codemirror_mode": {
    "name": "ipython",
    "version": 3
   },
   "file_extension": ".py",
   "mimetype": "text/x-python",
   "name": "python",
   "nbconvert_exporter": "python",
   "pygments_lexer": "ipython3",
   "version": "3.9.7"
  }
 },
 "nbformat": 4,
 "nbformat_minor": 5
}
