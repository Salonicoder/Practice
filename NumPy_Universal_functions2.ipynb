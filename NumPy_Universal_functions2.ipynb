{
 "cells": [
  {
   "cell_type": "code",
   "execution_count": 1,
   "id": "7251e716",
   "metadata": {},
   "outputs": [],
   "source": [
    "import numpy as np"
   ]
  },
  {
   "cell_type": "code",
   "execution_count": 14,
   "id": "b7584ed3",
   "metadata": {},
   "outputs": [],
   "source": [
    "import time"
   ]
  },
  {
   "cell_type": "code",
   "execution_count": 2,
   "id": "6d657cee",
   "metadata": {},
   "outputs": [
    {
     "name": "stdout",
     "output_type": "stream",
     "text": [
      "Original 1D array: [1 2 3 4 5]\n",
      "Resulting array after applying compute_ufunc: [4 9 16 25 36]\n"
     ]
    }
   ],
   "source": [
    "# Define a custom function to compute x^2 + 2x + 1\n",
    "def compute_expression(x):\n",
    "    return x**2 + 2*x +1\n",
    "\n",
    "# Create a ufunc from the custom function using np.frompyfunc\n",
    "compute_ufunc = np.frompyfunc(compute_expression, 1, 1)\n",
    "\n",
    "# Create a 1D NumPy array of integers\n",
    "array_1d = np.array([1, 2, 3, 4, 5])\n",
    "\n",
    "# Apply the custom ufunc to the 1D array\n",
    "result_array = compute_ufunc(array_1d)\n",
    "\n",
    "# Print the original array and the resulting array\n",
    "print('Original 1D array:', array_1d)\n",
    "print('Resulting array after applying compute_ufunc:', result_array)"
   ]
  },
  {
   "cell_type": "code",
   "execution_count": 3,
   "id": "36fa5568",
   "metadata": {},
   "outputs": [
    {
     "name": "stdout",
     "output_type": "stream",
     "text": [
      "Original 1D array: [1 2 3 4 5]\n",
      "Array after applying np.exp: [  2.71828183   7.3890561   20.08553692  54.59815003 148.4131591 ]\n",
      "Array after applying np.log: [1. 2. 3. 4. 5.]\n",
      "Array after applying np.sqrt: [1.         1.41421356 1.73205081 2.         2.23606798]\n"
     ]
    }
   ],
   "source": [
    "# Create a 1D NumPy array of integers\n",
    "array_1d = np.array([1, 2, 3, 4, 5])\n",
    "\n",
    "# Apply the np.exp ufunc to the array\n",
    "exp_array = np.exp(array_1d)\n",
    "\n",
    "# Apply the np.log ufunc to the resulting array from np.exp\n",
    "log_array = np.log(exp_array)\n",
    "\n",
    "# Apply the np.sqrt ufunc to the resulting arrays from np.log\n",
    "sqrt_array = np.sqrt(log_array)\n",
    "\n",
    "# Print the original array and the resulting arrays after each transformation\n",
    "print('Original 1D array:', array_1d)\n",
    "print('Array after applying np.exp:', exp_array)\n",
    "print('Array after applying np.log:', log_array)\n",
    "print('Array after applying np.sqrt:', sqrt_array)"
   ]
  },
  {
   "cell_type": "code",
   "execution_count": 4,
   "id": "3250fb3e",
   "metadata": {},
   "outputs": [
    {
     "name": "stdout",
     "output_type": "stream",
     "text": [
      "Original 1D array: [1 2 3 4 5]\n",
      "Sum of all elements using np.add.reduce: 15\n"
     ]
    }
   ],
   "source": [
    "# Use the np.add.reduce ufunc to compute the sum of all elements in the array\n",
    "sum_of_elements = np.add.reduce(array_1d)\n",
    "\n",
    "# Print the original array and the sum of its elements \n",
    "print('Original 1D array:', array_1d)\n",
    "print('Sum of all elements using np.add.reduce:', sum_of_elements)"
   ]
  },
  {
   "cell_type": "code",
   "execution_count": 5,
   "id": "d8032b5a",
   "metadata": {},
   "outputs": [
    {
     "name": "stdout",
     "output_type": "stream",
     "text": [
      "Original 1D array: [1 2 3 4 5]\n",
      "Cumulative product using np.multiply.accumulate: [  1   2   6  24 120]\n"
     ]
    }
   ],
   "source": [
    "# Use the np.multiply.accumulate ufunc to compute the cumulative product of elements in the array\n",
    "cumulative_product = np.multiply.accumulate(array_1d)\n",
    "\n",
    "# Print the original array and the cumulative product of its elements\n",
    "print('Original 1D array:', array_1d)\n",
    "print('Cumulative product using np.multiply.accumulate:', cumulative_product)"
   ]
  },
  {
   "cell_type": "code",
   "execution_count": 8,
   "id": "8d499c11",
   "metadata": {},
   "outputs": [
    {
     "name": "stdout",
     "output_type": "stream",
     "text": [
      "Array 1: [1 2 3]\n",
      "Array 2: [4 5 6]\n",
      "Outer subtraction of Array 1 and Array 2:\n",
      " [[-3 -4 -5]\n",
      " [-2 -3 -4]\n",
      " [-1 -2 -3]]\n"
     ]
    }
   ],
   "source": [
    "# Create two 1D NumPy arrays\n",
    "array_1 = np.array([1, 2, 3])\n",
    "array_2 = np.array([4, 5, 6])\n",
    "\n",
    "# Use the np.subtract.outer ufunc to compute the outer subtraction\n",
    "outer_subtraction = np.subtract.outer(array_1, array_2) \n",
    "\n",
    "# Print the original arrays and the resulting outer subtraction array\n",
    "print('Array 1:', array_1)\n",
    "print('Array 2:', array_2)\n",
    "print('Outer subtraction of Array 1 and Array 2:\\n', outer_subtraction)"
   ]
  },
  {
   "cell_type": "code",
   "execution_count": 11,
   "id": "c97abd26",
   "metadata": {},
   "outputs": [
    {
     "name": "stdout",
     "output_type": "stream",
     "text": [
      "Array 1: [1 2 3]\n",
      "Array 2: [4 5 6]\n",
      "Dot product using np.dot: 32\n",
      "Dot product using custom ufunc: [4 10 18]\n"
     ]
    }
   ],
   "source": [
    "# Compute the dot product using np.dot\n",
    "dot_product = np.dot(array_1, array_2)\n",
    "\n",
    "# Define a custom ufunc to compute the dot product\n",
    "def custom_dot(x, y):\n",
    "    return np.sum(np.multiply(x, y))\n",
    "\n",
    "# Create a ufunc from the custom function using np.frompyfunc\n",
    "custom_dot_ufunc = np.frompyfunc(custom_dot, 2, 1)\n",
    "\n",
    "# Verify the dot product using the custom ufunc\n",
    "verified_dot_product = custom_dot_ufunc(array_1, array_2)\n",
    "\n",
    "# Print the original arrays, the np.dot result, and the verified result\n",
    "print('Array 1:', array_1)\n",
    "print('Array 2:', array_2)\n",
    "print('Dot product using np.dot:', dot_product)\n",
    "print('Dot product using custom ufunc:', verified_dot_product)"
   ]
  },
  {
   "cell_type": "code",
   "execution_count": 12,
   "id": "6caf8b8f",
   "metadata": {},
   "outputs": [
    {
     "name": "stdout",
     "output_type": "stream",
     "text": [
      "Original 3D array:\n",
      " [[[3 3 2 7 5]\n",
      "  [3 4 8 2 7]\n",
      "  [2 6 3 6 9]\n",
      "  [2 9 5 3 2]]\n",
      "\n",
      " [[4 1 8 1 2]\n",
      "  [4 5 5 2 6]\n",
      "  [9 7 1 3 3]\n",
      "  [8 9 2 2 9]]\n",
      "\n",
      " [[7 9 3 9 7]\n",
      "  [9 7 5 4 4]\n",
      "  [8 8 8 9 1]\n",
      "  [3 6 4 6 2]]]\n",
      "1D array:\n",
      " [7 2 6 1 1]\n",
      "Resulting array after dividing each 3D slice by the 1D array:\n",
      " [[[0.42857143 1.5        0.33333333 7.         5.        ]\n",
      "  [0.42857143 2.         1.33333333 2.         7.        ]\n",
      "  [0.28571429 3.         0.5        6.         9.        ]\n",
      "  [0.28571429 4.5        0.83333333 3.         2.        ]]\n",
      "\n",
      " [[0.57142857 0.5        1.33333333 1.         2.        ]\n",
      "  [0.57142857 2.5        0.83333333 2.         6.        ]\n",
      "  [1.28571429 3.5        0.16666667 3.         3.        ]\n",
      "  [1.14285714 4.5        0.33333333 2.         9.        ]]\n",
      "\n",
      " [[1.         4.5        0.5        9.         7.        ]\n",
      "  [1.28571429 3.5        0.83333333 4.         4.        ]\n",
      "  [1.14285714 4.         1.33333333 9.         1.        ]\n",
      "  [0.42857143 3.         0.66666667 6.         2.        ]]]\n"
     ]
    }
   ],
   "source": [
    "# Create a 3D NumPy array of shape (3, 4, 5) with random integers\n",
    "array_3d = np.random.randint(1, 10, size=(3, 4, 5))\n",
    "\n",
    "# Create a 1D NumPy array with random integers\n",
    "array_1d = np.random.randint(1, 10, size=5)\n",
    "\n",
    "# Use the np.divide ufunc to divide each 2D slice of the 3D array by the 1D array\n",
    "result_array = np.divide(array_3d, array_1d)\n",
    "\n",
    "# Print the original arrays and the resulting array\n",
    "print('Original 3D array:\\n', array_3d)\n",
    "print('1D array:\\n', array_1d)\n",
    "print('Resulting array after dividing each 3D slice by the 1D array:\\n', result_array)"
   ]
  },
  {
   "cell_type": "code",
   "execution_count": 13,
   "id": "e5154e0f",
   "metadata": {},
   "outputs": [
    {
     "name": "stdout",
     "output_type": "stream",
     "text": [
      "Array X:\n",
      "[[1 2]\n",
      " [3 4]]\n",
      "\n",
      "Array Y:\n",
      "[[5 6]\n",
      " [7 8]]\n",
      "\n",
      "Result Array (3x + 4y):\n",
      "[[23. 30.]\n",
      " [37. 44.]]\n"
     ]
    }
   ],
   "source": [
    "# Define the custom ufunc\n",
    "def custom_func(x, y):\n",
    "    return 3 * x + 4 * y\n",
    "\n",
    "# Convert the Python function to a NumPy ufunc\n",
    "custom_ufunc = np.frompyfunc(custom_func, 2, 1)\n",
    "\n",
    "# Create two 2D NumPy arrays\n",
    "array_x = np.array([[1, 2], [3, 4]])\n",
    "array_y = np.array([[5, 6], [7, 8]])\n",
    "\n",
    "# Apply the custom ufunc to the 2D arrays with broadcasting\n",
    "result_array = custom_ufunc(array_x, array_y)\n",
    "\n",
    "# Convert the result to a numeric type array if needed\n",
    "result_array = result_array.astype(np.float64)\n",
    "\n",
    "# Print the input arrays and the result array\n",
    "print(\"Array X:\")\n",
    "print(array_x)\n",
    "\n",
    "print(\"\\nArray Y:\")\n",
    "print(array_y)\n",
    "\n",
    "print(\"\\nResult Array (3x + 4y):\")\n",
    "print(result_array)"
   ]
  },
  {
   "cell_type": "code",
   "execution_count": 15,
   "id": "faafb632",
   "metadata": {},
   "outputs": [
    {
     "name": "stdout",
     "output_type": "stream",
     "text": [
      "Time taken using standard Python loop: 0.301851 seconds\n",
      "Time taken using custom ufunc: 0.103027 seconds\n",
      "Both methods produce the same results.\n"
     ]
    }
   ],
   "source": [
    "# Define the custom ufunc for element-wise addition\n",
    "def custom_add(x, y):\n",
    "    return x + y\n",
    "\n",
    "# Convert the Python function to a NumPy ufunc\n",
    "custom_ufunc_add = np.frompyfunc(custom_add, 2, 1)\n",
    "\n",
    "# Create two large NumPy arrays\n",
    "size = 1000000\n",
    "array_x = np.random.rand(size)\n",
    "array_y = np.random.rand(size)\n",
    "\n",
    "# Performance comparison using standard Python loop\n",
    "start_time = time.time()\n",
    "result_loop = np.empty(size)\n",
    "for i in range(size):\n",
    "    result_loop[i] = array_x[i] + array_y[i]\n",
    "time_loop = time.time() - start_time\n",
    "\n",
    "# Performance comparison using custom ufunc\n",
    "start_time = time.time()\n",
    "result_ufunc = custom_ufunc_add(array_x, array_y)\n",
    "result_ufunc = result_ufunc.astype(np.float64)  # Convert to numeric type if needed\n",
    "time_ufunc = time.time() - start_time\n",
    "\n",
    "# Print the results\n",
    "print(f\"Time taken using standard Python loop: {time_loop:.6f} seconds\")\n",
    "print(f\"Time taken using custom ufunc: {time_ufunc:.6f} seconds\")\n",
    "\n",
    "# Verify the results are the same\n",
    "assert np.allclose(result_loop, result_ufunc), \"Results do not match!\"\n",
    "print(\"Both methods produce the same results.\")"
   ]
  }
 ],
 "metadata": {
  "kernelspec": {
   "display_name": "Python 3 (ipykernel)",
   "language": "python",
   "name": "python3"
  },
  "language_info": {
   "codemirror_mode": {
    "name": "ipython",
    "version": 3
   },
   "file_extension": ".py",
   "mimetype": "text/x-python",
   "name": "python",
   "nbconvert_exporter": "python",
   "pygments_lexer": "ipython3",
   "version": "3.9.7"
  }
 },
 "nbformat": 4,
 "nbformat_minor": 5
}
