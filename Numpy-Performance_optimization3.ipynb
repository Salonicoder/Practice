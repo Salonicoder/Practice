{
 "cells": [
  {
   "cell_type": "code",
   "execution_count": 1,
   "id": "81517f2a",
   "metadata": {},
   "outputs": [],
   "source": [
    "import numpy as np"
   ]
  },
  {
   "cell_type": "code",
   "execution_count": 2,
   "id": "b865dd33",
   "metadata": {},
   "outputs": [
    {
     "name": "stdout",
     "output_type": "stream",
     "text": [
      "First 10 results using for loop:\n",
      "[ 685 1554 2036 2494 3457 3458 4404 5146 5919 6840]\n",
      "First 10 results using NumPy:\n",
      "[ 685 1554 2036 2494 3457 3458 4404 5146 5919 6840]\n"
     ]
    }
   ],
   "source": [
    "# Generate a large 1D NumPy array with random integers\n",
    "large_array = np.random.randint(1, 1000, size=1000000)\n",
    "\n",
    "# Function to calculate cumulative sum using a for loop\n",
    "def cumulative_sum_with_loop(arr):\n",
    "    cum_sum = np.empty_like(arr)\n",
    "    cum_sum[0] = arr[0]\n",
    "    for i in range(1, len(arr)):\n",
    "        cum_sum[i] = cum_sum[i - 1] + arr[i]\n",
    "    return cum_sum\n",
    "\n",
    "# Calculate cumulative sum using the for loop method\n",
    "cumsum_with_loop = cumulative_sum_with_loop(large_array)\n",
    "\n",
    "# Calculate cumulative sum using NumPy's cumsum() function\n",
    "cumsum_with_numpy = np.cumsum(large_array)\n",
    "\n",
    "# Display first 10 results to verify\n",
    "print(\"First 10 results using for loop:\")\n",
    "print(cumsum_with_loop[:10])\n",
    "\n",
    "print(\"First 10 results using NumPy:\")\n",
    "print(cumsum_with_numpy[:10])"
   ]
  },
  {
   "cell_type": "code",
   "execution_count": 3,
   "id": "f241da79",
   "metadata": {},
   "outputs": [
    {
     "name": "stdout",
     "output_type": "stream",
     "text": [
      "Index of maximum element using for loop: 114432\n",
      "Index of maximum element using NumPy: 114432\n"
     ]
    }
   ],
   "source": [
    "# Generate a large 1D NumPy array with random integers\n",
    "large_array = np.random.randint(1, 1000000, size=1000000)\n",
    "\n",
    "# Function to find the indices of the maximum element using a for loop\n",
    "def find_max_index_with_loop(arr):\n",
    "    max_index = 0\n",
    "    max_value = arr[0]\n",
    "    for i in range(1, len(arr)):\n",
    "        if arr[i] > max_value:\n",
    "            max_value = arr[i]\n",
    "            max_index = i\n",
    "    return max_index\n",
    "\n",
    "# Find the index of the maximum element using the for loop method\n",
    "max_index_with_loop = find_max_index_with_loop(large_array)\n",
    "\n",
    "# Find the index of the maximum element using NumPy's argmax() function\n",
    "max_index_with_numpy = np.argmax(large_array)\n",
    "\n",
    "# Display the results\n",
    "print(f\"Index of maximum element using for loop: {max_index_with_loop}\")\n",
    "print(f\"Index of maximum element using NumPy: {max_index_with_numpy}\")"
   ]
  },
  {
   "cell_type": "code",
   "execution_count": 4,
   "id": "837a6c51",
   "metadata": {},
   "outputs": [
    {
     "name": "stdout",
     "output_type": "stream",
     "text": [
      "First 10 normalized values using for loop:\n",
      "[ 0.1577963  -1.57277149 -1.07683723 -1.2398366  -1.29185768 -0.98666737\n",
      "  0.95198472 -1.48953777  1.0040058   0.93811244]\n",
      "First 10 normalized values using NumPy:\n",
      "[ 0.1577963  -1.57277149 -1.07683723 -1.2398366  -1.29185768 -0.98666737\n",
      "  0.95198472 -1.48953777  1.0040058   0.93811244]\n"
     ]
    }
   ],
   "source": [
    "# Generate a large 1D NumPy array with random integers\n",
    "large_array = np.random.randint(1, 1000, size=1000000)\n",
    "\n",
    "# Function to normalize the array using a for loop\n",
    "def normalize_with_loop(arr):\n",
    "    mean = np.mean(arr)\n",
    "    std = np.std(arr)\n",
    "    normalized_array = np.empty_like(arr, dtype=float)\n",
    "    for i in range(len(arr)):\n",
    "        normalized_array[i] = (arr[i] - mean) / std\n",
    "    return normalized_array\n",
    "\n",
    "# Normalize the array using the for loop method\n",
    "normalized_with_loop = normalize_with_loop(large_array)\n",
    "\n",
    "# Normalize the array using NumPy's vectorized operations\n",
    "normalized_with_numpy = (large_array - np.mean(large_array)) / np.std(large_array)\n",
    "\n",
    "# Display first 10 results to verify\n",
    "print(\"First 10 normalized values using for loop:\")\n",
    "print(normalized_with_loop[:10])\n",
    "\n",
    "print(\"First 10 normalized values using NumPy:\")\n",
    "print(normalized_with_numpy[:10])"
   ]
  },
  {
   "cell_type": "code",
   "execution_count": 5,
   "id": "8f817f04",
   "metadata": {},
   "outputs": [
    {
     "name": "stdout",
     "output_type": "stream",
     "text": [
      "First 10 column means using for loop:\n",
      "[504.079 502.817 480.389 493.772 493.297 498.947 505.977 507.731 506.127\n",
      " 511.789]\n",
      "First 10 column means using NumPy:\n",
      "[504.079 502.817 480.389 493.772 493.297 498.947 505.977 507.731 506.127\n",
      " 511.789]\n"
     ]
    }
   ],
   "source": [
    "# Generate a large 2D NumPy array with random integers\n",
    "large_2d_array = np.random.randint(1, 1000, size=(1000, 1000))\n",
    "\n",
    "# Function to compute column-wise mean using a for loop\n",
    "def column_wise_mean_with_loop(arr):\n",
    "    num_rows, num_cols = arr.shape\n",
    "    col_means = np.empty(num_cols)\n",
    "    for col in range(num_cols):\n",
    "        col_sum = 0\n",
    "        for row in range(num_rows):\n",
    "            col_sum += arr[row, col]\n",
    "        col_means[col] = col_sum / num_rows\n",
    "    return col_means\n",
    "\n",
    "# Compute column-wise mean using the for loop method\n",
    "col_mean_with_loop = column_wise_mean_with_loop(large_2d_array)\n",
    "\n",
    "# Compute column-wise mean using NumPy's built-in functions\n",
    "col_mean_with_numpy = np.mean(large_2d_array, axis=0)\n",
    "\n",
    "# Display first 10 column means to verify\n",
    "print(\"First 10 column means using for loop:\")\n",
    "print(col_mean_with_loop[:10])\n",
    "\n",
    "print(\"First 10 column means using NumPy:\")\n",
    "print(col_mean_with_numpy[:10])"
   ]
  },
  {
   "cell_type": "code",
   "execution_count": 6,
   "id": "aadccfa5",
   "metadata": {},
   "outputs": [
    {
     "name": "stdout",
     "output_type": "stream",
     "text": [
      "First 10 sorted elements using for loop:\n",
      "[ 2  5  5  5  6  7  8  8 10 11]\n",
      "First 10 sorted elements using NumPy:\n",
      "[ 2  5  5  5  6  7  8  8 10 11]\n"
     ]
    }
   ],
   "source": [
    "# Generate a large 1D NumPy array with random integers\n",
    "large_array = np.random.randint(1, 10000, size=10000)\n",
    "\n",
    "# Function to sort the array using a for loop (bubble sort for simplicity)\n",
    "def sort_with_loop(arr):\n",
    "    arr_copy = arr.copy()\n",
    "    n = len(arr_copy)\n",
    "    for i in range(n):\n",
    "        for j in range(0, n-i-1):\n",
    "            if arr_copy[j] > arr_copy[j+1]:\n",
    "                arr_copy[j], arr_copy[j+1] = arr_copy[j+1], arr_copy[j]\n",
    "    return arr_copy\n",
    "\n",
    "# Sort the array using the for loop method\n",
    "sorted_with_loop = sort_with_loop(large_array)\n",
    "\n",
    "# Sort the array using NumPy's built-in sort() function\n",
    "sorted_with_numpy = np.sort(large_array)\n",
    "\n",
    "# Display first 10 sorted elements to verify\n",
    "print(\"First 10 sorted elements using for loop:\")\n",
    "print(sorted_with_loop[:10])\n",
    "\n",
    "print(\"First 10 sorted elements using NumPy:\")\n",
    "print(sorted_with_numpy[:10])"
   ]
  }
 ],
 "metadata": {
  "kernelspec": {
   "display_name": "Python 3 (ipykernel)",
   "language": "python",
   "name": "python3"
  },
  "language_info": {
   "codemirror_mode": {
    "name": "ipython",
    "version": 3
   },
   "file_extension": ".py",
   "mimetype": "text/x-python",
   "name": "python",
   "nbconvert_exporter": "python",
   "pygments_lexer": "ipython3",
   "version": "3.9.7"
  }
 },
 "nbformat": 4,
 "nbformat_minor": 5
}
