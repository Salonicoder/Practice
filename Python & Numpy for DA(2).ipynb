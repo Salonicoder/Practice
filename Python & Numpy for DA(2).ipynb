{
 "cells": [
  {
   "cell_type": "code",
   "execution_count": 1,
   "id": "2c7db33e",
   "metadata": {},
   "outputs": [],
   "source": [
    "import pandas as pd\n",
    "import numpy as np"
   ]
  },
  {
   "cell_type": "code",
   "execution_count": 2,
   "id": "62002095",
   "metadata": {},
   "outputs": [],
   "source": [
    "array = np.array([10, 5, 8, 20, 3])\n"
   ]
  },
  {
   "cell_type": "code",
   "execution_count": 3,
   "id": "8440d975",
   "metadata": {},
   "outputs": [
    {
     "data": {
      "text/plain": [
       "20"
      ]
     },
     "execution_count": 3,
     "metadata": {},
     "output_type": "execute_result"
    }
   ],
   "source": [
    "np.max(array)"
   ]
  },
  {
   "cell_type": "code",
   "execution_count": 4,
   "id": "a46f7218",
   "metadata": {},
   "outputs": [
    {
     "data": {
      "text/plain": [
       "3"
      ]
     },
     "execution_count": 4,
     "metadata": {},
     "output_type": "execute_result"
    }
   ],
   "source": [
    "np.min(array)"
   ]
  },
  {
   "cell_type": "code",
   "execution_count": 5,
   "id": "31a0120b",
   "metadata": {},
   "outputs": [
    {
     "data": {
      "text/plain": [
       "array([[1, 2, 3, 4],\n",
       "       [5, 6, 7, 8]])"
      ]
     },
     "execution_count": 5,
     "metadata": {},
     "output_type": "execute_result"
    }
   ],
   "source": [
    "# Create a 1D NumPy array\n",
    "array_1d = np.array([1, 2, 3, 4, 5, 6, 7, 8])\n",
    "\n",
    "array_2d = array_1d.reshape(2,4)\n",
    "array_2d"
   ]
  },
  {
   "cell_type": "code",
   "execution_count": 7,
   "id": "6abda1c2",
   "metadata": {},
   "outputs": [
    {
     "data": {
      "text/plain": [
       "array([ 8, 20,  3])"
      ]
     },
     "execution_count": 7,
     "metadata": {},
     "output_type": "execute_result"
    }
   ],
   "source": [
    "portion = array[2:]\n",
    "portion"
   ]
  },
  {
   "cell_type": "code",
   "execution_count": 8,
   "id": "a32d99da",
   "metadata": {},
   "outputs": [
    {
     "data": {
      "text/plain": [
       "array([[ 1,  2,  3],\n",
       "       [ 4,  5,  6],\n",
       "       [ 7,  8,  9],\n",
       "       [10, 11, 12]])"
      ]
     },
     "execution_count": 8,
     "metadata": {},
     "output_type": "execute_result"
    }
   ],
   "source": [
    "# Create two NumPy arrays\n",
    "array1 = np.array([[1, 2, 3],\n",
    "                   [4, 5, 6]])\n",
    "\n",
    "array2 = np.array([[7, 8, 9],\n",
    "                   [10, 11, 12]])\n",
    "\n",
    "result_array = np.vstack((array1, array2))\n",
    "result_array"
   ]
  },
  {
   "cell_type": "code",
   "execution_count": 10,
   "id": "a48d0e41",
   "metadata": {},
   "outputs": [
    {
     "name": "stdout",
     "output_type": "stream",
     "text": [
      "[[ 58  24]\n",
      " [139  54]]\n"
     ]
    }
   ],
   "source": [
    "# Create two matrices\n",
    "matrix1 = np.array([[1, 2, 3],\n",
    "                    [4, 5, 6]])\n",
    "\n",
    "matrix2 = np.array([[7, 8],\n",
    "                    [9, -10],\n",
    "                    [11, 12]])\n",
    "\n",
    "# Perform matrix multiplication using numpy.dot()\n",
    "result_matrix = np.dot(matrix1, matrix2)\n",
    "\n",
    "# Alternatively, you can use the @ operator\n",
    "# result_matrix = matrix1 @ matrix2\n",
    "\n",
    "# Display the result\n",
    "print(result_matrix)\n"
   ]
  },
  {
   "cell_type": "code",
   "execution_count": 11,
   "id": "520071f3",
   "metadata": {},
   "outputs": [
    {
     "data": {
      "text/plain": [
       "array([1, 3, 6, 2, 7], dtype=int32)"
      ]
     },
     "execution_count": 11,
     "metadata": {},
     "output_type": "execute_result"
    }
   ],
   "source": [
    "nums = np.array([1, 2, 3, -4, 5])\n",
    "cumulative_sum = np.cumsum(nums)\n",
    "cumulative_sum"
   ]
  },
  {
   "cell_type": "code",
   "execution_count": 12,
   "id": "2b6b6301",
   "metadata": {},
   "outputs": [
    {
     "data": {
      "text/plain": [
       "array([0.52946524, 0.78920021, 0.17478068, 0.50895536, 0.37459876,\n",
       "       0.03812518, 0.14328234, 0.8200023 , 0.59523938, 0.08854463])"
      ]
     },
     "metadata": {},
     "output_type": "display_data"
    },
    {
     "data": {
      "text/plain": [
       "array([0.03812518, 0.08854463, 0.14328234, 0.17478068, 0.37459876,\n",
       "       0.50895536, 0.52946524, 0.59523938, 0.78920021, 0.8200023 ])"
      ]
     },
     "metadata": {},
     "output_type": "display_data"
    }
   ],
   "source": [
    "random_array = np.random.rand(10)\n",
    "unique_values = np.unique(random_array)\n",
    "display(random_array)\n",
    "display(unique_values)"
   ]
  },
  {
   "cell_type": "code",
   "execution_count": 13,
   "id": "fbab0ef9",
   "metadata": {},
   "outputs": [
    {
     "name": "stdout",
     "output_type": "stream",
     "text": [
      "       Name  Age  Salary\n",
      "2    Cosimo   22   45000\n",
      "0      Imen   25   50000\n",
      "1  Karthika   30   60000\n",
      "3  Cathrine   35   70000\n"
     ]
    }
   ],
   "source": [
    "# Create a sample DataFrame\n",
    "data = {'Name': ['Imen', 'Karthika', 'Cosimo', 'Cathrine'],\n",
    "        'Age': [25, 30, 22, 35],\n",
    "        'Salary': [50000, 60000, 45000, 70000]}\n",
    "\n",
    "df = pd.DataFrame(data)\n",
    "\n",
    "# Sort the DataFrame by the 'Salary' column in ascending order\n",
    "sorted_df = df.sort_values(by='Salary')\n",
    "\n",
    "# Display the sorted DataFrame\n",
    "print(sorted_df)"
   ]
  },
  {
   "cell_type": "code",
   "execution_count": 14,
   "id": "8bdd95a0",
   "metadata": {},
   "outputs": [
    {
     "name": "stdout",
     "output_type": "stream",
     "text": [
      "       Name  Age  Salary  Double_Salary\n",
      "0      Imen   25   50000         100000\n",
      "1  Karthika   30   60000         120000\n",
      "2    Cosimo   22   45000          90000\n",
      "3  Cathrine   35   70000         140000\n"
     ]
    }
   ],
   "source": [
    "# Create a sample DataFrame\n",
    "data = {'Name': ['Imen', 'Karthika', 'Cosimo', 'Cathrine'],\n",
    "        'Age': [25, 30, 22, 35],\n",
    "        'Salary': [50000, 60000, 45000, 70000]}\n",
    "\n",
    "df = pd.DataFrame(data)\n",
    "\n",
    "# Define a custom function\n",
    "def double_salary(salary):\n",
    "    return salary * 2\n",
    "\n",
    "# Apply the custom function to the 'Salary' column\n",
    "df['Double_Salary'] = df['Salary'].apply(double_salary)\n",
    "\n",
    "# Display the DataFrame with the new column\n",
    "print(df)"
   ]
  },
  {
   "cell_type": "code",
   "execution_count": 15,
   "id": "92a343e3",
   "metadata": {},
   "outputs": [
    {
     "name": "stdout",
     "output_type": "stream",
     "text": [
      "  Full_Name  Years  Income\n",
      "0      Imen     25   50000\n",
      "1  Karthika     30   60000\n",
      "2    Cosimo     22   45000\n",
      "3  Cathrine     35   70000\n"
     ]
    }
   ],
   "source": [
    "data = {'Name': ['Imen', 'Karthika', 'Cosimo', 'Cathrine'],\n",
    "        'Age': [25, 30, 22, 35],\n",
    "        'Salary': [50000, 60000, 45000, 70000]}\n",
    "\n",
    "df = pd.DataFrame(data)\n",
    "\n",
    "# Rename columns\n",
    "df.rename(columns={'Name': 'Full_Name', 'Age': 'Years', 'Salary': 'Income'}, inplace=True)\n",
    "\n",
    "# Display the DataFrame with renamed columns\n",
    "print(df)"
   ]
  }
 ],
 "metadata": {
  "kernelspec": {
   "display_name": "Python 3 (ipykernel)",
   "language": "python",
   "name": "python3"
  },
  "language_info": {
   "codemirror_mode": {
    "name": "ipython",
    "version": 3
   },
   "file_extension": ".py",
   "mimetype": "text/x-python",
   "name": "python",
   "nbconvert_exporter": "python",
   "pygments_lexer": "ipython3",
   "version": "3.9.7"
  }
 },
 "nbformat": 4,
 "nbformat_minor": 5
}
