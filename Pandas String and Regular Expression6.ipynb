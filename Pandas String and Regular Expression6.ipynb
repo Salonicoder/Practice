{
 "cells": [
  {
   "cell_type": "code",
   "execution_count": 1,
   "id": "b4d86f05",
   "metadata": {},
   "outputs": [],
   "source": [
    "import pandas as pd\n",
    "import re as re"
   ]
  },
  {
   "cell_type": "code",
   "execution_count": 2,
   "id": "8f21db23",
   "metadata": {},
   "outputs": [
    {
     "name": "stdout",
     "output_type": "stream",
     "text": [
      "Original DataFrame:\n",
      "  company_code       year\n",
      "0      c000@1.  year 1800\n",
      "1       c000,2  year 1700\n",
      "2        c0003  year 2300\n",
      "3       c0003#  year 1900\n",
      "4       c0004,  year 2200\n",
      "\n",
      "Extracting punctuation:\n",
      "  company_code       year nonalpha\n",
      "0      c000@1.  year 1800   [@, .]\n",
      "1       c000,2  year 1700      [,]\n",
      "2        c0003  year 2300       []\n",
      "3       c0003#  year 1900      [#]\n",
      "4       c0004,  year 2200      [,]\n"
     ]
    }
   ],
   "source": [
    "pd.set_option('display.max_columns', 10)\n",
    "df = pd.DataFrame({\n",
    "    'company_code': ['c000@1.','c000,2','c0003', 'c0003#', 'c0004,'],\n",
    "    'year': ['year 1800','year 1700','year 2300', 'year 1900', 'year 2200']\n",
    "    })\n",
    "print(\"Original DataFrame:\")\n",
    "print(df)\n",
    "def find_punctuations(text):\n",
    "    result = re.findall(r'[!\"\\$%&\\'()*+,\\-.\\/:;=#@?\\[\\\\\\]^_`{|}~]*', text)\n",
    "    string=\"\".join(result)\n",
    "    return list(string)\n",
    "df['nonalpha']=df['company_code'].apply(lambda x: find_punctuations(x))\n",
    "print(\"\\nExtracting punctuation:\")\n",
    "print(df)"
   ]
  },
  {
   "cell_type": "code",
   "execution_count": 3,
   "id": "de49a98e",
   "metadata": {},
   "outputs": [
    {
     "name": "stdout",
     "output_type": "stream",
     "text": [
      "Original DataFrame:\n",
      "  text_code                    text_lang\n",
      "0    t0001.      She livedd a long life.\n",
      "1     t0002     How oold is your father?\n",
      "2     t0003        What is tthe problem?\n",
      "3     t0004  TThhis desk is used by Tom.\n",
      "\n",
      "Remove repetitive characters:\n",
      "  text_code                    text_lang                normal_text\n",
      "0    t0001.      She livedd a long life.     She lived a long life.\n",
      "1     t0002     How oold is your father?    How old is your father?\n",
      "2     t0003        What is tthe problem?       What is the problem?\n",
      "3     t0004  TThhis desk is used by Tom.  This desk is used by Tom.\n"
     ]
    }
   ],
   "source": [
    "df = pd.DataFrame({\n",
    "    'text_code': ['t0001.','t0002','t0003', 't0004'],\n",
    "    'text_lang': ['She livedd a long life.', 'How oold is your father?', 'What is tthe problem?','TThhis desk is used by Tom.']\n",
    "    })\n",
    "print(\"Original DataFrame:\")\n",
    "print(df)\n",
    "def rep_char(str1):\n",
    "    tchr = str1.group(0)\n",
    "    if len(tchr) > 1:\n",
    "        return tchr[0:1] # can change the value here on repetition\n",
    "def unique_char(rep, sent_text):\n",
    "    convert = re.sub(r'(\\w)\\1+', rep, sent_text) \n",
    "    return convert\n",
    "df['normal_text']=df['text_lang'].apply(lambda x : unique_char(rep_char,x))\n",
    "print(\"\\nRemove repetitive characters:\")\n",
    "print(df)"
   ]
  },
  {
   "cell_type": "code",
   "execution_count": 4,
   "id": "8dcfd90e",
   "metadata": {},
   "outputs": [
    {
     "name": "stdout",
     "output_type": "stream",
     "text": [
      "Original DataFrame:\n",
      "  company_code                     address\n",
      "0        c0001        7277 Surrey Ave.1111\n",
      "1        c0002          920 N. Bishop Ave.\n",
      "2        c0003        9910 Golden Star St.\n",
      "3        c0003             1025 Dunbar St.\n",
      "4        c0004  1700 West Livingston Court\n",
      "\n",
      "Number greater than 940:\n",
      "  company_code                     address  num_great\n",
      "0        c0001        7277 Surrey Ave.1111  7277 1111\n",
      "1        c0002          920 N. Bishop Ave.           \n",
      "2        c0003        9910 Golden Star St.        991\n",
      "3        c0003             1025 Dunbar St.       1025\n",
      "4        c0004  1700 West Livingston Court       1700\n"
     ]
    }
   ],
   "source": [
    "df = pd.DataFrame({\n",
    "    'company_code': ['c0001','c0002','c0003', 'c0003', 'c0004'],\n",
    "    'address': ['7277 Surrey Ave.1111','920 N. Bishop Ave.','9910 Golden Star St.', '1025 Dunbar St.', '1700 West Livingston Court']\n",
    "    })\n",
    "print(\"Original DataFrame:\")\n",
    "print(df)\n",
    "def test_num_great(text): \n",
    "    result = re.findall(r'95[5-9]|9[6-9]\\d|[1-9]\\d{3,}',text)\n",
    "    return \" \".join(result)\n",
    "df['num_great']=df['address'].apply(lambda x : test_num_great(x))\n",
    "print(\"\\nNumber greater than 940:\")\n",
    "print(df)"
   ]
  },
  {
   "cell_type": "code",
   "execution_count": 5,
   "id": "868ee645",
   "metadata": {},
   "outputs": [
    {
     "name": "stdout",
     "output_type": "stream",
     "text": [
      "Original DataFrame:\n",
      "  company_code                   address\n",
      "0        c0001          72 Surrey Ave.11\n",
      "1        c0002         92 N. Bishop Ave.\n",
      "2        c0003      9910 Golden Star St.\n",
      "3        c0003            102 Dunbar St.\n",
      "4        c0004  17 West Livingston Court\n",
      "\n",
      "Number less than 100:\n",
      "  company_code                   address num_less\n",
      "0        c0001          72 Surrey Ave.11    72 11\n",
      "1        c0002         92 N. Bishop Ave.       92\n",
      "2        c0003      9910 Golden Star St.         \n",
      "3        c0003            102 Dunbar St.         \n",
      "4        c0004  17 West Livingston Court       17\n"
     ]
    }
   ],
   "source": [
    "df = pd.DataFrame({\n",
    "    'company_code': ['c0001','c0002','c0003', 'c0003', 'c0004'],\n",
    "    'address': ['72 Surrey Ave.11','92 N. Bishop Ave.','9910 Golden Star St.', '102 Dunbar St.', '17 West Livingston Court']\n",
    "    })\n",
    "print(\"Original DataFrame:\")\n",
    "print(df)\n",
    "\n",
    "def test_num_less(n):\n",
    "    nums = []\n",
    "    for i in n.split():\n",
    "        result = re.findall(r'\\b(0*(?:[1-9][0-9]?|100))\\b',i)\n",
    "        nums.append(result)\n",
    "        all_num=[\",\".join(x) for x in nums if x != []]\n",
    "    return \" \".join(all_num)\n",
    "\n",
    "df['num_less'] = df['address'].apply(lambda x : test_num_less(x))\n",
    "print(\"\\nNumber less than 100:\")\n",
    "print(df)"
   ]
  },
  {
   "cell_type": "code",
   "execution_count": 6,
   "id": "9e6a5487",
   "metadata": {},
   "outputs": [
    {
     "name": "stdout",
     "output_type": "stream",
     "text": [
      "Original DataFrame:\n",
      "  company_code                   address\n",
      "0        c0001          9910 Surrey Ave.\n",
      "1        c0002         92 N. Bishop Ave.\n",
      "2        c0003     9910 Golden Star Ave.\n",
      "3        c0003            102 Dunbar St.\n",
      "4        c0004  17 West Livingston Court\n",
      "\n",
      "Present two words!\n",
      "  company_code                   address        check_two_words\n",
      "0        c0001          9910 Surrey Ave.       9910 Surrey Ave.\n",
      "1        c0002         92 N. Bishop Ave.                       \n",
      "2        c0003     9910 Golden Star Ave.  9910 Golden Star Ave.\n",
      "3        c0003            102 Dunbar St.                       \n",
      "4        c0004  17 West Livingston Court                       \n"
     ]
    }
   ],
   "source": [
    "df = pd.DataFrame({\n",
    "    'company_code': ['c0001','c0002','c0003', 'c0003', 'c0004'],\n",
    "    'address': ['9910 Surrey Ave.','92 N. Bishop Ave.','9910 Golden Star Ave.', '102 Dunbar St.', '17 West Livingston Court']\n",
    "    })\n",
    "print(\"Original DataFrame:\")\n",
    "print(df)\n",
    "def test_and_cond(text):\n",
    "    result = re.findall(r'(?=.*Ave.)(?=.*9910).*', text) \n",
    "    return \" \".join(result)\n",
    "df['check_two_words']=df['address'].apply(lambda x : test_and_cond(x))\n",
    "print(\"\\nPresent two words!\")\n",
    "print(df)"
   ]
  }
 ],
 "metadata": {
  "kernelspec": {
   "display_name": "Python 3 (ipykernel)",
   "language": "python",
   "name": "python3"
  },
  "language_info": {
   "codemirror_mode": {
    "name": "ipython",
    "version": 3
   },
   "file_extension": ".py",
   "mimetype": "text/x-python",
   "name": "python",
   "nbconvert_exporter": "python",
   "pygments_lexer": "ipython3",
   "version": "3.9.7"
  }
 },
 "nbformat": 4,
 "nbformat_minor": 5
}
