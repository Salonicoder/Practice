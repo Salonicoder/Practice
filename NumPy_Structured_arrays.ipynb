{
 "cells": [
  {
   "cell_type": "code",
   "execution_count": 1,
   "id": "aa4251da",
   "metadata": {},
   "outputs": [],
   "source": [
    "import numpy as np"
   ]
  },
  {
   "cell_type": "code",
   "execution_count": 2,
   "id": "45422bfb",
   "metadata": {},
   "outputs": [
    {
     "name": "stdout",
     "output_type": "stream",
     "text": [
      "Structured Array:\n",
      "[('Lehi Piero', 25, 5.5) ('Albin Acha', 30, 5.8) ('Zerach Hav', 35, 6.1)\n",
      " ('Edmund Ter', 40, 5.9) ('Laura Feli', 28, 5.7)]\n"
     ]
    }
   ],
   "source": [
    "# Define the data type for the structured array\n",
    "dtype = [('name', 'U10'), ('age', 'i4'), ('height', 'f4')]\n",
    "\n",
    "# Create the structured array with sample data\n",
    "structured_array = np.array([\n",
    "    ('Lehi Piero', 25, 5.5),\n",
    "    ('Albin Achan', 30, 5.8),\n",
    "    ('Zerach Hava', 35, 6.1),\n",
    "    ('Edmund Tereza', 40, 5.9),\n",
    "    ('Laura Felinus', 28, 5.7)], dtype=dtype)\n",
    "\n",
    "# Print the structured array\n",
    "print(\"Structured Array:\")\n",
    "print(structured_array)"
   ]
  },
  {
   "cell_type": "code",
   "execution_count": 3,
   "id": "dac94755",
   "metadata": {},
   "outputs": [
    {
     "data": {
      "text/plain": [
       "dtype([('name', '<U10'), ('age', '<i4'), ('height', '<f4')])"
      ]
     },
     "execution_count": 3,
     "metadata": {},
     "output_type": "execute_result"
    }
   ],
   "source": [
    "structured_array.dtype"
   ]
  },
  {
   "cell_type": "code",
   "execution_count": 4,
   "id": "b47057d4",
   "metadata": {},
   "outputs": [
    {
     "data": {
      "text/plain": [
       "array(['Lehi Piero', 'Albin Acha', 'Zerach Hav', 'Edmund Ter',\n",
       "       'Laura Feli'], dtype='<U10')"
      ]
     },
     "execution_count": 4,
     "metadata": {},
     "output_type": "execute_result"
    }
   ],
   "source": [
    "structured_array['name']"
   ]
  },
  {
   "cell_type": "code",
   "execution_count": 5,
   "id": "b1711ca3",
   "metadata": {},
   "outputs": [
    {
     "data": {
      "text/plain": [
       "array([('Lehi Piero', 30, 5.5), ('Albin Acha', 30, 5.8),\n",
       "       ('Zerach Hav', 35, 6.1), ('Edmund Ter', 40, 5.9),\n",
       "       ('Laura Feli', 28, 5.7)],\n",
       "      dtype=[('name', '<U10'), ('age', '<i4'), ('height', '<f4')])"
      ]
     },
     "execution_count": 5,
     "metadata": {},
     "output_type": "execute_result"
    }
   ],
   "source": [
    "structured_array['age'][0] = 30\n",
    "structured_array"
   ]
  },
  {
   "cell_type": "code",
   "execution_count": 8,
   "id": "89ebd22e",
   "metadata": {},
   "outputs": [
    {
     "name": "stdout",
     "output_type": "stream",
     "text": [
      "Original Structured Array:\n",
      "[('Lehi Piero', 30, 5.5) ('Albin Acha', 30, 5.8) ('Zerach Hav', 35, 6.1)\n",
      " ('Edmund Ter', 40, 5.9) ('Laura Feli', 28, 5.7)]\n",
      "\n",
      "Updated Structured Array:\n",
      "[('Lehi Piero', 30, 5.5) ('Albin Acha', 30, 5.8) ('Zerach Hav', 35, 6.1)\n",
      " ('Edmund Ter', 40, 5.9) ('Laura Feli', 28, 5.7) ('Nela Suna', 25, 5.9)]\n"
     ]
    }
   ],
   "source": [
    "print(\"Original Structured Array:\")\n",
    "print(structured_array)\n",
    "\n",
    "# Define the new record to be added\n",
    "new_record = np.array([('Nela Suna', 25, 5.9)], dtype=dtype)\n",
    "\n",
    "# Add the new record to the structured array\n",
    "# Use np.append to concatenate the new record to the existing array\n",
    "updated_array = np.append(structured_array, new_record)\n",
    "\n",
    "# Print the updated structured array\n",
    "print(\"\\nUpdated Structured Array:\")\n",
    "print(updated_array)"
   ]
  },
  {
   "cell_type": "code",
   "execution_count": 9,
   "id": "7110680e",
   "metadata": {},
   "outputs": [
    {
     "name": "stdout",
     "output_type": "stream",
     "text": [
      "Original Structured Array:\n",
      "[('Lehi Piero', 30, 5.5) ('Albin Acha', 30, 5.8) ('Zerach Hav', 35, 6.1)\n",
      " ('Edmund Ter', 40, 5.9) ('Laura Feli', 28, 5.7)]\n",
      "\n",
      "Filtered Records (age > 25):\n",
      "[('Lehi Piero', 30, 5.5) ('Albin Acha', 30, 5.8) ('Zerach Hav', 35, 6.1)\n",
      " ('Edmund Ter', 40, 5.9) ('Laura Feli', 28, 5.7)]\n"
     ]
    }
   ],
   "source": [
    "print(\"Original Structured Array:\")\n",
    "print(structured_array)\n",
    "\n",
    "# Filter the records where the 'age' field is greater than 25\n",
    "filtered_records = structured_array[structured_array['age'] > 25]\n",
    "\n",
    "# Print the filtered records\n",
    "print(\"\\nFiltered Records (age > 25):\")\n",
    "print(filtered_records)"
   ]
  },
  {
   "cell_type": "code",
   "execution_count": 12,
   "id": "4bdda09a",
   "metadata": {},
   "outputs": [
    {
     "data": {
      "text/plain": [
       "array([('Lehi Piero', 30, 5.5), ('Laura Feli', 28, 5.7),\n",
       "       ('Albin Acha', 30, 5.8), ('Edmund Ter', 40, 5.9),\n",
       "       ('Zerach Hav', 35, 6.1)],\n",
       "      dtype=[('name', '<U10'), ('age', '<i4'), ('height', '<f4')])"
      ]
     },
     "execution_count": 12,
     "metadata": {},
     "output_type": "execute_result"
    }
   ],
   "source": [
    "sorted_array = np.sort(structured_array, order='height')\n",
    "sorted_array"
   ]
  },
  {
   "cell_type": "code",
   "execution_count": 13,
   "id": "fe49c12e",
   "metadata": {},
   "outputs": [
    {
     "name": "stdout",
     "output_type": "stream",
     "text": [
      "Sorted by height (descending):\n",
      " [('Zerach Hav', 35, 6.1) ('Edmund Ter', 40, 5.9) ('Albin Acha', 30, 5.8)\n",
      " ('Laura Feli', 28, 5.7) ('Lehi Piero', 30, 5.5)]\n"
     ]
    }
   ],
   "source": [
    "# Sort by 'height' in descending order\n",
    "sorted_desc = np.sort(structured_array, order='height')[::-1]\n",
    "print(\"Sorted by height (descending):\\n\", sorted_desc)"
   ]
  },
  {
   "cell_type": "code",
   "execution_count": 14,
   "id": "4b645e73",
   "metadata": {},
   "outputs": [
    {
     "name": "stdout",
     "output_type": "stream",
     "text": [
      "Original Structured Array:\n",
      "[('Lehi Piero', 25, 5.5) ('Albin Acha', 30, 5.8) ('Zerach Hav', 35, 6.1)\n",
      " ('Edmund Ter', 40, 5.9) ('Laura Feli', 28, 5.7)]\n",
      "Average age of individuals:\n",
      "31.6\n"
     ]
    }
   ],
   "source": [
    "# Create the structured array with sample data\n",
    "structured_array = np.array([\n",
    "    ('Lehi Piero', 25, 5.5),\n",
    "    ('Albin Achan', 30, 5.8),\n",
    "    ('Zerach Hava', 35, 6.1),\n",
    "    ('Edmund Tereza', 40, 5.9),\n",
    "    ('Laura Felinus', 28, 5.7)\n",
    "], dtype=dtype)\n",
    "\n",
    "\n",
    "print(\"Original Structured Array:\")\n",
    "print(structured_array)\n",
    "\n",
    "# Calculate the average age of individuals\n",
    "average_age = np.mean(structured_array['age'])\n",
    "\n",
    "# Print the average age\n",
    "print(\"Average age of individuals:\")\n",
    "print(average_age)"
   ]
  },
  {
   "cell_type": "code",
   "execution_count": 15,
   "id": "a81702e8",
   "metadata": {},
   "outputs": [
    {
     "name": "stdout",
     "output_type": "stream",
     "text": [
      "\n",
      "Updated Structured Array after deleting the record where 'name' is 'Zerach':\n",
      "\n",
      "[('Lehi Piero', 25, 5.5) ('Albin Acha', 30, 5.8) ('Zerach Hav', 35, 6.1)\n",
      " ('Edmund Ter', 40, 5.9) ('Laura Feli', 28, 5.7)]\n"
     ]
    }
   ],
   "source": [
    "# Specify the name of the record to delete\n",
    "name_to_delete = 'Zerach'\n",
    "\n",
    "# Delete the record where 'name' is the specified name\n",
    "# Use a boolean mask to filter out the record with the specified name\n",
    "filtered_array = structured_array[structured_array['name'] != name_to_delete]\n",
    "\n",
    "# Print the updated structured array\n",
    "print(\"\\nUpdated Structured Array after deleting the record where 'name' is '{}':\\n\".format(name_to_delete))\n",
    "print(filtered_array)"
   ]
  },
  {
   "cell_type": "code",
   "execution_count": 16,
   "id": "dec64c07",
   "metadata": {},
   "outputs": [
    {
     "name": "stdout",
     "output_type": "stream",
     "text": [
      "Original Structured Array:\n",
      "[('Lehi Piero', 25, 5.5) ('Albin Acha', 30, 5.8) ('Zerach Hav', 35, 6.1)\n",
      " ('Edmund Ter', 40, 5.9) ('Laura Feli', 28, 5.7)]\n",
      "\n",
      "Updated Structured Array after deleting the record at index 2:\n",
      "[('Lehi Piero', 25, 5.5) ('Albin Acha', 30, 5.8) ('Edmund Ter', 40, 5.9)\n",
      " ('Laura Feli', 28, 5.7)]\n"
     ]
    }
   ],
   "source": [
    "print(\"Original Structured Array:\")\n",
    "print(structured_array)\n",
    "\n",
    "# Specify the index of the record to delete (in this case, 'Zerach')\n",
    "index_to_delete = 2\n",
    "\n",
    "# Delete the record at the specified index\n",
    "filtered_array = np.delete(structured_array, index_to_delete, axis=0)\n",
    "\n",
    "print(\"\\nUpdated Structured Array after deleting the record at index {}:\".format(index_to_delete))\n",
    "print(filtered_array)\n"
   ]
  },
  {
   "cell_type": "code",
   "execution_count": 17,
   "id": "e19860d1",
   "metadata": {},
   "outputs": [
    {
     "data": {
      "text/plain": [
       "array([('Lehi Piero', 25, 5.5), ('Albin Acha', 30, 5.8),\n",
       "       ('Zerach Hav', 35, 6.1), ('Edmund Ter', 40, 5.9),\n",
       "       ('Laura Feli', 28, 5.7)],\n",
       "      dtype=[('name', '<U10'), ('age', '<i4'), ('height', '<f4')])"
      ]
     },
     "execution_count": 17,
     "metadata": {},
     "output_type": "execute_result"
    }
   ],
   "source": [
    "structured_array"
   ]
  },
  {
   "cell_type": "code",
   "execution_count": 18,
   "id": "8ee484fd",
   "metadata": {},
   "outputs": [
    {
     "name": "stdout",
     "output_type": "stream",
     "text": [
      "Original Structured Array:\n",
      "[('Lehi Piero', 25, 5.5) ('Albin Acha', 30, 5.8) ('Zerach Hav', 35, 6.1)\n",
      " ('Edmund Ter', 40, 5.9) ('Laura Feli', 28, 5.7)]\n",
      "\n",
      "Updated Structured Array after deleting the record where 'name' is 'Zerach':\n",
      "\n",
      "[('Lehi Piero', 25, 5.5) ('Albin Acha', 30, 5.8) ('Zerach Hav', 35, 6.1)\n",
      " ('Edmund Ter', 40, 5.9) ('Laura Feli', 28, 5.7)]\n"
     ]
    }
   ],
   "source": [
    "print(\"Original Structured Array:\")\n",
    "print(structured_array)\n",
    "\n",
    "# Specify the name of the record to delete\n",
    "name_to_delete = 'Zerach'\n",
    "\n",
    "# Delete the record where 'name' is the specified name\n",
    "# Use a boolean mask to filter out the record with the specified name\n",
    "filtered_array = structured_array[structured_array['name'] != name_to_delete]\n",
    "\n",
    "# Print the updated structured array\n",
    "print(\"\\nUpdated Structured Array after deleting the record where 'name' is '{}':\\n\".format(name_to_delete))\n",
    "print(filtered_array)"
   ]
  },
  {
   "cell_type": "code",
   "execution_count": 19,
   "id": "2f13677c",
   "metadata": {},
   "outputs": [
    {
     "name": "stdout",
     "output_type": "stream",
     "text": [
      "Original Structured Array:\n",
      "[('Lehi Piero', 25, 5.5) ('Albin Acha', 30, 5.8) ('Zerach Hav', 35, 6.1)\n",
      " ('Edmund Ter', 40, 5.9) ('Laura Feli', 28, 5.7)]\n",
      "\n",
      "Updated Structured Array with 'age' field increased by 1:\n",
      "[('Lehi Piero', 26, 5.5) ('Albin Acha', 31, 5.8) ('Zerach Hav', 36, 6.1)\n",
      " ('Edmund Ter', 41, 5.9) ('Laura Feli', 29, 5.7)]\n"
     ]
    }
   ],
   "source": [
    "print(\"Original Structured Array:\")\n",
    "print(structured_array)\n",
    "\n",
    "# Increase the 'age' field by 1 for all individuals\n",
    "structured_array['age'] += 1\n",
    "\n",
    "# Print the updated structured array\n",
    "print(\"\\nUpdated Structured Array with 'age' field increased by 1:\")\n",
    "print(structured_array)"
   ]
  },
  {
   "cell_type": "code",
   "execution_count": 20,
   "id": "304a251e",
   "metadata": {},
   "outputs": [
    {
     "name": "stdout",
     "output_type": "stream",
     "text": [
      "Original Structured Arrays:\n",
      "[('Lehi', 25, 5.5) ('Albin', 30, 5.8)]\n",
      "[('Zerach', 35, 6.1) ('Edmund', 40, 5.9) ('Laura', 28, 5.7)]\n",
      "\n",
      "Combined Structured Array:\n",
      "[('Lehi', 25, 5.5) ('Albin', 30, 5.8) ('Zerach', 35, 6.1)\n",
      " ('Edmund', 40, 5.9) ('Laura', 28, 5.7)]\n"
     ]
    }
   ],
   "source": [
    "# Create the first structured array with sample data\n",
    "structured_array1 = np.array([\n",
    "    ('Lehi', 25, 5.5),\n",
    "    ('Albin', 30, 5.8)\n",
    "], dtype=dtype)\n",
    "\n",
    "# Create the second structured array with sample data\n",
    "structured_array2 = np.array([\n",
    "    ('Zerach', 35, 6.1),\n",
    "    ('Edmund', 40, 5.9),\n",
    "    ('Laura', 28, 5.7)\n",
    "], dtype=dtype)\n",
    "\n",
    "\n",
    "print(\"Original Structured Arrays:\")\n",
    "print(structured_array1)\n",
    "print(structured_array2)\n",
    "\n",
    "# Combine the two structured arrays into one\n",
    "combined_array = np.concatenate((structured_array1, structured_array2))\n",
    "\n",
    "# Print the combined structured array\n",
    "print(\"\\nCombined Structured Array:\")\n",
    "print(combined_array)"
   ]
  }
 ],
 "metadata": {
  "kernelspec": {
   "display_name": "Python 3 (ipykernel)",
   "language": "python",
   "name": "python3"
  },
  "language_info": {
   "codemirror_mode": {
    "name": "ipython",
    "version": 3
   },
   "file_extension": ".py",
   "mimetype": "text/x-python",
   "name": "python",
   "nbconvert_exporter": "python",
   "pygments_lexer": "ipython3",
   "version": "3.9.7"
  }
 },
 "nbformat": 4,
 "nbformat_minor": 5
}
