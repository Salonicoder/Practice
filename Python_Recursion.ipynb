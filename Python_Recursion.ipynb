{
 "cells": [
  {
   "cell_type": "code",
   "execution_count": 1,
   "id": "b901a995",
   "metadata": {},
   "outputs": [
    {
     "name": "stdout",
     "output_type": "stream",
     "text": [
      "24\n"
     ]
    }
   ],
   "source": [
    "# Define a function named list_sum that takes a list of numbers as input\n",
    "def list_sum(num_List):\n",
    "    # Check if the length of the input list is 1\n",
    "    if len(num_List) == 1:\n",
    "        # If the list has only one element, return that element\n",
    "        return num_List[0]\n",
    "    else:\n",
    "        # If the list has more than one element, return the sum of the first element\n",
    "        # and the result of recursively calling the list_sum function on the rest of the list\n",
    "        return num_List[0] + list_sum(num_List[1:])\n",
    "\n",
    "# Print the result of calling the list_sum function with the input [2, 4, 5, 6, 7]\n",
    "print(list_sum([2, 4, 5, 6, 7]))\n"
   ]
  },
  {
   "cell_type": "code",
   "execution_count": 2,
   "id": "141a1db3",
   "metadata": {},
   "outputs": [
    {
     "name": "stdout",
     "output_type": "stream",
     "text": [
      "B13\n"
     ]
    }
   ],
   "source": [
    "# Define a function named to_string that converts a number 'n' to a string representation\n",
    "# in a given 'base' using a character set \"0123456789ABCDEF\"\n",
    "def to_string(n, base):\n",
    "    # Define a character set for the conversion in hexadecimal format\n",
    "    conver_tString = \"0123456789ABCDEF\"\n",
    "    \n",
    "    # Check if the number 'n' is less than the specified base\n",
    "    if n < base:\n",
    "        # If 'n' is less than the base, return the corresponding character from the character set\n",
    "        return conver_tString[n]\n",
    "    else:\n",
    "        # If 'n' is greater than or equal to the base, recursively call the to_string function\n",
    "        # to convert the quotient (n // base) to a string and concatenate it with the remainder\n",
    "        # (n % base) represented in the character set\n",
    "        return to_string(n // base, base) + conver_tString[n % base]\n",
    "\n",
    "# Print the result of calling the to_string function with the input values 2835 and 16\n",
    "print(to_string(2835, 16))\n"
   ]
  }
 ],
 "metadata": {
  "kernelspec": {
   "display_name": "Python 3 (ipykernel)",
   "language": "python",
   "name": "python3"
  },
  "language_info": {
   "codemirror_mode": {
    "name": "ipython",
    "version": 3
   },
   "file_extension": ".py",
   "mimetype": "text/x-python",
   "name": "python",
   "nbconvert_exporter": "python",
   "pygments_lexer": "ipython3",
   "version": "3.9.7"
  }
 },
 "nbformat": 4,
 "nbformat_minor": 5
}
