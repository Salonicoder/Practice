{
 "cells": [
  {
   "cell_type": "code",
   "execution_count": 1,
   "id": "6265d221",
   "metadata": {},
   "outputs": [],
   "source": [
    "import numpy as np  # Import NumPy library\n",
    "from scipy.optimize import minimize  # Import minimize function from SciPy's optimize module"
   ]
  },
  {
   "cell_type": "code",
   "execution_count": 2,
   "id": "ac49f08e",
   "metadata": {},
   "outputs": [
    {
     "name": "stdout",
     "output_type": "stream",
     "text": [
      "Optimization Result:\n",
      "Minimum Value of the Function: -1.5404628057094931\n",
      "Point at Minimum: [-9.14856378e-01 -5.41948056e-08]\n",
      "Number of Iterations Performed: 8\n",
      "Convergence Status: True\n",
      "Optimization Message: Optimization terminated successfully.\n"
     ]
    }
   ],
   "source": [
    "# Define the function to be minimized\n",
    "def objective_function(x):\n",
    "    return x[0]**2 + x[1]**2 + 3 * np.sin(x[0]) * np.cos(x[1])\n",
    "\n",
    "# Generate a set of initial points\n",
    "initial_guess = np.array([1.0, 1.0])\n",
    "\n",
    "# Perform optimization using SciPy's minimize function\n",
    "result = minimize(objective_function, initial_guess, method='BFGS')\n",
    "\n",
    "# Print the optimization results\n",
    "print(\"Optimization Result:\")\n",
    "print(\"Minimum Value of the Function:\", result.fun)\n",
    "print(\"Point at Minimum:\", result.x)\n",
    "print(\"Number of Iterations Performed:\", result.nit)\n",
    "print(\"Convergence Status:\", result.success)\n",
    "print(\"Optimization Message:\", result.message)"
   ]
  },
  {
   "cell_type": "code",
   "execution_count": 3,
   "id": "449e77eb",
   "metadata": {},
   "outputs": [
    {
     "data": {
      "image/png": "[encoded data removed]",
      "text/plain": [
       "<Figure size 864x576 with 4 Axes>"
      ]
     },
     "metadata": {
      "needs_background": "light"
     },
     "output_type": "display_data"
    }
   ],
   "source": [
    "from scipy import ndimage  # Import ndimage module from SciPy\n",
    "import matplotlib.pyplot as plt  # Import matplotlib for plotting\n",
    "\n",
    "# Create a NumPy array representing a simple 2D image (e.g., a checkerboard pattern)\n",
    "def create_checkerboard(size=8):\n",
    "    \"\"\"Create a checkerboard pattern.\"\"\"\n",
    "    row_even = [1, 0] * size\n",
    "    row_odd = [0, 1] * size\n",
    "    board = []\n",
    "    for i in range(size):\n",
    "        if i % 2 == 0:\n",
    "            board.append(row_even)\n",
    "        else:\n",
    "            board.append(row_odd)\n",
    "    return np.array(board)\n",
    "\n",
    "# Generate a checkerboard image\n",
    "image = create_checkerboard(8)\n",
    "\n",
    "# Apply Gaussian filter to the image\n",
    "filtered_image = ndimage.gaussian_filter(image, sigma=1)\n",
    "\n",
    "# Apply Sobel filter for edge detection\n",
    "sobel_h = ndimage.sobel(image, axis=0)  # Horizontal edges\n",
    "sobel_v = ndimage.sobel(image, axis=1)  # Vertical edges\n",
    "sobel_combined = np.hypot(sobel_h, sobel_v)  # Combine both directions\n",
    "\n",
    "# Plot the original and processed images\n",
    "plt.figure(figsize=(12, 8))\n",
    "\n",
    "plt.subplot(2, 2, 1)\n",
    "plt.title(\"Original Image\")\n",
    "plt.imshow(image, cmap='gray', interpolation='nearest')\n",
    "plt.axis('off')\n",
    "\n",
    "plt.subplot(2, 2, 2)\n",
    "plt.title(\"Gaussian Filtered Image\")\n",
    "plt.imshow(filtered_image, cmap='gray', interpolation='nearest')\n",
    "plt.axis('off')\n",
    "\n",
    "plt.subplot(2, 2, 3)\n",
    "plt.title(\"Sobel Edge Detection (Horizontal)\")\n",
    "plt.imshow(sobel_h, cmap='gray', interpolation='nearest')\n",
    "plt.axis('off')\n",
    "\n",
    "plt.subplot(2, 2, 4)\n",
    "plt.title(\"Sobel Edge Detection (Combined)\")\n",
    "plt.imshow(sobel_combined, cmap='gray', interpolation='nearest')\n",
    "plt.axis('off')\n",
    "\n",
    "# Display the plots\n",
    "plt.tight_layout()\n",
    "plt.show()"
   ]
  }
 ],
 "metadata": {
  "kernelspec": {
   "display_name": "Python 3 (ipykernel)",
   "language": "python",
   "name": "python3"
  },
  "language_info": {
   "codemirror_mode": {
    "name": "ipython",
    "version": 3
   },
   "file_extension": ".py",
   "mimetype": "text/x-python",
   "name": "python",
   "nbconvert_exporter": "python",
   "pygments_lexer": "ipython3",
   "version": "3.9.7"
  }
 },
 "nbformat": 4,
 "nbformat_minor": 5
}
