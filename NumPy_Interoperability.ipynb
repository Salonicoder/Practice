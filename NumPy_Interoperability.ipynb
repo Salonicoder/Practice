{
 "cells": [
  {
   "cell_type": "code",
   "execution_count": 1,
   "id": "f0351c6a",
   "metadata": {},
   "outputs": [],
   "source": [
    "import numpy as np"
   ]
  },
  {
   "cell_type": "code",
   "execution_count": 7,
   "id": "b0343574",
   "metadata": {},
   "outputs": [],
   "source": [
    "import pandas as pd"
   ]
  },
  {
   "cell_type": "code",
   "execution_count": 2,
   "id": "72fc0bd5",
   "metadata": {},
   "outputs": [
    {
     "name": "stdout",
     "output_type": "stream",
     "text": [
      "Original array: [1, 2, 3, 4, 5]\n",
      "Type: <class 'list'>\n"
     ]
    }
   ],
   "source": [
    "# Initialize a Python list\n",
    "python_list = [1, 2, 3, 4, 5]\n",
    "print(\"Original array:\", python_list)\n",
    "print(\"Type:\", type(python_list))"
   ]
  },
  {
   "cell_type": "code",
   "execution_count": 3,
   "id": "75d6cba4",
   "metadata": {},
   "outputs": [
    {
     "name": "stdout",
     "output_type": "stream",
     "text": [
      "Print list to a numpy array:\n",
      "[1 2 3 4 5]\n",
      "Type: <class 'numpy.ndarray'>\n"
     ]
    }
   ],
   "source": [
    "# Convert the Python list to a numpy array\n",
    "numpy_array = np.array(python_list)\n",
    "print(\"Print list to a numpy array:\")\n",
    "\n",
    "# Print the NumPy array\n",
    "print(numpy_array)\n",
    "print(\"Type:\", type(numpy_array))"
   ]
  },
  {
   "cell_type": "code",
   "execution_count": 4,
   "id": "dc2b9502",
   "metadata": {},
   "outputs": [
    {
     "name": "stdout",
     "output_type": "stream",
     "text": [
      "Original NumPy array: [1 2 3 4 5]\n",
      "Type: <class 'numpy.ndarray'>\n",
      "\n",
      "Numpy array to a Python list:\n",
      "[1, 2, 3, 4, 5]\n",
      "Type: <class 'list'>\n"
     ]
    }
   ],
   "source": [
    "# Initialize a NumPy array\n",
    "numpy_array = np.array([1, 2, 3, 4, 5])\n",
    "print(\"Original NumPy array:\", numpy_array)\n",
    "print(\"Type:\", type(numpy_array))\n",
    "\n",
    "# Convert the NumPy array to a Python list \n",
    "python_list = numpy_array.tolist()\n",
    "print(\"\\nNumpy array to a Python list:\")\n",
    "\n",
    "# Print the Python list\n",
    "print(python_list)\n",
    "print(\"Type:\", type(python_list))"
   ]
  },
  {
   "cell_type": "code",
   "execution_count": 5,
   "id": "a0a66949",
   "metadata": {},
   "outputs": [
    {
     "name": "stdout",
     "output_type": "stream",
     "text": [
      "Original Python tuple: (1, 2, 3, 4, 5)\n",
      "Type <class 'tuple'>\n",
      "\n",
      "Python tuple to a NumPy array:\n",
      "[1 2 3 4 5]\n",
      "Type: <class 'numpy.ndarray'>\n"
     ]
    }
   ],
   "source": [
    "# Initialize a Python tuple\n",
    "python_tuple = (1, 2, 3, 4, 5)\n",
    "print(\"Original Python tuple:\", python_tuple)\n",
    "print(\"Type\", type(python_tuple))\n",
    "\n",
    "# Convert the Python tuple to a NumPy array\n",
    "numpy_array = np.array(python_tuple)\n",
    "print(\"\\nPython tuple to a NumPy array:\")\n",
    "\n",
    "# Print the NumPy array\n",
    "print(numpy_array)\n",
    "print(\"Type:\", type(numpy_array))"
   ]
  },
  {
   "cell_type": "code",
   "execution_count": 6,
   "id": "282750e0",
   "metadata": {},
   "outputs": [
    {
     "name": "stdout",
     "output_type": "stream",
     "text": [
      "Original NumPy array: [1 2 3 4 5]\n",
      "Type: <class 'numpy.ndarray'>\n",
      "\n",
      "NumPy array to a Python tuple:\n",
      "(1, 2, 3, 4, 5)\n",
      "Type: <class 'tuple'>\n"
     ]
    }
   ],
   "source": [
    "# Initialize a NumPy array\n",
    "numpy_array = np.array([1, 2, 3, 4, 5])\n",
    "print(\"Original NumPy array:\", numpy_array)\n",
    "print(\"Type:\", type(numpy_array))\n",
    "\n",
    "# Convert the NumPy array to a Python tuple\n",
    "python_tuple = tuple(numpy_array)\n",
    "\n",
    "print(\"\\nNumPy array to a Python tuple:\")\n",
    "# Print the Python tuple\n",
    "print(python_tuple)\n",
    "print(\"Type:\", type(python_tuple))"
   ]
  },
  {
   "cell_type": "code",
   "execution_count": 8,
   "id": "01dae1b4",
   "metadata": {},
   "outputs": [
    {
     "name": "stdout",
     "output_type": "stream",
     "text": [
      "Original Pandas DataFrame:    A   B    C\n",
      "0  1  10  100\n",
      "1  2  20  200\n",
      "2  3  30  300\n",
      "3  4  40  400\n",
      "4  5  50  500\n",
      "Type: <class 'pandas.core.frame.DataFrame'>\n",
      "\n",
      "Pandas DataFrame to a NumPy array:\n",
      "[[  1  10 100]\n",
      " [  2  20 200]\n",
      " [  3  30 300]\n",
      " [  4  40 400]\n",
      " [  5  50 500]]\n",
      "Type: <class 'numpy.ndarray'>\n"
     ]
    }
   ],
   "source": [
    "# Initialize a Pandas DataFrame\n",
    "data = {'A': [1, 2, 3, 4, 5],\n",
    "        'B': [10, 20, 30, 40, 50],\n",
    "        'C': [100, 200, 300, 400, 500]}\n",
    "df = pd.DataFrame(data)\n",
    "\n",
    "print(\"Original Pandas DataFrame:\", df)\n",
    "print(\"Type:\", type(df))\n",
    " \n",
    "# Convert the Pandas DataFrame to a NumPy array\n",
    "numpy_array = df.to_numpy()\n",
    "print(\"\\nPandas DataFrame to a NumPy array:\")\n",
    "# Print the NumPy array\n",
    "print(numpy_array)\n",
    "print(\"Type:\", type(numpy_array))"
   ]
  },
  {
   "cell_type": "code",
   "execution_count": 9,
   "id": "a41a51a9",
   "metadata": {},
   "outputs": [
    {
     "name": "stdout",
     "output_type": "stream",
     "text": [
      "Original NumPy array: [[1 2 3]\n",
      " [4 5 6]\n",
      " [7 8 9]]\n",
      "Type: <class 'numpy.ndarray'>\n",
      "\n",
      "NumPy array to a Pandas DataFrame\n",
      "   Column1  Column2  Column3\n",
      "0        1        2        3\n",
      "1        4        5        6\n",
      "2        7        8        9\n",
      "<class 'pandas.core.frame.DataFrame'>\n"
     ]
    }
   ],
   "source": [
    "# Initialize a NumPy array\n",
    "numpy_array = np.array([[1, 2, 3],\n",
    "                       [4, 5, 6],\n",
    "                       [7, 8, 9]])\n",
    "\n",
    "print(\"Original NumPy array:\", numpy_array)\n",
    "print(\"Type:\", type(numpy_array))\n",
    "\n",
    "# Convert the Numpy array to a Pandas DataFrame\n",
    "df = pd.DataFrame(numpy_array, columns=['Column1', 'Column2', 'Column3'])\n",
    "print(\"\\nNumPy array to a Pandas DataFrame\")\n",
    "# Print the Pandas DataFrame\n",
    "print(df)\n",
    "print(type(df))"
   ]
  },
  {
   "cell_type": "code",
   "execution_count": 11,
   "id": "e0e7207f",
   "metadata": {},
   "outputs": [
    {
     "name": "stdout",
     "output_type": "stream",
     "text": [
      "Original dictionary with numeric values: {'a': 1, 'b': 2, 'c': 3, 'd': 4, 'e': 5}\n",
      "Type: <class 'dict'>\n",
      "\n",
      "Dictionary values to a NumPy array\n",
      "[1 2 3 4 5]\n",
      "<class 'numpy.ndarray'>\n"
     ]
    }
   ],
   "source": [
    "# Initialize a dictionary with numeric values\n",
    "data_dict = {'a': 1, 'b': 2, 'c': 3, 'd': 4, 'e': 5}\n",
    "\n",
    "print(\"Original dictionary with numeric values:\",data_dict)\n",
    "print(\"Type:\",type(data_dict))\n",
    "\n",
    "# Convert the dictionary values to a NumPy array\n",
    "numpy_array = np.array(list(data_dict.values()))\n",
    "print(\"\\nDictionary values to a NumPy array\")\n",
    "\n",
    "# Print the NumPy array\n",
    "print(numpy_array)\n",
    "print(type(numpy_array))"
   ]
  },
  {
   "cell_type": "code",
   "execution_count": 12,
   "id": "643de64d",
   "metadata": {},
   "outputs": [
    {
     "name": "stdout",
     "output_type": "stream",
     "text": [
      "Original NumPy array: [10 20 30 40 50]\n",
      "Type: <class 'numpy.ndarray'>\n",
      "\n",
      "NumPy array to dictionary with indices as keys and elements as values:\n",
      "{0: 10, 1: 20, 2: 30, 3: 40, 4: 50}\n",
      "<class 'dict'>\n"
     ]
    }
   ],
   "source": [
    "# Create a NumPy array\n",
    "array = np.array([10, 20, 30, 40, 50])\n",
    "print(\"Original NumPy array:\",array)\n",
    "print(\"Type:\",type(array))\n",
    "\n",
    "# Convert NumpPy array to dictionary with indices as keys and elements as values\n",
    "array_dict = {index: value for index, value in enumerate(array)}\n",
    "print(\"\\nNumPy array to dictionary with indices as keys and elements as values:\")\n",
    "# Print the resulting dictionary \n",
    "print(array_dict)\n",
    "print(type(array_dict))"
   ]
  },
  {
   "cell_type": "code",
   "execution_count": 13,
   "id": "843a7b9a",
   "metadata": {},
   "outputs": [
    {
     "name": "stdout",
     "output_type": "stream",
     "text": [
      "Original nested Python list: [[1, 2, 3], [4, 5, 6], [7, 8, 9]]\n",
      "Type: <class 'list'>\n",
      "\n",
      "Nested list to a 2D NumPy array:\n",
      "[[1 2 3]\n",
      " [4 5 6]\n",
      " [7 8 9]]\n",
      "Type: <class 'numpy.ndarray'>\n"
     ]
    }
   ],
   "source": [
    "# Define a nested Python list\n",
    "nested_list = [[1, 2, 3], [4, 5, 6], [7, 8, 9]]\n",
    "print(\"Original nested Python list:\",nested_list)\n",
    "print(\"Type:\",type(nested_list))\n",
    "\n",
    "# Convert the nested list to a 2D NumPy array\n",
    "array_2d = np.array(nested_list)\n",
    "print(\"\\nNested list to a 2D NumPy array:\")\n",
    "\n",
    "# Print the 2D NumPy array\n",
    "print(array_2d)\n",
    "print(\"Type:\",type(array_2d))"
   ]
  },
  {
   "cell_type": "code",
   "execution_count": 14,
   "id": "38f3b667",
   "metadata": {},
   "outputs": [
    {
     "name": "stdout",
     "output_type": "stream",
     "text": [
      "Original 2D NumPy array: [[1 2 3]\n",
      " [4 5 6]\n",
      " [7 8 9]]\n",
      "Type: <class 'numpy.ndarray'>\n",
      "\n",
      "2D NumPy array to a nested Python list:\n",
      "[[1, 2, 3], [4, 5, 6], [7, 8, 9]]\n",
      "Type: <class 'list'>\n"
     ]
    }
   ],
   "source": [
    "# Create a 2D NumPy array\n",
    "array_2d = np.array([[1, 2, 3], [4, 5, 6], [7, 8, 9]])\n",
    "print(\"Original 2D NumPy array:\",array_2d)\n",
    "print(\"Type:\",type(array_2d))\n",
    "\n",
    "# Convert the 2D NumPy array to a nested Python list\n",
    "nested_list = array_2d.tolist()\n",
    "print(\"\\n2D NumPy array to a nested Python list:\")\n",
    "\n",
    "# Print the nested Python list\n",
    "print(nested_list)\n",
    "print(\"Type:\",type(nested_list))"
   ]
  }
 ],
 "metadata": {
  "kernelspec": {
   "display_name": "Python 3 (ipykernel)",
   "language": "python",
   "name": "python3"
  },
  "language_info": {
   "codemirror_mode": {
    "name": "ipython",
    "version": 3
   },
   "file_extension": ".py",
   "mimetype": "text/x-python",
   "name": "python",
   "nbconvert_exporter": "python",
   "pygments_lexer": "ipython3",
   "version": "3.9.7"
  }
 },
 "nbformat": 4,
 "nbformat_minor": 5
}
