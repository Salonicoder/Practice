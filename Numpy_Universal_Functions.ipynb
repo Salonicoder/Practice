{
 "cells": [
  {
   "cell_type": "code",
   "execution_count": 1,
   "id": "99142ab3",
   "metadata": {},
   "outputs": [],
   "source": [
    "import numpy as np"
   ]
  },
  {
   "cell_type": "code",
   "execution_count": 3,
   "id": "40a9df54",
   "metadata": {},
   "outputs": [
    {
     "name": "stdout",
     "output_type": "stream",
     "text": [
      "Original !D array: [1 2 3 4 5]\n",
      "Resulting array after applying add_ten_ufunc: [11 12 13 14 15]\n"
     ]
    }
   ],
   "source": [
    "# Define a custom ufunc that adds 10 to each element\n",
    "def add_ten(x):\n",
    "    return x + 10\n",
    "\n",
    "# Create a ufunc from the custom function using np.frompyfunc\n",
    "add_ten_ufunc = np.frompyfunc(add_ten, 1, 1)\n",
    "\n",
    "# Create a 1D NumPy array of integers\n",
    "array_1d = np.array([1, 2, 3, 4, 5])\n",
    "\n",
    "# Apply the custom ufunc to the 1D array\n",
    "result_array = add_ten_ufunc(array_1d)\n",
    "\n",
    "# Print the original array and the resulting array\n",
    "print('Original !D array:', array_1d)\n",
    "print('Resulting array after applying add_ten_ufunc:', result_array)"
   ]
  },
  {
   "cell_type": "code",
   "execution_count": 4,
   "id": "798ac27a",
   "metadata": {},
   "outputs": [
    {
     "name": "stdout",
     "output_type": "stream",
     "text": [
      "Original 2D array:\n",
      " [[39 83 47]\n",
      " [55 40 95]\n",
      " [53  6 43]]\n",
      "Square root of each element:\n",
      " [[6.244998   9.11043358 6.8556546 ]\n",
      " [7.41619849 6.32455532 9.74679434]\n",
      " [7.28010989 2.44948974 6.55743852]]\n"
     ]
    }
   ],
   "source": [
    "# Create a 2D NumPy array of shape (3, 3) with random integers\n",
    "array_2d = np.random.randint(1, 100, size=(3, 3))\n",
    "\n",
    "# Use the np.sqrt ufunc to compute the square root of each element in the array\n",
    "sqrt_array = np.sqrt(array_2d)\n",
    "\n",
    "# Print the original array and the resulting array\n",
    "print('Original 2D array:\\n', array_2d)\n",
    "print('Square root of each element:\\n', sqrt_array)"
   ]
  },
  {
   "cell_type": "code",
   "execution_count": 5,
   "id": "20d64b7f",
   "metadata": {},
   "outputs": [
    {
     "name": "stdout",
     "output_type": "stream",
     "text": [
      "Original 2D array:\n",
      " [[1 8 8]\n",
      " [3 0 0]\n",
      " [3 5 1]]\n",
      "1D array:\n",
      " [5 2 7]\n",
      "Resulting array after adding 1D array to each row of 2D array:\n",
      " [[ 6 10 15]\n",
      " [ 8  2  7]\n",
      " [ 8  7  8]]\n"
     ]
    }
   ],
   "source": [
    "# Create a 2D NumPy array of shape (3, 3) with random integers\n",
    "array_2d = np.random.randint(0, 10, size=(3, 3))\n",
    "\n",
    "# Create a 1D NumPy array with random integers\n",
    "array_1d = np.random.randint(0, 10, size=3)\n",
    "\n",
    "# Use the np.add ufunc to add the 1D array to each row of the 2d array\n",
    "result_array = np.add(array_2d, array_1d)\n",
    "\n",
    "# Print the original arrays and the resulting array\n",
    "print('Original 2D array:\\n', array_2d)\n",
    "print('1D array:\\n', array_1d)\n",
    "print('Resulting array after adding 1D array to each row of 2D array:\\n', result_array)"
   ]
  },
  {
   "cell_type": "code",
   "execution_count": 6,
   "id": "cf80da7a",
   "metadata": {},
   "outputs": [
    {
     "name": "stdout",
     "output_type": "stream",
     "text": [
      "Original 2D array 1:\n",
      " [[9 2 2]\n",
      " [8 8 3]\n",
      " [8 7 7]]\n",
      "Original 2D array 2:\n",
      " [[4 2 4]\n",
      " [3 4 2]\n",
      " [6 1 2]]\n",
      "Resulting array after element-wise multiplication:\n",
      " [[36  4  8]\n",
      " [24 32  6]\n",
      " [48  7 14]]\n"
     ]
    }
   ],
   "source": [
    "# Create two 2D NumPy arrays of the same shape (3,3) with random integers\n",
    "array_2d_1 = np.random.randint(0, 10, size=(3, 3))\n",
    "array_2d_2 = np.random.randint(0, 10, size=(3, 3))\n",
    "\n",
    "# Use the np.multiply ufunc to perform element-wise multiplication\n",
    "result_array = np.multiply(array_2d_1, array_2d_2)\n",
    "\n",
    "# Print the original arrays and the resulting array\n",
    "print('Original 2D array 1:\\n', array_2d_1)\n",
    "print('Original 2D array 2:\\n', array_2d_2)\n",
    "print('Resulting array after element-wise multiplication:\\n', result_array)"
   ]
  },
  {
   "cell_type": "code",
   "execution_count": 7,
   "id": "42f32b55",
   "metadata": {},
   "outputs": [
    {
     "name": "stdout",
     "output_type": "stream",
     "text": [
      "Original angles (radians):\n",
      " [0.         0.52359878 0.78539816 1.04719755 1.57079633]\n",
      "Sine values:\n",
      " [0.         0.5        0.70710678 0.8660254  1.        ]\n",
      "Cosine values:\n",
      " [1.00000000e+00 8.66025404e-01 7.07106781e-01 5.00000000e-01\n",
      " 6.12323400e-17]\n",
      "Tangent values:\n",
      " [0.00000000e+00 5.77350269e-01 1.00000000e+00 1.73205081e+00\n",
      " 1.63312394e+16]\n"
     ]
    }
   ],
   "source": [
    "# Create a 1D NumPy array of angles in radians\n",
    "angles = np.array([0, np.pi/6, np.pi/4, np.pi/3, np.pi/2])\n",
    "\n",
    "# Apply np.sin ufunc to the angles array\n",
    "sin_values = np.sin(angles)\n",
    "\n",
    "# Apply np.cos ufunc to the angles array\n",
    "cos_values = np.cos(angles)\n",
    "\n",
    "# Apply np.tan ufunc to the angles array\n",
    "tan_values = np.tan(angles)\n",
    "\n",
    "# Print the original angles array and the resulting arrays\n",
    "print('Original angles (radians):\\n', angles)\n",
    "print('Sine values:\\n', sin_values)\n",
    "print('Cosine values:\\n', cos_values)\n",
    "print('Tangent values:\\n', tan_values)"
   ]
  },
  {
   "cell_type": "code",
   "execution_count": 8,
   "id": "9e9633a0",
   "metadata": {},
   "outputs": [
    {
     "name": "stdout",
     "output_type": "stream",
     "text": [
      "Array 1:\n",
      " [1 2 3 4 5]\n",
      "Array 2:\n",
      " [10 20 30 40 50]\n",
      "Condition array:\n",
      " [ True False  True False  True]\n",
      "Resulting array using np.where:\n",
      " [ 1 20  3 40  5]\n"
     ]
    }
   ],
   "source": [
    "# Create three 1D NumPy arrays\n",
    "array_1 = np.array([1, 2, 3, 4, 5])\n",
    "array_2 = np.array([10, 20, 30, 40, 50])\n",
    "condition_array = np.array([True, False, True, False, True])\n",
    "\n",
    "# Use np.where ufunc to create a new array based on the condition\n",
    "result_array = np.where(condition_array, array_1, array_2)\n",
    "\n",
    "# Print the original arrays and the resulting array\n",
    "print('Array 1:\\n', array_1)\n",
    "print('Array 2:\\n', array_2)\n",
    "print('Condition array:\\n', condition_array)\n",
    "print('Resulting array using np.where:\\n', result_array)"
   ]
  }
 ],
 "metadata": {
  "kernelspec": {
   "display_name": "Python 3 (ipykernel)",
   "language": "python",
   "name": "python3"
  },
  "language_info": {
   "codemirror_mode": {
    "name": "ipython",
    "version": 3
   },
   "file_extension": ".py",
   "mimetype": "text/x-python",
   "name": "python",
   "nbconvert_exporter": "python",
   "pygments_lexer": "ipython3",
   "version": "3.9.7"
  }
 },
 "nbformat": 4,
 "nbformat_minor": 5
}
