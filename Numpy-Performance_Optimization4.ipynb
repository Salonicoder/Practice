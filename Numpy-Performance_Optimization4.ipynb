{
 "cells": [
  {
   "cell_type": "code",
   "execution_count": 1,
   "id": "2e73141b",
   "metadata": {},
   "outputs": [],
   "source": [
    "import numpy as np"
   ]
  },
  {
   "cell_type": "code",
   "execution_count": 2,
   "id": "e6560027",
   "metadata": {},
   "outputs": [
    {
     "name": "stdout",
     "output_type": "stream",
     "text": [
      "Outer product using for loops (first 10x10 elements):\n",
      "[[164280 283272 243904 251304 175528  42920  63640 253376 245680 181448]\n",
      " [513930 886182 763024 786174 549118 134270 199090 792656 768580 567638]\n",
      " [107670 185658 159856 164706 115042  28130  41710 166064 161020 118922]\n",
      " [143190 246906 212592 219042 152994  37410  55470 220848 214140 158154]\n",
      " [109890 189486 163152 168102 117414  28710  42570 169488 164340 121374]\n",
      " [ 94905 163647 140904 145179 101403  24795  36765 146376 141930 104823]\n",
      " [301920 520608 448256 461856 322592  78880 116960 465664 451520 333472]\n",
      " [168720 290928 250496 258096 180272  44080  65360 260224 252320 186352]\n",
      " [400155 689997 594104 612129 427553 104545 155015 617176 598430 441973]\n",
      " [244755 422037 363384 374409 261513  63945  94815 377496 366030 270333]]\n",
      "Outer product using NumPy (first 10x10 elements):\n",
      "[[164280 283272 243904 251304 175528  42920  63640 253376 245680 181448]\n",
      " [513930 886182 763024 786174 549118 134270 199090 792656 768580 567638]\n",
      " [107670 185658 159856 164706 115042  28130  41710 166064 161020 118922]\n",
      " [143190 246906 212592 219042 152994  37410  55470 220848 214140 158154]\n",
      " [109890 189486 163152 168102 117414  28710  42570 169488 164340 121374]\n",
      " [ 94905 163647 140904 145179 101403  24795  36765 146376 141930 104823]\n",
      " [301920 520608 448256 461856 322592  78880 116960 465664 451520 333472]\n",
      " [168720 290928 250496 258096 180272  44080  65360 260224 252320 186352]\n",
      " [400155 689997 594104 612129 427553 104545 155015 617176 598430 441973]\n",
      " [244755 422037 363384 374409 261513  63945  94815 377496 366030 270333]]\n"
     ]
    }
   ],
   "source": [
    "# Generate two large 1D NumPy arrays with random integers\n",
    "array1 = np.random.randint(1, 1000, size=1000)\n",
    "array2 = np.random.randint(1, 1000, size=1000)\n",
    "\n",
    "# Function to calculate the outer product using nested for loops\n",
    "def outer_product_with_loops(arr1, arr2):\n",
    "    result = np.empty((len(arr1), len(arr2)), dtype=int)\n",
    "    for i in range(len(arr1)):\n",
    "        for j in range(len(arr2)):\n",
    "            result[i, j] = arr1[i] * arr2[j]\n",
    "    return result\n",
    "\n",
    "# Calculate the outer product using the nested for loops method\n",
    "outer_with_loops = outer_product_with_loops(array1, array2)\n",
    "\n",
    "# Calculate the outer product using NumPy's outer() function\n",
    "outer_with_numpy = np.outer(array1, array2)\n",
    "\n",
    "# Display the first 10x10 section of the result to verify\n",
    "print(\"Outer product using for loops (first 10x10 elements):\")\n",
    "print(outer_with_loops[:10, :10])\n",
    "\n",
    "print(\"Outer product using NumPy (first 10x10 elements):\")\n",
    "print(outer_with_numpy[:10, :10])"
   ]
  },
  {
   "cell_type": "code",
   "execution_count": 3,
   "id": "8f41b07e",
   "metadata": {},
   "outputs": [
    {
     "name": "stdout",
     "output_type": "stream",
     "text": [
      "Variance using for loop: 83142.20872364442\n",
      "Variance using NumPy: 83142.20872365095\n"
     ]
    }
   ],
   "source": [
    "# Generate a large 1D NumPy array with random integers\n",
    "large_array = np.random.randint(1, 1000, size=1000000)\n",
    "\n",
    "# Function to compute variance using a for loop\n",
    "def variance_with_loop(arr):\n",
    "    mean = np.mean(arr)  # Calculate the mean of the array\n",
    "    variance = 0\n",
    "    for i in range(len(arr)):\n",
    "        variance += (arr[i] - mean) ** 2\n",
    "    variance /= len(arr)  # Divide by the number of elements to get the variance\n",
    "    return variance\n",
    "\n",
    "# Compute variance using the for loop method\n",
    "variance_with_loop_result = variance_with_loop(large_array)\n",
    "\n",
    "# Compute variance using NumPy's built-in var() function\n",
    "variance_with_numpy = np.var(large_array)\n",
    "\n",
    "# Display the results\n",
    "print(f\"Variance using for loop: {variance_with_loop_result}\")\n",
    "print(f\"Variance using NumPy: {variance_with_numpy}\")"
   ]
  },
  {
   "cell_type": "code",
   "execution_count": 4,
   "id": "65330609",
   "metadata": {},
   "outputs": [
    {
     "name": "stdout",
     "output_type": "stream",
     "text": [
      "Matrix product using for loops (first 5x5 elements):\n",
      "[[1235763. 1226928. 1236034. 1223299. 1271346.]\n",
      " [1235504. 1180010. 1262045. 1241707. 1270678.]\n",
      " [1190945. 1181670. 1197489. 1198292. 1235333.]\n",
      " [1233772. 1240787. 1238815. 1221594. 1281075.]\n",
      " [1235239. 1228222. 1237097. 1207206. 1257879.]]\n",
      "Matrix product using NumPy (first 5x5 elements):\n",
      "[[1235763 1226928 1236034 1223299 1271346]\n",
      " [1235504 1180010 1262045 1241707 1270678]\n",
      " [1190945 1181670 1197489 1198292 1235333]\n",
      " [1233772 1240787 1238815 1221594 1281075]\n",
      " [1235239 1228222 1237097 1207206 1257879]]\n"
     ]
    }
   ],
   "source": [
    "# Generate two large 2D NumPy arrays with random integers\n",
    "array1 = np.random.randint(1, 100, size=(500, 500))\n",
    "array2 = np.random.randint(1, 100, size=(500, 500))\n",
    "\n",
    "# Function to calculate the matrix product using nested for loops\n",
    "def matrix_product_with_loops(A, B):\n",
    "    result = np.zeros((A.shape[0], B.shape[1]))\n",
    "    for i in range(A.shape[0]):\n",
    "        for j in range(B.shape[1]):\n",
    "            for k in range(A.shape[1]):\n",
    "                result[i, j] += A[i, k] * B[k, j]\n",
    "    return result\n",
    "\n",
    "# Calculate the matrix product using the nested for loops method\n",
    "product_with_loops = matrix_product_with_loops(array1, array2)\n",
    "\n",
    "# Calculate the matrix product using NumPy's matmul() function\n",
    "product_with_numpy = np.matmul(array1, array2)\n",
    "\n",
    "# Display first 5x5 section of the result to verify\n",
    "print(\"Matrix product using for loops (first 5x5 elements):\")\n",
    "print(product_with_loops[:5, :5])\n",
    "\n",
    "print(\"Matrix product using NumPy (first 5x5 elements):\")\n",
    "print(product_with_numpy[:5, :5])"
   ]
  },
  {
   "cell_type": "code",
   "execution_count": 5,
   "id": "4267178c",
   "metadata": {},
   "outputs": [
    {
     "name": "stdout",
     "output_type": "stream",
     "text": [
      "First 10 elements of the array reversed using for loop:\n",
      "[ 12461 527041 704880 554220 523678 283159 915335 975670 954264 169906]\n",
      "First 10 elements of the array reversed using NumPy slicing:\n",
      "[ 12461 527041 704880 554220 523678 283159 915335 975670 954264 169906]\n"
     ]
    }
   ],
   "source": [
    "# Generate a large 1D NumPy array with random integers\n",
    "large_array = np.random.randint(1, 1000000, size=1000000)\n",
    "\n",
    "# Function to reverse the array using a for loop\n",
    "def reverse_with_loop(arr):\n",
    "    reversed_array = np.empty_like(arr)\n",
    "    for i in range(len(arr)):\n",
    "        reversed_array[i] = arr[len(arr) - 1 - i]\n",
    "    return reversed_array\n",
    "\n",
    "# Reverse the array using the for loop method\n",
    "reversed_with_loop = reverse_with_loop(large_array)\n",
    "\n",
    "# Reverse the array using NumPy's slicing operations\n",
    "reversed_with_numpy = large_array[::-1]\n",
    "\n",
    "# Display first 10 elements of the reversed arrays to verify\n",
    "print(\"First 10 elements of the array reversed using for loop:\")\n",
    "print(reversed_with_loop[:10])\n",
    "\n",
    "print(\"First 10 elements of the array reversed using NumPy slicing:\")\n",
    "print(reversed_with_numpy[:10])"
   ]
  }
 ],
 "metadata": {
  "kernelspec": {
   "display_name": "Python 3 (ipykernel)",
   "language": "python",
   "name": "python3"
  },
  "language_info": {
   "codemirror_mode": {
    "name": "ipython",
    "version": 3
   },
   "file_extension": ".py",
   "mimetype": "text/x-python",
   "name": "python",
   "nbconvert_exporter": "python",
   "pygments_lexer": "ipython3",
   "version": "3.9.7"
  }
 },
 "nbformat": 4,
 "nbformat_minor": 5
}
