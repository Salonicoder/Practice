{
 "cells": [
  {
   "cell_type": "code",
   "execution_count": 1,
   "id": "95b3bb63",
   "metadata": {},
   "outputs": [],
   "source": [
    "import numpy as np  # Import NumPy library\n",
    "from scipy.spatial.distance import euclidean, cityblock, cosine, hamming  # Import distance functions from SciPy\n"
   ]
  },
  {
   "cell_type": "code",
   "execution_count": 2,
   "id": "4c3b65b3",
   "metadata": {},
   "outputs": [
    {
     "name": "stdout",
     "output_type": "stream",
     "text": [
      "Euclidean Distance between point1 and point2: 5.196152422706632\n",
      "Manhattan Distance between point1 and point2: 9\n",
      "Cosine Distance between point1 and point2: 0.0253681538029239\n",
      "Hamming Distance between point1 and point2: 1.0\n"
     ]
    }
   ],
   "source": [
    "# Create a dataset using NumPy\n",
    "data = np.array([\n",
    "    [1, 2, 3],\n",
    "    [4, 5, 6],\n",
    "    [7, 8, 9],\n",
    "    [2, 2, 2]\n",
    "])\n",
    "\n",
    "# Select two points from the dataset to compute distances\n",
    "point1 = data[0]\n",
    "point2 = data[1]\n",
    "\n",
    "# Compute Euclidean distance\n",
    "euclidean_distance = euclidean(point1, point2)\n",
    "\n",
    "# Compute Manhattan (Cityblock) distance\n",
    "manhattan_distance = cityblock(point1, point2)\n",
    "\n",
    "# Compute Cosine distance\n",
    "cosine_distance = cosine(point1, point2)\n",
    "\n",
    "# Compute Hamming distance\n",
    "hamming_distance = hamming(point1, point2)\n",
    "\n",
    "# Print the distances\n",
    "print(\"Euclidean Distance between point1 and point2:\", euclidean_distance)\n",
    "print(\"Manhattan Distance between point1 and point2:\", manhattan_distance)\n",
    "print(\"Cosine Distance between point1 and point2:\", cosine_distance)\n",
    "print(\"Hamming Distance between point1 and point2:\", hamming_distance)"
   ]
  }
 ],
 "metadata": {
  "kernelspec": {
   "display_name": "Python 3 (ipykernel)",
   "language": "python",
   "name": "python3"
  },
  "language_info": {
   "codemirror_mode": {
    "name": "ipython",
    "version": 3
   },
   "file_extension": ".py",
   "mimetype": "text/x-python",
   "name": "python",
   "nbconvert_exporter": "python",
   "pygments_lexer": "ipython3",
   "version": "3.9.7"
  }
 },
 "nbformat": 4,
 "nbformat_minor": 5
}
