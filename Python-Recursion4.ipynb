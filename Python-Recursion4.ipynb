{
 "cells": [
  {
   "cell_type": "code",
   "execution_count": 1,
   "id": "92b34c16",
   "metadata": {},
   "outputs": [
    {
     "name": "stdout",
     "output_type": "stream",
     "text": [
      "1.9921875\n",
      "1.9375\n"
     ]
    }
   ],
   "source": [
    "# Define a function named geometric_sum that calculates the geometric sum up to 'n' terms\n",
    "def geometric_sum(n):\n",
    "    # Check if 'n' equals 0, which is the base case for the geometric sum\n",
    "    if n == 0:  # Corrected base case condition\n",
    "        # If 'n' equals 0, return 1 as the geometric sum in this case is 1\n",
    "        return 1\n",
    "    else:\n",
    "        # If 'n' is not 0, calculate the term in the geometric series (1 / 2^n) and add it to\n",
    "        # the result of recursively calling the geometric_sum function with 'n - 1'\n",
    "        return 1 / (pow(2, n)) + geometric_sum(n - 1)\n",
    "# Print the result of calling the geometric_sum function with the input value 7\n",
    "print(geometric_sum(7))\n",
    "# Print the result of calling the geometric_sum function with the input value 4\n",
    "print(geometric_sum(4))\n"
   ]
  },
  {
   "cell_type": "code",
   "execution_count": 2,
   "id": "1c855378",
   "metadata": {},
   "outputs": [
    {
     "name": "stdout",
     "output_type": "stream",
     "text": [
      "81\n"
     ]
    }
   ],
   "source": [
    "# Define a function named power that calculates the result of 'a' raised to the power of 'b'\n",
    "def power(a, b):\n",
    "    # Check if 'b' is 0 (base case for power function)\n",
    "    if b == 0:\n",
    "        # If 'b' is 0, return 1 (any number raised to the power of 0 is 1)\n",
    "        return 1\n",
    "    # Check if 'a' is 0 (base case for power function)\n",
    "    elif a == 0:\n",
    "        # If 'a' is 0, return 0 (0 raised to any power is 0)\n",
    "        return 0\n",
    "    # Check if 'b' is 1 (base case for power function)\n",
    "    elif b == 1:\n",
    "        # If 'b' is 1, return 'a' (any number raised to the power of 1 is the number itself)\n",
    "        return a\n",
    "    else:\n",
    "        # If none of the base cases is met, recursively call the power function\n",
    "        # to calculate 'a' multiplied by the result of 'a' raised to the power of 'b-1'\n",
    "        return a * power(a, b - 1)\n",
    "\n",
    "# Print the result of calling the power function with the input values 3 and 4\n",
    "print(power(3, 4))\n"
   ]
  },
  {
   "cell_type": "code",
   "execution_count": 3,
   "id": "9e2f5d43",
   "metadata": {},
   "outputs": [
    {
     "name": "stdout",
     "output_type": "stream",
     "text": [
      "2\n"
     ]
    }
   ],
   "source": [
    "# Define a function named Recurgcd that calculates the greatest common divisor (GCD)\n",
    "# of two numbers 'a' and 'b' using recursion and the Euclidean algorithm\n",
    "def Recurgcd(a, b):\n",
    "    # Determine the lower and higher values between 'a' and 'b'\n",
    "    low = min(a, b)\n",
    "    high = max(a, b)\n",
    "\n",
    "    # Check if the lower value is 0 (base case for GCD calculation)\n",
    "    if low == 0:\n",
    "        # If the lower value is 0, return the higher value (GCD is the non-zero value)\n",
    "        return high\n",
    "    # Check if the lower value is 1 (base case for GCD calculation)\n",
    "    elif low == 1:\n",
    "        # If the lower value is 1, return 1 (GCD of any number with 1 is 1)\n",
    "        return 1\n",
    "    else:\n",
    "        # If neither base case is met, recursively call the Recurgcd function\n",
    "        # with the lower value and the remainder of the higher value divided by the lower value\n",
    "        return Recurgcd(low, high % low)\n",
    "\n",
    "# Print the result of calling the Recurgcd function with the input values 12 and 14\n",
    "print(Recurgcd(12, 14))\n"
   ]
  }
 ],
 "metadata": {
  "kernelspec": {
   "display_name": "Python 3 (ipykernel)",
   "language": "python",
   "name": "python3"
  },
  "language_info": {
   "codemirror_mode": {
    "name": "ipython",
    "version": 3
   },
   "file_extension": ".py",
   "mimetype": "text/x-python",
   "name": "python",
   "nbconvert_exporter": "python",
   "pygments_lexer": "ipython3",
   "version": "3.9.7"
  }
 },
 "nbformat": 4,
 "nbformat_minor": 5
}
