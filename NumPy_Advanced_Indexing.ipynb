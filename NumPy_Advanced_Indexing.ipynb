{
 "cells": [
  {
   "cell_type": "code",
   "execution_count": 1,
   "id": "2ee740bc",
   "metadata": {},
   "outputs": [],
   "source": [
    "import numpy as np"
   ]
  },
  {
   "cell_type": "code",
   "execution_count": 2,
   "id": "61dae1f3",
   "metadata": {},
   "outputs": [
    {
     "name": "stdout",
     "output_type": "stream",
     "text": [
      "Original 2D array:\n",
      " [[58 99 88 98 67]\n",
      " [81 36 52 98 87]\n",
      " [63 57  1 72 43]\n",
      " [19 29 60 83 98]\n",
      " [84 61 46 44 88]]\n",
      "\n",
      "Elements greater than 50:\n",
      " [58 99 88 98 67 81 52 98 87 63 57 72 60 83 98 84 61 88]\n"
     ]
    }
   ],
   "source": [
    "# Create a 2D NumPy array of random integers\n",
    "array_2d = np.random.randint(0, 100, size=(5, 5))\n",
    "\n",
    "# Specify the value for boolean indexing\n",
    "threshold = 50\n",
    "\n",
    "# Use boolean indexing to select elements greater than the threshold\n",
    "selected_elements = array_2d[array_2d > threshold]\n",
    "\n",
    "# Print the original array and the selected elements\n",
    "print('Original 2D array:\\n', array_2d)\n",
    "print(f'\\nElements greater than {threshold}:\\n', selected_elements)"
   ]
  },
  {
   "cell_type": "code",
   "execution_count": 3,
   "id": "52dc40c0",
   "metadata": {},
   "outputs": [
    {
     "name": "stdout",
     "output_type": "stream",
     "text": [
      "Original 1D array:\n",
      " [ 10  20  30  40  50  60  70  80  90 100]\n",
      "Index array:\n",
      " [0 2 4 6 8]\n",
      "Selected elements:\n",
      " [10 30 50 70 90]\n"
     ]
    }
   ],
   "source": [
    "# Create a 1D NumPy array\n",
    "array_1d = np.array([10, 20, 30, 40, 50, 60, 70, 80, 90, 100])\n",
    "\n",
    "# Define an index array to select specific elements\n",
    "index_array = np.array([0, 2, 4, 6, 8])\n",
    "\n",
    "# Use integer array indexing to select elements\n",
    "selected_elements = array_1d[index_array]\n",
    "\n",
    "# Print the original array and the selected elements\n",
    "print('Original 1D array:\\n', array_1d)\n",
    "print('Index array:\\n', index_array)\n",
    "print('Selected elements:\\n', selected_elements)"
   ]
  },
  {
   "cell_type": "code",
   "execution_count": 4,
   "id": "c6ea3fc6",
   "metadata": {},
   "outputs": [
    {
     "name": "stdout",
     "output_type": "stream",
     "text": [
      "Original 3D array:\n",
      " [[[80 32 37 94 90]\n",
      "  [87 82 42  9 38]\n",
      "  [40 35 62 72 96]\n",
      "  [68 94 49 71 85]]\n",
      "\n",
      " [[80 87 47 19 59]\n",
      "  [12 70 94 86 62]\n",
      "  [19 92 26 26 23]\n",
      "  [42 63 43 74 77]]\n",
      "\n",
      " [[54 59  3 43 26]\n",
      "  [89 16 29 35 81]\n",
      "  [26 91 83 37  6]\n",
      "  [77 95 23 42 47]]]\n",
      "Row indices:\n",
      " [0 1 2]\n",
      "Column indices:\n",
      " [1 2 3]\n",
      "Selected elements:\n",
      " [[[87 82 42  9 38]\n",
      "  [40 35 62 72 96]\n",
      "  [68 94 49 71 85]]\n",
      "\n",
      " [[12 70 94 86 62]\n",
      "  [19 92 26 26 23]\n",
      "  [42 63 43 74 77]]\n",
      "\n",
      " [[89 16 29 35 81]\n",
      "  [26 91 83 37  6]\n",
      "  [77 95 23 42 47]]]\n"
     ]
    }
   ],
   "source": [
    "# Create a 3D NumPy array of shape (3, 4, 5)\n",
    "array_3d = np.random.randint(0, 100, size=(3, 4, 5))\n",
    "\n",
    "# Define the row and column indices to select specific elements\n",
    "row_indices = np.array([0, 1, 2])\n",
    "col_indices = np.array([1, 2, 3])\n",
    "\n",
    "# Use fancy indexing to select elements from specific rows and columns\n",
    "selected_elements = array_3d[row_indices[:, np.newaxis], col_indices]\n",
    "\n",
    "# Print the original 3D array and the selected elements\n",
    "print('Original 3D array:\\n', array_3d)\n",
    "print('Row indices:\\n', row_indices)\n",
    "print('Column indices:\\n', col_indices)\n",
    "print('Selected elements:\\n', selected_elements)"
   ]
  },
  {
   "cell_type": "code",
   "execution_count": 5,
   "id": "f430654d",
   "metadata": {},
   "outputs": [
    {
     "name": "stdout",
     "output_type": "stream",
     "text": [
      "Original 4D array shape: (3, 4, 5, 6)\n",
      "Selected subarray shape: (2, 3, 4, 5)\n",
      "Selected subarray:\n",
      " [[[[90 84 37 89  4]\n",
      "   [53 23 54 77 23]\n",
      "   [59 79 32 92 77]\n",
      "   [59 67 60 86 92]]\n",
      "\n",
      "  [[98 45 77 16  2]\n",
      "   [ 9 41 71 24 91]\n",
      "   [ 9 69  7 68 90]\n",
      "   [76 75 88 39 28]]\n",
      "\n",
      "  [[13 45 63 27 44]\n",
      "   [26  1 14 35  2]\n",
      "   [29 42 35 30 61]\n",
      "   [ 9 98  2 81 57]]]\n",
      "\n",
      "\n",
      " [[[66 51 51 29 10]\n",
      "   [26 36 87 53 45]\n",
      "   [74  2 93 30 27]\n",
      "   [86 41 53 65 85]]\n",
      "\n",
      "  [[26 54 16 55  9]\n",
      "   [63  5 42 60 22]\n",
      "   [78 45 65 36 33]\n",
      "   [93 66 17 50 89]]\n",
      "\n",
      "  [[ 1  2  6 21 39]\n",
      "   [78 83 89  2 46]\n",
      "   [43 20 80  5 90]\n",
      "   [12 93 50 21 73]]]]\n"
     ]
    }
   ],
   "source": [
    "# Create a 4D NumPy array of shape (3, 4, 5, 6) with random integers\n",
    "array_4d = np.random.randint(0, 100, size=(3, 4, 5, 6))\n",
    "\n",
    "# Use multi-dimensional indexing to select a subarray\n",
    "# For example, select all elements from the first two blocks, \n",
    "# first three rows, first four columns, and first five depth slices\n",
    "subarray = array_4d[:2, :3, :4, :5]\n",
    "\n",
    "# Print the shape of the original 4D array and the selected subarray\n",
    "print('Original 4D array shape:', array_4d.shape)\n",
    "print('Selected subarray shape:', subarray.shape)\n",
    "print('Selected subarray:\\n', subarray)"
   ]
  },
  {
   "cell_type": "code",
   "execution_count": 6,
   "id": "9aea6d79",
   "metadata": {},
   "outputs": [
    {
     "name": "stdout",
     "output_type": "stream",
     "text": [
      "Original 2D array:\n",
      " [[0.91602485 0.59843137 0.26280449 0.11673285 0.49123066]\n",
      " [0.57549623 0.13232003 0.61501489 0.71050658 0.08190488]\n",
      " [0.38600119 0.49581171 0.48929303 0.9058963  0.27795295]\n",
      " [0.31764742 0.87240137 0.69704223 0.69942109 0.04257376]\n",
      " [0.30034592 0.53305308 0.35934348 0.83867855 0.78956166]]\n",
      "Elements greater than 0.5 and less than 0.8:\n",
      " [0.59843137 0.57549623 0.61501489 0.71050658 0.69704223 0.69942109\n",
      " 0.53305308 0.78956166]\n"
     ]
    }
   ],
   "source": [
    "# Create a 2D NumPy array of random floats between 0 and 1\n",
    "array_2d = np.random.rand(5, 5)\n",
    "\n",
    "# Define the conditions\n",
    "condition1 = array_2d > 0.5\n",
    "condition2 = array_2d < 0.8\n",
    "\n",
    "# Use boolean indexing to select elements that satisfy both conditions\n",
    "selected_elements = array_2d[condition1 & condition2]\n",
    "\n",
    "# Print the original array and the selected elements\n",
    "print('Original 2D array:\\n', array_2d)\n",
    "print('Elements greater than 0.5 and less than 0.8:\\n', selected_elements)"
   ]
  }
 ],
 "metadata": {
  "kernelspec": {
   "display_name": "Python 3 (ipykernel)",
   "language": "python",
   "name": "python3"
  },
  "language_info": {
   "codemirror_mode": {
    "name": "ipython",
    "version": 3
   },
   "file_extension": ".py",
   "mimetype": "text/x-python",
   "name": "python",
   "nbconvert_exporter": "python",
   "pygments_lexer": "ipython3",
   "version": "3.9.7"
  }
 },
 "nbformat": 4,
 "nbformat_minor": 5
}
