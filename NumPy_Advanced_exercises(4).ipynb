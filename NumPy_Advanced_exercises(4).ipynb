{
 "cells": [
  {
   "cell_type": "code",
   "execution_count": 3,
   "id": "27f5c8b0",
   "metadata": {},
   "outputs": [
    {
     "name": "stdout",
     "output_type": "stream",
     "text": [
      "4x4 Array:\n",
      " [[0.37661607 0.65082002 0.51335036 0.08388906]\n",
      " [0.538288   0.03538499 0.96142442 0.72191792]\n",
      " [0.33314527 0.44230732 0.58458579 0.05425012]\n",
      " [0.41694462 0.17589933 0.94634224 0.25129132]]\n",
      "Lower Triangular Part of the Array:\n",
      " [[0.37661607 0.         0.         0.        ]\n",
      " [0.538288   0.03538499 0.         0.        ]\n",
      " [0.33314527 0.44230732 0.58458579 0.        ]\n",
      " [0.41694462 0.17589933 0.94634224 0.25129132]]\n"
     ]
    }
   ],
   "source": [
    "# Importing the necessary NumPy library\n",
    "import numpy as np\n",
    "\n",
    "# Create a 4x4 array with random values\n",
    "array = np.random.rand(4, 4)\n",
    "\n",
    "# Extract the lower triangular part of the matrix\n",
    "lower_triangular = np.tril(array)\n",
    "\n",
    "# Printing the original array and its lower triangular part\n",
    "print(\"4x4 Array:\\n\", array)\n",
    "print(\"Lower Triangular Part of the Array:\\n\", lower_triangular)\n"
   ]
  },
  {
   "cell_type": "code",
   "execution_count": 4,
   "id": "e81d1123",
   "metadata": {},
   "outputs": [
    {
     "name": "stdout",
     "output_type": "stream",
     "text": [
      "6x6 Array:\n",
      " [[0.46178053 0.99593209 0.5813682  0.71874916 0.50258411 0.94629809]\n",
      " [0.51673859 0.99074758 0.5260923  0.69423014 0.49567103 0.21348414]\n",
      " [0.77662892 0.72822022 0.90607902 0.9789338  0.31894915 0.80687424]\n",
      " [0.34416612 0.57620517 0.10046543 0.44426497 0.19053911 0.07154814]\n",
      " [0.74011076 0.04528928 0.94214075 0.70128194 0.04520755 0.51906232]\n",
      " [0.87224819 0.54477902 0.95364972 0.94560826 0.52737741 0.01621188]]\n",
      "Rank of the array:\n",
      " 6\n"
     ]
    }
   ],
   "source": [
    "# Create a 6x6 array with random values\n",
    "array = np.random.rand(6, 6)\n",
    "\n",
    "# Compute the rank of the matrix\n",
    "rank = np.linalg.matrix_rank(array)\n",
    "\"\"\"The rank of a matrix is the maximum number of linearly independent\n",
    "row or column vectors in the matrix.\"\"\"\n",
    "\n",
    "# Printing the original array and its rank\n",
    "print(\"6x6 Array:\\n\", array)\n",
    "print(\"Rank of the array:\\n\", rank)"
   ]
  },
  {
   "cell_type": "code",
   "execution_count": 11,
   "id": "539b25f1",
   "metadata": {},
   "outputs": [
    {
     "name": "stdout",
     "output_type": "stream",
     "text": [
      "3x3 Array:\n",
      " [[0.73437574 0.01957449 0.09529108]\n",
      " [0.21946889 0.08750564 0.58340443]\n",
      " [0.11732704 0.11819262 0.1624732 ]]\n",
      "Frobenius Norm of the Array:\n",
      " 0.9995441486218067\n"
     ]
    }
   ],
   "source": [
    "# Create a 3x3 array with random values \n",
    "array = np.random.rand(3, 3)\n",
    "\n",
    "# Compute the Frobenius norm  of the matrix\n",
    "frobenius_norm = np.linalg.norm(array, 'fro')\n",
    "\n",
    "\"\"\"The np.linalg.norm function with the 'fro' argument \n",
    "calculates the Frobenius norm of the matrix, which is \n",
    "the square root of the sum of the absolute squares of its elements.\"\"\"\n",
    "\n",
    "# Printing the original array and its Frobenious norm\n",
    "print(\"3x3 Array:\\n\", array)\n",
    "print(\"Frobenius Norm of the Array:\\n\", frobenius_norm)"
   ]
  },
  {
   "cell_type": "code",
   "execution_count": 12,
   "id": "d8a1f03e",
   "metadata": {},
   "outputs": [
    {
     "name": "stdout",
     "output_type": "stream",
     "text": [
      "Array:\n",
      " [[0.34901276 0.0881017  0.15690847 0.54505974 0.98561037]\n",
      " [0.16640151 0.18469401 0.93005695 0.59281081 0.3791498 ]\n",
      " [0.02146969 0.54805519 0.87241845 0.67216509 0.16112685]\n",
      " [0.1997184  0.86296206 0.30198091 0.29746468 0.29254171]\n",
      " [0.77684598 0.92733579 0.37270635 0.47852455 0.2145958 ]]\n",
      "Indices of the maximum values in each row:\n",
      " [4 2 2 1 1]\n"
     ]
    }
   ],
   "source": [
    "# Create a 5x5 array with random values\n",
    "array = np.random.random((5, 5))\n",
    "\n",
    "# Find the index of the maximum value in each row\n",
    "max_indices = np.argmax(array, axis=1)\n",
    "\n",
    "# Print the array and the indices of the maximum values\n",
    "print(\"Array:\\n\", array)\n",
    "print(\"Indices of the maximum values in each row:\\n\", max_indices)"
   ]
  },
  {
   "cell_type": "code",
   "execution_count": 13,
   "id": "c0c1405f",
   "metadata": {},
   "outputs": [
    {
     "name": "stdout",
     "output_type": "stream",
     "text": [
      "Array:\n",
      " [[0.48574733 0.31874751 0.69544464 0.35296767 0.21973948]\n",
      " [0.60280148 0.10539654 0.5167748  0.72965642 0.13232707]\n",
      " [0.86114031 0.58583922 0.0110095  0.95612323 0.31287424]\n",
      " [0.25328108 0.2037672  0.22381827 0.1471863  0.01789432]\n",
      " [0.45274767 0.56099818 0.59232517 0.30144376 0.07446205]]\n",
      "Indices of the minimum values in each row:\n",
      " [4 1 2 4 4]\n"
     ]
    }
   ],
   "source": [
    "# Create a 5x5 array with random values\n",
    "array = np.random.random((5, 5))\n",
    "\n",
    "# Find the index of the minimum value in each row\n",
    "min_indices = np.argmin(array, axis=1)\n",
    "\n",
    "# Print the array and the indices of the minimum values\n",
    "print(\"Array:\\n\", array)\n",
    "print(\"Indices of the minimum values in each row:\\n\", min_indices)"
   ]
  },
  {
   "cell_type": "code",
   "execution_count": 14,
   "id": "e2ef9087",
   "metadata": {},
   "outputs": [
    {
     "name": "stdout",
     "output_type": "stream",
     "text": [
      "Original Array:\n",
      " [[0.25170197 0.49641558 0.3404579 ]\n",
      " [0.57780421 0.29636675 0.73360933]\n",
      " [0.34110628 0.71606286 0.39853045]]\n",
      "Q Matrix:\n",
      " [[-0.35122779  0.43892155 -0.82703501]\n",
      " [-0.80627457 -0.59083786  0.02884348]\n",
      " [-0.47598357  0.67694793  0.56140996]]\n",
      "R Matrix:\n",
      " [[-0.71663455 -0.75414208 -0.90076277]\n",
      " [ 0.          0.52752007 -0.01422549]\n",
      " [ 0.          0.         -0.03667179]]\n"
     ]
    }
   ],
   "source": [
    "# Create a 3x3 array with random values\n",
    "array = np.random.random((3, 3))\n",
    "\n",
    "# Compute the QR decomposition\n",
    "q, r = np.linalg.qr(array)\n",
    "\n",
    "\"\"\"QR decomposition is a factorization of a matrix \n",
    "into an orthogonal matrix 𝑄 and an upper triangular matrix 𝑅. \n",
    "In NumPy, the numpy.linalg.qr() function computes\n",
    "the QR decomposition of a given matrix.\n",
    "It's often used in numerical linear algebra for \n",
    "solving linear least squares problems, eigenvalue problems,\n",
    "and many other applications.\"\"\"\n",
    "\n",
    "# Print the original array, Q matrix, and R matrix\n",
    "print(\"Original Array:\\n\", array)\n",
    "print(\"Q Matrix:\\n\", q)\n",
    "print(\"R Matrix:\\n\", r)"
   ]
  },
  {
   "cell_type": "code",
   "execution_count": 15,
   "id": "120b6490",
   "metadata": {},
   "outputs": [
    {
     "name": "stdout",
     "output_type": "stream",
     "text": [
      "Original Array:\n",
      " [[0.8934658  0.20001898 0.23693548]\n",
      " [0.78735102 0.26545306 0.45942066]\n",
      " [0.13383587 0.38351693 0.40550124]]\n",
      "Symmetric Positive-Definite Array:\n",
      " [[0.89442716 0.86541992 0.29236607]\n",
      " [0.86541992 0.9014543  0.3934772 ]\n",
      " [0.29236607 0.3934772  0.32942853]]\n",
      "Cholesky Decomposition:\n",
      " [[0.94574159 0.         0.        ]\n",
      " [0.91507017 0.25318152 0.        ]\n",
      " [0.30913949 0.43681258 0.20749958]]\n"
     ]
    }
   ],
   "source": [
    "# Create a 3x3 array with random values\n",
    "array = np.random.random((3, 3))\n",
    "\n",
    "# Make the array symmetric and positive-definite for Cholesky decomposition\n",
    "symmetric_array = np.dot(array, array.T)\n",
    "\n",
    "# Compute the Cholesky decomposition\n",
    "cholesky_decomp = np.linalg.cholesky(symmetric_array)\n",
    "\n",
    "# Print the original array, symmetric array, and Cholesky decomposition\n",
    "print(\"Original Array:\\n\", array)\n",
    "print(\"Symmetric Positive-Definite Array:\\n\", symmetric_array)\n",
    "print(\"Cholesky Decomposition:\\n\", cholesky_decomp)"
   ]
  },
  {
   "cell_type": "code",
   "execution_count": 16,
   "id": "2e735125",
   "metadata": {},
   "outputs": [
    {
     "name": "stdout",
     "output_type": "stream",
     "text": [
      "Original Array:\n",
      " [[0.35723061 0.75534537 0.57827546 0.68733982]\n",
      " [0.13508997 0.63720936 0.48790152 0.905937  ]\n",
      " [0.5052132  0.64729575 0.38828838 0.02303195]\n",
      " [0.6664016  0.51453569 0.88698317 0.67155919]]\n",
      "Array after swapping first and last rows:\n",
      " [[0.6664016  0.51453569 0.88698317 0.67155919]\n",
      " [0.13508997 0.63720936 0.48790152 0.905937  ]\n",
      " [0.5052132  0.64729575 0.38828838 0.02303195]\n",
      " [0.35723061 0.75534537 0.57827546 0.68733982]]\n"
     ]
    }
   ],
   "source": [
    "# Create a 4x4 array with random values\n",
    "array = np.random.random((4, 4))\n",
    "\n",
    "# Print the original array\n",
    "print(\"Original Array:\\n\", array)\n",
    "\n",
    "# Swap the first and last rows\n",
    "array[[0, -1]] = array[[-1, 0]]\n",
    "\n",
    "# Print the array after swapping the first and last rows\n",
    "print(\"Array after swapping first and last rows:\\n\", array)"
   ]
  },
  {
   "cell_type": "code",
   "execution_count": 17,
   "id": "b9be0410",
   "metadata": {},
   "outputs": [
    {
     "name": "stdout",
     "output_type": "stream",
     "text": [
      "Original Array:\n",
      " [[0.61543911 0.42220964 0.63031007 0.18971788]\n",
      " [0.78884606 0.89233605 0.01373433 0.2606718 ]\n",
      " [0.75200904 0.56385187 0.2702985  0.39410384]\n",
      " [0.67434357 0.3468061  0.54364731 0.43846729]]\n",
      "Array after 90 degrees counterclockwise rotation:\n",
      " [[0.18971788 0.2606718  0.39410384 0.43846729]\n",
      " [0.63031007 0.01373433 0.2702985  0.54364731]\n",
      " [0.42220964 0.89233605 0.56385187 0.3468061 ]\n",
      " [0.61543911 0.78884606 0.75200904 0.67434357]]\n"
     ]
    }
   ],
   "source": [
    "# Create a 4x4 array with random values\n",
    "array = np.random.random((4, 4))\n",
    "\n",
    "# Print the original array\n",
    "print(\"Original Array:\\n\", array)\n",
    "\n",
    "# Rotate the array 90 degrees counterclockwise\n",
    "rotated_array = np.rot90(array)\n",
    "\n",
    "# Print the rotated array\n",
    "print(\"Array after 90 degrees counterclockwise rotation:\\n\", rotated_array)"
   ]
  },
  {
   "cell_type": "code",
   "execution_count": 18,
   "id": "3816f775",
   "metadata": {},
   "outputs": [
    {
     "name": "stdout",
     "output_type": "stream",
     "text": [
      "Original Array:\n",
      " [[0.10111646 0.31095929 0.75546759 0.67613617]\n",
      " [0.63193071 0.27264266 0.44903935 0.07404246]\n",
      " [0.17632988 0.18566931 0.45754795 0.93153083]\n",
      " [0.36400002 0.60226462 0.05690359 0.87470433]]\n",
      "Array after shifting all elements one position to the right:\n",
      " [[0.67613617 0.10111646 0.31095929 0.75546759]\n",
      " [0.07404246 0.63193071 0.27264266 0.44903935]\n",
      " [0.93153083 0.17632988 0.18566931 0.45754795]\n",
      " [0.87470433 0.36400002 0.60226462 0.05690359]]\n"
     ]
    }
   ],
   "source": [
    "# Create a 4x4 array with random values\n",
    "array = np.random.random((4, 4))\n",
    "\n",
    "# Print the original array\n",
    "print(\"Original Array:\\n\", array)\n",
    "\n",
    "# Shift all elements one position to the right\n",
    "shifted_array = np.roll(array, shift=1, axis=1)\n",
    "\n",
    "# Print the shifted array\n",
    "print(\"Array after shifting all elements one position to the right:\\n\", shifted_array)"
   ]
  },
  {
   "cell_type": "code",
   "execution_count": 19,
   "id": "7f016f67",
   "metadata": {},
   "outputs": [
    {
     "name": "stdout",
     "output_type": "stream",
     "text": [
      "Original Array:\n",
      " [[0.83756018 0.93822966 0.09722089 0.94684038]\n",
      " [0.68136826 0.15414585 0.23226978 0.53799798]\n",
      " [0.47548986 0.53776489 0.10566014 0.94742685]\n",
      " [0.45104704 0.24401246 0.16240982 0.97662387]]\n",
      "Array after shifting all elements one position downwards:\n",
      " [[0.45104704 0.24401246 0.16240982 0.97662387]\n",
      " [0.83756018 0.93822966 0.09722089 0.94684038]\n",
      " [0.68136826 0.15414585 0.23226978 0.53799798]\n",
      " [0.47548986 0.53776489 0.10566014 0.94742685]]\n"
     ]
    }
   ],
   "source": [
    "# Create a 4x4 array with random values\n",
    "array = np.random.random((4, 4))\n",
    "\n",
    "# Print the original array\n",
    "print(\"Original Array:\\n\", array)\n",
    "\n",
    "# Shift all elements one position downwards\n",
    "shifted_array = np.roll(array, shift=1, axis=0)\n",
    "\n",
    "# Print the shifted array\n",
    "print(\"Array after shifting all elements one position downwards:\\n\", shifted_array)"
   ]
  },
  {
   "cell_type": "code",
   "execution_count": 20,
   "id": "4a1f019d",
   "metadata": {},
   "outputs": [],
   "source": [
    "from scipy.spatial import distance"
   ]
  },
  {
   "cell_type": "code",
   "execution_count": 21,
   "id": "b29a5eb7",
   "metadata": {},
   "outputs": [
    {
     "name": "stdout",
     "output_type": "stream",
     "text": [
      "Original Array:\n",
      " [[0.98560055 0.35011324 0.7794954 ]\n",
      " [0.41538162 0.46147296 0.67492527]\n",
      " [0.9810148  0.56741966 0.12332226]]\n",
      "Pairwise Euclidean distances between each pair of rows:\n",
      " [[0.         0.59032663 0.69123534]\n",
      " [0.59032663 0.         0.79713956]\n",
      " [0.69123534 0.79713956 0.        ]]\n"
     ]
    }
   ],
   "source": [
    "# Create a 3x3 array with random values\n",
    "array = np.random.random((3, 3))\n",
    "\n",
    "# Print the original array\n",
    "print(\"Original Array:\\n\", array)\n",
    "\n",
    "# Calculate pairwise Euclidean distances between each pair of rows\n",
    "pairwise_distances = distance.cdist(array, array, 'euclidean')\n",
    "\n",
    "# Print the pairwise distances\n",
    "print(\"Pairwise Euclidean distances between each pair of rows:\\n\", pairwise_distances)"
   ]
  }
 ],
 "metadata": {
  "kernelspec": {
   "display_name": "Python 3 (ipykernel)",
   "language": "python",
   "name": "python3"
  },
  "language_info": {
   "codemirror_mode": {
    "name": "ipython",
    "version": 3
   },
   "file_extension": ".py",
   "mimetype": "text/x-python",
   "name": "python",
   "nbconvert_exporter": "python",
   "pygments_lexer": "ipython3",
   "version": "3.9.7"
  }
 },
 "nbformat": 4,
 "nbformat_minor": 5
}
