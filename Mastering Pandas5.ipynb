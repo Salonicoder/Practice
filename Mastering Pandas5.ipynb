{
 "cells": [
  {
   "cell_type": "code",
   "execution_count": 1,
   "id": "6e205e57",
   "metadata": {},
   "outputs": [],
   "source": [
    "import pandas as pd\n",
    "import numpy as np"
   ]
  },
  {
   "cell_type": "code",
   "execution_count": 2,
   "id": "ec5fcd20",
   "metadata": {},
   "outputs": [
    {
     "name": "stdout",
     "output_type": "stream",
     "text": [
      "   X  Y\n",
      "0  1  4\n",
      "1  2  5\n",
      "3  3  6\n"
     ]
    }
   ],
   "source": [
    "data = {'X': [1, 2, 2, 3], 'Y': [4, 5, 5, 6]}\n",
    "df = pd.DataFrame(data)\n",
    "df.drop_duplicates(inplace=True)\n",
    "print(df)"
   ]
  },
  {
   "cell_type": "code",
   "execution_count": 3,
   "id": "a3809871",
   "metadata": {},
   "outputs": [
    {
     "name": "stdout",
     "output_type": "stream",
     "text": [
      "              Value\n",
      "Group Number       \n",
      "X     1          10\n",
      "      2          20\n",
      "Y     1          30\n",
      "      2          40\n"
     ]
    }
   ],
   "source": [
    "arrays = [['X', 'X', 'Y', 'Y'], [1, 2, 1, 2]]\n",
    "index = pd.MultiIndex.from_arrays(arrays, names=('Group', 'Number'))\n",
    "data = {'Value': [10, 20, 30, 40]}\n",
    "df = pd.DataFrame(data, index=index)\n",
    "print(df)"
   ]
  },
  {
   "cell_type": "code",
   "execution_count": 4,
   "id": "8dd56571",
   "metadata": {},
   "outputs": [
    {
     "name": "stdout",
     "output_type": "stream",
     "text": [
      "    X  Difference\n",
      "0   1         NaN\n",
      "1   3         2.0\n",
      "2   6         3.0\n",
      "3  10         4.0\n"
     ]
    }
   ],
   "source": [
    "data = {'X': [1, 3, 6, 10]}\n",
    "df = pd.DataFrame(data)\n",
    "df['Difference'] = df['X'].diff()\n",
    "print(df)"
   ]
  },
  {
   "cell_type": "code",
   "execution_count": 5,
   "id": "42509ea7",
   "metadata": {},
   "outputs": [
    {
     "name": "stdout",
     "output_type": "stream",
     "text": [
      "Group  X       Y    \n",
      "Type  C1  C2  C1  C2\n",
      "0      1   2   3   4\n",
      "1      5   6   7   8\n",
      "2      9  10  11  12\n"
     ]
    }
   ],
   "source": [
    "arrays = [['X', 'X', 'Y', 'Y'], ['C1', 'C2', 'C1', 'C2']]\n",
    "columns = pd.MultiIndex.from_arrays(arrays, names=('Group', 'Type'))\n",
    "data = [[1, 2, 3, 4], [5, 6, 7, 8], [9, 10, 11, 12]]\n",
    "df = pd.DataFrame(data, columns=columns)\n",
    "print(df)"
   ]
  },
  {
   "cell_type": "code",
   "execution_count": 10,
   "id": "5b075e15",
   "metadata": {},
   "outputs": [
    {
     "name": "stdout",
     "output_type": "stream",
     "text": [
      "Empty DataFrame\n",
      "Columns: [X]\n",
      "Index: []\n"
     ]
    }
   ],
   "source": [
    "data = {'X': ['foo', 'bar', 'baz', 'qux']}\n",
    "df = pd.DataFrame(data)\n",
    "filtered_df = df[df['X'].str.len() > 3]\n",
    "print(filtered_df)"
   ]
  },
  {
   "cell_type": "code",
   "execution_count": 11,
   "id": "d5082d43",
   "metadata": {},
   "outputs": [
    {
     "name": "stdout",
     "output_type": "stream",
     "text": [
      "   X  Pct_Change\n",
      "0  1         NaN\n",
      "1  2    1.000000\n",
      "2  3    0.500000\n",
      "3  4    0.333333\n"
     ]
    }
   ],
   "source": [
    "data = {'X': [1, 2, 3, 4]}\n",
    "df = pd.DataFrame(data)\n",
    "df['Pct_Change'] = df['X'].pct_change()\n",
    "print(df)"
   ]
  },
  {
   "cell_type": "code",
   "execution_count": 12,
   "id": "ae0bd773",
   "metadata": {},
   "outputs": [
    {
     "name": "stdout",
     "output_type": "stream",
     "text": [
      "   X  Y\n",
      "0  1  4\n",
      "1  2  5\n",
      "2  3  6\n"
     ]
    }
   ],
   "source": [
    "data = {'X': pd.Series([1, 2, 3]), 'Y': pd.Series([4, 5, 6])}\n",
    "df = pd.DataFrame(data)\n",
    "print(df)"
   ]
  },
  {
   "cell_type": "code",
   "execution_count": 13,
   "id": "1fbcf177",
   "metadata": {},
   "outputs": [
    {
     "name": "stdout",
     "output_type": "stream",
     "text": [
      "   X  Y\n",
      "1  2  6\n",
      "2  3  7\n"
     ]
    }
   ],
   "source": [
    "data = {'X': [1, 2, 3, 4], 'Y': [5, 6, 7, 8]}\n",
    "df = pd.DataFrame(data)\n",
    "filtered_df = df[df['X'].isin([2, 3])]\n",
    "print(filtered_df)"
   ]
  },
  {
   "cell_type": "code",
   "execution_count": 14,
   "id": "4c8ef9bf",
   "metadata": {},
   "outputs": [
    {
     "name": "stdout",
     "output_type": "stream",
     "text": [
      "   X  Y  zscore_A\n",
      "0  1  5 -1.341641\n",
      "1  2  6 -0.447214\n",
      "2  3  7  0.447214\n",
      "3  4  8  1.341641\n"
     ]
    }
   ],
   "source": [
    "df['zscore_A'] = (df['X'] - np.mean(df['X'])) / np.std(df['X'])\n",
    "print(df)"
   ]
  },
  {
   "cell_type": "code",
   "execution_count": 15,
   "id": "c28bcb2f",
   "metadata": {},
   "outputs": [
    {
     "name": "stdout",
     "output_type": "stream",
     "text": [
      "               X          Y         Z\n",
      "count   5.000000   5.000000   5.00000\n",
      "mean   62.400000  41.800000  66.20000\n",
      "std    31.229793  18.593009  32.56839\n",
      "min    18.000000  11.000000  10.00000\n",
      "25%    50.000000  41.000000  71.00000\n",
      "50%    60.000000  46.000000  74.00000\n",
      "75%    89.000000  51.000000  83.00000\n",
      "max    95.000000  60.000000  93.00000\n"
     ]
    }
   ],
   "source": [
    "#Q50\n",
    "data = np.random.randint(1, 100, size=(5, 3))\n",
    "df = pd.DataFrame(data, columns=['X', 'Y', 'Z'])\n",
    "print(df.describe())"
   ]
  }
 ],
 "metadata": {
  "kernelspec": {
   "display_name": "Python 3 (ipykernel)",
   "language": "python",
   "name": "python3"
  },
  "language_info": {
   "codemirror_mode": {
    "name": "ipython",
    "version": 3
   },
   "file_extension": ".py",
   "mimetype": "text/x-python",
   "name": "python",
   "nbconvert_exporter": "python",
   "pygments_lexer": "ipython3",
   "version": "3.9.7"
  }
 },
 "nbformat": 4,
 "nbformat_minor": 5
}
