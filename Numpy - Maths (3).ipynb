{
 "cells": [
  {
   "cell_type": "code",
   "execution_count": 1,
   "id": "ff1ab97b",
   "metadata": {},
   "outputs": [],
   "source": [
    "import numpy as np"
   ]
  },
  {
   "cell_type": "code",
   "execution_count": 2,
   "id": "e994f55b",
   "metadata": {},
   "outputs": [
    {
     "data": {
      "text/plain": [
       "array([ 3.1,  3.5,  4.5,  2.9, -3.1, -3.5, -5.9])"
      ]
     },
     "execution_count": 2,
     "metadata": {},
     "output_type": "execute_result"
    }
   ],
   "source": [
    "x = np.array([3.1, 3.5, 4.5, 2.9, -3.1, -3.5, -5.9])\n",
    "x"
   ]
  },
  {
   "cell_type": "code",
   "execution_count": 3,
   "id": "278e6de7",
   "metadata": {},
   "outputs": [
    {
     "data": {
      "text/plain": [
       "array([ 3.,  4.,  4.,  3., -3., -4., -6.])"
      ]
     },
     "execution_count": 3,
     "metadata": {},
     "output_type": "execute_result"
    }
   ],
   "source": [
    "np.round(x)"
   ]
  },
  {
   "cell_type": "code",
   "execution_count": 4,
   "id": "b4b6993d",
   "metadata": {},
   "outputs": [
    {
     "data": {
      "text/plain": [
       "array([ 3.,  3.,  4.,  2., -4., -4., -6.])"
      ]
     },
     "execution_count": 4,
     "metadata": {},
     "output_type": "execute_result"
    }
   ],
   "source": [
    "np.floor(x)"
   ]
  },
  {
   "cell_type": "code",
   "execution_count": 5,
   "id": "53ff3429",
   "metadata": {},
   "outputs": [
    {
     "data": {
      "text/plain": [
       "array([ 4.,  4.,  5.,  3., -3., -3., -5.])"
      ]
     },
     "execution_count": 5,
     "metadata": {},
     "output_type": "execute_result"
    }
   ],
   "source": [
    "np.ceil(x)"
   ]
  },
  {
   "cell_type": "code",
   "execution_count": 6,
   "id": "522c6714",
   "metadata": {},
   "outputs": [
    {
     "data": {
      "text/plain": [
       "array([ 3.,  3.,  4.,  2., -3., -3., -5.])"
      ]
     },
     "execution_count": 6,
     "metadata": {},
     "output_type": "execute_result"
    }
   ],
   "source": [
    "np.trunc(x)"
   ]
  },
  {
   "cell_type": "code",
   "execution_count": 7,
   "id": "f3384f44",
   "metadata": {},
   "outputs": [
    {
     "data": {
      "text/plain": [
       "[3, 4, 4, 3, -3, -4, -6]"
      ]
     },
     "execution_count": 7,
     "metadata": {},
     "output_type": "execute_result"
    }
   ],
   "source": [
    "r = [round(elem) for  elem in x]\n",
    "r"
   ]
  },
  {
   "cell_type": "code",
   "execution_count": 8,
   "id": "869dda43",
   "metadata": {},
   "outputs": [
    {
     "data": {
      "text/plain": [
       "array([[1, 2, 3],\n",
       "       [4, 5, 6]])"
      ]
     },
     "execution_count": 8,
     "metadata": {},
     "output_type": "execute_result"
    }
   ],
   "source": [
    "x = np.array([[1, 2, 3], [4, 5, 6]])\n",
    "x"
   ]
  },
  {
   "cell_type": "code",
   "execution_count": 9,
   "id": "8df0c7a9",
   "metadata": {},
   "outputs": [
    {
     "data": {
      "text/plain": [
       "array([ 1,  3,  6, 10, 15, 21], dtype=int32)"
      ]
     },
     "execution_count": 9,
     "metadata": {},
     "output_type": "execute_result"
    }
   ],
   "source": [
    "r = np.cumsum(x)\n",
    "r"
   ]
  },
  {
   "cell_type": "code",
   "execution_count": 10,
   "id": "e65640e9",
   "metadata": {},
   "outputs": [
    {
     "data": {
      "text/plain": [
       "array([[1, 2, 3],\n",
       "       [5, 7, 9]], dtype=int32)"
      ]
     },
     "execution_count": 10,
     "metadata": {},
     "output_type": "execute_result"
    }
   ],
   "source": [
    "np.cumsum(x, axis=0)"
   ]
  },
  {
   "cell_type": "code",
   "execution_count": 11,
   "id": "51f85f66",
   "metadata": {},
   "outputs": [
    {
     "data": {
      "text/plain": [
       "array([[ 1,  3,  6],\n",
       "       [ 4,  9, 15]], dtype=int32)"
      ]
     },
     "execution_count": 11,
     "metadata": {},
     "output_type": "execute_result"
    }
   ],
   "source": [
    "np.cumsum(x, axis=1)"
   ]
  },
  {
   "cell_type": "code",
   "execution_count": 12,
   "id": "2e8bf328",
   "metadata": {},
   "outputs": [
    {
     "data": {
      "text/plain": [
       "array([  1,   2,   6,  24, 120, 720], dtype=int32)"
      ]
     },
     "execution_count": 12,
     "metadata": {},
     "output_type": "execute_result"
    }
   ],
   "source": [
    "np.cumprod(x)"
   ]
  },
  {
   "cell_type": "code",
   "execution_count": 13,
   "id": "6d33e0c2",
   "metadata": {},
   "outputs": [
    {
     "data": {
      "text/plain": [
       "array([[ 1,  2,  3],\n",
       "       [ 4, 10, 18]], dtype=int32)"
      ]
     },
     "execution_count": 13,
     "metadata": {},
     "output_type": "execute_result"
    }
   ],
   "source": [
    "np.cumprod(x, axis=0)"
   ]
  },
  {
   "cell_type": "code",
   "execution_count": 14,
   "id": "66744da7",
   "metadata": {},
   "outputs": [
    {
     "data": {
      "text/plain": [
       "array([[  1,   2,   6],\n",
       "       [  4,  20, 120]], dtype=int32)"
      ]
     },
     "execution_count": 14,
     "metadata": {},
     "output_type": "execute_result"
    }
   ],
   "source": [
    "np.cumprod(x, axis=1)"
   ]
  },
  {
   "cell_type": "code",
   "execution_count": 15,
   "id": "1f7f1578",
   "metadata": {},
   "outputs": [
    {
     "data": {
      "text/plain": [
       "array([1, 3, 5, 7, 0])"
      ]
     },
     "execution_count": 15,
     "metadata": {},
     "output_type": "execute_result"
    }
   ],
   "source": [
    "x = np.array([1, 3, 5, 7, 0])\n",
    "x"
   ]
  },
  {
   "cell_type": "code",
   "execution_count": 16,
   "id": "9c94bc2c",
   "metadata": {},
   "outputs": [
    {
     "data": {
      "text/plain": [
       "array([ 2,  2,  2, -7])"
      ]
     },
     "execution_count": 16,
     "metadata": {},
     "output_type": "execute_result"
    }
   ],
   "source": [
    "np.diff(x)"
   ]
  },
  {
   "cell_type": "code",
   "execution_count": 17,
   "id": "c5002259",
   "metadata": {},
   "outputs": [
    {
     "name": "stdout",
     "output_type": "stream",
     "text": [
      "Original array: \n",
      "[1 3 5 7 0]\n",
      "Difference between neighboring elements, element-wise, and prepend [0, 0] and append[200] to the said array:\n",
      "[  0   0   2   2   2  -7 200]\n"
     ]
    }
   ],
   "source": [
    "# Creating an array\n",
    "x = np.array([1, 3, 5, 7, 0])\n",
    "\n",
    "# Displaying the original array\n",
    "print(\"Original array: \")\n",
    "print(x)\n",
    "\n",
    "# Calculating differences between neighboring elements, element-wise, and appending [200] to the end and [0, 0] to the beginning\n",
    "r1 = np.ediff1d(x, to_begin=[0, 0], to_end=[200])\n",
    "\n",
    "# Calculating differences between neighboring elements, appending [200] to the end, and inserting [0, 0] at the beginning\n",
    "r2 = np.insert(np.append(np.diff(x), 200), 0, [0, 0])\n",
    "\n",
    "# Checking if the resulting arrays r1 and r2 are equivalent\n",
    "assert np.array_equiv(r1, r2)\n",
    "\n",
    "# Displaying the resulting array with differences and appended/prepended values\n",
    "print(\"Difference between neighboring elements, element-wise, and prepend [0, 0] and append[200] to the said array:\")\n",
    "print(r2) "
   ]
  },
  {
   "cell_type": "code",
   "execution_count": 18,
   "id": "58f22c27",
   "metadata": {},
   "outputs": [
    {
     "name": "stdout",
     "output_type": "stream",
     "text": [
      "Original array: \n",
      "[1. 2. 3. 4.]\n",
      "\n",
      "e^x, element-wise of the said:\n",
      "[ 2.7182817  7.389056  20.085537  54.59815  ]\n"
     ]
    }
   ],
   "source": [
    "# Creating an array of float32 type\n",
    "x = np.array([1., 2., 3., 4.], np.float32)\n",
    "\n",
    "# Displaying the original array\n",
    "print(\"Original array: \")\n",
    "print(x)\n",
    "\n",
    "# Calculating exponential (e^x) for each element of the array x\n",
    "print(\"\\ne^x, element-wise of the said:\")\n",
    "r = np.exp(x)\n",
    "print(r) "
   ]
  },
  {
   "cell_type": "code",
   "execution_count": 19,
   "id": "5a44f532",
   "metadata": {},
   "outputs": [
    {
     "name": "stdout",
     "output_type": "stream",
     "text": [
      "Original array: \n",
      "[1. 2. 3. 4.]\n",
      "\n",
      "exp(x)-1 for all elements of the said array:\n",
      "[ 1.7182817  6.389056  19.085537  53.59815  ]\n"
     ]
    }
   ],
   "source": [
    "# Creating an array of float32 type\n",
    "x = np.array([1., 2., 3., 4.], np.float32)\n",
    "\n",
    "# Displaying the original array\n",
    "print(\"Original array: \")\n",
    "print(x)\n",
    "\n",
    "# Calculating exp(x) - 1 for each element of the array x\n",
    "print(\"\\nexp(x)-1 for all elements of the said array:\")\n",
    "r1 = np.expm1(x)\n",
    "r2 = np.exp(x) - 1.\n",
    "\n",
    "# Asserting whether the results from np.expm1 and np.exp - 1 are close\n",
    "assert np.allclose(r1, r2)\n",
    "\n",
    "# Printing the resulting array after exp(x) - 1 calculation\n",
    "print(r1) \n"
   ]
  },
  {
   "cell_type": "code",
   "execution_count": 20,
   "id": "2b1d635c",
   "metadata": {},
   "outputs": [
    {
     "data": {
      "text/plain": [
       "array([ 2.,  4.,  8., 16.], dtype=float32)"
      ]
     },
     "execution_count": 20,
     "metadata": {},
     "output_type": "execute_result"
    }
   ],
   "source": [
    "np.exp2(x)"
   ]
  },
  {
   "cell_type": "code",
   "execution_count": 21,
   "id": "1c8b4c54",
   "metadata": {},
   "outputs": [
    {
     "data": {
      "text/plain": [
       "array([ 2.,  4.,  8., 16.], dtype=float32)"
      ]
     },
     "execution_count": 21,
     "metadata": {},
     "output_type": "execute_result"
    }
   ],
   "source": [
    "2**x"
   ]
  },
  {
   "cell_type": "code",
   "execution_count": 22,
   "id": "0c0ab851",
   "metadata": {},
   "outputs": [
    {
     "name": "stdout",
     "output_type": "stream",
     "text": [
      "Original array: \n",
      "[1.         2.71828183 7.3890561 ]\n",
      "\n",
      "Natural log = [0. 1. 2.]\n",
      "Common log = [0.         0.43429448 0.86858896]\n",
      "Base 2 log = [0.         1.44269504 2.88539008]\n"
     ]
    }
   ],
   "source": [
    "# Creating an array consisting of 1, e, and e^2\n",
    "x = np.array([1, np.e, np.e**2])\n",
    "\n",
    "# Displaying the original array\n",
    "print(\"Original array: \")\n",
    "print(x)\n",
    "\n",
    "# Calculating natural logarithm (base e) of the array elements\n",
    "print(\"\\nNatural log =\", np.log(x))\n",
    "\n",
    "# Calculating common logarithm (base 10) of the array elements\n",
    "print(\"Common log =\", np.log10(x))\n",
    "\n",
    "# Calculating base 2 logarithm of the array elements\n",
    "print(\"Base 2 log =\", np.log2(x))"
   ]
  },
  {
   "cell_type": "code",
   "execution_count": 23,
   "id": "b06d7270",
   "metadata": {},
   "outputs": [
    {
     "name": "stdout",
     "output_type": "stream",
     "text": [
      "Original array: \n",
      "[1.e-099 1.e-100]\n",
      "\n",
      "Natural logarithm of one plus each element:\n",
      "[1.e-099 1.e-100]\n"
     ]
    }
   ],
   "source": [
    "# Creating an array with two very small numbers\n",
    "x = np.array([1e-99, 1e-100])\n",
    "\n",
    "# Displaying the original array\n",
    "print(\"Original array: \")\n",
    "print(x)\n",
    "\n",
    "# Calculating natural logarithm of one plus each element in the array\n",
    "print(\"\\nNatural logarithm of one plus each element:\")\n",
    "print(np.log1p(x)) "
   ]
  },
  {
   "cell_type": "code",
   "execution_count": 24,
   "id": "822c94a3",
   "metadata": {},
   "outputs": [
    {
     "name": "stdout",
     "output_type": "stream",
     "text": [
      "Original array: \n",
      "[-4 -3 -2 -1  0  1  2  3  4]\n",
      "[ True  True  True  True False False False False False]\n"
     ]
    }
   ],
   "source": [
    "# Creating an array with integer values ranging from -4 to 4\n",
    "x = np.array([-4, -3, -2, -1, 0, 1, 2, 3, 4])\n",
    "\n",
    "# Displaying the original array\n",
    "print(\"Original array: \")\n",
    "print(x)\n",
    "\n",
    "# Calculating sign bit of each element in the array using np.signbit()\n",
    "r1 = np.signbit(x)\n",
    "\n",
    "# Comparing if each element is less than zero to determine sign bit as a boolean array\n",
    "r2 = x < 0\n",
    "\n",
    "# Verifying if both approaches yield the same result\n",
    "assert np.array_equiv(r1, r2)\n",
    "\n",
    "# Displaying the sign bit of each element in the array\n",
    "print(r1)"
   ]
  },
  {
   "cell_type": "code",
   "execution_count": 25,
   "id": "b3c2bb96",
   "metadata": {},
   "outputs": [
    {
     "name": "stdout",
     "output_type": "stream",
     "text": [
      "Original array: \n",
      "[-1  0  1  2]\n",
      "\n",
      "Sign of x1 to that of x2, element-wise:\n",
      "[-1. -0. -1. -2.]\n"
     ]
    }
   ],
   "source": [
    "\n",
    "# Creating an array with integer values from -1 to 2\n",
    "x1 = np.array([-1, 0, 1, 2])\n",
    "\n",
    "# Displaying the original array x1\n",
    "print(\"Original array: \")\n",
    "print(x1)\n",
    "\n",
    "# Assigning a floating-point value to x2\n",
    "x2 = -2.1\n",
    "\n",
    "# Displaying the sign of x1 with respect to x2, element-wise using np.copysign()\n",
    "print(\"\\nSign of x1 to that of x2, element-wise:\")\n",
    "print(np.copysign(x1, x2)) "
   ]
  },
  {
   "cell_type": "code",
   "execution_count": 26,
   "id": "a5b2687a",
   "metadata": {},
   "outputs": [
    {
     "name": "stdout",
     "output_type": "stream",
     "text": [
      "Original array: \n",
      "[ 0  1 -1]\n",
      "Numerical negative value for all elements of the said array:\n",
      "[ 0 -1  1]\n"
     ]
    }
   ],
   "source": [
    "# Creating an array containing integers 0, 1, and -1\n",
    "x = np.array([0, 1, -1])\n",
    "\n",
    "# Displaying the original array x\n",
    "print(\"Original array: \")\n",
    "print(x)\n",
    "\n",
    "# Calculating the numerical negative value of each element in array x using np.negative()\n",
    "r1 = np.negative(x)\n",
    "\n",
    "# Calculating the numerical negative value of each element in array x using the unary minus operator\n",
    "r2 = -x\n",
    "\n",
    "# Checking if the results from np.negative() and the unary minus operator are equal using np.array_equal()\n",
    "assert np.array_equal(r1, r2)\n",
    "\n",
    "# Displaying the numerical negative value for all elements of the array obtained using np.negative()\n",
    "print(\"Numerical negative value for all elements of the said array:\")\n",
    "print(r1) "
   ]
  },
  {
   "cell_type": "code",
   "execution_count": 27,
   "id": "fb6b7a57",
   "metadata": {},
   "outputs": [
    {
     "name": "stdout",
     "output_type": "stream",
     "text": [
      "Original array: \n",
      "[1.  2.  0.2 0.3]\n",
      "Reciprocal for all elements of the said array:\n",
      "[1.         0.5        5.         3.33333333]\n"
     ]
    }
   ],
   "source": [
    "# Creating an array containing floating-point numbers\n",
    "x = np.array([1., 2., .2, .3])\n",
    "\n",
    "# Displaying the original array x\n",
    "print(\"Original array: \")\n",
    "print(x)\n",
    "\n",
    "# Calculating the reciprocal of each element in array x using np.reciprocal()\n",
    "r1 = np.reciprocal(x)\n",
    "\n",
    "# Calculating the reciprocal of each element in array x using the reciprocal operator (1/x)\n",
    "r2 = 1/x\n",
    "\n",
    "# Checking if the results from np.reciprocal() and the reciprocal operator are equal using np.array_equal()\n",
    "assert np.array_equal(r1, r2)\n",
    "\n",
    "# Displaying the reciprocals for all elements of the array obtained using np.reciprocal()\n",
    "print(\"Reciprocal for all elements of the said array:\")\n",
    "print(r1)"
   ]
  },
  {
   "cell_type": "code",
   "execution_count": 28,
   "id": "178fae3c",
   "metadata": {},
   "outputs": [
    {
     "name": "stdout",
     "output_type": "stream",
     "text": [
      "Array1: \n",
      "[[1 2]\n",
      " [3 4]]\n",
      "Array1: \n",
      "[[1 2]\n",
      " [1 2]]\n",
      "Result- x^y:\n",
      "[[ 1  4]\n",
      " [ 3 16]]\n"
     ]
    }
   ],
   "source": [
    "# Creating two arrays x and y\n",
    "x = np.array([[1, 2], [3, 4]])\n",
    "y = np.array([[1, 2], [1, 2]])\n",
    "\n",
    "# Displaying the first array x\n",
    "print(\"Array1: \")\n",
    "print(x)\n",
    "\n",
    "# Displaying the second array y\n",
    "print(\"Array1: \")\n",
    "print(y)\n",
    "\n",
    "# Calculating the power of elements in array x raised to the power of elements in array y\n",
    "r1 = np.power(x, y)\n",
    "\n",
    "# Displaying the result of x raised to the power of y\n",
    "print(\"Result- x^y:\")\n",
    "print(r1) "
   ]
  },
  {
   "cell_type": "code",
   "execution_count": 29,
   "id": "6b9bb30d",
   "metadata": {},
   "outputs": [
    {
     "name": "stdout",
     "output_type": "stream",
     "text": [
      "Original array;\n",
      "[ 1  3  5  0 -1 -7  0  5]\n",
      "Element-wise indication of the sign for all elements of the said array:\n",
      "[ 1  1  1  0 -1 -1  0  1]\n"
     ]
    }
   ],
   "source": [
    "# Creating an array x\n",
    "x = np.array([1, 3, 5, 0, -1, -7, 0, 5])\n",
    "\n",
    "# Displaying the original array x\n",
    "print(\"Original array;\")\n",
    "print(x)\n",
    "\n",
    "# Using np.sign() to find the sign of each element in array x\n",
    "r1 = np.sign(x)\n",
    "\n",
    "# Creating a copy of array x and modifying it to assign signs manually\n",
    "r2 = np.copy(x)\n",
    "r2[r2 > 0] = 1  # If element is positive, set it to 1\n",
    "r2[r2 < 0] = -1  # If element is negative, set it to -1\n",
    "\n",
    "# Comparing the results obtained from np.sign() and manually assigning signs\n",
    "assert np.array_equal(r1, r2)\n",
    "\n",
    "# Displaying the element-wise indication of the sign for all elements of the array using np.sign()\n",
    "print(\"Element-wise indication of the sign for all elements of the said array:\")\n",
    "print(r1)"
   ]
  }
 ],
 "metadata": {
  "kernelspec": {
   "display_name": "Python 3 (ipykernel)",
   "language": "python",
   "name": "python3"
  },
  "language_info": {
   "codemirror_mode": {
    "name": "ipython",
    "version": 3
   },
   "file_extension": ".py",
   "mimetype": "text/x-python",
   "name": "python",
   "nbconvert_exporter": "python",
   "pygments_lexer": "ipython3",
   "version": "3.9.7"
  }
 },
 "nbformat": 4,
 "nbformat_minor": 5
}
