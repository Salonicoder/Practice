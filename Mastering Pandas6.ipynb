{
 "cells": [
  {
   "cell_type": "code",
   "execution_count": 1,
   "id": "6ca6d7a2",
   "metadata": {},
   "outputs": [],
   "source": [
    "import pandas as pd\n",
    "import numpy as np"
   ]
  },
  {
   "cell_type": "code",
   "execution_count": 2,
   "id": "3c2e3787",
   "metadata": {},
   "outputs": [
    {
     "name": "stdout",
     "output_type": "stream",
     "text": [
      "   X  Y  Rank_A  Rank_B\n",
      "0  3  2     3.0     2.0\n",
      "1  1  3     1.5     3.0\n",
      "2  4  1     4.0     1.0\n",
      "3  1  4     1.5     4.0\n"
     ]
    }
   ],
   "source": [
    "data = {'X': [3, 1, 4, 1], 'Y': [2, 3, 1, 4]}\n",
    "df = pd.DataFrame(data)\n",
    "df['Rank_A'] = df['X'].rank()\n",
    "df['Rank_B'] = df['Y'].rank()\n",
    "print(df)"
   ]
  },
  {
   "cell_type": "code",
   "execution_count": 3,
   "id": "3f0807f9",
   "metadata": {},
   "outputs": [
    {
     "name": "stdout",
     "output_type": "stream",
     "text": [
      "     X\n",
      "1  bar\n",
      "2  baz\n",
      "3  qux\n"
     ]
    }
   ],
   "source": [
    "data = {'X': ['foo', 'bar', 'baz', 'qux']}\n",
    "df = pd.DataFrame(data)\n",
    "filtered_df = df[df['X'].str.contains('ba|qu')]\n",
    "print(filtered_df)"
   ]
  },
  {
   "cell_type": "code",
   "execution_count": 5,
   "id": "221fdf08",
   "metadata": {},
   "outputs": [
    {
     "name": "stdout",
     "output_type": "stream",
     "text": [
      "X    0.357627\n",
      "Y    0.533339\n",
      "Z   -0.395122\n",
      "dtype: float64\n"
     ]
    }
   ],
   "source": [
    "data = np.random.rand(4, 3)\n",
    "df = pd.DataFrame(data, columns=['X', 'Y', 'Z'])\n",
    "print(df.skew())"
   ]
  },
  {
   "cell_type": "code",
   "execution_count": 6,
   "id": "5c00b9b6",
   "metadata": {},
   "outputs": [
    {
     "name": "stdout",
     "output_type": "stream",
     "text": [
      "X    1.817236\n",
      "Y    1.489692\n",
      "Z   -0.041170\n",
      "dtype: float64\n"
     ]
    }
   ],
   "source": [
    "data = np.random.rand(4, 3)\n",
    "df = pd.DataFrame(data, columns=['X', 'Y', 'Z'])\n",
    "print(df.kurt())"
   ]
  },
  {
   "cell_type": "code",
   "execution_count": 7,
   "id": "84fe6a75",
   "metadata": {},
   "outputs": [
    {
     "name": "stdout",
     "output_type": "stream",
     "text": [
      "   X  Cumulative_Product\n",
      "0  1                   1\n",
      "1  2                   2\n",
      "2  3                   6\n",
      "3  4                  24\n"
     ]
    }
   ],
   "source": [
    "data = {'X': [1, 2, 3, 4]}\n",
    "df = pd.DataFrame(data)\n",
    "df['Cumulative_Product'] = df['X'].cumprod()\n",
    "print(df) "
   ]
  },
  {
   "cell_type": "code",
   "execution_count": 8,
   "id": "9a2e205e",
   "metadata": {},
   "outputs": [
    {
     "name": "stdout",
     "output_type": "stream",
     "text": [
      "   X  Rolling_Std\n",
      "0  1          NaN\n",
      "1  2          NaN\n",
      "2  3          1.0\n",
      "3  4          1.0\n",
      "4  5          1.0\n",
      "5  6          1.0\n"
     ]
    }
   ],
   "source": [
    "data = {'X': [1, 2, 3, 4, 5, 6]}\n",
    "df = pd.DataFrame(data)\n",
    "df['Rolling_Std'] = df['X'].rolling(window=3).std()\n",
    "print(df)"
   ]
  },
  {
   "cell_type": "code",
   "execution_count": 9,
   "id": "9fb833f5",
   "metadata": {},
   "outputs": [
    {
     "name": "stdout",
     "output_type": "stream",
     "text": [
      "   X  Expanding_Mean\n",
      "0  1             1.0\n",
      "1  2             1.5\n",
      "2  3             2.0\n",
      "3  4             2.5\n",
      "4  5             3.0\n",
      "5  6             3.5\n"
     ]
    }
   ],
   "source": [
    "data = {'X': [1, 2, 3, 4, 5, 6]}\n",
    "df = pd.DataFrame(data)\n",
    "df['Expanding_Mean'] = df['X'].expanding().mean()\n",
    "print(df)"
   ]
  },
  {
   "cell_type": "code",
   "execution_count": 10,
   "id": "8f9acc3b",
   "metadata": {},
   "outputs": [
    {
     "name": "stdout",
     "output_type": "stream",
     "text": [
      "          X         Y         Z\n",
      "X  0.037717  0.060081 -0.041348\n",
      "Y  0.060081  0.139649 -0.051039\n",
      "Z -0.041348 -0.051039  0.082233\n"
     ]
    }
   ],
   "source": [
    "data = np.random.rand(4, 3)\n",
    "df = pd.DataFrame(data, columns=['X', 'Y', 'Z'])\n",
    "print(df.cov()) "
   ]
  },
  {
   "cell_type": "code",
   "execution_count": 11,
   "id": "6eec7eb6",
   "metadata": {},
   "outputs": [
    {
     "name": "stdout",
     "output_type": "stream",
     "text": [
      "          X         Y         Z\n",
      "X  1.000000  0.958003  0.144844\n",
      "Y  0.958003  1.000000  0.103354\n",
      "Z  0.144844  0.103354  1.000000\n"
     ]
    }
   ],
   "source": [
    "data = np.random.rand(4, 3)\n",
    "df = pd.DataFrame(data, columns=['X', 'Y', 'Z'])\n",
    "print(df.corr())"
   ]
  },
  {
   "cell_type": "code",
   "execution_count": 12,
   "id": "ecf21619",
   "metadata": {},
   "outputs": [
    {
     "name": "stdout",
     "output_type": "stream",
     "text": [
      "   X  Y  Rolling_Corr\n",
      "0  1  6           NaN\n",
      "1  2  5           NaN\n",
      "2  3  4          -1.0\n",
      "3  4  3          -1.0\n",
      "4  5  2          -1.0\n",
      "5  6  1          -1.0\n"
     ]
    }
   ],
   "source": [
    "data = {'X': [1, 2, 3, 4, 5, 6], 'Y': [6, 5, 4, 3, 2, 1]}\n",
    "df = pd.DataFrame(data)\n",
    "df['Rolling_Corr'] = df['X'].rolling(window=3).corr(df['Y'])\n",
    "print(df) "
   ]
  }
 ],
 "metadata": {
  "kernelspec": {
   "display_name": "Python 3 (ipykernel)",
   "language": "python",
   "name": "python3"
  },
  "language_info": {
   "codemirror_mode": {
    "name": "ipython",
    "version": 3
   },
   "file_extension": ".py",
   "mimetype": "text/x-python",
   "name": "python",
   "nbconvert_exporter": "python",
   "pygments_lexer": "ipython3",
   "version": "3.9.7"
  }
 },
 "nbformat": 4,
 "nbformat_minor": 5
}
