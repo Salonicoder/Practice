{
 "cells": [
  {
   "cell_type": "code",
   "execution_count": 1,
   "id": "fb562892",
   "metadata": {},
   "outputs": [],
   "source": [
    "import numpy as np"
   ]
  },
  {
   "cell_type": "code",
   "execution_count": 2,
   "id": "18eb85be",
   "metadata": {},
   "outputs": [
    {
     "name": "stdout",
     "output_type": "stream",
     "text": [
      "Sorted indices:\n",
      "[4 0 5 3 6 1 2]\n",
      "Sorted data:\n",
      "1682 38.0\n",
      "1023 40.0\n",
      "5241 40.0\n",
      "1671 41.0\n",
      "4532 42.0\n",
      "5202 42.0\n",
      "6230 45.0\n"
     ]
    }
   ],
   "source": [
    "# Creating NumPy arrays for student IDs and their heights\n",
    "student_id = np.array([1023, 5202, 6230, 1671, 1682, 5241, 4532])\n",
    "student_height = np.array([40., 42., 45., 41., 38., 40., 42.0])\n",
    "\n",
    "# Sorting the indices based on 'student_id' and then 'student_height'\n",
    "indices = np.lexsort((student_id, student_height))\n",
    "\n",
    "# Displaying the sorted indices\n",
    "print(\"Sorted indices:\")\n",
    "print(indices)\n",
    "\n",
    "# Displaying the sorted data based on the obtained indices\n",
    "print(\"Sorted data:\")\n",
    "for n in indices:\n",
    "    print(student_id[n], student_height[n]) "
   ]
  },
  {
   "cell_type": "code",
   "execution_count": 3,
   "id": "3dd1d459",
   "metadata": {},
   "outputs": [
    {
     "name": "stdout",
     "output_type": "stream",
     "text": [
      "Original array:\n",
      "[1023 5202 6230 1671 1682 5241 4532]\n",
      "Indices of the sorted elements of a given array:\n",
      "[0 3 4 6 1 5 2]\n"
     ]
    }
   ],
   "source": [
    "# Creating a NumPy array for student IDs\n",
    "student_id = np.array([1023, 5202, 6230, 1671, 1682, 5241, 4532])\n",
    "\n",
    "# Displaying the original array\n",
    "print(\"Original array:\")\n",
    "print(student_id)\n",
    "\n",
    "# Sorting the indices of the array's elements in ascending order\n",
    "i = np.argsort(student_id)\n",
    "\n",
    "# Displaying the indices of the sorted elements\n",
    "print(\"Indices of the sorted elements of a given array:\")\n",
    "print(i) "
   ]
  },
  {
   "cell_type": "code",
   "execution_count": null,
   "id": "e9cd0684",
   "metadata": {},
   "outputs": [],
   "source": []
  }
 ],
 "metadata": {
  "kernelspec": {
   "display_name": "Python 3 (ipykernel)",
   "language": "python",
   "name": "python3"
  },
  "language_info": {
   "codemirror_mode": {
    "name": "ipython",
    "version": 3
   },
   "file_extension": ".py",
   "mimetype": "text/x-python",
   "name": "python",
   "nbconvert_exporter": "python",
   "pygments_lexer": "ipython3",
   "version": "3.9.7"
  }
 },
 "nbformat": 4,
 "nbformat_minor": 5
}
