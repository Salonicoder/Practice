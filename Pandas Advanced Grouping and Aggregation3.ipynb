{
 "cells": [
  {
   "cell_type": "code",
   "execution_count": 1,
   "id": "5f975202",
   "metadata": {},
   "outputs": [],
   "source": [
    "import pandas as pd"
   ]
  },
  {
   "cell_type": "code",
   "execution_count": 2,
   "id": "b5b22b10",
   "metadata": {},
   "outputs": [
    {
     "name": "stdout",
     "output_type": "stream",
     "text": [
      "Sample DataFrame:\n",
      "  Category  Value\n",
      "0        A      1\n",
      "1        A      2\n",
      "2        B      3\n",
      "3        B      4\n",
      "4        C      5\n",
      "5        C      6\n",
      "\n",
      "Group by 'Category' and transform by calculating the mean:\n",
      "   Value\n",
      "0    1.5\n",
      "1    1.5\n",
      "2    3.5\n",
      "3    3.5\n",
      "4    5.5\n",
      "5    5.5\n"
     ]
    }
   ],
   "source": [
    "# Sample DataFrame\n",
    "data = {'Category': ['A', 'A', 'B', 'B', 'C', 'C'],\n",
    "        'Value': [1, 2, 3, 4, 5, 6]}\n",
    "\n",
    "df = pd.DataFrame(data)\n",
    "print(\"Sample DataFrame:\")\n",
    "print(df)\n",
    "# Group by 'Category' and transform by calculating the mean\n",
    "print(\"\\nGroup by 'Category' and transform by calculating the mean:\")\n",
    "transformed = df.groupby('Category').transform('mean')\n",
    "print(transformed)"
   ]
  },
  {
   "cell_type": "code",
   "execution_count": 3,
   "id": "50d93d5e",
   "metadata": {},
   "outputs": [
    {
     "name": "stdout",
     "output_type": "stream",
     "text": [
      "Sample DataFrame:\n",
      "  Category  Value1  Value2\n",
      "0        A       1      10\n",
      "1        A       2      20\n",
      "2        B       3      30\n",
      "3        B       4      40\n",
      "4        C       5      50\n",
      "5        C       6      60\n",
      "\n",
      "Group by 'Category' and apply different functions using a dictionary:\n",
      "          Value1  Value2\n",
      "Category                \n",
      "A              3    15.0\n",
      "B              7    35.0\n",
      "C             11    55.0\n"
     ]
    }
   ],
   "source": [
    "# Sample DataFrame\n",
    "data = {'Category': ['A', 'A', 'B', 'B', 'C', 'C'],\n",
    "        'Value1': [1, 2, 3, 4, 5, 6],\n",
    "        'Value2': [10, 20, 30, 40, 50, 60]}\n",
    "\n",
    "df = pd.DataFrame(data)\n",
    "print(\"Sample DataFrame:\")\n",
    "print(df)\n",
    "\n",
    "# Group by 'Category' and apply different functions using a dictionary\n",
    "print(\"\\nGroup by 'Category' and apply different functions using a dictionary:\")\n",
    "grouped = df.groupby('Category').agg({'Value1': 'sum', 'Value2': 'mean'})\n",
    "\n",
    "print(grouped)"
   ]
  },
  {
   "cell_type": "code",
   "execution_count": 4,
   "id": "01fd1fdc",
   "metadata": {},
   "outputs": [
    {
     "name": "stdout",
     "output_type": "stream",
     "text": [
      "Sample DataFrame:\n",
      "  Category  Value\n",
      "0        A     10\n",
      "1        A     20\n",
      "2        B     30\n",
      "3        B     40\n",
      "4        C     50\n",
      "5        C     60\n",
      "\n",
      "Group by 'Category' and calculate the sum:\n",
      "  Category  Value  SumValue\n",
      "0        A     10        30\n",
      "1        A     20        30\n",
      "2        B     30        70\n",
      "3        B     40        70\n",
      "4        C     50       110\n",
      "5        C     60       110\n"
     ]
    }
   ],
   "source": [
    "# Sample DataFrame\n",
    "data = {'Category': ['A', 'A', 'B', 'B', 'C', 'C'],\n",
    "        'Value': [10, 20, 30, 40, 50, 60]}\n",
    "\n",
    "df = pd.DataFrame(data)\n",
    "print(\"Sample DataFrame:\")\n",
    "print(df)\n",
    "# Group by 'Category' and calculate the sum\n",
    "print(\"\\nGroup by 'Category' and calculate the sum:\")\n",
    "df['SumValue'] = df.groupby('Category')['Value'].transform('sum')\n",
    "\n",
    "print(df)"
   ]
  },
  {
   "cell_type": "code",
   "execution_count": 5,
   "id": "1343dfda",
   "metadata": {},
   "outputs": [
    {
     "name": "stdout",
     "output_type": "stream",
     "text": [
      "Sample DataFrame:\n",
      "  Category  Value\n",
      "0        A   10.0\n",
      "1        A    NaN\n",
      "2        B   30.0\n",
      "3        B   40.0\n",
      "4        C    NaN\n",
      "5        C   60.0\n",
      "\n",
      "Fill missing values with 0 and then group by 'Category' and sum:\n",
      "          Value\n",
      "Category       \n",
      "A          10.0\n",
      "B          70.0\n",
      "C          60.0\n"
     ]
    }
   ],
   "source": [
    "# Sample DataFrame with missing values\n",
    "data = {'Category': ['A', 'A', 'B', 'B', 'C', 'C'],\n",
    "        'Value': [10, None, 30, 40, None, 60]}\n",
    "\n",
    "df = pd.DataFrame(data)\n",
    "print(\"Sample DataFrame:\")\n",
    "print(df)\n",
    "      \n",
    "# Fill missing values with 0 and then group by 'Category' and sum\n",
    "print(\"\\nFill missing values with 0 and then group by 'Category' and sum:\")\n",
    "grouped = df.fillna(0).groupby('Category').sum()\n",
    "\n",
    "print(grouped)"
   ]
  },
  {
   "cell_type": "code",
   "execution_count": 6,
   "id": "db9d7ecd",
   "metadata": {},
   "outputs": [
    {
     "name": "stdout",
     "output_type": "stream",
     "text": [
      "Sample DataFrame:\n",
      "  Category  Value1  Value2\n",
      "0        A       5      50\n",
      "1        A      10     100\n",
      "2        B      15     150\n",
      "3        B      20     200\n",
      "4        C      25     250\n",
      "5        C      30     300\n",
      "\n",
      "Group by 'Category' and apply multiple named aggregations:\n",
      "          Total_Value1  Average_Value2\n",
      "Category                              \n",
      "A                   15            75.0\n",
      "B                   35           175.0\n",
      "C                   55           275.0\n"
     ]
    }
   ],
   "source": [
    "# Sample DataFrame\n",
    "data = {'Category': ['A', 'A', 'B', 'B', 'C', 'C'],\n",
    "        'Value1': [5, 10, 15, 20, 25, 30],\n",
    "        'Value2': [50, 100, 150, 200, 250, 300]}\n",
    "\n",
    "df = pd.DataFrame(data)\n",
    "print(\"Sample DataFrame:\")\n",
    "print(df)\n",
    "      \n",
    "# Group by 'Category' and apply multiple named aggregations\n",
    "print(\"\\nGroup by 'Category' and apply multiple named aggregations:\")\n",
    "grouped = df.groupby('Category').agg(\n",
    "    Total_Value1=('Value1', 'sum'),\n",
    "    Average_Value2=('Value2', 'mean')\n",
    ")\n",
    "\n",
    "print(grouped)"
   ]
  }
 ],
 "metadata": {
  "kernelspec": {
   "display_name": "Python 3 (ipykernel)",
   "language": "python",
   "name": "python3"
  },
  "language_info": {
   "codemirror_mode": {
    "name": "ipython",
    "version": 3
   },
   "file_extension": ".py",
   "mimetype": "text/x-python",
   "name": "python",
   "nbconvert_exporter": "python",
   "pygments_lexer": "ipython3",
   "version": "3.9.7"
  }
 },
 "nbformat": 4,
 "nbformat_minor": 5
}
