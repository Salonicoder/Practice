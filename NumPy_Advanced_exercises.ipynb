{
 "cells": [
  {
   "cell_type": "code",
   "execution_count": 1,
   "id": "c3d5ae3d",
   "metadata": {},
   "outputs": [],
   "source": [
    "import numpy as np"
   ]
  },
  {
   "cell_type": "code",
   "execution_count": 2,
   "id": "03e727e5",
   "metadata": {},
   "outputs": [
    {
     "name": "stdout",
     "output_type": "stream",
     "text": [
      "Original arrays:\n",
      "[[1 2]\n",
      " [3 4]\n",
      " [5 6]]\n",
      "[7 8]\n",
      "Dot product of the said two arrays:\n",
      "[23 53 83]\n"
     ]
    }
   ],
   "source": [
    "# Define the two arrays\n",
    "nums1 = np.array([[1, 2], [3, 4], [5, 6]])\n",
    "nums2 = np.array([7, 8])\n",
    "print(\"Original arrays:\")\n",
    "print(nums1)\n",
    "print(nums2)\n",
    "\n",
    "# Find the dot product\n",
    "result = np.dot(nums1, nums2)\n",
    "\n",
    "# Print the result\n",
    "print(\"Dot product of the said two arrays:\")\n",
    "print(result)"
   ]
  },
  {
   "cell_type": "code",
   "execution_count": 3,
   "id": "ad9fb5d4",
   "metadata": {
    "scrolled": true
   },
   "outputs": [
    {
     "name": "stdout",
     "output_type": "stream",
     "text": [
      "3x3 identity matrix:\n",
      "[[1. 0. 0.]\n",
      " [0. 1. 0.]\n",
      " [0. 0. 1.]]\n",
      "Vertical Stack:\n",
      " [[1. 0. 0.]\n",
      " [0. 1. 0.]\n",
      " [0. 0. 1.]\n",
      " [1. 0. 0.]\n",
      " [0. 1. 0.]\n",
      " [0. 0. 1.]\n",
      " [1. 0. 0.]\n",
      " [0. 1. 0.]\n",
      " [0. 0. 1.]]\n",
      "Horizontal Stack:\n",
      " [[1. 0. 0. 1. 0. 0. 1. 0. 0.]\n",
      " [0. 1. 0. 0. 1. 0. 0. 1. 0.]\n",
      " [0. 0. 1. 0. 0. 1. 0. 0. 1.]]\n"
     ]
    }
   ],
   "source": [
    "# Creating a 3x3 identity matrix\n",
    "matrix = np.identity(3)\n",
    "print(\"3x3 identity matrix:\")\n",
    "print(matrix)\n",
    "\n",
    "# stacking the matrix vertically\n",
    "vert_stack = np.vstack((matrix, matrix, matrix))\n",
    "\n",
    "# stacking the matrix horizontally\n",
    "horz_stack = np.hstack((matrix, matrix, matrix))\n",
    "\n",
    "print(\"Vertical Stack:\\n\", vert_stack)\n",
    "print(\"Horizontal Stack:\\n\", horz_stack)"
   ]
  },
  {
   "cell_type": "code",
   "execution_count": 4,
   "id": "bd660fca",
   "metadata": {},
   "outputs": [
    {
     "data": {
      "text/plain": [
       "array([[0.57413902, 0.60979733, 0.18055999, 0.17131714],\n",
       "       [0.8468092 , 0.137273  , 0.87563478, 0.15756234],\n",
       "       [0.77121901, 0.00760581, 0.0758423 , 0.4372162 ],\n",
       "       [0.58586738, 0.27539877, 0.2990527 , 0.26607218]])"
      ]
     },
     "execution_count": 4,
     "metadata": {},
     "output_type": "execute_result"
    }
   ],
   "source": [
    "arr = np.random.rand(4, 4)\n",
    "arr"
   ]
  },
  {
   "cell_type": "code",
   "execution_count": 8,
   "id": "dfa72f38",
   "metadata": {},
   "outputs": [
    {
     "data": {
      "text/plain": [
       "array([1.53581349, 2.01727932, 1.29188333, 1.42639103])"
      ]
     },
     "execution_count": 8,
     "metadata": {},
     "output_type": "execute_result"
    }
   ],
   "source": [
    "row_sum = np.sum(arr, axis=1)\n",
    "row_sum"
   ]
  },
  {
   "cell_type": "code",
   "execution_count": 9,
   "id": "65bed39d",
   "metadata": {},
   "outputs": [
    {
     "data": {
      "text/plain": [
       "array([[0.30074624, 0.36387967, 0.87273676],\n",
       "       [0.43871541, 0.85032349, 0.76705354],\n",
       "       [0.59647335, 0.29095292, 0.40487203]])"
      ]
     },
     "execution_count": 9,
     "metadata": {},
     "output_type": "execute_result"
    }
   ],
   "source": [
    "arr = np.random.rand(3, 3)\n",
    "arr"
   ]
  },
  {
   "cell_type": "code",
   "execution_count": 10,
   "id": "bf8aa82a",
   "metadata": {},
   "outputs": [
    {
     "data": {
      "text/plain": [
       "array([[0.51245422],\n",
       "       [0.68536415],\n",
       "       [0.4307661 ]])"
      ]
     },
     "execution_count": 10,
     "metadata": {},
     "output_type": "execute_result"
    }
   ],
   "source": [
    "row_means = np.mean(arr, axis=1, keepdims=True)\n",
    "row_means"
   ]
  },
  {
   "cell_type": "code",
   "execution_count": 11,
   "id": "67c121c5",
   "metadata": {},
   "outputs": [
    {
     "data": {
      "text/plain": [
       "array([[-0.21170798, -0.14857455,  0.36028254],\n",
       "       [-0.24664874,  0.16495934,  0.0816894 ],\n",
       "       [ 0.16570725, -0.13981318, -0.02589407]])"
      ]
     },
     "execution_count": 11,
     "metadata": {},
     "output_type": "execute_result"
    }
   ],
   "source": [
    "arr_subtracted = arr - row_means\n",
    "arr_subtracted"
   ]
  },
  {
   "cell_type": "code",
   "execution_count": 12,
   "id": "77adc524",
   "metadata": {},
   "outputs": [
    {
     "name": "stdout",
     "output_type": "stream",
     "text": [
      "Original array elements:\n",
      "[[0.5075901  0.26133991 0.98837156]\n",
      " [0.6439155  0.84599522 0.99168014]\n",
      " [0.54505148 0.08367471 0.10370237]]\n",
      "\n",
      "Mean of each row:\n",
      "[0.56551903 0.39700328 0.69458469]\n",
      "\n",
      "Subtract the mean of each row from each element:\n",
      "[[-0.05792893 -0.13566337  0.29378687]\n",
      " [ 0.07839648  0.44899194  0.29709545]\n",
      " [-0.02046754 -0.31332857 -0.59088232]]\n"
     ]
    }
   ],
   "source": [
    "# Generate a 3x3 array with random values\n",
    "nums = np.random.rand(3, 3)\n",
    "print(\"Original array elements:\")\n",
    "print(nums)\n",
    "# Compute the mean of each column\n",
    "col_means = np.mean(nums, axis=0)\n",
    "print(\"\\nMean of each row:\")\n",
    "print(col_means)\n",
    "# Subtract the mean of each column from each element\n",
    "print(\"\\nSubtract the mean of each row from each element:\")\n",
    "result = nums - col_means\n",
    "print(result)"
   ]
  },
  {
   "cell_type": "code",
   "execution_count": 13,
   "id": "92ad341c",
   "metadata": {},
   "outputs": [
    {
     "name": "stdout",
     "output_type": "stream",
     "text": [
      "Original array elements:\n",
      "[[0.82670147 0.30280261 0.01949584 0.59110926 0.04723175]\n",
      " [0.33547921 0.59993208 0.87153434 0.07480032 0.10807394]\n",
      " [0.69976744 0.64212014 0.83408784 0.91066722 0.70841286]\n",
      " [0.28046159 0.60653251 0.23338096 0.55577153 0.04186768]\n",
      " [0.24136957 0.94577321 0.86628846 0.8055453  0.90628265]]\n",
      "\n",
      "Normalize Array row-wise:\n",
      "[[0.77867935 0.28521316 0.01836335 0.55677242 0.04448811]\n",
      " [0.30014434 0.5367433  0.77973863 0.06692186 0.09669088]\n",
      " [0.40888814 0.37520367 0.48737424 0.5321211  0.41393983]\n",
      " [0.31130862 0.67324299 0.25904975 0.61689898 0.04647256]\n",
      " [0.13549288 0.53091005 0.48629126 0.45219307 0.50874201]]\n"
     ]
    }
   ],
   "source": [
    "# create 5x5 array with random values\n",
    "nums = np.random.rand(5, 5)\n",
    "print(\"Original array elements:\")\n",
    "print(nums)\n",
    "# normalize row-wise\n",
    "norm_arr = nums / np.linalg.norm(nums, axis=1, keepdims=True)\n",
    "print(\"\\nNormalize Array row-wise:\")\n",
    "print(norm_arr)"
   ]
  },
  {
   "cell_type": "code",
   "execution_count": 14,
   "id": "f5d9c7de",
   "metadata": {},
   "outputs": [
    {
     "name": "stdout",
     "output_type": "stream",
     "text": [
      "Original array elements:\n",
      "[[0.45176653 0.26339488 0.36664925 0.58427753 0.47583766]\n",
      " [0.04687965 0.17729627 0.44914749 0.99834621 0.55235751]\n",
      " [0.34753548 0.82122951 0.31694439 0.05196186 0.12505387]\n",
      " [0.73488353 0.30385731 0.88828263 0.4433483  0.72635107]\n",
      " [0.15930761 0.31152845 0.28816626 0.05164043 0.58038252]]\n",
      "\n",
      "Normalize Array row-wise:\n",
      "[[0.47819925 0.2681834  0.32050143 0.47082427 0.40050206]\n",
      " [0.04962256 0.18051952 0.39261613 0.80449033 0.46490713]\n",
      " [0.36786967 0.83615949 0.2770526  0.04187206 0.10525508]\n",
      " [0.77788133 0.30938145 0.77648011 0.35726026 0.61135367]\n",
      " [0.16862865 0.31719205 0.2518966  0.04161305 0.48849516]]\n"
     ]
    }
   ],
   "source": [
    "# create 5x5 array with random values\n",
    "nums = np.random.rand(5, 5)\n",
    "print(\"Original array elements:\")\n",
    "print(nums)\n",
    "# normalize column-wise\n",
    "norm_arr = nums / np.linalg.norm(nums, axis=0, keepdims=True)\n",
    "print(\"\\nNormalize Array row-wise:\")\n",
    "print(norm_arr)"
   ]
  },
  {
   "cell_type": "code",
   "execution_count": 16,
   "id": "cafd4be4",
   "metadata": {},
   "outputs": [
    {
     "name": "stdout",
     "output_type": "stream",
     "text": [
      "Original Array:\n",
      "[[0.87169609 0.80369622 0.93459441 0.24087015 0.88605142]\n",
      " [0.01976609 0.04959612 0.97242712 0.9568727  0.62260654]\n",
      " [0.10015507 0.9447103  0.6640602  0.20024903 0.53554114]\n",
      " [0.71604873 0.35044342 0.19026595 0.64711112 0.46171395]\n",
      " [0.98980877 0.20920743 0.91732024 0.38092567 0.48335471]]\n",
      "\n",
      "Normalized Array (column-wise):\n",
      "[[ 0.82666314  0.96230373  0.67715365 -0.86336303  1.86656074]\n",
      " [-1.29331493 -1.22237012  0.80598021  1.66664148  0.1603168 ]\n",
      " [-1.09327163  1.37083008 -0.2440596  -1.00689829 -0.40357654]\n",
      " [ 0.43934377 -0.35079722 -1.85740652  0.57209483 -0.88173047]\n",
      " [ 1.12057965 -0.75996646  0.61833225 -0.36847498 -0.74157054]]\n"
     ]
    }
   ],
   "source": [
    "# create a 5x5 array with random values\n",
    "nums = np.random.rand(5, 5)\n",
    "\n",
    "# compute the mean of each column\n",
    "col_means = np.mean(nums, axis=0)\n",
    "\n",
    "# normalize each column by subtracting its mean and dividing by its standard deviation\n",
    "arr_normalized = (nums - col_means) / np.std(nums, axis=0)\n",
    "\n",
    "print(\"Original Array:\")\n",
    "print(nums)\n",
    "print(\"\\nNormalized Array (column-wise):\")\n",
    "print(arr_normalized)"
   ]
  },
  {
   "cell_type": "code",
   "execution_count": 17,
   "id": "face5408",
   "metadata": {},
   "outputs": [
    {
     "name": "stdout",
     "output_type": "stream",
     "text": [
      "Original array elements:\n",
      "[[[0.06822519 0.18616035 0.38695016]\n",
      "  [0.55181683 0.71695235 0.84720263]\n",
      "  [0.8997301  0.67393002 0.918437  ]]\n",
      "\n",
      " [[0.77884291 0.29476766 0.53502498]\n",
      "  [0.11396971 0.99362498 0.91012821]\n",
      "  [0.71111164 0.6516499  0.02071606]]\n",
      "\n",
      " [[0.23472766 0.10731204 0.79853287]\n",
      "  [0.03181696 0.31938793 0.39415798]\n",
      "  [0.53075541 0.86457088 0.92622695]]]\n",
      "\n",
      "Sum along the last axis:\n",
      "[[0.64133569 2.11597181 2.49209712]\n",
      " [1.60863556 2.0177229  1.3834776 ]\n",
      " [1.14057257 0.74536287 2.32155324]]\n"
     ]
    }
   ],
   "source": [
    "nums = np.random.rand(3, 3, 3)\n",
    "print(\"Original array elements:\")\n",
    "print(nums)\n",
    "sum_along_last_axis = np.sum(nums, axis=2)\n",
    "print(\"\\nSum along the last axis:\")\n",
    "print(sum_along_last_axis)"
   ]
  },
  {
   "cell_type": "code",
   "execution_count": 18,
   "id": "19a3cd14",
   "metadata": {},
   "outputs": [
    {
     "name": "stdout",
     "output_type": "stream",
     "text": [
      "Original array elements:\n",
      "[[0.36491884 0.48433318 0.04939871 0.63993192 0.0288494 ]\n",
      " [0.61420027 0.18118178 0.73497348 0.23728802 0.1196635 ]\n",
      " [0.26884617 0.86162017 0.5683793  0.38924293 0.18670258]\n",
      " [0.32219237 0.84498167 0.63170177 0.12155299 0.10323741]\n",
      " [0.00943415 0.43889638 0.74891547 0.21354077 0.61712558]]\n",
      "\n",
      "Sort each row of the said array:\n",
      "[[0.0288494  0.04939871 0.36491884 0.48433318 0.63993192]\n",
      " [0.1196635  0.18118178 0.23728802 0.61420027 0.73497348]\n",
      " [0.18670258 0.26884617 0.38924293 0.5683793  0.86162017]\n",
      " [0.10323741 0.12155299 0.32219237 0.63170177 0.84498167]\n",
      " [0.00943415 0.21354077 0.43889638 0.61712558 0.74891547]]\n"
     ]
    }
   ],
   "source": [
    "# create a 5x5 array with random values\n",
    "nums = np.random.rand(5, 5)\n",
    "print(\"Original array elements:\")\n",
    "print(nums)\n",
    "# sort each row\n",
    "sorted_arr = np.sort(nums, axis=1)\n",
    "print(\"\\nSort each row of the said array:\")\n",
    "print(sorted_arr)"
   ]
  },
  {
   "cell_type": "code",
   "execution_count": 19,
   "id": "bc2a95f1",
   "metadata": {},
   "outputs": [
    {
     "name": "stdout",
     "output_type": "stream",
     "text": [
      "Original array elements:\n",
      "[[0.84865223 0.38904341 0.26816825 0.58535546 0.69617978]\n",
      " [0.64225003 0.79280793 0.08289085 0.4237052  0.68577333]\n",
      " [0.55050678 0.42405323 0.38001061 0.79455305 0.8308372 ]\n",
      " [0.00157041 0.41819714 0.61335714 0.5896129  0.77165235]\n",
      " [0.86275565 0.55218718 0.02797883 0.65830371 0.51562615]]\n",
      "\n",
      "Sort each column of the said array:\n",
      "[[0.00157041 0.38904341 0.02797883 0.4237052  0.51562615]\n",
      " [0.55050678 0.41819714 0.08289085 0.58535546 0.68577333]\n",
      " [0.64225003 0.42405323 0.26816825 0.5896129  0.69617978]\n",
      " [0.84865223 0.55218718 0.38001061 0.65830371 0.77165235]\n",
      " [0.86275565 0.79280793 0.61335714 0.79455305 0.8308372 ]]\n"
     ]
    }
   ],
   "source": [
    "# create a 5x5 array with random values\n",
    "nums = np.random.rand(5, 5)\n",
    "print(\"Original array elements:\")\n",
    "print(nums)\n",
    "# sort each column\n",
    "arr_sorted = np.sort(nums, axis=0)\n",
    "# print the sorted array\n",
    "print(\"\\nSort each column of the said array:\")\n",
    "print(arr_sorted)"
   ]
  }
 ],
 "metadata": {
  "kernelspec": {
   "display_name": "Python 3 (ipykernel)",
   "language": "python",
   "name": "python3"
  },
  "language_info": {
   "codemirror_mode": {
    "name": "ipython",
    "version": 3
   },
   "file_extension": ".py",
   "mimetype": "text/x-python",
   "name": "python",
   "nbconvert_exporter": "python",
   "pygments_lexer": "ipython3",
   "version": "3.9.7"
  }
 },
 "nbformat": 4,
 "nbformat_minor": 5
}
