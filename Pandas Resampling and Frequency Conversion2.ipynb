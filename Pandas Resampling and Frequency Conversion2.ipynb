{
 "cells": [
  {
   "cell_type": "code",
   "execution_count": 1,
   "id": "a8cac47d",
   "metadata": {},
   "outputs": [],
   "source": [
    "# Import necessary libraries\n",
    "import pandas as pd\n",
    "import numpy as np\n"
   ]
  },
  {
   "cell_type": "code",
   "execution_count": 2,
   "id": "7a55aeb0",
   "metadata": {},
   "outputs": [
    {
     "name": "stdout",
     "output_type": "stream",
     "text": [
      "2020-01-01   -1.268519\n",
      "2020-01-02    0.049203\n",
      "2020-01-03    0.356848\n",
      "2020-01-06    0.236001\n",
      "2020-01-07    0.184344\n",
      "2020-01-08   -0.742174\n",
      "2020-01-09    1.237882\n",
      "2020-01-10   -0.582546\n",
      "Freq: B, dtype: float64\n"
     ]
    }
   ],
   "source": [
    "# Create a time series data with daily frequency including weekends\n",
    "date_rng = pd.date_range(start='2020-01-01', end='2020-01-10', freq='D')\n",
    "ts = pd.Series(np.random.randn(len(date_rng)), index=date_rng)\n",
    "\n",
    "# Resample the time series to business day frequency\n",
    "ts_bday = ts.resample('B').mean()\n",
    "\n",
    "# Display the resampled time series\n",
    "print(ts_bday) "
   ]
  },
  {
   "cell_type": "code",
   "execution_count": 3,
   "id": "45cab000",
   "metadata": {},
   "outputs": [
    {
     "name": "stdout",
     "output_type": "stream",
     "text": [
      "2020-01-01 00:00:00    0.285163\n",
      "2020-01-01 01:00:00    0.285163\n",
      "2020-01-01 02:00:00    0.285163\n",
      "2020-01-01 03:00:00    0.285163\n",
      "2020-01-01 04:00:00    0.285163\n",
      "                         ...   \n",
      "2020-01-04 20:00:00    1.839136\n",
      "2020-01-04 21:00:00    1.839136\n",
      "2020-01-04 22:00:00    1.839136\n",
      "2020-01-04 23:00:00    1.839136\n",
      "2020-01-05 00:00:00   -0.228349\n",
      "Freq: H, Length: 97, dtype: float64\n"
     ]
    }
   ],
   "source": [
    "# Create a time series data with daily frequency\n",
    "date_rng = pd.date_range(start='2020-01-01', end='2020-01-05', freq='D')\n",
    "ts = pd.Series(np.random.randn(len(date_rng)), index=date_rng)\n",
    "\n",
    "# Introduce some missing values\n",
    "ts.iloc[2] = np.nan\n",
    "\n",
    "# Resample the time series to hourly frequency\n",
    "ts_hourly = ts.resample('H').ffill()\n",
    "\n",
    "# Interpolate missing values\n",
    "ts_interpolated = ts_hourly.interpolate()\n",
    "\n",
    "# Display the interpolated time series\n",
    "print(ts_interpolated)"
   ]
  },
  {
   "cell_type": "code",
   "execution_count": 4,
   "id": "4a802772",
   "metadata": {},
   "outputs": [
    {
     "name": "stdout",
     "output_type": "stream",
     "text": [
      "2023-01-01    0.235430\n",
      "2023-01-02    0.016951\n",
      "2023-01-03   -0.115362\n",
      "2023-01-04    0.012005\n",
      "2023-01-05    0.608647\n",
      "Freq: D, dtype: float64\n"
     ]
    }
   ],
   "source": [
    "# Create a time series data with hourly frequency\n",
    "date_rng = pd.date_range(start='2023-01-01', end='2023-01-05', freq='H')\n",
    "ts = pd.Series(np.random.randn(len(date_rng)), index=date_rng)\n",
    "\n",
    "# Define a custom function for resampling\n",
    "def custom_resample(array):\n",
    "    return np.sum(array) / len(array)\n",
    "\n",
    "# Resample the time series to daily frequency using the custom function\n",
    "ts_custom = ts.resample('D').apply(custom_resample)\n",
    "\n",
    "# Display the resampled time series\n",
    "print(ts_custom)"
   ]
  },
  {
   "cell_type": "code",
   "execution_count": 5,
   "id": "6f1f1538",
   "metadata": {},
   "outputs": [
    {
     "name": "stdout",
     "output_type": "stream",
     "text": [
      "2019-03-31    0.154839\n",
      "2019-06-30    0.360164\n",
      "2019-09-30    0.788705\n",
      "2019-12-31   -0.307105\n",
      "Freq: Q-DEC, dtype: float64\n"
     ]
    }
   ],
   "source": [
    "# Create a time series data with monthly frequency\n",
    "date_rng = pd.date_range(start='2019-01-01', end='2019-12-01', freq='M')\n",
    "ts = pd.Series(np.random.randn(len(date_rng)), index=date_rng)\n",
    "\n",
    "# Resample the time series to quarterly frequency\n",
    "ts_quarterly = ts.resample('Q').mean()\n",
    "\n",
    "# Display the resampled time series\n",
    "print(ts_quarterly)"
   ]
  },
  {
   "cell_type": "code",
   "execution_count": 6,
   "id": "4c6da23c",
   "metadata": {},
   "outputs": [
    {
     "name": "stdout",
     "output_type": "stream",
     "text": [
      "2017-12-31    0.018160\n",
      "2018-12-31    0.092244\n",
      "2019-12-31    0.033106\n",
      "2020-12-31   -0.564946\n",
      "2021-12-31   -0.179698\n",
      "Freq: A-DEC, dtype: float64\n"
     ]
    }
   ],
   "source": [
    "# Create a time series data with monthly frequency\n",
    "date_rng = pd.date_range(start='2017-01-01', end='2022-01-01', freq='M')\n",
    "ts = pd.Series(np.random.randn(len(date_rng)), index=date_rng)\n",
    "\n",
    "# Resample the time series to yearly frequency\n",
    "ts_yearly = ts.resample('Y').mean()\n",
    "\n",
    "# Display the resampled time series\n",
    "print(ts_yearly)"
   ]
  }
 ],
 "metadata": {
  "kernelspec": {
   "display_name": "Python 3 (ipykernel)",
   "language": "python",
   "name": "python3"
  },
  "language_info": {
   "codemirror_mode": {
    "name": "ipython",
    "version": 3
   },
   "file_extension": ".py",
   "mimetype": "text/x-python",
   "name": "python",
   "nbconvert_exporter": "python",
   "pygments_lexer": "ipython3",
   "version": "3.9.7"
  }
 },
 "nbformat": 4,
 "nbformat_minor": 5
}
