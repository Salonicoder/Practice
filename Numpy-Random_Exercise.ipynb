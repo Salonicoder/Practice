{
 "cells": [
  {
   "cell_type": "code",
   "execution_count": 1,
   "id": "7a3e262d",
   "metadata": {},
   "outputs": [],
   "source": [
    "import numpy as np"
   ]
  },
  {
   "cell_type": "code",
   "execution_count": 2,
   "id": "40328fe1",
   "metadata": {},
   "outputs": [
    {
     "data": {
      "text/plain": [
       "array([-0.24215678, -0.75116364, -0.51649643, -0.20967739, -0.86720851])"
      ]
     },
     "execution_count": 2,
     "metadata": {},
     "output_type": "execute_result"
    }
   ],
   "source": [
    "x = np.random.normal(size=5)\n",
    "x"
   ]
  },
  {
   "cell_type": "code",
   "execution_count": 3,
   "id": "be0a490b",
   "metadata": {},
   "outputs": [
    {
     "data": {
      "text/plain": [
       "array([10, 17, 27, 27, 18, 23])"
      ]
     },
     "execution_count": 3,
     "metadata": {},
     "output_type": "execute_result"
    }
   ],
   "source": [
    "x = np.random.randint(low=10, high=30, size=6)\n",
    "x"
   ]
  },
  {
   "cell_type": "code",
   "execution_count": 4,
   "id": "58ed14d4",
   "metadata": {},
   "outputs": [
    {
     "data": {
      "text/plain": [
       "array([[[0.43448303, 0.20085107, 0.81050292],\n",
       "        [0.03539614, 0.77773611, 0.77299529],\n",
       "        [0.08793194, 0.80719847, 0.24979632]],\n",
       "\n",
       "       [[0.11778996, 0.6087    , 0.82493715],\n",
       "        [0.72805492, 0.74339078, 0.26901695],\n",
       "        [0.07807914, 0.57988834, 0.28108955]],\n",
       "\n",
       "       [[0.59178664, 0.93104168, 0.03465077],\n",
       "        [0.86491081, 0.57598145, 0.63653459],\n",
       "        [0.25414166, 0.50713358, 0.27283533]]])"
      ]
     },
     "execution_count": 4,
     "metadata": {},
     "output_type": "execute_result"
    }
   ],
   "source": [
    "x = np.random.random((3, 3, 3))\n",
    "x"
   ]
  },
  {
   "cell_type": "code",
   "execution_count": 5,
   "id": "36a06b12",
   "metadata": {},
   "outputs": [
    {
     "data": {
      "text/plain": [
       "array([[0.95873202, 0.49057908, 0.45467637, 0.68371487, 0.87148499],\n",
       "       [0.29027881, 0.97692938, 0.0340384 , 0.17605019, 0.30581964],\n",
       "       [0.93910407, 0.74992589, 0.98513868, 0.59372969, 0.59415946],\n",
       "       [0.20892054, 0.10728292, 0.15146022, 0.4375073 , 0.92772701],\n",
       "       [0.56530808, 0.91962263, 0.58089939, 0.88514968, 0.88159723]])"
      ]
     },
     "execution_count": 5,
     "metadata": {},
     "output_type": "execute_result"
    }
   ],
   "source": [
    "x = np.random.random((5, 5))\n",
    "x"
   ]
  },
  {
   "cell_type": "code",
   "execution_count": 6,
   "id": "73257d7f",
   "metadata": {},
   "outputs": [
    {
     "data": {
      "text/plain": [
       "(0.03403839578205148, 0.9851386791991346)"
      ]
     },
     "execution_count": 6,
     "metadata": {},
     "output_type": "execute_result"
    }
   ],
   "source": [
    "xmin, xmax = x.min(), x.max()\n",
    "xmin, xmax"
   ]
  },
  {
   "cell_type": "code",
   "execution_count": 7,
   "id": "05ca9c60",
   "metadata": {},
   "outputs": [
    {
     "data": {
      "text/plain": [
       "array([[0.93145039, 0.57473716, 0.40304734, 0.14075913],\n",
       "       [0.59131857, 0.4337145 , 0.59297821, 0.21776156],\n",
       "       [0.95880974, 0.23595712, 0.76322948, 0.6600897 ],\n",
       "       [0.05502495, 0.47649128, 0.55600143, 0.64452512],\n",
       "       [0.2096716 , 0.22836698, 0.06495614, 0.76100834],\n",
       "       [0.2937352 , 0.48034691, 0.2644657 , 0.0525839 ],\n",
       "       [0.00342349, 0.91137618, 0.83768662, 0.85532917],\n",
       "       [0.02310388, 0.88129476, 0.60877698, 0.09415729],\n",
       "       [0.90639437, 0.02968482, 0.52950902, 0.50022009],\n",
       "       [0.68085203, 0.05954365, 0.47641008, 0.17107206]])"
      ]
     },
     "execution_count": 7,
     "metadata": {},
     "output_type": "execute_result"
    }
   ],
   "source": [
    "x = np.random.rand(10, 4)\n",
    "x"
   ]
  },
  {
   "cell_type": "code",
   "execution_count": 8,
   "id": "6948f989",
   "metadata": {},
   "outputs": [
    {
     "data": {
      "text/plain": [
       "array([[0.93145039, 0.57473716, 0.40304734, 0.14075913],\n",
       "       [0.59131857, 0.4337145 , 0.59297821, 0.21776156],\n",
       "       [0.95880974, 0.23595712, 0.76322948, 0.6600897 ],\n",
       "       [0.05502495, 0.47649128, 0.55600143, 0.64452512],\n",
       "       [0.2096716 , 0.22836698, 0.06495614, 0.76100834]])"
      ]
     },
     "execution_count": 8,
     "metadata": {},
     "output_type": "execute_result"
    }
   ],
   "source": [
    "y = x[:5, :]\n",
    "y"
   ]
  },
  {
   "cell_type": "code",
   "execution_count": 9,
   "id": "7cc6cf7f",
   "metadata": {},
   "outputs": [
    {
     "data": {
      "text/plain": [
       "array([0, 9, 8, 6, 2, 3, 5, 4, 1, 7])"
      ]
     },
     "execution_count": 9,
     "metadata": {},
     "output_type": "execute_result"
    }
   ],
   "source": [
    "x = np.arange(10)\n",
    "np.random.shuffle(x)\n",
    "x"
   ]
  },
  {
   "cell_type": "code",
   "execution_count": 10,
   "id": "f6fcddd8",
   "metadata": {},
   "outputs": [
    {
     "data": {
      "text/plain": [
       "array([5, 0, 9, 4, 8, 1, 6, 3, 2, 7])"
      ]
     },
     "execution_count": 10,
     "metadata": {},
     "output_type": "execute_result"
    }
   ],
   "source": [
    "np.random.permutation(10)"
   ]
  },
  {
   "cell_type": "code",
   "execution_count": 12,
   "id": "d163236b",
   "metadata": {},
   "outputs": [
    {
     "data": {
      "text/plain": [
       "array([[0.19172179, 0.49155334, 0.83337846],\n",
       "       [0.54416286, 0.18275379, 0.3855864 ],\n",
       "       [0.94782969, 0.74533586, 0.40950365]])"
      ]
     },
     "execution_count": 12,
     "metadata": {},
     "output_type": "execute_result"
    }
   ],
   "source": [
    "x = np.random.random((3, 3))\n",
    "x"
   ]
  },
  {
   "cell_type": "code",
   "execution_count": 13,
   "id": "4806e3f3",
   "metadata": {},
   "outputs": [],
   "source": [
    "xmax, xmin = x.max(), x.min()\n"
   ]
  },
  {
   "cell_type": "code",
   "execution_count": 14,
   "id": "50669695",
   "metadata": {},
   "outputs": [
    {
     "data": {
      "text/plain": [
       "array([[0.01172171, 0.40361949, 0.85040539],\n",
       "       [0.47238329, 0.        , 0.26511436],\n",
       "       [1.        , 0.73532844, 0.29637564]])"
      ]
     },
     "execution_count": 14,
     "metadata": {},
     "output_type": "execute_result"
    }
   ],
   "source": [
    "x = (x - xmin)/(xmax - xmin)\n",
    "x"
   ]
  },
  {
   "cell_type": "code",
   "execution_count": 15,
   "id": "b0f6243c",
   "metadata": {},
   "outputs": [
    {
     "data": {
      "text/plain": [
       "array([0.06527837, 0.78741564, 0.93606094, 0.79971582, 0.28654955,\n",
       "       0.33936167, 0.63626534, 0.67515478, 0.38030187, 0.69177288])"
      ]
     },
     "execution_count": 15,
     "metadata": {},
     "output_type": "execute_result"
    }
   ],
   "source": [
    "x = np.random.random(10)\n",
    "x"
   ]
  },
  {
   "cell_type": "code",
   "execution_count": 16,
   "id": "d5de8e4e",
   "metadata": {},
   "outputs": [
    {
     "data": {
      "text/plain": [
       "array([0.06527837, 0.28654955, 0.33936167, 0.38030187, 0.63626534,\n",
       "       0.67515478, 0.69177288, 0.78741564, 0.79971582, 0.93606094])"
      ]
     },
     "execution_count": 16,
     "metadata": {},
     "output_type": "execute_result"
    }
   ],
   "source": [
    "x.sort()\n",
    "x"
   ]
  },
  {
   "cell_type": "code",
   "execution_count": 17,
   "id": "301be940",
   "metadata": {},
   "outputs": [
    {
     "name": "stdout",
     "output_type": "stream",
     "text": [
      "2.9358539321728534\n"
     ]
    }
   ],
   "source": [
    "# Generating an array of 5 random numbers between 1 and 12 using np.random.uniform()\n",
    "x = np.random.uniform(1, 12, 5)\n",
    "\n",
    "# Setting a value 'v' to find the number closest to it in the array 'x'\n",
    "v = 4\n",
    "\n",
    "# Finding the value 'n' in 'x' that is closest to 'v'\n",
    "# Using np.abs(x - v).argmin() to get the index of the element in 'x' closest to 'v'\n",
    "# Accessing the element using x.flat[index] to get the closest value 'n'\n",
    "n = x.flat[np.abs(x - v).argmin()]\n",
    "\n",
    "# Printing the value 'n' that is closest to 'v'\n",
    "print(n)"
   ]
  },
  {
   "cell_type": "code",
   "execution_count": 18,
   "id": "e05472a0",
   "metadata": {},
   "outputs": [
    {
     "name": "stdout",
     "output_type": "stream",
     "text": [
      "First array:\n",
      "[0 0 1 1 1 0]\n",
      "Second array:\n",
      "[1 0 0 0 0 0]\n",
      "Test above two arrays are equal or not!\n",
      "False\n"
     ]
    }
   ],
   "source": [
    "# Generating the first array 'x' with 6 random integers (0 or 1) using np.random.randint()\n",
    "x = np.random.randint(0, 2, 6)\n",
    "\n",
    "# Printing the first generated array 'x'\n",
    "print(\"First array:\")\n",
    "print(x)\n",
    "\n",
    "# Generating the second array 'y' with 6 random integers (0 or 1) using np.random.randint()\n",
    "y = np.random.randint(0, 2, 6)\n",
    "\n",
    "# Printing the second generated array 'y'\n",
    "print(\"Second array:\")\n",
    "print(y)\n",
    "\n",
    "# Checking if the two arrays 'x' and 'y' are equal using np.allclose()\n",
    "# This function returns True if the two arrays are element-wise equal within a tolerance\n",
    "array_equal = np.allclose(x, y)\n",
    "\n",
    "# Printing whether the two arrays are equal or not\n",
    "print(\"Test above two arrays are equal or not!\")\n",
    "print(array_equal) "
   ]
  },
  {
   "cell_type": "code",
   "execution_count": 19,
   "id": "ae7cba49",
   "metadata": {},
   "outputs": [
    {
     "name": "stdout",
     "output_type": "stream",
     "text": [
      "Original array:\n",
      "[0.6673103  0.59568549 0.86377677 0.14060165 0.85431536 0.96454091\n",
      " 0.64914464 0.09354117 0.41013266 0.07707562 0.43169887 0.81496882\n",
      " 0.98492742 0.72498201 0.13007987]\n",
      "Maximum value replaced by -1:\n",
      "[ 0.6673103   0.59568549  0.86377677  0.14060165  0.85431536  0.96454091\n",
      "  0.64914464  0.09354117  0.41013266  0.07707562  0.43169887  0.81496882\n",
      " -1.          0.72498201  0.13007987]\n"
     ]
    }
   ],
   "source": [
    "# Generating an array 'x' with 15 random floats between 0 and 1 using np.random.random()\n",
    "x = np.random.random(15)\n",
    "\n",
    "# Displaying the original array 'x'\n",
    "print(\"Original array:\")\n",
    "print(x)\n",
    "\n",
    "# Finding the index of the maximum value in the array using x.argmax()\n",
    "# Replacing the maximum value with -1 using the index obtained from x.argmax()\n",
    "x[x.argmax()] = -1\n",
    "\n",
    "# Displaying the modified array where the maximum value has been replaced by -1\n",
    "print(\"Maximum value replaced by -1:\")\n",
    "print(x) "
   ]
  },
  {
   "cell_type": "code",
   "execution_count": 20,
   "id": "55ddfba8",
   "metadata": {},
   "outputs": [
    {
     "name": "stdout",
     "output_type": "stream",
     "text": [
      "[[0.         0.25283536 0.07168813 0.38863211 0.123468   0.54460039\n",
      "  0.10030383 0.4533992  0.72895311 0.60451983]\n",
      " [0.25283536 0.         0.2476979  0.18225933 0.27260904 0.38724665\n",
      "  0.23052998 0.37183754 0.50999264 0.53130597]\n",
      " [0.07168813 0.2476979  0.         0.4073413  0.05334645 0.48974988\n",
      "  0.03364809 0.5048561  0.7475132  0.5361626 ]\n",
      " [0.38863211 0.18225933 0.4073413  0.         0.44246873 0.50211065\n",
      "  0.39813131 0.24519135 0.34094475 0.68125311]\n",
      " [0.123468   0.27260904 0.05334645 0.44246873 0.         0.46628739\n",
      "  0.04473729 0.5544003  0.78008962 0.49460907]\n",
      " [0.54460039 0.38724665 0.48974988 0.50211065 0.46628739 0.\n",
      "  0.45621203 0.73961689 0.69913621 0.21856543]\n",
      " [0.10030383 0.23052998 0.03364809 0.39813131 0.04473729 0.45621203\n",
      "  0.         0.51208529 0.73637199 0.50458623]\n",
      " [0.4533992  0.37183754 0.5048561  0.24519135 0.5544003  0.73961689\n",
      "  0.51208529 0.         0.40915405 0.90226494]\n",
      " [0.72895311 0.50999264 0.7475132  0.34094475 0.78008962 0.69913621\n",
      "  0.73637199 0.40915405 0.         0.91245237]\n",
      " [0.60451983 0.53130597 0.5361626  0.68125311 0.49460907 0.21856543\n",
      "  0.50458623 0.90226494 0.91245237 0.        ]]\n"
     ]
    }
   ],
   "source": [
    "# Generating a 10x2 array 'a' with random values between 0 and 1 using np.random.random()\n",
    "a = np.random.random((10, 2))\n",
    "\n",
    "# Extracting x and y coordinates from the array 'a' using np.atleast_2d() method\n",
    "# at least 2-dimensional arrays from the columns of 'a'\n",
    "x, y = np.atleast_2d(a[:, 0], a[:, 1])\n",
    "\n",
    "# Calculating the Euclidean distance between points in the 'a' array using the formula:\n",
    "# d = sqrt((x - x_transpose)^2 + (y - y_transpose)^2)\n",
    "# where x and y are the coordinate matrices created, and T is the transpose of those matrices\n",
    "d = np.sqrt((x - x.T) ** 2 + (y - y.T) ** 2)\n",
    "\n",
    "# Displaying the resultant matrix containing the distances between points\n",
    "print(d) "
   ]
  },
  {
   "cell_type": "code",
   "execution_count": 21,
   "id": "c5c69bed",
   "metadata": {},
   "outputs": [
    {
     "name": "stdout",
     "output_type": "stream",
     "text": [
      "Original array:\n",
      "[1 7 1 2 4 9 5 4 4 8 5 0 0 1 6 7 7 2 7 1 7 9 3 3 4 0 7 6 6 8 2 4 4 0 6 5 2\n",
      " 4 8 9]\n",
      "Most frequent value in the above array:\n",
      "4\n"
     ]
    }
   ],
   "source": [
    "# Generating a random array 'x' with integers between 0 and 10 (exclusive) having 40 elements\n",
    "x = np.random.randint(0, 10, 40)\n",
    "\n",
    "# Displaying the original array 'x'\n",
    "print(\"Original array:\")\n",
    "print(x)\n",
    "\n",
    "# Finding the most frequent value in the array using np.bincount() to count occurrences\n",
    "# Then using argmax() to find the index of the maximum count, which represents the most frequent value\n",
    "most_frequent_value = np.bincount(x).argmax()\n",
    "\n",
    "# Displaying the most frequent value in the array\n",
    "print(\"Most frequent value in the above array:\")\n",
    "print(most_frequent_value)"
   ]
  },
  {
   "cell_type": "code",
   "execution_count": 22,
   "id": "5fdb9a0e",
   "metadata": {},
   "outputs": [
    {
     "name": "stdout",
     "output_type": "stream",
     "text": [
      "[0.46258943 0.5189364  0.24422192 0.73671905 1.06310028 1.24969282\n",
      " 0.9022769  1.15852525 0.24801942 0.8072304 ]\n",
      "[0.22778454 0.96605738 1.50535713 1.36972879 0.96530861 0.81350604\n",
      " 0.45877781 1.01833852 0.73776655 0.28816239]\n"
     ]
    }
   ],
   "source": [
    "# Generating a random 10x2 array 'z' with random numbers between 0 and 1\n",
    "z = np.random.random((10, 2))\n",
    "\n",
    "# Extracting the first column as 'x' and the second column as 'y' from the array 'z'\n",
    "x, y = z[:, 0], z[:, 1]\n",
    "\n",
    "# Calculating the Euclidean distance (r) using the formula sqrt(x^2 + y^2)\n",
    "r = np.sqrt(x**2 + y**2)\n",
    "\n",
    "# Calculating the angles (t) using arctan2() function, which returns the arctangent of y/x in radians\n",
    "t = np.arctan2(y, x)\n",
    "\n",
    "# Displaying the calculated Euclidean distances (r)\n",
    "print(r)\n",
    "\n",
    "# Displaying the calculated angles (t) in radians\n",
    "print(t)"
   ]
  },
  {
   "cell_type": "code",
   "execution_count": 23,
   "id": "94436aea",
   "metadata": {},
   "outputs": [
    {
     "data": {
      "text/plain": [
       "array([ 0,  1,  2,  3,  4,  5,  6,  7,  8,  9, 10, 11, 12, 13, 14, 15, 16,\n",
       "       17, 18, 19, 20, 21, 22, 23, 24, 25, 26, 27, 28, 29, 30, 31, 32, 33,\n",
       "       34, 35, 36, 37, 38, 39, 40, 41, 42, 43, 44, 45, 46, 47, 48, 49, 50,\n",
       "       51, 52, 53, 54, 55, 56, 57, 58, 59, 60, 61, 62, 63, 64, 65, 66, 67,\n",
       "       68, 69, 70, 71, 72, 73, 74, 75, 76, 77, 78, 79, 80, 81, 82, 83, 84,\n",
       "       85, 86, 87, 88, 89, 90, 91, 92, 93, 94, 95, 96, 97, 98, 99])"
      ]
     },
     "execution_count": 23,
     "metadata": {},
     "output_type": "execute_result"
    }
   ],
   "source": [
    "x = np.arange(100)\n",
    "x"
   ]
  },
  {
   "cell_type": "code",
   "execution_count": 24,
   "id": "cf7f55f8",
   "metadata": {},
   "outputs": [
    {
     "data": {
      "text/plain": [
       "19.089628896209344"
      ]
     },
     "execution_count": 24,
     "metadata": {},
     "output_type": "execute_result"
    }
   ],
   "source": [
    "a = np.random.uniform(0, 100)\n",
    "a"
   ]
  },
  {
   "cell_type": "code",
   "execution_count": 25,
   "id": "11215320",
   "metadata": {},
   "outputs": [],
   "source": [
    "index = (np.abs(x-a)).argmin()"
   ]
  },
  {
   "cell_type": "code",
   "execution_count": 26,
   "id": "2afe9d58",
   "metadata": {},
   "outputs": [
    {
     "data": {
      "text/plain": [
       "19"
      ]
     },
     "execution_count": 26,
     "metadata": {},
     "output_type": "execute_result"
    }
   ],
   "source": [
    "x[index]"
   ]
  },
  {
   "cell_type": "code",
   "execution_count": 27,
   "id": "4e9a1dc8",
   "metadata": {},
   "outputs": [
    {
     "data": {
      "text/plain": [
       "array([0, 1, 2, 3, 4, 5, 6, 7, 8, 9])"
      ]
     },
     "execution_count": 27,
     "metadata": {},
     "output_type": "execute_result"
    }
   ],
   "source": [
    "x =np.arange(10)\n",
    "x"
   ]
  },
  {
   "cell_type": "code",
   "execution_count": 28,
   "id": "ff095f65",
   "metadata": {},
   "outputs": [],
   "source": [
    "np.random.shuffle(x)"
   ]
  },
  {
   "cell_type": "code",
   "execution_count": 29,
   "id": "d5c7e348",
   "metadata": {},
   "outputs": [
    {
     "data": {
      "text/plain": [
       "array([9])"
      ]
     },
     "execution_count": 29,
     "metadata": {},
     "output_type": "execute_result"
    }
   ],
   "source": [
    "n = 1\n",
    "x[np.argsort(x)[-n:]]"
   ]
  },
  {
   "cell_type": "code",
   "execution_count": 30,
   "id": "30f6f9dc",
   "metadata": {},
   "outputs": [
    {
     "name": "stdout",
     "output_type": "stream",
     "text": [
      "[[[215  42 224 219  43]\n",
      "  [166  69  15 133 255]\n",
      "  [105  95  54  37 201]\n",
      "  ...\n",
      "  [240  22  66 232 132]\n",
      "  [ 13  85  53 220 170]\n",
      "  [249  62 221 146  69]]\n",
      "\n",
      " [[ 73  79 148 132 164]\n",
      "  [  3  93  98 138 200]\n",
      "  [174  34  31 208 130]\n",
      "  ...\n",
      "  [ 15 252  41  64  39]\n",
      "  [188 216 223 124  27]\n",
      "  [ 85 112 240 116 231]]\n",
      "\n",
      " [[227  50 243  20 171]\n",
      "  [ 12  66 108 102  63]\n",
      "  [107  54   0   0 173]\n",
      "  ...\n",
      "  [215  46  57  99 151]\n",
      "  [243 199  31  28 179]\n",
      "  [143   7  30 175 190]]\n",
      "\n",
      " ...\n",
      "\n",
      " [[214  64  64 212  62]\n",
      "  [140  44 217  17 164]\n",
      "  [226 146 247  53 199]\n",
      "  ...\n",
      "  [189  68  49 117  63]\n",
      "  [ 14  17 109  82  92]\n",
      "  [155 221 135 184 231]]\n",
      "\n",
      " [[132 194 160 136 102]\n",
      "  [132 244 230 117 181]\n",
      "  [146 245  21 164  29]\n",
      "  ...\n",
      "  [125 240 243 190 240]\n",
      "  [137  41 157 117 155]\n",
      "  [ 20  92  72 182  41]]\n",
      "\n",
      " [[120  45 198 218 190]\n",
      "  [ 42 150 190 103 106]\n",
      "  [164  71 220 114  59]\n",
      "  ...\n",
      "  [143  20 219 154  85]\n",
      "  [219 190 170 227 246]\n",
      "  [ 39  14 127 230 158]]]\n"
     ]
    }
   ],
   "source": [
    "# Setting the random seed to 32 for reproducibility\n",
    "np.random.seed(32)\n",
    "\n",
    "# Generating a 3D NumPy array 'nums' with dimensions 300x400x5\n",
    "# Filling it with random integers in the range [0, 256) and data type uint8\n",
    "nums = np.random.randint(low=0, high=256, size=(300, 400, 5), dtype=np.uint8)\n",
    "\n",
    "# Printing the generated array 'nums'\n",
    "print(nums)"
   ]
  }
 ],
 "metadata": {
  "kernelspec": {
   "display_name": "Python 3 (ipykernel)",
   "language": "python",
   "name": "python3"
  },
  "language_info": {
   "codemirror_mode": {
    "name": "ipython",
    "version": 3
   },
   "file_extension": ".py",
   "mimetype": "text/x-python",
   "name": "python",
   "nbconvert_exporter": "python",
   "pygments_lexer": "ipython3",
   "version": "3.9.7"
  }
 },
 "nbformat": 4,
 "nbformat_minor": 5
}
