{
 "cells": [
  {
   "cell_type": "code",
   "execution_count": 1,
   "id": "ac9e2191",
   "metadata": {},
   "outputs": [],
   "source": [
    "import numpy as np"
   ]
  },
  {
   "cell_type": "code",
   "execution_count": 2,
   "id": "47e1c704",
   "metadata": {},
   "outputs": [
    {
     "name": "stdout",
     "output_type": "stream",
     "text": [
      "Original array elements:\n",
      "[[0.14045794 0.86381436 0.2909713  0.11911753 0.90862854]\n",
      " [0.58917612 0.4027841  0.43831399 0.25709661 0.21526037]\n",
      " [0.91446917 0.33929168 0.42574616 0.21702127 0.67332243]\n",
      " [0.08816134 0.99722373 0.76723285 0.8929491  0.79964998]\n",
      " [0.26990623 0.61005197 0.98855513 0.73465934 0.14525447]]\n",
      "\n",
      "Second-largest value in each row:\n",
      "[0.86381436 0.43831399 0.67332243 0.8929491  0.73465934]\n"
     ]
    }
   ],
   "source": [
    "# create a 5x5 array with random values\n",
    "nums = np.random.rand(5, 5)\n",
    "print(\"Original array elements:\")\n",
    "print(nums)\n",
    "# find the second-largest value in each row\n",
    "second_largest = np.partition(nums, -2, axis=1)[:, -2]\n",
    "print(\"\\nSecond-largest value in each row:\")\n",
    "print(second_largest)"
   ]
  },
  {
   "cell_type": "code",
   "execution_count": 3,
   "id": "cb261d0a",
   "metadata": {},
   "outputs": [
    {
     "name": "stdout",
     "output_type": "stream",
     "text": [
      "\n",
      "Second-largest value in each column:\n",
      "[0.58917612 0.86381436 0.76723285 0.73465934 0.79964998]\n"
     ]
    }
   ],
   "source": [
    "# find the indices of the second-largest value in each column\n",
    "indices = np.argsort(nums, axis=0)[-2, :]\n",
    "# get the second-largest value in each column using the indices\n",
    "second_largest_values = nums[indices, np.arange(nums.shape[1])]\n",
    "print(\"\\nSecond-largest value in each column:\")\n",
    "print(second_largest_values)"
   ]
  },
  {
   "cell_type": "code",
   "execution_count": 4,
   "id": "2ae5a0a7",
   "metadata": {},
   "outputs": [
    {
     "name": "stdout",
     "output_type": "stream",
     "text": [
      "\n",
      "Said array after replacing the maximum value with 0:\n",
      "[[0.14045794 0.86381436 0.2909713  0.11911753 0.90862854]\n",
      " [0.58917612 0.4027841  0.43831399 0.25709661 0.21526037]\n",
      " [0.91446917 0.33929168 0.42574616 0.21702127 0.67332243]\n",
      " [0.08816134 0.         0.76723285 0.8929491  0.79964998]\n",
      " [0.26990623 0.61005197 0.98855513 0.73465934 0.14525447]]\n"
     ]
    }
   ],
   "source": [
    "max_value = np.max(nums)\n",
    "nums[nums == max_value] = 0\n",
    "print(\"\\nSaid array after replacing the maximum value with 0:\")\n",
    "print(nums)"
   ]
  },
  {
   "cell_type": "code",
   "execution_count": 6,
   "id": "2f6c4f71",
   "metadata": {},
   "outputs": [
    {
     "name": "stdout",
     "output_type": "stream",
     "text": [
      "Original array elements:\n",
      "[[0.00242509 0.53041917 0.79832303 0.73434559 0.34328564]\n",
      " [0.80015347 0.72295048 0.69727316 0.1983251  0.37534282]\n",
      " [0.96061209 0.45352876 0.94457383 0.92816401 0.69123787]\n",
      " [0.23950101 0.92244185 0.78597354 0.66956951 0.54408555]\n",
      " [0.97403749 0.12979232 0.4815035  0.44853527 0.94999188]]\n",
      "\n",
      "Said array after replacing the minimum value with 0:\n",
      "[[0.         0.53041917 0.79832303 0.73434559 0.34328564]\n",
      " [0.80015347 0.72295048 0.69727316 0.1983251  0.37534282]\n",
      " [0.96061209 0.45352876 0.94457383 0.92816401 0.69123787]\n",
      " [0.23950101 0.92244185 0.78597354 0.66956951 0.54408555]\n",
      " [0.97403749 0.12979232 0.4815035  0.44853527 0.94999188]]\n"
     ]
    }
   ],
   "source": [
    "# Create a 5x5 array with random values\n",
    "nums = np.random.rand(5, 5)\n",
    "print(\"Original array elements:\")\n",
    "print(nums)\n",
    "# Find the minimum value in the array\n",
    "min_val = nums.min()\n",
    "# Replace the minimum value with 0\n",
    "nums[nums == min_val] = 0\n",
    "# Print the updated array\n",
    "print(\"\\nSaid array after replacing the minimum value with 0:\")\n",
    "print(nums)"
   ]
  },
  {
   "cell_type": "code",
   "execution_count": 7,
   "id": "6dcaa211",
   "metadata": {},
   "outputs": [
    {
     "name": "stdout",
     "output_type": "stream",
     "text": [
      "Original array elements:\n",
      "[[0.49693565 0.73974982 0.14033291 0.05427146 0.37954987]\n",
      " [0.5506244  0.64885459 0.69907465 0.56308229 0.51302555]\n",
      " [0.75987965 0.11916924 0.19848427 0.87439186 0.33845605]\n",
      " [0.41492964 0.73804872 0.5845122  0.24843961 0.97155129]\n",
      " [0.3303823  0.05226244 0.07671491 0.46096613 0.06958211]]\n",
      "\n",
      "Exponential of each element of the said array:\n",
      "[[1.64367675 2.09541121 1.1506568  1.05577116 1.46162652]\n",
      " [1.73433559 1.91334801 2.01189014 1.75607691 1.67033725]\n",
      " [2.13801889 1.12656056 1.21955285 2.39741687 1.40278009]\n",
      " [1.51426419 2.09184974 1.79411561 1.2820234  2.64203986]\n",
      " [1.39149999 1.05365222 1.07973421 1.58560515 1.07206008]]\n"
     ]
    }
   ],
   "source": [
    "nums = np.random.rand(5, 5)\n",
    "print(\"Original array elements:\")\n",
    "print(nums)\n",
    "exp_arr = np.exp(nums)\n",
    "print(\"\\nExponential of each element of the said array:\")\n",
    "print(exp_arr)"
   ]
  },
  {
   "cell_type": "code",
   "execution_count": 8,
   "id": "91e701ef",
   "metadata": {
    "scrolled": true
   },
   "outputs": [
    {
     "name": "stdout",
     "output_type": "stream",
     "text": [
      "Array:\n",
      " [[0.56906866 0.00715826 0.22448635 0.10336101]\n",
      " [0.42907524 0.78647519 0.03398246 0.65169037]\n",
      " [0.89995605 0.86457023 0.11041591 0.82727465]\n",
      " [0.15931998 0.39756901 0.93470471 0.6667336 ]]\n",
      "Eigenvalues:\n",
      " [ 1.87796103 -0.36970706  0.54386305  0.08057634]\n",
      "Eigenvectors:\n",
      " [[ 0.15578041  0.07215303 -0.81161795 -0.06359567]\n",
      " [ 0.45919151 -0.39605219  0.43545438 -0.63931605]\n",
      " [ 0.60120249 -0.60528813 -0.09647345 -0.18376605]\n",
      " [ 0.63516233  0.68670436  0.37729122  0.74394934]]\n"
     ]
    }
   ],
   "source": [
    "# Create a 4x4 array with random values\n",
    "array = np.random.rand(4, 4)\n",
    "\n",
    "# Compute the eigenvalues and eigenvectors of the array\n",
    "eigenvalues, eigenvectors = np.linalg.eig(array)\n",
    "\n",
    "# Printing the array, eigenvalues, and eigenvectors\n",
    "print(\"Array:\\n\", array)\n",
    "print(\"Eigenvalues:\\n\", eigenvalues)\n",
    "print(\"Eigenvectors:\\n\", eigenvectors)"
   ]
  },
  {
   "cell_type": "code",
   "execution_count": 9,
   "id": "a6ded5ba",
   "metadata": {},
   "outputs": [
    {
     "name": "stdout",
     "output_type": "stream",
     "text": [
      "Array:\n",
      " [[0.762822   0.32725049 0.82364641 0.44563386 0.57385062 0.22314602]\n",
      " [0.80835863 0.06489771 0.15987721 0.75645881 0.98866173 0.10196571]\n",
      " [0.78841816 0.70091363 0.85659447 0.174783   0.51167263 0.08168383]\n",
      " [0.94787375 0.47766055 0.22720905 0.45269953 0.16198599 0.86779443]\n",
      " [0.1478426  0.7997629  0.62560788 0.45083303 0.39590101 0.62391132]\n",
      " [0.92502916 0.96278628 0.84709668 0.69863614 0.14148733 0.58189799]]\n",
      "Inverse of the array:\n",
      " [[-0.23143891  0.08880009  0.65376701  0.64044176 -1.04618055  0.14803285]\n",
      " [-2.39049056  0.4539266   1.40144742 -0.2624682   0.41951015  0.58205946]\n",
      " [ 2.19755182 -0.88377972 -0.66845826 -0.41356807  0.0757531  -0.0584787 ]\n",
      " [ 0.2151364   0.70304525 -1.64957845 -1.03110604 -0.11747283  1.6895251 ]\n",
      " [-0.26988534  0.57485866  0.80562783  0.22549555  0.82301259 -1.32904646]\n",
      " [ 0.93137234 -0.58951595 -0.60032881  1.20135974  0.79963089 -1.10004938]]\n"
     ]
    }
   ],
   "source": [
    "# Create a 6x6 array with random values\n",
    "array = np.random.rand(6, 6)\n",
    "\n",
    "# Compute the inverse of the matrix\n",
    "inverse_array = np.linalg.inv(array)\n",
    "\n",
    "# Printing the array and its inverse\n",
    "print(\"Array:\\n\", array)\n",
    "print(\"Inverse of the array:\\n\", inverse_array)"
   ]
  },
  {
   "cell_type": "code",
   "execution_count": 10,
   "id": "b9052c2f",
   "metadata": {},
   "outputs": [
    {
     "name": "stdout",
     "output_type": "stream",
     "text": [
      "Array:\n",
      " [[0.16139743 0.02195661 0.39029797 0.34866171]\n",
      " [0.57117862 0.93470216 0.64928187 0.46556266]\n",
      " [0.30200431 0.93628105 0.86337225 0.72312316]\n",
      " [0.67450815 0.08665575 0.39656113 0.11801132]]\n",
      "Determinant of the array:\n",
      " -0.017179617684568164\n"
     ]
    }
   ],
   "source": [
    "# Create a 4x4 array with random values\n",
    "array = np.random.rand(4, 4)\n",
    "# Calculate the determinant of the array\n",
    "determinant = np.linalg.det(array)\n",
    "# Printing the array and its determinant\n",
    "print(\"Array:\\n\", array)\n",
    "print(\"Determinant of the array:\\n\", determinant)"
   ]
  },
  {
   "cell_type": "code",
   "execution_count": 11,
   "id": "256d1d2c",
   "metadata": {},
   "outputs": [
    {
     "name": "stdout",
     "output_type": "stream",
     "text": [
      "3x3x3 Array:\n",
      " [[[0.90855464 0.41310159 0.81321579]\n",
      "  [0.34300995 0.30413416 0.20569893]\n",
      "  [0.36187192 0.30966368 0.6336355 ]]\n",
      "\n",
      " [[0.5544159  0.42414543 0.80385741]\n",
      "  [0.22595355 0.65366024 0.04144071]\n",
      "  [0.91142493 0.1812827  0.59898272]]\n",
      "\n",
      " [[0.14239577 0.35911429 0.52734135]\n",
      "  [0.83303151 0.2739434  0.18913006]\n",
      "  [0.73683287 0.04089815 0.83042521]]]\n",
      "Flattened 1D Array:\n",
      " [0.90855464 0.41310159 0.81321579 0.34300995 0.30413416 0.20569893\n",
      " 0.36187192 0.30966368 0.6336355  0.5544159  0.42414543 0.80385741\n",
      " 0.22595355 0.65366024 0.04144071 0.91142493 0.1812827  0.59898272\n",
      " 0.14239577 0.35911429 0.52734135 0.83303151 0.2739434  0.18913006\n",
      " 0.73683287 0.04089815 0.83042521]\n"
     ]
    }
   ],
   "source": [
    "# Create a 3x3x3 array with random values\n",
    "array = np.random.rand(3, 3, 3)\n",
    "\n",
    "# Flatten the 3D array to a 1D array\n",
    "flattened_array = array.flatten()\n",
    "\n",
    "# Printing the 3D array and its flattened version\n",
    "print(\"3x3x3 Array:\\n\", array)\n",
    "print(\"Flattened 1D Array:\\n\", flattened_array)"
   ]
  },
  {
   "cell_type": "code",
   "execution_count": 12,
   "id": "d4ca3fc3",
   "metadata": {},
   "outputs": [
    {
     "name": "stdout",
     "output_type": "stream",
     "text": [
      "5x5 Array:\n",
      " [[0.00946508 0.45519475 0.72246716 0.88594123 0.50833463]\n",
      " [0.31411903 0.46582269 0.49732656 0.31193052 0.12864186]\n",
      " [0.87888831 0.67570381 0.57226127 0.96289531 0.98464334]\n",
      " [0.24836856 0.2997261  0.75953126 0.590325   0.73943654]\n",
      " [0.55495052 0.23545195 0.2359309  0.20599784 0.33614007]]\n",
      "Trace of the array:\n",
      " 1.974014112547418\n"
     ]
    }
   ],
   "source": [
    "# Create a 5x5 array with random values\n",
    "array = np.random.rand(5, 5)\n",
    "\n",
    "# Calculate the trace of the matrix (sum of diagonal elements)\n",
    "trace = np.trace(array)\n",
    "\n",
    "# Printing the array and its trace\n",
    "print(\"5x5 Array:\\n\", array)\n",
    "print(\"Trace of the array:\\n\", trace)"
   ]
  }
 ],
 "metadata": {
  "kernelspec": {
   "display_name": "Python 3 (ipykernel)",
   "language": "python",
   "name": "python3"
  },
  "language_info": {
   "codemirror_mode": {
    "name": "ipython",
    "version": 3
   },
   "file_extension": ".py",
   "mimetype": "text/x-python",
   "name": "python",
   "nbconvert_exporter": "python",
   "pygments_lexer": "ipython3",
   "version": "3.9.7"
  }
 },
 "nbformat": 4,
 "nbformat_minor": 5
}
