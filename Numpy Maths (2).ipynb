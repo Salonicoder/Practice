{
 "cells": [
  {
   "cell_type": "code",
   "execution_count": 1,
   "id": "89d3f206",
   "metadata": {},
   "outputs": [],
   "source": [
    "import numpy as np"
   ]
  },
  {
   "cell_type": "code",
   "execution_count": 2,
   "id": "238f50d5",
   "metadata": {},
   "outputs": [
    {
     "data": {
      "text/plain": [
       "array([[0.80868162, 0.75769073, 0.9001033 ],\n",
       "       [0.38888368, 0.88285114, 0.84151017],\n",
       "       [0.39237703, 0.15904459, 0.51388643],\n",
       "       [0.53750758, 0.65321338, 0.66583129],\n",
       "       [0.66137323, 0.26118854, 0.25297473]])"
      ]
     },
     "execution_count": 2,
     "metadata": {},
     "output_type": "execute_result"
    }
   ],
   "source": [
    "x = np.random.random((5,3))\n",
    "x"
   ]
  },
  {
   "cell_type": "code",
   "execution_count": 3,
   "id": "d46844ad",
   "metadata": {},
   "outputs": [
    {
     "data": {
      "text/plain": [
       "array([[0.54840506, 0.96140116],\n",
       "       [0.87579271, 0.35745258],\n",
       "       [0.08295303, 0.13304961]])"
      ]
     },
     "execution_count": 3,
     "metadata": {},
     "output_type": "execute_result"
    }
   ],
   "source": [
    "y = np.random.random((3,2))\n",
    "y"
   ]
  },
  {
   "cell_type": "code",
   "execution_count": 4,
   "id": "c5f8bc24",
   "metadata": {},
   "outputs": [
    {
     "data": {
      "text/plain": [
       "array([[1.1817314 , 1.16806436],\n",
       "       [1.05626619, 0.80141324],\n",
       "       [0.39710008, 0.50245502],\n",
       "       [0.92208411, 0.83884182],\n",
       "       [0.61243246, 0.7628657 ]])"
      ]
     },
     "execution_count": 4,
     "metadata": {},
     "output_type": "execute_result"
    }
   ],
   "source": [
    "z = np.dot(x,y)\n",
    "z"
   ]
  },
  {
   "cell_type": "code",
   "execution_count": 5,
   "id": "51cc3ca1",
   "metadata": {},
   "outputs": [
    {
     "data": {
      "text/plain": [
       "array([1.+2.j, 3.+4.j])"
      ]
     },
     "execution_count": 5,
     "metadata": {},
     "output_type": "execute_result"
    }
   ],
   "source": [
    "x = np.array([1+2j, 3+4j])\n",
    "x"
   ]
  },
  {
   "cell_type": "code",
   "execution_count": 6,
   "id": "f294c621",
   "metadata": {},
   "outputs": [
    {
     "data": {
      "text/plain": [
       "array([5.+6.j, 7.+8.j])"
      ]
     },
     "execution_count": 6,
     "metadata": {},
     "output_type": "execute_result"
    }
   ],
   "source": [
    "y =np.array([5+6j, 7+8j])\n",
    "y"
   ]
  },
  {
   "cell_type": "code",
   "execution_count": 8,
   "id": "9d1fbd54",
   "metadata": {},
   "outputs": [
    {
     "data": {
      "text/plain": [
       "(-18+68j)"
      ]
     },
     "execution_count": 8,
     "metadata": {},
     "output_type": "execute_result"
    }
   ],
   "source": [
    "# Calculatin the vector dot product of the two arrays:\n",
    "z = np.dot(x, y)\n",
    "z"
   ]
  },
  {
   "cell_type": "code",
   "execution_count": 9,
   "id": "21b55802",
   "metadata": {},
   "outputs": [
    {
     "data": {
      "text/plain": [
       "array([[[ 0,  1,  2,  3],\n",
       "        [ 4,  5,  6,  7],\n",
       "        [ 8,  9, 10, 11]],\n",
       "\n",
       "       [[12, 13, 14, 15],\n",
       "        [16, 17, 18, 19],\n",
       "        [20, 21, 22, 23]]])"
      ]
     },
     "execution_count": 9,
     "metadata": {},
     "output_type": "execute_result"
    }
   ],
   "source": [
    "x = np.arange(24).reshape((2, 3, 4))\n",
    "x"
   ]
  },
  {
   "cell_type": "code",
   "execution_count": 10,
   "id": "57e2b3c7",
   "metadata": {},
   "outputs": [
    {
     "data": {
      "text/plain": [
       "array([0, 1, 2, 3])"
      ]
     },
     "execution_count": 10,
     "metadata": {},
     "output_type": "execute_result"
    }
   ],
   "source": [
    "y = np.arange(4)\n",
    "y"
   ]
  },
  {
   "cell_type": "code",
   "execution_count": 11,
   "id": "bef47a50",
   "metadata": {},
   "outputs": [
    {
     "data": {
      "text/plain": [
       "array([[ 14,  38,  62],\n",
       "       [ 86, 110, 134]])"
      ]
     },
     "execution_count": 11,
     "metadata": {},
     "output_type": "execute_result"
    }
   ],
   "source": [
    "np.inner(x, y)"
   ]
  },
  {
   "cell_type": "code",
   "execution_count": 12,
   "id": "3798fde8",
   "metadata": {},
   "outputs": [
    {
     "name": "stdout",
     "output_type": "stream",
     "text": [
      "[1. 4. 0.]\n",
      "[2. 2. 1.]\n"
     ]
    }
   ],
   "source": [
    "x = np.array([1, 4, 0], float)\n",
    "y = np.array([2, 2, 1], float)\n",
    "print(x)\n",
    "print(y)"
   ]
  },
  {
   "cell_type": "code",
   "execution_count": 13,
   "id": "cfb001f5",
   "metadata": {},
   "outputs": [
    {
     "data": {
      "text/plain": [
       "10.0"
      ]
     },
     "execution_count": 13,
     "metadata": {},
     "output_type": "execute_result"
    }
   ],
   "source": [
    "# Inner product\n",
    "np.inner(x, y )"
   ]
  },
  {
   "cell_type": "code",
   "execution_count": 14,
   "id": "fe2186b0",
   "metadata": {},
   "outputs": [
    {
     "data": {
      "text/plain": [
       "array([[2., 2., 1.],\n",
       "       [8., 8., 4.],\n",
       "       [0., 0., 0.]])"
      ]
     },
     "execution_count": 14,
     "metadata": {},
     "output_type": "execute_result"
    }
   ],
   "source": [
    "# Outer product\n",
    "np.outer(x, y)"
   ]
  },
  {
   "cell_type": "code",
   "execution_count": 15,
   "id": "953f8532",
   "metadata": {},
   "outputs": [
    {
     "data": {
      "text/plain": [
       "array([ 4., -1., -6.])"
      ]
     },
     "execution_count": 15,
     "metadata": {},
     "output_type": "execute_result"
    }
   ],
   "source": [
    "# Cross product\n",
    "np.cross(x, y)"
   ]
  },
  {
   "cell_type": "code",
   "execution_count": 16,
   "id": "6a6f44ea",
   "metadata": {},
   "outputs": [
    {
     "name": "stdout",
     "output_type": "stream",
     "text": [
      "[[1, 0], [1, 1]]\n",
      "[[3, 1], [2, 2]]\n"
     ]
    }
   ],
   "source": [
    "x = [[1, 0], [1,1]]\n",
    "y = [[3,1], [2,2]]\n",
    "print(x)\n",
    "print(y)"
   ]
  },
  {
   "cell_type": "code",
   "execution_count": 17,
   "id": "5b3a048a",
   "metadata": {},
   "outputs": [
    {
     "data": {
      "text/plain": [
       "array([[3, 1],\n",
       "       [5, 3]])"
      ]
     },
     "execution_count": 17,
     "metadata": {},
     "output_type": "execute_result"
    }
   ],
   "source": [
    "np.matmul(x, y)"
   ]
  },
  {
   "cell_type": "code",
   "execution_count": 18,
   "id": "449be3cc",
   "metadata": {},
   "outputs": [
    {
     "data": {
      "text/plain": [
       "array([[3, 1],\n",
       "       [5, 3]])"
      ]
     },
     "execution_count": 18,
     "metadata": {},
     "output_type": "execute_result"
    }
   ],
   "source": [
    "np.dot(x, y)"
   ]
  },
  {
   "cell_type": "code",
   "execution_count": 21,
   "id": "1230a70e",
   "metadata": {},
   "outputs": [
    {
     "data": {
      "text/plain": [
       "array([2.+1.73205081j, 2.-1.73205081j])"
      ]
     },
     "execution_count": 21,
     "metadata": {},
     "output_type": "execute_result"
    }
   ],
   "source": [
    "np.roots([1, -4, 7])"
   ]
  },
  {
   "cell_type": "code",
   "execution_count": 22,
   "id": "109192eb",
   "metadata": {},
   "outputs": [
    {
     "data": {
      "text/plain": [
       "array([10.        , -1.        ,  0.99999998,  1.00000002])"
      ]
     },
     "execution_count": 22,
     "metadata": {},
     "output_type": "execute_result"
    }
   ],
   "source": [
    "np.roots([1, -11, 9, 11, -10])"
   ]
  },
  {
   "cell_type": "code",
   "execution_count": 23,
   "id": "f905d9bb",
   "metadata": {},
   "outputs": [
    {
     "data": {
      "text/plain": [
       "1"
      ]
     },
     "execution_count": 23,
     "metadata": {},
     "output_type": "execute_result"
    }
   ],
   "source": [
    "np.polyval([1, -2, 1], 2)"
   ]
  },
  {
   "cell_type": "code",
   "execution_count": 24,
   "id": "b879b639",
   "metadata": {},
   "outputs": [
    {
     "data": {
      "text/plain": [
       "-142"
      ]
     },
     "execution_count": 24,
     "metadata": {},
     "output_type": "execute_result"
    }
   ],
   "source": [
    "np.polyval([1, -12, 10, 7, -10], 3)"
   ]
  },
  {
   "cell_type": "code",
   "execution_count": 25,
   "id": "394b2b5e",
   "metadata": {},
   "outputs": [
    {
     "data": {
      "text/plain": [
       "array([40., 60., 80.])"
      ]
     },
     "execution_count": 25,
     "metadata": {},
     "output_type": "execute_result"
    }
   ],
   "source": [
    "# Importing the required polynomial functions from numpy\n",
    "from numpy.polynomial import polynomial as P\n",
    "x = (10, 20, 30)\n",
    "y = (30, 40, 50)\n",
    "\n",
    "P. polyadd(x, y)"
   ]
  },
  {
   "cell_type": "code",
   "execution_count": 26,
   "id": "e5d23db4",
   "metadata": {},
   "outputs": [
    {
     "data": {
      "text/plain": [
       "array([-20., -20., -20.])"
      ]
     },
     "execution_count": 26,
     "metadata": {},
     "output_type": "execute_result"
    }
   ],
   "source": [
    "P.polysub(x, y)"
   ]
  },
  {
   "cell_type": "code",
   "execution_count": 27,
   "id": "9ec775a8",
   "metadata": {},
   "outputs": [
    {
     "data": {
      "text/plain": [
       "array([ 300., 1000., 2200., 2200., 1500.])"
      ]
     },
     "execution_count": 27,
     "metadata": {},
     "output_type": "execute_result"
    }
   ],
   "source": [
    "P.polymul(x, y)"
   ]
  },
  {
   "cell_type": "code",
   "execution_count": 28,
   "id": "7fc10d74",
   "metadata": {},
   "outputs": [
    {
     "data": {
      "text/plain": [
       "(array([0.6]), array([-8., -4.]))"
      ]
     },
     "execution_count": 28,
     "metadata": {},
     "output_type": "execute_result"
    }
   ],
   "source": [
    "P.polydiv(x, y)"
   ]
  },
  {
   "cell_type": "code",
   "execution_count": 29,
   "id": "20da4b56",
   "metadata": {},
   "outputs": [
    {
     "data": {
      "text/plain": [
       "array([[10, 30],\n",
       "       [20, 60]])"
      ]
     },
     "execution_count": 29,
     "metadata": {},
     "output_type": "execute_result"
    }
   ],
   "source": [
    "a = np.array([[10, 30], [20, 60]])\n",
    "a"
   ]
  },
  {
   "cell_type": "code",
   "execution_count": 30,
   "id": "945bcdf7",
   "metadata": {},
   "outputs": [
    {
     "data": {
      "text/plain": [
       "array([15., 45.])"
      ]
     },
     "execution_count": 30,
     "metadata": {},
     "output_type": "execute_result"
    }
   ],
   "source": [
    "# axis 0 (column wise)\n",
    "a.mean(axis=0)"
   ]
  },
  {
   "cell_type": "code",
   "execution_count": 32,
   "id": "0d1e5ac3",
   "metadata": {},
   "outputs": [
    {
     "data": {
      "text/plain": [
       "array([20., 40.])"
      ]
     },
     "execution_count": 32,
     "metadata": {},
     "output_type": "execute_result"
    }
   ],
   "source": [
    "# axis 1 (row wise)\n",
    "a.mean(axis=1)"
   ]
  },
  {
   "cell_type": "code",
   "execution_count": 33,
   "id": "df1e153b",
   "metadata": {},
   "outputs": [],
   "source": [
    "x = np.random.randn(1000)\n",
    "mean = x.mean()"
   ]
  },
  {
   "cell_type": "code",
   "execution_count": 34,
   "id": "1771f574",
   "metadata": {},
   "outputs": [
    {
     "data": {
      "text/plain": [
       "-0.0006711847172214203"
      ]
     },
     "execution_count": 34,
     "metadata": {},
     "output_type": "execute_result"
    }
   ],
   "source": [
    "mean"
   ]
  },
  {
   "cell_type": "code",
   "execution_count": 35,
   "id": "7ecc81aa",
   "metadata": {},
   "outputs": [
    {
     "data": {
      "text/plain": [
       "1.0256011023378115"
      ]
     },
     "execution_count": 35,
     "metadata": {},
     "output_type": "execute_result"
    }
   ],
   "source": [
    "std = x.std()\n",
    "std"
   ]
  },
  {
   "cell_type": "code",
   "execution_count": 36,
   "id": "5669e230",
   "metadata": {},
   "outputs": [
    {
     "data": {
      "text/plain": [
       "1.051857621116534"
      ]
     },
     "execution_count": 36,
     "metadata": {},
     "output_type": "execute_result"
    }
   ],
   "source": [
    "var = x.var()\n",
    "var"
   ]
  },
  {
   "cell_type": "code",
   "execution_count": 37,
   "id": "dbbe5d2c",
   "metadata": {},
   "outputs": [
    {
     "name": "stdout",
     "output_type": "stream",
     "text": [
      "sine: array of angles given in degrees\n",
      "[0.         0.5        0.70710678 0.8660254  1.        ]\n",
      "cosine: array of angles given in degrees\n",
      "[1.00000000e+00 8.66025404e-01 7.07106781e-01 5.00000000e-01\n",
      " 6.12323400e-17]\n",
      "tangent: array of angles given in degrees\n",
      "[0.00000000e+00 5.77350269e-01 1.00000000e+00 1.73205081e+00\n",
      " 1.63312394e+16]\n"
     ]
    }
   ],
   "source": [
    "# Computing the sine values for an array of angles given in degrees\n",
    "print(\"sine: array of angles given in degrees\")\n",
    "print(np.sin(np.array((0., 30., 45., 60., 90.)) * np.pi / 180.))\n",
    "\n",
    "# Computing the cosine values for an array of angles given in degrees\n",
    "print(\"cosine: array of angles given in degrees\")\n",
    "print(np.cos(np.array((0., 30., 45., 60., 90.)) * np.pi / 180.))\n",
    "\n",
    "# Computing the tangent values for an array of angles given in degrees\n",
    "print(\"tangent: array of angles given in degrees\")\n",
    "print(np.tan(np.array((0., 30., 45., 60., 90.)) * np.pi / 180.))"
   ]
  },
  {
   "cell_type": "code",
   "execution_count": 38,
   "id": "2bdc3a56",
   "metadata": {},
   "outputs": [
    {
     "name": "stdout",
     "output_type": "stream",
     "text": [
      "Inverse sine: [-1.57079633  0.          1.57079633]\n",
      "Inverse cosine: [3.14159265 1.57079633 0.        ]\n",
      "Inverse tangent: [-0.78539816  0.          0.78539816]\n"
     ]
    }
   ],
   "source": [
    "# Creating an array of values (-1, 0, 1)\n",
    "x = np.array([-1., 0, 1.])\n",
    "\n",
    "# Computing the inverse sine for each element in the array\n",
    "print(\"Inverse sine:\", np.arcsin(x))\n",
    "\n",
    "# Computing the inverse cosine for each element in the array\n",
    "print(\"Inverse cosine:\", np.arccos(x))\n",
    "\n",
    "# Computing the inverse tangent for each element in the array\n",
    "print(\"Inverse tangent:\", np.arctan(x)) \n"
   ]
  },
  {
   "cell_type": "code",
   "execution_count": 39,
   "id": "7b4e2ebe",
   "metadata": {},
   "outputs": [
    {
     "name": "stdout",
     "output_type": "stream",
     "text": [
      "[-180.  -90.   90.  180.]\n"
     ]
    }
   ],
   "source": [
    "# Creating an array of angles in radians: [-π, -π/2, π/2, π]\n",
    "x = np.array([-np.pi, -np.pi/2, np.pi/2, np.pi])\n",
    "\n",
    "# Converting angles from radians to degrees using np.degrees()\n",
    "r1 = np.degrees(x)\n",
    "\n",
    "# Converting angles from radians to degrees using np.rad2deg()\n",
    "r2 = np.rad2deg(x)\n",
    "\n",
    "# Checking if the results from np.degrees() and np.rad2deg() are equivalent\n",
    "assert np.array_equiv(r1, r2)\n",
    "\n",
    "# Printing the converted angles in degrees\n",
    "print(r1) "
   ]
  },
  {
   "cell_type": "code",
   "execution_count": 40,
   "id": "3eaa0fd2",
   "metadata": {},
   "outputs": [
    {
     "name": "stdout",
     "output_type": "stream",
     "text": [
      "[-3.14159265 -1.57079633  1.57079633  3.14159265]\n"
     ]
    }
   ],
   "source": [
    "# Creating an array of angles in degrees: [-180, -90, 90, 180]\n",
    "x = np.array([-180., -90., 90., 180.])\n",
    "\n",
    "# Converting angles from degrees to radians using np.radians()\n",
    "r1 = np.radians(x)\n",
    "\n",
    "# Converting angles from degrees to radians using np.deg2rad()\n",
    "r2 = np.deg2rad(x)\n",
    "\n",
    "# Checking if the results from np.radians() and np.deg2rad() are equivalent\n",
    "assert np.array_equiv(r1, r2)\n",
    "\n",
    "# Printing the converted angles in radians\n",
    "print(r1) "
   ]
  },
  {
   "cell_type": "code",
   "execution_count": 41,
   "id": "9f9b57ec",
   "metadata": {},
   "outputs": [],
   "source": [
    "x = np.array([-1, 0, 1])"
   ]
  },
  {
   "cell_type": "code",
   "execution_count": 42,
   "id": "9ef5f69d",
   "metadata": {},
   "outputs": [
    {
     "data": {
      "text/plain": [
       "array([-1.17520119,  0.        ,  1.17520119])"
      ]
     },
     "execution_count": 42,
     "metadata": {},
     "output_type": "execute_result"
    }
   ],
   "source": [
    "np.sinh(x)"
   ]
  },
  {
   "cell_type": "code",
   "execution_count": 43,
   "id": "2c819093",
   "metadata": {},
   "outputs": [
    {
     "data": {
      "text/plain": [
       "array([1.54308063, 1.        , 1.54308063])"
      ]
     },
     "execution_count": 43,
     "metadata": {},
     "output_type": "execute_result"
    }
   ],
   "source": [
    "np.cosh(x)"
   ]
  },
  {
   "cell_type": "code",
   "execution_count": 44,
   "id": "814731e2",
   "metadata": {},
   "outputs": [
    {
     "data": {
      "text/plain": [
       "array([-0.76159416,  0.        ,  0.76159416])"
      ]
     },
     "execution_count": 44,
     "metadata": {},
     "output_type": "execute_result"
    }
   ],
   "source": [
    "np.tanh(x)"
   ]
  },
  {
   "cell_type": "markdown",
   "id": "2e2e0f1c",
   "metadata": {},
   "source": [
    "Q26 onwards"
   ]
  }
 ],
 "metadata": {
  "kernelspec": {
   "display_name": "Python 3 (ipykernel)",
   "language": "python",
   "name": "python3"
  },
  "language_info": {
   "codemirror_mode": {
    "name": "ipython",
    "version": 3
   },
   "file_extension": ".py",
   "mimetype": "text/x-python",
   "name": "python",
   "nbconvert_exporter": "python",
   "pygments_lexer": "ipython3",
   "version": "3.9.7"
  }
 },
 "nbformat": 4,
 "nbformat_minor": 5
}
