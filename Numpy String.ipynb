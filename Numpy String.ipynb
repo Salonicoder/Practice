{
 "cells": [
  {
   "cell_type": "code",
   "execution_count": 1,
   "id": "118876e2",
   "metadata": {},
   "outputs": [],
   "source": [
    "import numpy as np"
   ]
  },
  {
   "cell_type": "code",
   "execution_count": 3,
   "id": "2f065202",
   "metadata": {},
   "outputs": [
    {
     "name": "stdout",
     "output_type": "stream",
     "text": [
      "['Python' 'PHP']\n",
      "['Java' 'C++']\n",
      "['PythonJava' 'PHPC++']\n"
     ]
    }
   ],
   "source": [
    "x1 = np.array(['Python', 'PHP'], dtype=str)\n",
    "x2 = np.array(['Java', 'C++'], dtype=str)\n",
    "\n",
    "print(x1)\n",
    "print(x2)\n",
    "\n",
    "new_array = np.char.add(x1, x2)\n",
    "\n",
    "print(new_array)"
   ]
  },
  {
   "cell_type": "code",
   "execution_count": 4,
   "id": "17e7cf6c",
   "metadata": {},
   "outputs": [
    {
     "data": {
      "text/plain": [
       "array(['PythonPythonPython', 'PHPPHPPHP'], dtype='<U18')"
      ]
     },
     "execution_count": 4,
     "metadata": {},
     "output_type": "execute_result"
    }
   ],
   "source": [
    "x = np.char.multiply(x1, 3)\n",
    "x"
   ]
  },
  {
   "cell_type": "code",
   "execution_count": 5,
   "id": "2ce22ceb",
   "metadata": {},
   "outputs": [
    {
     "name": "stdout",
     "output_type": "stream",
     "text": [
      "\n",
      "Capitalized:  ['Python' 'Php' 'Java' 'C++']\n",
      "Lowered:  ['python' 'php' 'java' 'c++']\n",
      "Uppered:  ['PYTHON' 'PHP' 'JAVA' 'C++']\n",
      "Swapcased:  ['PYTHON' 'php' 'JAVA' 'c++']\n",
      "Titlecased:  ['Python' 'Php' 'Java' 'C++']\n"
     ]
    }
   ],
   "source": [
    "x = np.array(['python', 'PHP', 'java', 'C++'], dtype=str)\n",
    "capitalized_case = np.char.capitalize(x)\n",
    "lowered_case = np.char.lower(x)\n",
    "uppered_case = np.char.upper(x)\n",
    "titled_case = np.char.title(x)\n",
    "swap_case = np.char.swapcase(x)\n",
    "\n",
    "print(\"\\nCapitalized: \", capitalized_case)\n",
    "print(\"Lowered: \", lowered_case)\n",
    "print(\"Uppered: \", uppered_case)\n",
    "print(\"Swapcased: \", swap_case)\n",
    "print(\"Titlecased: \", titled_case) "
   ]
  },
  {
   "cell_type": "code",
   "execution_count": 6,
   "id": "e519bc30",
   "metadata": {},
   "outputs": [
    {
     "name": "stdout",
     "output_type": "stream",
     "text": [
      "Original Array:\n",
      "['python exercises' 'PHP' 'java' 'C++']\n",
      "\n",
      "Centered = ['python exercise' '______PHP______' '______java_____' '______C++______']\n",
      "Left = ['python exercise' 'PHP____________' 'java___________' 'C++____________']\n",
      "Right = ['python exercise' '____________PHP' '___________java' '____________C++']\n"
     ]
    }
   ],
   "source": [
    "x = np.array(['python exercises', 'PHP', 'java', 'C++'], dtype=str)\n",
    "\n",
    "# Displaying the original array\n",
    "print(\"Original Array:\")\n",
    "print(x)\n",
    "\n",
    "# Applying np.char.center to center-align strings within an array\n",
    "centered = np.char.center(x, 15, fillchar='_')\n",
    "\n",
    "# Applying np.char.ljust to left-align strings within an array\n",
    "left = np.char.ljust(x, 15, fillchar='_')\n",
    "\n",
    "# Applying np.char.rjust to right-align strings within an array\n",
    "right = np.char.rjust(x, 15, fillchar='_')\n",
    "\n",
    "# Displaying the modified arrays after applying alignment functions\n",
    "print(\"\\nCentered =\", centered)\n",
    "print(\"Left =\", left)\n",
    "print(\"Right =\", right)"
   ]
  },
  {
   "cell_type": "code",
   "execution_count": 8,
   "id": "920c3a09",
   "metadata": {},
   "outputs": [
    {
     "data": {
      "text/plain": [
       "array(['p y t h o n   e x e r c i s e s', 'P H P', 'j a v a', 'C + +'],\n",
       "      dtype='<U31')"
      ]
     },
     "execution_count": 8,
     "metadata": {},
     "output_type": "execute_result"
    }
   ],
   "source": [
    "r = np.char.join(' ',x)\n",
    "r"
   ]
  },
  {
   "cell_type": "code",
   "execution_count": 9,
   "id": "90f4e33d",
   "metadata": {},
   "outputs": [
    {
     "name": "stdout",
     "output_type": "stream",
     "text": [
      "encoded = [b'\\x97\\xa8\\xa3\\x88\\x96\\x95@\\x85\\xa7\\x85\\x99\\x83\\x89\\xa2\\x85\\xa2'\n",
      " b'\\xd7\\xc8\\xd7' b'\\x91\\x81\\xa5\\x81' b'\\xc3NN']\n",
      "decoded = ['python exercises' 'PHP' 'java' 'C++']\n"
     ]
    }
   ],
   "source": [
    "encoded_char = np.char.encode(x, 'cp500')\n",
    "decoded_char = np.char.decode(encoded_char, 'cp500')\n",
    "print(\"encoded =\", encoded_char)\n",
    "print(\"decoded =\", decoded_char) "
   ]
  },
  {
   "cell_type": "code",
   "execution_count": 11,
   "id": "c1698e27",
   "metadata": {},
   "outputs": [
    {
     "name": "stdout",
     "output_type": "stream",
     "text": [
      "Original Array:\n",
      "[' python exercises ' ' PHP  ' ' java  ' '  C++']\n",
      "\n",
      "Remove the leading and trailing whitespaces:  ['python exercises' 'PHP' 'java' 'C++']\n"
     ]
    }
   ],
   "source": [
    "# Creating a NumPy array containing strings with leading and trailing whitespaces\n",
    "x = np.array([' python exercises ', ' PHP  ', ' java  ', '  C++'], dtype=str)\n",
    "\n",
    "# Displaying the original array\n",
    "print(\"Original Array:\")\n",
    "print(x)\n",
    "\n",
    "# Removing the leading and trailing whitespaces from the strings\n",
    "stripped = np.char.strip(x)\n",
    "\n",
    "# Displaying the array after removing leading and trailing whitespaces\n",
    "print(\"\\nRemove the leading and trailing whitespaces: \", stripped) "
   ]
  },
  {
   "cell_type": "code",
   "execution_count": 18,
   "id": "4d39daca",
   "metadata": {},
   "outputs": [
    {
     "name": "stdout",
     "output_type": "stream",
     "text": [
      "Original Array:\n",
      "[' python exercises ' ' PHP  ' ' java  ' '  C++']\n",
      "\n",
      "Remove the leading whitespaces :  ['python exercises ' 'PHP  ' 'java  ' 'C++']\n"
     ]
    }
   ],
   "source": [
    "# Creating a NumPy array containing strings with leading and trailing whitespaces\n",
    "x = np.array([' python exercises ', ' PHP  ', ' java  ', '  C++'], dtype=str)\n",
    "\n",
    "# Displaying the original array\n",
    "print(\"Original Array:\")\n",
    "print(x)\n",
    "\n",
    "# Removing the leading whitespaces from the strings\n",
    "lstripped_char = np.char.lstrip(x)\n",
    "\n",
    "# Displaying the array after removing leading whitespaces\n",
    "print(\"\\nRemove the leading whitespaces : \", lstripped_char)"
   ]
  },
  {
   "cell_type": "code",
   "execution_count": 19,
   "id": "b1b97273",
   "metadata": {},
   "outputs": [
    {
     "data": {
      "text/plain": [
       "array([' python exercises', ' PHP', ' java', '  C++'], dtype='<U18')"
      ]
     },
     "execution_count": 19,
     "metadata": {},
     "output_type": "execute_result"
    }
   ],
   "source": [
    "rstripped_char = np.char.rstrip(x)\n",
    "rstripped_char"
   ]
  },
  {
   "cell_type": "code",
   "execution_count": 21,
   "id": "fc0e0f11",
   "metadata": {},
   "outputs": [
    {
     "data": {
      "text/plain": [
       "array([list(['Python', 'PHP', 'Java', 'C++'])], dtype=object)"
      ]
     },
     "execution_count": 21,
     "metadata": {},
     "output_type": "execute_result"
    }
   ],
   "source": [
    "x = np.array(['Python PHP Java C++'], dtype=str)\n",
    "s = np.char.split(x)\n",
    "s"
   ]
  },
  {
   "cell_type": "code",
   "execution_count": 23,
   "id": "a5c1c24c",
   "metadata": {},
   "outputs": [
    {
     "name": "stdout",
     "output_type": "stream",
     "text": [
      "Original Array:\n",
      "['Python\\nExercises, Practice, Solution']\n",
      "[list(['Python', 'Exercises, Practice, Solution'])]\n"
     ]
    }
   ],
   "source": [
    "# Creating a NumPy array containing a single string with newline characters\n",
    "x = np.array(['Python\\nExercises, Practice, Solution'], dtype=str)\n",
    "\n",
    "# Displaying the original array\n",
    "print(\"Original Array:\")\n",
    "print(x)\n",
    "\n",
    "# Splitting the single string in the array by line breaks\n",
    "r = np.char.splitlines(x)\n",
    "\n",
    "# Displaying the result after splitting the string by line breaks\n",
    "print(r)"
   ]
  },
  {
   "cell_type": "code",
   "execution_count": 29,
   "id": "7e9c10fe",
   "metadata": {},
   "outputs": [
    {
     "name": "stdout",
     "output_type": "stream",
     "text": [
      "['00002' '00011' '00234' '01234' '12345']\n"
     ]
    }
   ],
   "source": [
    "x = np.array(['2', '11', '234', '1234', '12345'], dtype=str)\n",
    "r = np.char.zfill(x, 5)\n",
    "print(r)\n"
   ]
  },
  {
   "cell_type": "code",
   "execution_count": 30,
   "id": "1d910eac",
   "metadata": {},
   "outputs": [
    {
     "name": "stdout",
     "output_type": "stream",
     "text": [
      "\n",
      "Original Array:\n",
      "['PHP Exercises, Practice, Solution']\n",
      "\n",
      "New array:\n",
      "['Python Exercises, Practice, Solution']\n"
     ]
    }
   ],
   "source": [
    "# Creating a NumPy array containing a single string\n",
    "x = np.array(['PHP Exercises, Practice, Solution'], dtype=str)\n",
    "\n",
    "# Displaying the original array\n",
    "print(\"\\nOriginal Array:\")\n",
    "print(x)\n",
    "\n",
    "# Replacing \"PHP\" with \"Python\" in the string of the array\n",
    "r = np.char.replace(x, \"PHP\", \"Python\")\n",
    "\n",
    "# Displaying the updated array after replacing the substring\n",
    "print(\"\\nNew array:\")\n",
    "print(r) "
   ]
  },
  {
   "cell_type": "code",
   "execution_count": 31,
   "id": "d9f5eb96",
   "metadata": {},
   "outputs": [
    {
     "name": "stdout",
     "output_type": "stream",
     "text": [
      "\n",
      "Array1:\n",
      "['Hello' 'PHP' 'JS' 'examples' 'html']\n",
      "Array2:\n",
      "['Hello' 'php' 'Java' 'examples' 'html']\n",
      "\n",
      "Equal test:\n",
      "[ True False False  True  True]\n",
      "\n",
      "Not equal test:\n",
      "[False  True  True False False]\n",
      "\n",
      "Less equal test:\n",
      "[ True  True  True  True  True]\n",
      "\n",
      "Greater equal test:\n",
      "[ True False False  True  True]\n",
      "\n",
      "Less test:\n",
      "[False  True  True False False]\n"
     ]
    }
   ],
   "source": [
    "# Creating two NumPy arrays containing strings\n",
    "x1 = np.array(['Hello', 'PHP', 'JS', 'examples', 'html'], dtype=str)\n",
    "x2 = np.array(['Hello', 'php', 'Java', 'examples', 'html'], dtype=str)\n",
    "\n",
    "# Displaying the content of Array1\n",
    "print(\"\\nArray1:\")\n",
    "print(x1)\n",
    "\n",
    "# Displaying the content of Array2\n",
    "print(\"Array2:\")\n",
    "print(x2)\n",
    "\n",
    "# Comparing the strings in x1 and x2 element-wise for equality\n",
    "print(\"\\nEqual test:\")\n",
    "r = np.char.equal(x1, x2)\n",
    "print(r)\n",
    "\n",
    "# Comparing the strings in x1 and x2 element-wise for inequality\n",
    "print(\"\\nNot equal test:\")\n",
    "r = np.char.not_equal(x1, x2)\n",
    "print(r)\n",
    "\n",
    "# Comparing the strings in x1 and x2 element-wise to check if x1 is less than or equal to x2\n",
    "print(\"\\nLess equal test:\")\n",
    "r = np.char.less_equal(x1, x2)\n",
    "print(r)\n",
    "\n",
    "# Comparing the strings in x1 and x2 element-wise to check if x1 is greater than or equal to x2\n",
    "print(\"\\nGreater equal test:\")\n",
    "r = np.char.greater_equal(x1, x2)\n",
    "print(r)\n",
    "\n",
    "# Comparing the strings in x1 and x2 element-wise to check if x1 is less than x2\n",
    "print(\"\\nLess test:\")\n",
    "r = np.char.less(x1, x2)\n",
    "print(r) "
   ]
  },
  {
   "cell_type": "code",
   "execution_count": 32,
   "id": "49cc1f81",
   "metadata": {},
   "outputs": [
    {
     "name": "stdout",
     "output_type": "stream",
     "text": [
      "\n",
      "Original Array:\n",
      "['Python' 'PHP' 'JS' 'examples' 'html']\n",
      "Number of ‘P’:\n",
      "[1 2 0 0 0]\n"
     ]
    }
   ],
   "source": [
    "# Creating a NumPy array containing strings\n",
    "x1 = np.array(['Python', 'PHP', 'JS', 'examples', 'html'], dtype=str)\n",
    "\n",
    "# Displaying the content of the original array\n",
    "print(\"\\nOriginal Array:\")\n",
    "print(x1)\n",
    "\n",
    "# Counting the occurrences of the character 'P' in each string of the array x1\n",
    "print(\"Number of ‘P’:\")\n",
    "r = np.char.count(x1, \"P\")\n",
    "print(r) "
   ]
  }
 ],
 "metadata": {
  "kernelspec": {
   "display_name": "Python 3 (ipykernel)",
   "language": "python",
   "name": "python3"
  },
  "language_info": {
   "codemirror_mode": {
    "name": "ipython",
    "version": 3
   },
   "file_extension": ".py",
   "mimetype": "text/x-python",
   "name": "python",
   "nbconvert_exporter": "python",
   "pygments_lexer": "ipython3",
   "version": "3.9.7"
  }
 },
 "nbformat": 4,
 "nbformat_minor": 5
}
