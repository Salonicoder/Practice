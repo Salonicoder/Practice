{
 "cells": [
  {
   "cell_type": "code",
   "execution_count": 1,
   "id": "d2ccdc0a",
   "metadata": {},
   "outputs": [],
   "source": [
    "import pandas as pd"
   ]
  },
  {
   "cell_type": "code",
   "execution_count": 4,
   "id": "4f2cc188",
   "metadata": {},
   "outputs": [],
   "source": [
    "import numpy as np"
   ]
  },
  {
   "cell_type": "code",
   "execution_count": 2,
   "id": "0c21b721",
   "metadata": {},
   "outputs": [
    {
     "name": "stdout",
     "output_type": "stream",
     "text": [
      "Original DataFrame with single index:\n",
      "   school_code class            name date_of_birth  weight\n",
      "t1        s001     V  Alberto Franco    15/05/2002      35\n",
      "t2        s002     V    Gino Mcneill    17/05/2002      32\n",
      "t3        s003    VI     Ryan Parkes    16/02/1999      33\n",
      "t4        s001    VI    Eesha Hinton    25/09/1998      30\n",
      "t5        s002     V    Gino Mcneill    11/05/2002      31\n",
      "t6        s004    VI    David Parkes    15/09/1997      32\n",
      "\n",
      "Check a value is exist in single column index dataframe:\n",
      "True\n",
      "False\n",
      "\n",
      "Create MultiIndex using columns 't_id', ‘school_code’ and 'class':\n",
      "                                  name date_of_birth  weight\n",
      "t_id school_code class                                      \n",
      "t1   s001        V      Alberto Franco    15/05/2002      35\n",
      "t2   s002        V        Gino Mcneill    17/05/2002      32\n",
      "t3   s003        VI        Ryan Parkes    16/02/1999      33\n",
      "t4   s001        VI       Eesha Hinton    25/09/1998      30\n",
      "t5   s002        V        Gino Mcneill    11/05/2002      31\n",
      "t6   s004        VI       David Parkes    15/09/1997      32\n",
      "\n",
      "Check a value is exist in multiple columns index dataframe:\n",
      "True\n",
      "False\n",
      "False\n"
     ]
    }
   ],
   "source": [
    "import pandas as pd\n",
    "df = pd.DataFrame({\n",
    "    'school_code': ['s001','s002','s003','s001','s002','s004'],\n",
    "    'class': ['V', 'V', 'VI', 'VI', 'V', 'VI'],\n",
    "    'name': ['Alberto Franco','Gino Mcneill','Ryan Parkes', 'Eesha Hinton', 'Gino Mcneill', 'David Parkes'],\n",
    "    'date_of_birth': ['15/05/2002','17/05/2002','16/02/1999','25/09/1998','11/05/2002','15/09/1997'],\n",
    "    'weight': [35, 32, 33, 30, 31, 32]},\n",
    "     index =  ['t1', 't2', 't3', 't4', 't5', 't6'])\n",
    "print(\"Original DataFrame with single index:\")\n",
    "print(df)\n",
    "print(\"\\nCheck a value is exist in single column index dataframe:\")\n",
    "print('t1' in df.index)\n",
    "print('t11' in df.index)\n",
    "print(\"\\nCreate MultiIndex using columns 't_id', ‘school_code’ and 'class':\")\n",
    "df = pd.DataFrame({\n",
    "    'school_code': ['s001','s002','s003','s001','s002','s004'],\n",
    "    'class': ['V', 'V', 'VI', 'VI', 'V', 'VI'],\n",
    "    'name': ['Alberto Franco','Gino Mcneill','Ryan Parkes', 'Eesha Hinton', 'Gino Mcneill', 'David Parkes'],\n",
    "    'date_of_birth': ['15/05/2002','17/05/2002','16/02/1999','25/09/1998','11/05/2002','15/09/1997'],\n",
    "    'weight': [35, 32, 33, 30, 31, 32],\n",
    "    't_id': ['t1', 't2', 't3', 't4', 't5', 't6']})\n",
    "df1 = df.set_index(['t_id', 'school_code', 'class'])\n",
    "print(df1)\n",
    "print(\"\\nCheck a value is exist in multiple columns index dataframe:\")\n",
    "print('t4' in df1.index.levels[0])\n",
    "print('t4' in df1.index.levels[1])\n",
    "print('t4' in df1.index.levels[2])\n"
   ]
  },
  {
   "cell_type": "code",
   "execution_count": 5,
   "id": "14c63b5d",
   "metadata": {},
   "outputs": [
    {
     "name": "stdout",
     "output_type": "stream",
     "text": [
      "Create a MultiIndex:\n",
      "[('sale1', 'city1'), ('sale1', 'city2'), ('sale2', 'city1'), ('sale2', 'city2'), ('sale3', 'city1'), ('sale3', 'city2'), ('sale4', 'city1'), ('sale4', 'city2')]\n",
      "\n",
      "Construct a series using the said MultiIndex levels: \n",
      "sale   city \n",
      "sale1  city1    0.437061\n",
      "       city2    2.127817\n",
      "sale2  city1   -0.755446\n",
      "       city2    0.806991\n",
      "sale3  city1    1.009079\n",
      "       city2   -1.315208\n",
      "sale4  city1    0.042699\n",
      "       city2    0.916709\n",
      "dtype: float64\n"
     ]
    }
   ],
   "source": [
    "#Q12\n",
    "sales_arrays = [['sale1', 'sale1', 'sale2', 'sale2', 'sale3', 'sale3', 'sale4', 'sale4'],\n",
    "          ['city1', 'city2', 'city1', 'city2', 'city1', 'city2', 'city1', 'city2']]\n",
    "sales_tuples = list(zip(*sales_arrays))\n",
    "print(\"Create a MultiIndex:\")\n",
    "sales_index = pd.MultiIndex.from_tuples(sales_tuples, names=['sale', 'city'])\n",
    "print(sales_tuples)\n",
    "print(\"\\nConstruct a series using the said MultiIndex levels: \")\n",
    "s = pd.Series(np.random.randn(8), index = sales_index)\n",
    "print(s)\n"
   ]
  }
 ],
 "metadata": {
  "kernelspec": {
   "display_name": "Python 3 (ipykernel)",
   "language": "python",
   "name": "python3"
  },
  "language_info": {
   "codemirror_mode": {
    "name": "ipython",
    "version": 3
   },
   "file_extension": ".py",
   "mimetype": "text/x-python",
   "name": "python",
   "nbconvert_exporter": "python",
   "pygments_lexer": "ipython3",
   "version": "3.9.7"
  }
 },
 "nbformat": 4,
 "nbformat_minor": 5
}
