{
 "cells": [
  {
   "cell_type": "code",
   "execution_count": 1,
   "id": "6ff59a05",
   "metadata": {},
   "outputs": [],
   "source": [
    "import numpy as np"
   ]
  },
  {
   "cell_type": "code",
   "execution_count": 2,
   "id": "172a0415",
   "metadata": {},
   "outputs": [
    {
     "name": "stdout",
     "output_type": "stream",
     "text": [
      "Original Array:\n",
      "[ 1.  2. nan  4.  5. nan  7.  8.  9. 10.]\n",
      "\n",
      "Masked Array:\n",
      "[1.0 2.0 -- 4.0 5.0 -- 7.0 8.0 9.0 10.0]\n",
      "\n",
      "Number of Masked Elements:\n",
      "2\n"
     ]
    }
   ],
   "source": [
    "# Create a regular NumPy array with some values\n",
    "data = np.array([1, 2, np.nan, 4, 5, np.nan, 7, 8, 9, 10])\n",
    "\n",
    "# Create a mask to specify which values to mask (eg., NaN values)\n",
    "mask = np.isnan(data)\n",
    "\n",
    "# Create a mask to specify which values to mask (e.g., NaN values)\n",
    "mask = np.isnan(data)\n",
    "\n",
    "# Create a masked array using the regular array and the mask\n",
    "masked_array = np.ma.masked_array(data, mask=mask)\n",
    "\n",
    "# Count the number of masked elements in the masked array\n",
    "num_masked_elements = np.ma.count_masked(masked_array)\n",
    "\n",
    "# Print the original array, the masked array, and the number of masked elements\n",
    "print(\"Original Array:\")\n",
    "print(data)\n",
    "\n",
    "print(\"\\nMasked Array:\")\n",
    "print(masked_array)\n",
    "\n",
    "print(\"\\nNumber of Masked Elements:\")\n",
    "print(num_masked_elements)"
   ]
  },
  {
   "cell_type": "code",
   "execution_count": 3,
   "id": "57285c17",
   "metadata": {},
   "outputs": [
    {
     "name": "stdout",
     "output_type": "stream",
     "text": [
      "Masked Array 1:\n",
      "[1.0 2.0 -- 4.0 5.0]\n",
      "\n",
      "Masked Array 2:\n",
      "[5.0 -- 2.0 3.0 1.0]\n",
      "\n",
      "Resulting Array after Element-wise Addition:\n",
      "[6.0 -- -- 7.0 6.0]\n"
     ]
    }
   ],
   "source": [
    "# Create two regular NumPy arrays with some values\n",
    "data1 = np.array([1, 2, np.nan, 4, 5])\n",
    "data2 = np.array([5, np.nan, 2, 3, 1])\n",
    "\n",
    "# Create masks to specify which values to mask (e.g., NaN values)\n",
    "mask1 = np.isnan(data1)\n",
    "mask2 = np.isnan(data2)\n",
    "\n",
    "# Create masked arrays using the regular arrays and the masks\n",
    "masked_array1 = np.ma.masked_array(data1, mask=mask1)\n",
    "masked_array2 = np.ma.masked_array(data2, mask=mask2)\n",
    "\n",
    "# Perform element-wise addition of the two masked arrays, maintaining the masks\n",
    "result_array = np.ma.add(masked_array1, masked_array2)\n",
    "\n",
    "# Print the original masked arrays and the resulting array\n",
    "print(\"Masked Array 1:\")\n",
    "print(masked_array1)\n",
    "\n",
    "print(\"\\nMasked Array 2:\")\n",
    "print(masked_array2)\n",
    "\n",
    "print(\"\\nResulting Array after Element-wise Addition:\")\n",
    "print(result_array)"
   ]
  },
  {
   "cell_type": "code",
   "execution_count": 4,
   "id": "fd7a6698",
   "metadata": {},
   "outputs": [],
   "source": [
    "import numpy.ma as ma"
   ]
  },
  {
   "cell_type": "code",
   "execution_count": 5,
   "id": "27e7b541",
   "metadata": {},
   "outputs": [
    {
     "name": "stdout",
     "output_type": "stream",
     "text": [
      "Original 2D array:\n",
      " [[0 1 1 0]\n",
      " [7 3 8 9]\n",
      " [2 5 4 6]\n",
      " [1 7 1 1]]\n",
      "Masked array (with row 2 masked):\n",
      " [[0 1 1 0]\n",
      " [7 3 8 9]\n",
      " [-- -- -- --]\n",
      " [1 7 1 1]]\n"
     ]
    }
   ],
   "source": [
    "# create a 2D NumPy array of shape (4, 4) with random integers\n",
    "array_2d = np.random.randint(0, 10, size=(4, 4))\n",
    "\n",
    "# Specify the row to mask\n",
    "row_to_mask = 2\n",
    "\n",
    "# Create a masked array from the 2D array and mask all values in the specified row\n",
    "masked_array = ma.masked_array(array_2d, mask=np.zeros_like(array_2d, dtype=bool))\n",
    "masked_array[row_to_mask] = ma.masked\n",
    "\n",
    "# Print the original array and the masked array \n",
    "print('Original 2D array:\\n', array_2d)\n",
    "print('Masked array (with row {} masked):\\n'.format(row_to_mask), masked_array)"
   ]
  },
  {
   "cell_type": "code",
   "execution_count": 6,
   "id": "5119179d",
   "metadata": {},
   "outputs": [
    {
     "name": "stdout",
     "output_type": "stream",
     "text": [
      "Original 2D array:\n",
      " [[29 52 54 16]\n",
      " [50 58 57 87]\n",
      " [97 47 37 31]\n",
      " [ 2  8 86 78]]\n",
      "Masked array (elements > 50 are masked):\n",
      " [[29 -- -- 16]\n",
      " [50 -- -- --]\n",
      " [-- 47 37 31]\n",
      " [2 8 -- --]]\n"
     ]
    }
   ],
   "source": [
    "# Create a 2D NumPy array of shape (4, 4) with random integers\n",
    "array_2d = np.random.randint(0, 100, size=(4, 4))\n",
    "\n",
    "# Define the condition to mask elements greater than 50\n",
    "condition = array_2d > 50\n",
    "\n",
    "# Create a masked array from the 2D array using the condition\n",
    "masked_array = ma.masked_array(array_2d, mask=condition)\n",
    "\n",
    "# Print the original array and the masked array\n",
    "print('Original 2D array:\\n', array_2d)\n",
    "print('Masked array (elements > 50 are masked):\\n', masked_array)"
   ]
  },
  {
   "cell_type": "code",
   "execution_count": 8,
   "id": "b75a6335",
   "metadata": {},
   "outputs": [
    {
     "name": "stdout",
     "output_type": "stream",
     "text": [
      "Original 2D array:\n",
      " [[72 26 74 55]\n",
      " [74 76 28 16]\n",
      " [98 93 97 10]\n",
      " [81 82 55 33]]\n",
      "Masked array (elements > 50 are masked):\n",
      " [[-- 26 -- --]\n",
      " [-- -- 28 16]\n",
      " [-- -- -- 10]\n",
      " [-- -- -- 33]]\n",
      "Maximum value (ignoring masked elements): 33\n"
     ]
    }
   ],
   "source": [
    "# Create a 2D NumPy array of shape (4, 4) with random integers\n",
    "array_2d = np.random.randint(0, 100, size=(4, 4))\n",
    "\n",
    "# Define the condition to mask elements greater than 50\n",
    "condition = array_2d > 50\n",
    "\n",
    "# Create a masked array from the 2D array using the condition\n",
    "masked_array = ma.masked_array(array_2d, mask=condition)\n",
    "\n",
    "# Find the maximum value in the masked array, ignoring the masked elements\n",
    "max_value = masked_array.max()\n",
    "\n",
    "# Print the original array and the masked array\n",
    "print('Original 2D array:\\n', array_2d)\n",
    "print('Masked array (elements > 50 are masked):\\n', masked_array)\n",
    "print('Maximum value (ignoring masked elements):', max_value)"
   ]
  },
  {
   "cell_type": "code",
   "execution_count": 9,
   "id": "fef746f6",
   "metadata": {},
   "outputs": [
    {
     "name": "stdout",
     "output_type": "stream",
     "text": [
      "Original 2D array:\n",
      " [[59 25 29  2]\n",
      " [27 96 39  5]\n",
      " [70 39  5 73]\n",
      " [61 52  3 78]]\n",
      "Masked array (elements > 50 are masked):\n",
      " [[-- 25 29 2]\n",
      " [27 -- 39 5]\n",
      " [-- 39 5 --]\n",
      " [-- -- 3 --]]\n",
      "Indices of all unmasked elements:\n",
      " (array([0, 0, 0, 1, 1, 1, 2, 2, 3], dtype=int64), array([1, 2, 3, 0, 2, 3, 1, 2, 2], dtype=int64))\n"
     ]
    }
   ],
   "source": [
    "# Create a 2D NumPy array of shape (4, 4) with random integers\n",
    "array_2d = np.random.randint(0, 100, size=(4, 4))\n",
    "\n",
    "# Define the condition to mask elements greater than 50\n",
    "condition = array_2d > 50\n",
    "\n",
    "# Create a masked array from the 2D array using the condition\n",
    "masked_array = ma.masked_array(array_2d, mask=condition)\n",
    "\n",
    "# Find the indices of all unmasked elements\n",
    "unmasked_indices = np.where(~masked_array.mask)\n",
    "\n",
    "# Print the original array, the masked array, and the indices of unmasked elements\n",
    "print('Original 2D array:\\n', array_2d)\n",
    "print('Masked array (elements > 50 are masked):\\n', masked_array)\n",
    "print('Indices of all unmasked elements:\\n', unmasked_indices)"
   ]
  },
  {
   "cell_type": "code",
   "execution_count": 10,
   "id": "ada49389",
   "metadata": {},
   "outputs": [
    {
     "name": "stdout",
     "output_type": "stream",
     "text": [
      "Original 2D array:\n",
      " [[31. 89. 13. 30.]\n",
      " [77. 38. 79. 49.]\n",
      " [32. 78. 80. 46.]\n",
      " [26. 21. 47. 56.]]\n",
      "Masked array (elements > 50 are masked):\n",
      " [[31.0 -- 13.0 30.0]\n",
      " [-- 38.0 -- 49.0]\n",
      " [32.0 -- -- 46.0]\n",
      " [26.0 21.0 47.0 --]]\n",
      "Converted array with NaN for masked values:\n",
      " [[31. nan 13. 30.]\n",
      " [nan 38. nan 49.]\n",
      " [32. nan nan 46.]\n",
      " [26. 21. 47. nan]]\n"
     ]
    }
   ],
   "source": [
    "# Create a 2D NumPy array of shape (4, 4) with random integers\n",
    "array_2d = np.random.randint(0, 100, size=(4, 4)).astype(float)\n",
    "\n",
    "# Define the condition to mask elements greater than 50\n",
    "condition = array_2d > 50\n",
    "\n",
    "# Create a masked array from the 2D array using the condition\n",
    "masked_array = ma.masked_array(array_2d, mask=condition)\n",
    "\n",
    "# Convert the masked array back to a regular NumPy array, replacing masked values with NaN\n",
    "regular_array_with_nan = masked_array.filled(np.nan)\n",
    "\n",
    "# Print the original array, the masked array, and the converted array\n",
    "print('Original 2D array:\\n', array_2d)\n",
    "print('Masked array (elements > 50 are masked):\\n', masked_array)\n",
    "print('Converted array with NaN for masked values:\\n', regular_array_with_nan)"
   ]
  },
  {
   "cell_type": "code",
   "execution_count": 11,
   "id": "d72e355b",
   "metadata": {},
   "outputs": [
    {
     "name": "stdout",
     "output_type": "stream",
     "text": [
      "Original 2D array:\n",
      " [[ 8 70 32  2]\n",
      " [36 40 39 64]\n",
      " [24 34 47 55]\n",
      " [14 88 87 38]]\n",
      "Masked array (elements > 50 are masked):\n",
      " [[8 -- 32 2]\n",
      " [36 40 39 --]\n",
      " [24 34 47 --]\n",
      " [14 -- -- 38]]\n",
      "Multiplier array:\n",
      " [[5 6 7 8]\n",
      " [3 8 2 6]\n",
      " [5 1 1 9]\n",
      " [4 7 8 5]]\n",
      "Masked multiplication result:\n",
      " [[40 -- 224 16]\n",
      " [108 320 78 --]\n",
      " [120 34 47 --]\n",
      " [56 -- -- 190]]\n"
     ]
    }
   ],
   "source": [
    "# Create a 2D NumPy array of shape (4, 4) with random integers\n",
    "array_2d = np.random.randint(0, 100, size=(4, 4))\n",
    "\n",
    "# Define the condition to mask elements greater than 50\n",
    "condition = array_2d > 50\n",
    "\n",
    "# Create a masked array from the 2D array using the condition\n",
    "masked_array = ma.masked_array(array_2d, mask=condition)\n",
    "\n",
    "# Create another 2D NumPy array of the same shape with random integers\n",
    "multiplier_array = np.random.randint(1, 10, size=(4, 4))\n",
    "\n",
    "# Perform masked multiplication\n",
    "masked_multiplication_result = masked_array * multiplier_array\n",
    "\n",
    "# Print the original arrays and the masked multiplication result\n",
    "print('Original 2D array:\\n', array_2d)\n",
    "print('Masked array (elements > 50 are masked):\\n', masked_array)\n",
    "print('Multiplier array:\\n', multiplier_array)\n",
    "print('Masked multiplication result:\\n', masked_multiplication_result)"
   ]
  },
  {
   "cell_type": "code",
   "execution_count": 12,
   "id": "08b32387",
   "metadata": {},
   "outputs": [
    {
     "name": "stdout",
     "output_type": "stream",
     "text": [
      "Original 2D array:\n",
      " [[36 84 91 46]\n",
      " [32  6 93 71]\n",
      " [13 96 59 42]\n",
      " [ 4 94 47 24]]\n",
      "Masked array (elements > 50 are masked):\n",
      " [[36 -- -- 46]\n",
      " [32 6 -- --]\n",
      " [13 -- -- 42]\n",
      " [4 -- 47 24]]\n",
      "Result after applying custom function to unmasked elements:\n",
      " [[72 -- -- 92]\n",
      " [64 12 -- --]\n",
      " [26 -- -- 84]\n",
      " [8 -- 94 48]]\n"
     ]
    }
   ],
   "source": [
    "# Create a 2D NumPy array of shape (4, 4) with random integers\n",
    "array_2d = np.random.randint(0, 100, size=(4, 4))\n",
    "\n",
    "# Define the condition to mask elements greater than 50\n",
    "condition = array_2d > 50\n",
    "\n",
    "# Create a masked array from the 2D array using the condition\n",
    "masked_array = ma.masked_array(array_2d, mask=condition)\n",
    "\n",
    "# Define a custom function to apply to the unmasked elements\n",
    "def custom_function(x):\n",
    "    return x * 2\n",
    "\n",
    "# Apply the custom function only to the unmasked elements\n",
    "unmasked_result = ma.apply_along_axis(custom_function, -1, masked_array)\n",
    "\n",
    "# Print the original array, the masked array, and the result after applying the custom function\n",
    "print('Original 2D array:\\n', array_2d)\n",
    "print('Masked array (elements > 50 are masked):\\n', masked_array)\n",
    "print('Result after applying custom function to unmasked elements:\\n', unmasked_result)"
   ]
  },
  {
   "cell_type": "code",
   "execution_count": 13,
   "id": "2a7978b0",
   "metadata": {},
   "outputs": [
    {
     "name": "stdout",
     "output_type": "stream",
     "text": [
      "Original 2D array:\n",
      " [[74 59 10 11]\n",
      " [92 71 67 48]\n",
      " [16 45 49 15]\n",
      " [92 55 22 94]]\n",
      "Masked array (elements > 50 are masked):\n",
      " [[-- -- 10 11]\n",
      " [-- -- -- 48]\n",
      " [16 45 49 15]\n",
      " [-- -- 22 --]]\n",
      "Unmasked data extracted as a regular NumPy array:\n",
      " [10 11 48 16 45 49 15 22]\n"
     ]
    }
   ],
   "source": [
    "# Create a 2D NumPy array of shape (4, 4) with random integers\n",
    "array_2d = np.random.randint(0, 100, size=(4, 4))\n",
    "\n",
    "# Define the condition to mask elements greater than 50\n",
    "condition = array_2d > 50\n",
    "\n",
    "# Create a masked array from the 2D array using the condition\n",
    "masked_array = ma.masked_array(array_2d, mask=condition)\n",
    "\n",
    "# Extract the unmasked data as a regular NumPy array\n",
    "unmasked_data = masked_array.compressed()\n",
    "\n",
    "# Print the original array, the masked array, and the unmasked data\n",
    "print('Original 2D array:\\n', array_2d)\n",
    "print('Masked array (elements > 50 are masked):\\n', masked_array)\n",
    "print('Unmasked data extracted as a regular NumPy array:\\n', unmasked_data)"
   ]
  },
  {
   "cell_type": "code",
   "execution_count": 14,
   "id": "0c30c9c6",
   "metadata": {},
   "outputs": [
    {
     "name": "stdout",
     "output_type": "stream",
     "text": [
      "Original 2D array:\n",
      " [[72  1 32 20]\n",
      " [26 46 94 97]\n",
      " [15 87 28 35]\n",
      " [42 32 30  0]]\n",
      "Masked array (elements > 50 are masked):\n",
      " [[-- 1 32 20]\n",
      " [26 46 -- --]\n",
      " [15 -- 28 35]\n",
      " [42 32 30 0]]\n",
      "Sum of unmasked elements: 307\n"
     ]
    }
   ],
   "source": [
    "# Create a 2D NumPy array of shape (4, 4) with random integers\n",
    "array_2d = np.random.randint(0, 100, size=(4, 4))\n",
    "\n",
    "# Define the condition to mask elements greater than 50\n",
    "condition = array_2d > 50\n",
    "\n",
    "# Create a masked array from the 2D array using the condition\n",
    "masked_array = ma.masked_array(array_2d, mask=condition)\n",
    "\n",
    "# Perform a masked sum operation, ignoring the masked elements\n",
    "masked_sum = masked_array.sum()\n",
    "\n",
    "# Print the original array, the masked array, and the result of the masked sum\n",
    "print('Original 2D array:\\n', array_2d)\n",
    "print('Masked array (elements > 50 are masked):\\n', masked_array)\n",
    "print('Sum of unmasked elements:', masked_sum)"
   ]
  },
  {
   "cell_type": "code",
   "execution_count": 15,
   "id": "9bf309c7",
   "metadata": {},
   "outputs": [
    {
     "name": "stdout",
     "output_type": "stream",
     "text": [
      "Original 2D array:\n",
      " [[42 68 33 14 26]\n",
      " [ 6 50 13 10 70]\n",
      " [57 33 68 81 97]\n",
      " [92 47 37 50 25]\n",
      " [84 74 26 68 62]]\n",
      "Masked array (values < 20 or > 80 are masked):\n",
      " [[42 68 33 -- 26]\n",
      " [-- 50 -- -- 70]\n",
      " [57 33 68 -- --]\n",
      " [-- 47 37 50 25]\n",
      " [-- 74 26 68 62]]\n"
     ]
    }
   ],
   "source": [
    "# Create a 2D NumPy array of shape (5, 5) with random integers\n",
    "array_2d = np.random.randint(0, 100, size=(5, 5))\n",
    "\n",
    "# Define a complex condition to mask elements: values less than 20 or greater than 80\n",
    "condition = (array_2d < 20) | (array_2d > 80)\n",
    "\n",
    "# Create a masked array from the 2D array using the complex condition\n",
    "masked_array = ma.masked_array(array_2d, mask=condition)\n",
    "\n",
    "# Print the original array and the masked array\n",
    "print('Original 2D array:\\n', array_2d)\n",
    "print('Masked array (values < 20 or > 80 are masked):\\n', masked_array)"
   ]
  },
  {
   "cell_type": "code",
   "execution_count": 16,
   "id": "3b3da780",
   "metadata": {},
   "outputs": [
    {
     "name": "stdout",
     "output_type": "stream",
     "text": [
      "Original 2D array:\n",
      " [[47 81 79 67 48]\n",
      " [25 78 98 90 95]\n",
      " [94 84 69 59 50]\n",
      " [95 48 86 34 80]\n",
      " [35 81 81 92 44]]\n",
      "Initial masked array (values < 20 are masked):\n",
      " [[47 -- 79 67 48]\n",
      " [25 78 -- -- --]\n",
      " [-- -- 69 59 50]\n",
      " [-- 48 -- 34 80]\n",
      " [35 -- -- -- 44]]\n",
      "Updated masked array (values < 20 or > 80 are masked):\n",
      " [[47 -- 79 67 48]\n",
      " [25 78 -- -- --]\n",
      " [-- -- 69 59 50]\n",
      " [-- 48 -- 34 80]\n",
      " [35 -- -- -- 44]]\n"
     ]
    }
   ],
   "source": [
    "# Create a 2D NumPy array of shape (5, 5) with random integers\n",
    "array_2d = np.random.randint(0, 100, size=(5, 5))\n",
    "\n",
    "# Define an initial condition to mask elements less than 20\n",
    "initial_condition = array_2d < 20\n",
    "\n",
    "# Create a masked array from the 2D array using the initial condition\n",
    "masked_array = ma.masked_array(array_2d, mask=initial_condition)\n",
    "\n",
    "# Define an additional condition to mask elements greater than 80\n",
    "additional_condition = array_2d > 80\n",
    "\n",
    "# Update the mask to include additional elements\n",
    "masked_array.mask = masked_array.mask | additional_condition\n",
    "\n",
    "# Print the original array, the initial masked array, and the updated masked array\n",
    "print('Original 2D array:\\n', array_2d)\n",
    "print('Initial masked array (values < 20 are masked):\\n', masked_array)\n",
    "print('Updated masked array (values < 20 or > 80 are masked):\\n', masked_array)"
   ]
  },
  {
   "cell_type": "code",
   "execution_count": 17,
   "id": "c7db0634",
   "metadata": {},
   "outputs": [
    {
     "name": "stdout",
     "output_type": "stream",
     "text": [
      "Original 2D array:\n",
      " [[78 56 30  5 20]\n",
      " [10 26 96 42 86]\n",
      " [49 12 87 12 37]\n",
      " [75 70 80 71 42]\n",
      " [14 71 78 69 61]]\n",
      "Masked array (values < 20 are masked):\n",
      " [[78 56 30 -- 20]\n",
      " [-- 26 96 42 86]\n",
      " [49 -- 87 -- 37]\n",
      " [75 70 80 71 42]\n",
      " [-- 71 78 69 61]]\n",
      "Result array after applying sin to unmasked elements:\n",
      " [[0.5139784559875352 -0.5215510020869119 -0.9880316240928618 --\n",
      "  0.9129452507276277]\n",
      " [-- 0.7625584504796027 0.9835877454343449 -0.9165215479156338\n",
      "  -0.9234584470040598]\n",
      " [-0.9537526527594719 -- -0.8218178366308225 -- -0.6435381333569995]\n",
      " [-0.38778163540943045 0.7738906815578891 -0.9938886539233752\n",
      "  0.9510546532543747 -0.9165215479156338]\n",
      " [-- 0.9510546532543747 0.5139784559875352 -0.11478481378318722\n",
      "  -0.9661177700083929]]\n"
     ]
    }
   ],
   "source": [
    "# Create a 2D NumPy array of shape (5, 5) with random integers\n",
    "array_2d = np.random.randint(0, 100, size=(5, 5))\n",
    "\n",
    "# Define a condition to mask elements less than 20\n",
    "condition = array_2d < 20\n",
    "\n",
    "# Create a masked array from the 2D array using the condition\n",
    "masked_array = ma.masked_array(array_2d, mask=condition)\n",
    "\n",
    "# Apply the sin function only to the unmasked elements\n",
    "result_array = ma.sin(masked_array)\n",
    "\n",
    "# Print the original array, the masked array, and the result array\n",
    "print('Original 2D array:\\n', array_2d)\n",
    "print('Masked array (values < 20 are masked):\\n', masked_array)\n",
    "print('Result array after applying sin to unmasked elements:\\n', result_array)"
   ]
  },
  {
   "cell_type": "code",
   "execution_count": 18,
   "id": "f7e396e1",
   "metadata": {},
   "outputs": [
    {
     "name": "stdout",
     "output_type": "stream",
     "text": [
      "Original 2D array:\n",
      " [[88 10 66 36 98]\n",
      " [14 52  0 68 78]\n",
      " [64 94 29 97 18]\n",
      " [20 30 99 52 36]\n",
      " [68 65 11 30 81]]\n",
      "Masked array (values < 20 are masked):\n",
      " [[88 -- 66 36 98]\n",
      " [-- 52 -- 68 78]\n",
      " [64 94 29 97 --]\n",
      " [20 30 99 52 36]\n",
      " [68 65 -- 30 81]]\n",
      "Any masked elements present?: True\n"
     ]
    }
   ],
   "source": [
    "# Create a 2D NumPy array of shape (5, 5) with random integers\n",
    "array_2d = np.random.randint(0, 100, size=(5, 5))\n",
    "\n",
    "# Define a condition to mask elements less than 20\n",
    "condition = array_2d < 20\n",
    "\n",
    "# Create a masked array from the 2D array using the condition\n",
    "masked_array = ma.masked_array(array_2d, mask=condition)\n",
    "\n",
    "# Check if any masked elements are present\n",
    "has_masked_elements = masked_array.mask.any()\n",
    "\n",
    "# Print the original array, the masked array, and whether any masked elements are present\n",
    "print('Original 2D array:\\n', array_2d)\n",
    "print('Masked array (values < 20 are masked):\\n', masked_array)\n",
    "print('Any masked elements present?:', has_masked_elements)"
   ]
  }
 ],
 "metadata": {
  "kernelspec": {
   "display_name": "Python 3 (ipykernel)",
   "language": "python",
   "name": "python3"
  },
  "language_info": {
   "codemirror_mode": {
    "name": "ipython",
    "version": 3
   },
   "file_extension": ".py",
   "mimetype": "text/x-python",
   "name": "python",
   "nbconvert_exporter": "python",
   "pygments_lexer": "ipython3",
   "version": "3.9.7"
  }
 },
 "nbformat": 4,
 "nbformat_minor": 5
}
