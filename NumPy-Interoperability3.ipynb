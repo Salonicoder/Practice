{
 "cells": [
  {
   "cell_type": "code",
   "execution_count": 1,
   "id": "40c5da8b",
   "metadata": {},
   "outputs": [],
   "source": [
    "import numpy as np\n",
    "import pandas as pd"
   ]
  },
  {
   "cell_type": "code",
   "execution_count": 3,
   "id": "ac10ef17",
   "metadata": {},
   "outputs": [
    {
     "name": "stdout",
     "output_type": "stream",
     "text": [
      "Original 3D NumPy array:  [[[ 1  2  3]\n",
      "  [ 4  5  6]]\n",
      "\n",
      " [[ 7  8  9]\n",
      "  [10 11 12]]]\n",
      "<class 'numpy.ndarray'>\n",
      "\n",
      "list of lists of lists:\n",
      "[[[1, 2, 3], [4, 5, 6]], [[7, 8, 9], [10, 11, 12]]]\n",
      "<class 'list'>\n"
     ]
    }
   ],
   "source": [
    "# Create a 3D NumPy array\n",
    "array_3d = np.array([[[1, 2, 3], [4, 5, 6]], [[7, 8, 9], [10, 11, 12]]])\n",
    "\n",
    "print(\"Original 3D NumPy array: \", array_3d)\n",
    "print(type(array_3d))\n",
    "\n",
    "# Convert the 3D NumPy array to a nested list of lists of lists\n",
    "list_of_lists = array_3d.tolist()\n",
    "\n",
    "# Print the list of lists of lists\n",
    "print(\"\\nlist of lists of lists:\")\n",
    "print(list_of_lists)\n",
    "print(type(list_of_lists))"
   ]
  },
  {
   "cell_type": "code",
   "execution_count": 4,
   "id": "c30039f6",
   "metadata": {},
   "outputs": [
    {
     "name": "stdout",
     "output_type": "stream",
     "text": [
      "Original nested list of lists of lists: [[[1, 2, 3], [4, 5, 6]], [[7, 8, 9], [10, 11, 12]]]\n",
      "<class 'list'>\n",
      "\n",
      "Nested list to a 3D NumPy array:\n",
      "[[[ 1  2  3]\n",
      "  [ 4  5  6]]\n",
      "\n",
      " [[ 7  8  9]\n",
      "  [10 11 12]]]\n",
      "<class 'numpy.ndarray'>\n"
     ]
    }
   ],
   "source": [
    "# Define a nested list of lists of lists\n",
    "list_of_lists = [[[1, 2, 3], [4, 5, 6]], [[7, 8, 9], [10, 11, 12]]]\n",
    "\n",
    "print(\"Original nested list of lists of lists:\",list_of_lists)\n",
    "print(type(list_of_lists))\n",
    "\n",
    "# Convert the nested list to a 3D NumPy array\n",
    "print(\"\\nNested list to a 3D NumPy array:\")\n",
    "array_3d = np.array(list_of_lists)\n",
    "\n",
    "# Print the 3D NumPy array\n",
    "print(array_3d)\n",
    "print(type(array_3d))"
   ]
  },
  {
   "cell_type": "code",
   "execution_count": 5,
   "id": "deb6e921",
   "metadata": {},
   "outputs": [
    {
     "name": "stdout",
     "output_type": "stream",
     "text": [
      "Original Pandas DataFrame with mixed data types:    A  B    C\n",
      "0  1  a  5.0\n",
      "1  2  b  6.1\n",
      "2  3  c  7.2\n",
      "3  4  d  8.3\n",
      "<class 'pandas.core.frame.DataFrame'>\n",
      "\n",
      "DataFrame to a NumPy array:\n",
      "[[1 'a' 5.0]\n",
      " [2 'b' 6.1]\n",
      " [3 'c' 7.2]\n",
      " [4 'd' 8.3]]\n",
      "<class 'numpy.ndarray'>\n"
     ]
    }
   ],
   "source": [
    "# Create a Pandas DataFrame with mixed data types\n",
    "data = {\n",
    "    'A': [1, 2, 3, 4],\n",
    "    'B': ['a', 'b', 'c', 'd'],\n",
    "    'C': [5.0, 6.1, 7.2, 8.3]\n",
    "}\n",
    "df = pd.DataFrame(data)\n",
    "\n",
    "print(\"Original Pandas DataFrame with mixed data types:\",df)\n",
    "print(type(df))\n",
    "\n",
    "# Convert the DataFrame to a NumPy array\n",
    "array = df.to_numpy()\n",
    "print(\"\\nDataFrame to a NumPy array:\")\n",
    "# Print the NumPy array\n",
    "print(array)\n",
    "print(type(array))"
   ]
  },
  {
   "cell_type": "code",
   "execution_count": 6,
   "id": "0eb4a9cf",
   "metadata": {},
   "outputs": [
    {
     "name": "stdout",
     "output_type": "stream",
     "text": [
      "   A  B   C   D\n",
      "0  1  a  10  20\n",
      "1  2  b  30  40\n",
      "2  3  c  50  60\n"
     ]
    }
   ],
   "source": [
    "# Create a NumPy array\n",
    "array = np.array([[10, 20], [30, 40], [50, 60]])\n",
    "\n",
    "# Create a Pandas DataFrame\n",
    "data = {\n",
    "    'A': [1, 2, 3],\n",
    "    'B': ['a', 'b', 'c']\n",
    "}\n",
    "df = pd.DataFrame(data)\n",
    "\n",
    "# Combine the NumPy array and Pandas DataFrame into a single DataFrame\n",
    "# Adding columns to match the DataFrame structure\n",
    "array_df = pd.DataFrame(array, columns=['C', 'D'])\n",
    "\n",
    "# Concatenate both DataFrames\n",
    "combined_df = pd.concat([df, array_df], axis=1)\n",
    "\n",
    "# Print the combined DataFrame\n",
    "print(combined_df)"
   ]
  },
  {
   "cell_type": "code",
   "execution_count": 7,
   "id": "1a1a6d74",
   "metadata": {},
   "outputs": [
    {
     "name": "stdout",
     "output_type": "stream",
     "text": [
      "Original Python list: [1, 2, 3]\n",
      "<class 'list'>\n",
      "\n",
      "Original NumPy list: [4 5 6]\n",
      "<class 'numpy.ndarray'>\n",
      "\n",
      "Combined list:\n",
      "[1, 2, 3, 4, 5, 6]\n",
      "<class 'list'>\n"
     ]
    }
   ],
   "source": [
    "# Create a Python list\n",
    "python_list = [1, 2, 3]\n",
    "print(\"Original Python list:\",python_list)\n",
    "print(type(python_list))\n",
    "\n",
    "# Create a NumPy array\n",
    "numpy_array = np.array([4, 5, 6])\n",
    "print(\"\\nOriginal NumPy list:\",numpy_array)\n",
    "print(type(numpy_array))\n",
    "\n",
    "# Append the NumPy array to the Python list\n",
    "# Convert the NumPy array to a list before appending\n",
    "combined_list = python_list + numpy_array.tolist()\n",
    "print(\"\\nCombined list:\")\n",
    "\n",
    "# Print the resulting list\n",
    "print(combined_list)\n",
    "print(type(combined_list))"
   ]
  }
 ],
 "metadata": {
  "kernelspec": {
   "display_name": "Python 3 (ipykernel)",
   "language": "python",
   "name": "python3"
  },
  "language_info": {
   "codemirror_mode": {
    "name": "ipython",
    "version": 3
   },
   "file_extension": ".py",
   "mimetype": "text/x-python",
   "name": "python",
   "nbconvert_exporter": "python",
   "pygments_lexer": "ipython3",
   "version": "3.9.7"
  }
 },
 "nbformat": 4,
 "nbformat_minor": 5
}
