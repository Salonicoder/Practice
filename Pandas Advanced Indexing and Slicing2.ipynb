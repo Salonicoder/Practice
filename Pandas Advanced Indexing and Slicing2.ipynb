{
 "cells": [
  {
   "cell_type": "code",
   "execution_count": 1,
   "id": "4c8642cb",
   "metadata": {},
   "outputs": [],
   "source": [
    "import pandas as pd"
   ]
  },
  {
   "cell_type": "code",
   "execution_count": 2,
   "id": "2f2ef5a7",
   "metadata": {},
   "outputs": [
    {
     "name": "stdout",
     "output_type": "stream",
     "text": [
      "     C  A  B\n",
      "0  one  1  5\n",
      "1  one  6  2\n",
      "2  two  8  9\n",
      "3  two  3  4\n",
      "4  one  7  1\n"
     ]
    }
   ],
   "source": [
    "# Create a DataFrame\n",
    "df = pd.DataFrame({\n",
    "    'A': [1, 6, 8, 3, 7],\n",
    "    'B': [5, 2, 9, 4, 1],\n",
    "    'C': ['one', 'one', 'two', 'two', 'one']\n",
    "})\n",
    "\n",
    "# Set MultiIndex\n",
    "df = df.set_index(['C', 'A'])\n",
    "\n",
    "# Reset the index\n",
    "df = df.reset_index()\n",
    "print(df)"
   ]
  },
  {
   "cell_type": "code",
   "execution_count": 3,
   "id": "23bb82b0",
   "metadata": {},
   "outputs": [
    {
     "name": "stdout",
     "output_type": "stream",
     "text": [
      "X    6\n",
      "Y    2\n",
      "Name: 1, dtype: int64\n"
     ]
    }
   ],
   "source": [
    "# Create a DataFrame\n",
    "df = pd.DataFrame({\n",
    "    'X': [1, 6, 8, 3, 7],\n",
    "    'Y': [5, 2, 9, 4, 1]\n",
    "})\n",
    "\n",
    "# Indexing using .loc\n",
    "result = df.loc[1]\n",
    "print(result)"
   ]
  },
  {
   "cell_type": "code",
   "execution_count": 4,
   "id": "2d9c623c",
   "metadata": {},
   "outputs": [
    {
     "name": "stdout",
     "output_type": "stream",
     "text": [
      "   X  Y\n",
      "2  8  9\n",
      "4  7  1\n"
     ]
    }
   ],
   "source": [
    "# Create a DataFrame\n",
    "df = pd.DataFrame({\n",
    "    'X': [1, 6, 8, 3, 7],\n",
    "    'Y': [5, 2, 9, 4, 1]\n",
    "})\n",
    "\n",
    "# Boolean indexing to select rows\n",
    "result = df[df['X'] > 6]\n",
    "print(result)"
   ]
  },
  {
   "cell_type": "code",
   "execution_count": 5,
   "id": "017f75f3",
   "metadata": {},
   "outputs": [
    {
     "name": "stdout",
     "output_type": "stream",
     "text": [
      "   X  Y\n",
      "0  1  5\n",
      "1  6  2\n",
      "2  8  9\n",
      "3  3  4\n"
     ]
    }
   ],
   "source": [
    "# Create a DataFrame\n",
    "df = pd.DataFrame({\n",
    "    'X': [1, 6, 8, 3, 7],\n",
    "    'Y': [5, 2, 9, 4, 1]\n",
    "})\n",
    "\n",
    "# Select first three rows using iloc\n",
    "result = df.iloc[:4]\n",
    "print(result)"
   ]
  },
  {
   "cell_type": "code",
   "execution_count": 6,
   "id": "c28e9e47",
   "metadata": {},
   "outputs": [
    {
     "name": "stdout",
     "output_type": "stream",
     "text": [
      "   P  Q\n",
      "1  6  2\n",
      "2  8  9\n",
      "4  7  1\n"
     ]
    }
   ],
   "source": [
    "# Create a DataFrame\n",
    "df = pd.DataFrame({\n",
    "    'P': [1, 6, 8, 3, 7],\n",
    "    'Q': [5, 2, 9, 4, 1]\n",
    "})\n",
    "\n",
    "# Conditional selection using .loc\n",
    "result = df.loc[df['P'] > 3]\n",
    "print(result)"
   ]
  },
  {
   "cell_type": "code",
   "execution_count": 7,
   "id": "e9d70eb1",
   "metadata": {},
   "outputs": [
    {
     "name": "stdout",
     "output_type": "stream",
     "text": [
      "   X  Y\n",
      "0  1  5\n",
      "1  6  0\n",
      "2  8  0\n",
      "3  3  4\n",
      "4  7  0\n"
     ]
    }
   ],
   "source": [
    "# Create a DataFrame\n",
    "df = pd.DataFrame({\n",
    "    'X': [1, 6, 8, 3, 7],\n",
    "    'Y': [5, 2, 9, 4, 1]\n",
    "})\n",
    "\n",
    "# Set values using .loc\n",
    "df.loc[df['X'] > 5, 'Y'] = 0\n",
    "print(df)"
   ]
  },
  {
   "cell_type": "code",
   "execution_count": 8,
   "id": "4dcbeecb",
   "metadata": {},
   "outputs": [
    {
     "name": "stdout",
     "output_type": "stream",
     "text": [
      "   X  Z\n",
      "1  6  8\n",
      "2  8  9\n",
      "3  3  1\n"
     ]
    }
   ],
   "source": [
    "# Create a DataFrame\n",
    "df = pd.DataFrame({\n",
    "    'X': [1, 6, 8, 3, 7],\n",
    "    'Y': [5, 2, 9, 4, 1],\n",
    "    'Z': [7, 8, 9, 1, 2]\n",
    "})\n",
    "\n",
    "# Slice DataFrame using .loc\n",
    "result = df.loc[1:3, ['X', 'Z']]\n",
    "print(result)"
   ]
  },
  {
   "cell_type": "code",
   "execution_count": 9,
   "id": "71003744",
   "metadata": {},
   "outputs": [
    {
     "name": "stdout",
     "output_type": "stream",
     "text": [
      "   X  Y\n",
      "1  6  2\n",
      "4  7  1\n"
     ]
    }
   ],
   "source": [
    "# Create a DataFrame\n",
    "df = pd.DataFrame({\n",
    "    'X': [1, 6, 8, 3, 7],\n",
    "    'Y': [5, 2, 9, 4, 1]\n",
    "})\n",
    "\n",
    "# Advanced Boolean indexing\n",
    "result = df[(df['X'] > 5) & (df['Y'] < 5)]\n",
    "print(result)"
   ]
  },
  {
   "cell_type": "code",
   "execution_count": 10,
   "id": "98885321",
   "metadata": {},
   "outputs": [
    {
     "name": "stdout",
     "output_type": "stream",
     "text": [
      "       B\n",
      "C   A   \n",
      "one 1  5\n",
      "    6  2\n",
      "    7  1\n",
      "two 3  4\n",
      "    8  9\n"
     ]
    }
   ],
   "source": [
    "# Create a DataFrame\n",
    "df = pd.DataFrame({\n",
    "    'A': [1, 6, 8, 3, 7],\n",
    "    'B': [5, 2, 9, 4, 1],\n",
    "    'C': ['one', 'one', 'two', 'two', 'one']\n",
    "})\n",
    "\n",
    "# Set MultiIndex\n",
    "df = df.set_index(['C', 'A'])\n",
    "\n",
    "# Sort the MultiIndex\n",
    "df = df.sort_index()\n",
    "\n",
    "# Slice MultiIndex DataFrame using .loc\n",
    "result = df.loc['one':'two']\n",
    "print(result)"
   ]
  },
  {
   "cell_type": "code",
   "execution_count": 11,
   "id": "85b35a72",
   "metadata": {},
   "outputs": [
    {
     "name": "stdout",
     "output_type": "stream",
     "text": [
      "   Y\n",
      "X   \n",
      "1  5\n",
      "6  2\n",
      "7  1\n"
     ]
    }
   ],
   "source": [
    "# Create a DataFrame\n",
    "df = pd.DataFrame({\n",
    "    'X': [1, 6, 8, 3, 7],\n",
    "    'Y': [5, 2, 9, 4, 1],\n",
    "    'Z': ['one', 'one', 'two', 'two', 'one']\n",
    "})\n",
    "\n",
    "# Set MultiIndex\n",
    "df = df.set_index(['Z', 'X'])\n",
    "\n",
    "# Conditional selection with MultiIndex\n",
    "result = df.loc[('one', slice(None))]\n",
    "print(result)"
   ]
  }
 ],
 "metadata": {
  "kernelspec": {
   "display_name": "Python 3 (ipykernel)",
   "language": "python",
   "name": "python3"
  },
  "language_info": {
   "codemirror_mode": {
    "name": "ipython",
    "version": 3
   },
   "file_extension": ".py",
   "mimetype": "text/x-python",
   "name": "python",
   "nbconvert_exporter": "python",
   "pygments_lexer": "ipython3",
   "version": "3.9.7"
  }
 },
 "nbformat": 4,
 "nbformat_minor": 5
}
