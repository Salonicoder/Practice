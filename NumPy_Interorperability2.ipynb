{
 "cells": [
  {
   "cell_type": "code",
   "execution_count": 1,
   "id": "af681776",
   "metadata": {},
   "outputs": [],
   "source": [
    "import numpy as np\n",
    "import pandas as pd"
   ]
  },
  {
   "cell_type": "code",
   "execution_count": 2,
   "id": "0e4a775e",
   "metadata": {},
   "outputs": [
    {
     "name": "stdout",
     "output_type": "stream",
     "text": [
      "Original Pandas Series: 0    10\n",
      "1    20\n",
      "2    30\n",
      "3    40\n",
      "4    50\n",
      "dtype: int64\n",
      "Type: <class 'pandas.core.series.Series'>\n",
      "\n",
      "Pandas Series to a NumPy array:\n",
      "[10 20 30 40 50]\n",
      "Type: <class 'numpy.ndarray'>\n"
     ]
    }
   ],
   "source": [
    "# Create a Pandas Series\n",
    "series = pd.Series([10, 20, 30, 40, 50])\n",
    "print(\"Original Pandas Series:\",series)\n",
    "print(\"Type:\",type(series))\n",
    "# Convert the Pandas Series to a NumPy array\n",
    "array = series.to_numpy()\n",
    "print(\"\\nPandas Series to a NumPy array:\")\n",
    "# Print the NumPy array\n",
    "print(array)\n",
    "print(\"Type:\",type(array))"
   ]
  },
  {
   "cell_type": "code",
   "execution_count": 3,
   "id": "8adfe4ef",
   "metadata": {},
   "outputs": [
    {
     "name": "stdout",
     "output_type": "stream",
     "text": [
      "Original NumPy array: [10 20 30 40 50]\n",
      "Type: <class 'numpy.ndarray'>\n",
      "\n",
      "NumPy array to a Pandas Series:\n",
      "0    10\n",
      "1    20\n",
      "2    30\n",
      "3    40\n",
      "4    50\n",
      "dtype: int32\n",
      "Type: <class 'pandas.core.series.Series'>\n"
     ]
    }
   ],
   "source": [
    "# Create a NumPy array\n",
    "array = np.array([10, 20, 30, 40, 50])\n",
    "print(\"Original NumPy array:\",array)\n",
    "print(\"Type:\",type(array))\n",
    "# Convert the NumPy array to a Pandas Series\n",
    "series = pd.Series(array)\n",
    "print(\"\\nNumPy array to a Pandas Series:\")\n",
    "# Print the Pandas Series\n",
    "print(series)\n",
    "print(\"Type:\",type(series))"
   ]
  },
  {
   "cell_type": "code",
   "execution_count": 4,
   "id": "7d42832d",
   "metadata": {},
   "outputs": [
    {
     "name": "stdout",
     "output_type": "stream",
     "text": [
      "Original DataFrame:\n",
      "   A  B   C\n",
      "0  1  5   9\n",
      "1  2  6  10\n",
      "2  3  7  11\n",
      "3  4  8  12\n",
      "Type: <class 'pandas.core.frame.DataFrame'>\n",
      "\n",
      "NumPy Array:\n",
      "[[ 1  5  9]\n",
      " [ 2  6 10]\n",
      " [ 3  7 11]\n",
      " [ 4  8 12]]\n",
      "Type: <class 'numpy.ndarray'>\n",
      "\n",
      "DataFrame from NumPy Array:\n",
      "   A  B   C\n",
      "0  1  5   9\n",
      "1  2  6  10\n",
      "2  3  7  11\n",
      "3  4  8  12\n",
      "Type: <class 'pandas.core.frame.DataFrame'>\n"
     ]
    }
   ],
   "source": [
    "# Create a Pandas DataFrame\n",
    "data = {\n",
    "    'A': [1, 2, 3, 4],\n",
    "    'B': [5, 6, 7, 8],\n",
    "    'C': [9, 10, 11, 12]\n",
    "}\n",
    "df = pd.DataFrame(data)\n",
    "\n",
    "# Print the original DataFrame\n",
    "print(\"Original DataFrame:\")\n",
    "print(df)\n",
    "print(\"Type:\",type(df))\n",
    "\n",
    "\n",
    "# Convert the DataFrame to a NumPy array\n",
    "array = df.to_numpy()\n",
    "\n",
    "\n",
    "# Print the NumPy array\n",
    "print(\"\\nNumPy Array:\")\n",
    "print(array)\n",
    "print(\"Type:\",type(array))\n",
    "\n",
    "\n",
    "# Convert the NumPy array back to a DataFrame\n",
    "df_back = pd.DataFrame(array, columns=df.columns)\n",
    "\n",
    "# Print the DataFrame converted back from the NumPy array\n",
    "print(\"\\nDataFrame from NumPy Array:\")\n",
    "print(df_back)\n",
    "print(\"Type:\",type(df_back))"
   ]
  },
  {
   "cell_type": "code",
   "execution_count": 5,
   "id": "0423f4b9",
   "metadata": {},
   "outputs": [
    {
     "name": "stdout",
     "output_type": "stream",
     "text": [
      "Original NumPy Array:\n",
      "[[1 2 3]\n",
      " [4 5 6]\n",
      " [7 8 9]]\n",
      "<class 'numpy.ndarray'>\n",
      "\n",
      "Verified NumPy Array from CSV File:\n",
      "[[1. 2. 3.]\n",
      " [4. 5. 6.]\n",
      " [7. 8. 9.]]\n",
      "<class 'numpy.ndarray'>\n"
     ]
    }
   ],
   "source": [
    "# Create a NumPy array\n",
    "array = np.array([[1, 2, 3], [4, 5, 6], [7, 8, 9]])\n",
    "\n",
    "# Save the NumPy array to a CSV file\n",
    "np.savetxt('array.csv', array, delimiter=',')\n",
    "\n",
    "# Read the CSV file to verify contents\n",
    "verified_array = np.loadtxt('array.csv', delimiter=',')\n",
    "\n",
    "# Print the original NumPy array\n",
    "print(\"Original NumPy Array:\")\n",
    "print(array)\n",
    "print(type(array))\n",
    "# Print the verified NumPy array read from the CSV file\n",
    "print(\"\\nVerified NumPy Array from CSV File:\")\n",
    "print(verified_array)\n",
    "print(type(verified_array))"
   ]
  },
  {
   "cell_type": "code",
   "execution_count": 6,
   "id": "bb374e15",
   "metadata": {},
   "outputs": [
    {
     "name": "stdout",
     "output_type": "stream",
     "text": [
      "[[1. 2. 3.]\n",
      " [4. 5. 6.]\n",
      " [7. 8. 9.]]\n"
     ]
    }
   ],
   "source": [
    "# Read a CSV file into a NumPy array\n",
    "# Ensure the 'array.csv' file exists in the working directory\n",
    "array = np.loadtxt('array.csv', delimiter=',')\n",
    "\n",
    "# Print the NumPy array\n",
    "print(array)"
   ]
  }
 ],
 "metadata": {
  "kernelspec": {
   "display_name": "Python 3 (ipykernel)",
   "language": "python",
   "name": "python3"
  },
  "language_info": {
   "codemirror_mode": {
    "name": "ipython",
    "version": 3
   },
   "file_extension": ".py",
   "mimetype": "text/x-python",
   "name": "python",
   "nbconvert_exporter": "python",
   "pygments_lexer": "ipython3",
   "version": "3.9.7"
  }
 },
 "nbformat": 4,
 "nbformat_minor": 5
}
