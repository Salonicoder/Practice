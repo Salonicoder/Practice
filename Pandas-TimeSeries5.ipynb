{
 "cells": [
  {
   "cell_type": "code",
   "execution_count": 1,
   "id": "601608d5",
   "metadata": {},
   "outputs": [],
   "source": [
    "import pandas as pd\n",
    "import datetime"
   ]
  },
  {
   "cell_type": "code",
   "execution_count": 11,
   "id": "51a2a8c4",
   "metadata": {},
   "outputs": [],
   "source": [
    "import numpy as np"
   ]
  },
  {
   "cell_type": "code",
   "execution_count": 6,
   "id": "86a0d5bf",
   "metadata": {},
   "outputs": [],
   "source": [
    "from pandas.tseries.offsets import *\n",
    "from datetime import datetime, date"
   ]
  },
  {
   "cell_type": "code",
   "execution_count": 2,
   "id": "f0997112",
   "metadata": {},
   "outputs": [
    {
     "name": "stdout",
     "output_type": "stream",
     "text": [
      "First date:\n",
      "2024-05-27 00:00:00\n",
      "\n",
      "The day name of the said date:\n",
      "Monday\n",
      "\n",
      "Add 2 days with the said date:\n",
      "Wednesday\n",
      "\n",
      "Next business day:\n",
      "Tuesday\n"
     ]
    }
   ],
   "source": [
    "#Q25\n",
    "newday = pd.Timestamp('2024-05-27')\n",
    "print('First date:')\n",
    "print(newday)\n",
    "print(\"\\nThe day name of the said date:\")    \n",
    "print(newday.day_name())\n",
    "print(\"\\nAdd 2 days with the said date:\")\n",
    "newday1 = newday + pd.Timedelta('2 day')\n",
    "print(newday1.day_name())\n",
    "print(\"\\nNext business day:\")\n",
    "nbday = newday + pd.offsets.BDay()\n",
    "print(nbday.day_name())"
   ]
  },
  {
   "cell_type": "code",
   "execution_count": 5,
   "id": "a3ff5d8d",
   "metadata": {},
   "outputs": [
    {
     "name": "stdout",
     "output_type": "stream",
     "text": [
      "Convert integer or float epoch times to Timestamp and DatetimeIndex upto second:\n",
      "DatetimeIndex(['2012-02-21 06:41:45', '1974-02-11 09:21:45',\n",
      "               '2009-08-10 08:28:25', '2009-08-11 08:28:25',\n",
      "               '2009-08-12 08:28:25'],\n",
      "              dtype='datetime64[ns]', freq=None)\n",
      "\n",
      "Convert integer or float epoch times to Timestamp and DatetimeIndex upto milisecond:\n",
      "DatetimeIndex(['2009-08-08 08:28:25.100000', '2009-08-08 08:28:25.200000',\n",
      "               '2009-08-08 08:28:25.300000', '2009-08-08 08:28:25.400000',\n",
      "               '2009-08-08 08:28:25.500000'],\n",
      "              dtype='datetime64[ns]', freq=None)\n"
     ]
    }
   ],
   "source": [
    "#Q26\n",
    "dates1 = pd.to_datetime([1329806505, 129806505, 1249892905,\n",
    "                1249979305, 1250065705], unit='s')\n",
    "print(\"Convert integer or float epoch times to Timestamp and DatetimeIndex upto second:\")\n",
    "print(dates1)\n",
    "\n",
    "print(\"\\nConvert integer or float epoch times to Timestamp and DatetimeIndex upto milisecond:\")\n",
    "dates2 = pd.to_datetime([1249720105100, 1249720105200, 1249720105300,\n",
    "                1249720105400, 1249720105500], unit='ms')\n",
    "print(dates2)"
   ]
  },
  {
   "cell_type": "code",
   "execution_count": 7,
   "id": "cebe85d9",
   "metadata": {},
   "outputs": [
    {
     "name": "stdout",
     "output_type": "stream",
     "text": [
      "Specified date:\n",
      "2024-05-27 00:00:00\n",
      "\n",
      "One business day from the said date:\n",
      "2024-05-28 00:00:00\n",
      "\n",
      "Two business days from the said date:\n",
      "2024-05-29 00:00:00\n",
      "\n",
      "Three business days from the said date:\n",
      "2024-05-30 00:00:00\n",
      "\n",
      "Next business month end from the said date:\n",
      "2024-05-31 00:00:00\n"
     ]
    }
   ],
   "source": [
    "#Q27\n",
    "dt = datetime(2024, 5, 27)\n",
    "print(\"Specified date:\")\n",
    "print(dt)\n",
    "print(\"\\nOne business day from the said date:\")\n",
    "obday = dt + BusinessDay()\n",
    "print(obday)\n",
    "print(\"\\nTwo business days from the said date:\")\n",
    "tbday = dt + 2 * BusinessDay()\n",
    "print(tbday)\n",
    "print(\"\\nThree business days from the said date:\")\n",
    "thbday = dt + 3 * BusinessDay()\n",
    "print(thbday)\n",
    "print(\"\\nNext business month end from the said date:\")\n",
    "nbday = dt + BMonthEnd()\n",
    "print(nbday)\n"
   ]
  },
  {
   "cell_type": "code",
   "execution_count": 10,
   "id": "eca1f42d",
   "metadata": {},
   "outputs": [
    {
     "name": "stdout",
     "output_type": "stream",
     "text": [
      "All monthly boundaries of a given year:\n",
      "PeriodIndex(['2024-01', '2024-02', '2024-03', '2024-04', '2024-05', '2024-06',\n",
      "             '2024-07', '2024-08', '2024-09', '2024-10', '2024-11', '2024-12'],\n",
      "            dtype='period[M]')\n",
      "\n",
      "Start and end time for each period object in the said index:\n",
      "2024-01-01 00:00:00 2024-01-31 23:59:59.999999999\n",
      "2024-02-01 00:00:00 2024-02-29 23:59:59.999999999\n",
      "2024-03-01 00:00:00 2024-03-31 23:59:59.999999999\n",
      "2024-04-01 00:00:00 2024-04-30 23:59:59.999999999\n",
      "2024-05-01 00:00:00 2024-05-31 23:59:59.999999999\n",
      "2024-06-01 00:00:00 2024-06-30 23:59:59.999999999\n",
      "2024-07-01 00:00:00 2024-07-31 23:59:59.999999999\n",
      "2024-08-01 00:00:00 2024-08-31 23:59:59.999999999\n",
      "2024-09-01 00:00:00 2024-09-30 23:59:59.999999999\n",
      "2024-10-01 00:00:00 2024-10-31 23:59:59.999999999\n",
      "2024-11-01 00:00:00 2024-11-30 23:59:59.999999999\n",
      "2024-12-01 00:00:00 2024-12-31 23:59:59.999999999\n"
     ]
    }
   ],
   "source": [
    "#Q28\n",
    "sdt = datetime(2024, 1, 1)\n",
    "edt = datetime(2024, 12, 31)\n",
    "dateset = pd.period_range(sdt, edt, freq='M')\n",
    "print(\"All monthly boundaries of a given year:\")\n",
    "print(dateset) \n",
    "print(\"\\nStart and end time for each period object in the said index:\")\n",
    "for d in dateset: \n",
    "    print (\"{0} {1}\".format(d.start_time, d.end_time)) "
   ]
  },
  {
   "cell_type": "code",
   "execution_count": 14,
   "id": "95e1cd7c",
   "metadata": {},
   "outputs": [
    {
     "name": "stdout",
     "output_type": "stream",
     "text": [
      "PeriodIndex which represents all the calendar month periods in 2027 and 2028:\n",
      "2027-01   -2.135446\n",
      "2027-02   -0.135812\n",
      "2027-03   -0.489901\n",
      "2027-04   -0.139143\n",
      "2027-05   -0.624001\n",
      "2027-06    0.433508\n",
      "2027-07    1.339555\n",
      "2027-08   -0.961520\n",
      "2027-09   -0.872094\n",
      "2027-10    0.753922\n",
      "2027-11    0.931772\n",
      "2027-12    0.278539\n",
      "2028-01   -0.721071\n",
      "2028-02   -1.490042\n",
      "2028-03   -2.234051\n",
      "2028-04    0.559369\n",
      "2028-05    0.476640\n",
      "2028-06   -1.984770\n",
      "2028-07    1.522650\n",
      "2028-08   -0.436865\n",
      "2028-09    0.362096\n",
      "2028-10   -0.256579\n",
      "2028-11   -0.115361\n",
      "2028-12   -1.391812\n",
      "Freq: M, dtype: float64\n",
      "\n",
      "Values for all periods in 2028:\n",
      "2028-01   -0.721071\n",
      "2028-02   -1.490042\n",
      "2028-03   -2.234051\n",
      "2028-04    0.559369\n",
      "2028-05    0.476640\n",
      "2028-06   -1.984770\n",
      "2028-07    1.522650\n",
      "2028-08   -0.436865\n",
      "2028-09    0.362096\n",
      "2028-10   -0.256579\n",
      "2028-11   -0.115361\n",
      "2028-12   -1.391812\n",
      "Freq: M, dtype: float64\n"
     ]
    }
   ],
   "source": [
    "#Q29\n",
    "pi = pd.Series(np.random.randn(24), \n",
    "               pd.period_range('1/1/2027', \n",
    "                               '12/31/2028', freq='M'))\n",
    "print(\"PeriodIndex which represents all the calendar month periods in 2027 and 2028:\")\n",
    "print(pi)\n",
    "print(\"\\nValues for all periods in 2028:\")\n",
    "print(pi['2028'])"
   ]
  },
  {
   "cell_type": "code",
   "execution_count": 19,
   "id": "0a53050b",
   "metadata": {},
   "outputs": [
    {
     "name": "stdout",
     "output_type": "stream",
     "text": [
      "Collecting holidays\n",
      "  Downloading holidays-0.49-py3-none-any.whl (1.0 MB)\n",
      "Requirement already satisfied: python-dateutil in c:\\users\\singh\\anaconda3\\lib\\site-packages (from holidays) (2.8.2)\n",
      "Requirement already satisfied: six>=1.5 in c:\\users\\singh\\anaconda3\\lib\\site-packages (from python-dateutil->holidays) (1.16.0)\n",
      "Installing collected packages: holidays\n",
      "Successfully installed holidays-0.49\n",
      "Note: you may need to restart the kernel to use updated packages.\n"
     ]
    }
   ],
   "source": [
    "pip install holidays"
   ]
  },
  {
   "cell_type": "code",
   "execution_count": 21,
   "id": "40ac5454",
   "metadata": {
    "scrolled": true
   },
   "outputs": [
    {
     "name": "stdout",
     "output_type": "stream",
     "text": [
      "Holidays between 2021-01-01 and 2030-12-31 using the US federal holiday calendar.\n",
      "2021-01-01 00:00:00\n",
      "2021-01-18 00:00:00\n",
      "2021-02-15 00:00:00\n",
      "2021-05-31 00:00:00\n",
      "2021-07-05 00:00:00\n",
      "2021-09-06 00:00:00\n",
      "2021-10-11 00:00:00\n",
      "2021-11-11 00:00:00\n",
      "2021-11-25 00:00:00\n",
      "2021-12-24 00:00:00\n",
      "2021-12-31 00:00:00\n",
      "2022-01-17 00:00:00\n",
      "2022-02-21 00:00:00\n",
      "2022-05-30 00:00:00\n",
      "2022-07-04 00:00:00\n",
      "2022-09-05 00:00:00\n",
      "2022-10-10 00:00:00\n",
      "2022-11-11 00:00:00\n",
      "2022-11-24 00:00:00\n",
      "2022-12-26 00:00:00\n",
      "2023-01-02 00:00:00\n",
      "2023-01-16 00:00:00\n",
      "2023-02-20 00:00:00\n",
      "2023-05-29 00:00:00\n",
      "2023-07-04 00:00:00\n",
      "2023-09-04 00:00:00\n",
      "2023-10-09 00:00:00\n",
      "2023-11-10 00:00:00\n",
      "2023-11-23 00:00:00\n",
      "2023-12-25 00:00:00\n",
      "2024-01-01 00:00:00\n",
      "2024-01-15 00:00:00\n",
      "2024-02-19 00:00:00\n",
      "2024-05-27 00:00:00\n",
      "2024-07-04 00:00:00\n",
      "2024-09-02 00:00:00\n",
      "2024-10-14 00:00:00\n",
      "2024-11-11 00:00:00\n",
      "2024-11-28 00:00:00\n",
      "2024-12-25 00:00:00\n",
      "2025-01-01 00:00:00\n",
      "2025-01-20 00:00:00\n",
      "2025-02-17 00:00:00\n",
      "2025-05-26 00:00:00\n",
      "2025-07-04 00:00:00\n",
      "2025-09-01 00:00:00\n",
      "2025-10-13 00:00:00\n",
      "2025-11-11 00:00:00\n",
      "2025-11-27 00:00:00\n",
      "2025-12-25 00:00:00\n",
      "2026-01-01 00:00:00\n",
      "2026-01-19 00:00:00\n",
      "2026-02-16 00:00:00\n",
      "2026-05-25 00:00:00\n",
      "2026-07-03 00:00:00\n",
      "2026-09-07 00:00:00\n",
      "2026-10-12 00:00:00\n",
      "2026-11-11 00:00:00\n",
      "2026-11-26 00:00:00\n",
      "2026-12-25 00:00:00\n",
      "2027-01-01 00:00:00\n",
      "2027-01-18 00:00:00\n",
      "2027-02-15 00:00:00\n",
      "2027-05-31 00:00:00\n",
      "2027-07-05 00:00:00\n",
      "2027-09-06 00:00:00\n",
      "2027-10-11 00:00:00\n",
      "2027-11-11 00:00:00\n",
      "2027-11-25 00:00:00\n",
      "2027-12-24 00:00:00\n",
      "2027-12-31 00:00:00\n",
      "2028-01-17 00:00:00\n",
      "2028-02-21 00:00:00\n",
      "2028-05-29 00:00:00\n",
      "2028-07-04 00:00:00\n",
      "2028-09-04 00:00:00\n",
      "2028-10-09 00:00:00\n",
      "2028-11-10 00:00:00\n",
      "2028-11-23 00:00:00\n",
      "2028-12-25 00:00:00\n",
      "2029-01-01 00:00:00\n",
      "2029-01-15 00:00:00\n",
      "2029-02-19 00:00:00\n",
      "2029-05-28 00:00:00\n",
      "2029-07-04 00:00:00\n",
      "2029-09-03 00:00:00\n",
      "2029-10-08 00:00:00\n",
      "2029-11-12 00:00:00\n",
      "2029-11-22 00:00:00\n",
      "2029-12-25 00:00:00\n",
      "2030-01-01 00:00:00\n",
      "2030-01-21 00:00:00\n",
      "2030-02-18 00:00:00\n",
      "2030-05-27 00:00:00\n",
      "2030-07-04 00:00:00\n",
      "2030-09-02 00:00:00\n",
      "2030-10-14 00:00:00\n",
      "2030-11-11 00:00:00\n",
      "2030-11-28 00:00:00\n",
      "2030-12-25 00:00:00\n"
     ]
    }
   ],
   "source": [
    "#Q30\n",
    "from pandas.tseries.holiday import *\n",
    "import holidays\n",
    "sdt = datetime(2021, 1, 1)\n",
    "edt = datetime(2030, 12, 31)\n",
    "print(\"Holidays between 2021-01-01 and 2030-12-31 using the US federal holiday calendar.\")\n",
    "cal = USFederalHolidayCalendar()\n",
    "for dt in cal.holidays(start=sdt, end=edt): \n",
    "    print (dt)"
   ]
  },
  {
   "cell_type": "code",
   "execution_count": 23,
   "id": "e3f1cf22",
   "metadata": {},
   "outputs": [
    {
     "name": "stdout",
     "output_type": "stream",
     "text": [
      "Monthly time perid:  2024-05\n",
      "\n",
      "List of names in the current local scope:\n",
      "['__add__', '__class__', '__delattr__', '__dict__', '__dir__', '__doc__', '__eq__', '__format__', '__ge__', '__getattribute__', '__gt__', '__hash__', '__init__', '__init_subclass__', '__le__', '__lt__', '__module__', '__ne__', '__new__', '__pyx_vtable__', '__radd__', '__reduce__', '__reduce_ex__', '__repr__', '__rsub__', '__setattr__', '__setstate__', '__sizeof__', '__str__', '__sub__', '__subclasshook__', '__weakref__', '_add_offset', '_add_timedeltalike_scalar', '_dtype', '_from_ordinal', '_get_to_timestamp_base', '_maybe_convert_freq', '_require_matching_freq', 'asfreq', 'day', 'day_of_week', 'day_of_year', 'dayofweek', 'dayofyear', 'days_in_month', 'daysinmonth', 'end_time', 'freq', 'freqstr', 'hour', 'is_leap_year', 'minute', 'month', 'now', 'ordinal', 'quarter', 'qyear', 'second', 'start_time', 'strftime', 'to_timestamp', 'week', 'weekday', 'weekofyear', 'year']\n"
     ]
    }
   ],
   "source": [
    "#Q31\n",
    "mtp = pd.Period('2024-5','M')\n",
    "print(\"Monthly time perid: \",mtp)\n",
    "print(\"\\nList of names in the current local scope:\")\n",
    "print(dir(mtp)) "
   ]
  },
  {
   "cell_type": "code",
   "execution_count": 24,
   "id": "b6f23c10",
   "metadata": {},
   "outputs": [
    {
     "name": "stdout",
     "output_type": "stream",
     "text": [
      "Yearly time perid: 2020\n",
      "\n",
      "All the properties of the said period:\n",
      "['__add__', '__class__', '__delattr__', '__dict__', '__dir__', '__doc__', '__eq__', '__format__', '__ge__', '__getattribute__', '__gt__', '__hash__', '__init__', '__init_subclass__', '__le__', '__lt__', '__module__', '__ne__', '__new__', '__pyx_vtable__', '__radd__', '__reduce__', '__reduce_ex__', '__repr__', '__rsub__', '__setattr__', '__setstate__', '__sizeof__', '__str__', '__sub__', '__subclasshook__', '__weakref__', '_add_offset', '_add_timedeltalike_scalar', '_dtype', '_from_ordinal', '_get_to_timestamp_base', '_maybe_convert_freq', '_require_matching_freq', 'asfreq', 'day', 'day_of_week', 'day_of_year', 'dayofweek', 'dayofyear', 'days_in_month', 'daysinmonth', 'end_time', 'freq', 'freqstr', 'hour', 'is_leap_year', 'minute', 'month', 'now', 'ordinal', 'quarter', 'qyear', 'second', 'start_time', 'strftime', 'to_timestamp', 'week', 'weekday', 'weekofyear', 'year']\n"
     ]
    }
   ],
   "source": [
    "#Q32\n",
    "ytp = pd.Period('2020','A-DEC')\n",
    "print(\"Yearly time perid:\",ytp)\n",
    "print(\"\\nAll the properties of the said period:\")\n",
    "print(dir(ytp))"
   ]
  }
 ],
 "metadata": {
  "kernelspec": {
   "display_name": "Python 3 (ipykernel)",
   "language": "python",
   "name": "python3"
  },
  "language_info": {
   "codemirror_mode": {
    "name": "ipython",
    "version": 3
   },
   "file_extension": ".py",
   "mimetype": "text/x-python",
   "name": "python",
   "nbconvert_exporter": "python",
   "pygments_lexer": "ipython3",
   "version": "3.9.7"
  }
 },
 "nbformat": 4,
 "nbformat_minor": 5
}
