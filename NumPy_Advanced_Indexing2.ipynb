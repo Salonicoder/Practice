{
 "cells": [
  {
   "cell_type": "code",
   "execution_count": 1,
   "id": "d10f0532",
   "metadata": {},
   "outputs": [],
   "source": [
    "import numpy as np"
   ]
  },
  {
   "cell_type": "code",
   "execution_count": 2,
   "id": "1b818993",
   "metadata": {},
   "outputs": [
    {
     "name": "stdout",
     "output_type": "stream",
     "text": [
      "Original 2D array:\n",
      " [[65 47 74 80 19]\n",
      " [61 89 84 58 30]\n",
      " [ 6 45  4 97 76]\n",
      " [71  6 22 65 82]\n",
      " [40 27 83 44 19]]\n",
      "Selected rows:\n",
      " [1 3]\n",
      "Selected elements from specific rows and all columns:\n",
      " [[61 89 84 58 30]\n",
      " [71  6 22 65 82]]\n"
     ]
    }
   ],
   "source": [
    "# Create a 2D NumPu array of shape(5,5) with random integers\n",
    "array_2d = np.random.randint(0, 100, size=(5, 5))\n",
    "\n",
    "# Define the row indices to select specific rows\n",
    "row_indices = np.array([1, 3])\n",
    "\n",
    "# Use integer indexing with broadcasting to select elements from specific rows and all columns\n",
    "selected_elements = array_2d[row_indices[:, np.newaxis], np.arange(array_2d.shape[1])]\n",
    "\n",
    "# Print the original array and the selected elements\n",
    "print('Original 2D array:\\n', array_2d)\n",
    "print('Selected rows:\\n', row_indices)\n",
    "print('Selected elements from specific rows and all columns:\\n', selected_elements)"
   ]
  },
  {
   "cell_type": "code",
   "execution_count": 3,
   "id": "140ec88f",
   "metadata": {
    "scrolled": true
   },
   "outputs": [
    {
     "name": "stdout",
     "output_type": "stream",
     "text": [
      "Original 3D array:\n",
      " [[[53 18 79 69 43]\n",
      "  [ 6 69 82 77 22]\n",
      "  [90 79  9 37  4]\n",
      "  [97 75  6 74 71]]\n",
      "\n",
      " [[65 46 43 17 16]\n",
      "  [35 66 62 33 28]\n",
      "  [62 73 25 96 72]\n",
      "  [20 71 17 17 36]]\n",
      "\n",
      " [[24 55 24 13 31]\n",
      "  [90 95 62  8 50]\n",
      "  [77 86 75 35 94]\n",
      "  [16 89 98 70 99]]]\n",
      "Condition array(elements along second axis where first elements > 50):\n",
      " [[ True False  True  True]\n",
      " [ True False  True False]\n",
      " [False  True  True False]]\n",
      "Selected elements along third axis based on condition:\n",
      " [[53 18 79 69 43]\n",
      " [90 79  9 37  4]\n",
      " [97 75  6 74 71]\n",
      " [65 46 43 17 16]\n",
      " [62 73 25 96 72]\n",
      " [90 95 62  8 50]\n",
      " [77 86 75 35 94]]\n"
     ]
    }
   ],
   "source": [
    "# Create a 3D NumPy array of shape (3, 4, 5) with random integers\n",
    "array_3d = np.random.randint(0, 100, size=(3, 4, 5))\n",
    "\n",
    "# Define the condition to apply on the second axis (axis 1)\n",
    "condition = array_3d[:, :, 0] > 50\n",
    "\n",
    "# Use boolean indexing to select elements along the third axis (axis 2)\n",
    "selected_elements = array_3d[condition]\n",
    "\n",
    "# Print the original #D array and the selected elements\n",
    "print('Original 3D array:\\n', array_3d)\n",
    "print('Condition array(elements along second axis where first elements > 50):\\n', condition)\n",
    "print('Selected elements along third axis based on condition:\\n', selected_elements)"
   ]
  },
  {
   "cell_type": "code",
   "execution_count": 4,
   "id": "2a3f1fd4",
   "metadata": {},
   "outputs": [
    {
     "name": "stdout",
     "output_type": "stream",
     "text": [
      "Original 2D array:\n",
      " [[ 2 49 91 32 79]\n",
      " [17 59 33 72 62]\n",
      " [39  1 23  3 74]\n",
      " [34 63 58 35 42]\n",
      " [72 73 84 25 60]]\n",
      "Row indices:\n",
      " [0 1 2 3]\n",
      "Column indices:\n",
      " [4 3 2 1]\n",
      "Selected elements:\n",
      " [79 72 23 63]\n"
     ]
    }
   ],
   "source": [
    "# Create a 2D NumPy array of shape (5, 5) with random integers\n",
    "array_2d = np.random.randint(0, 100, size=(5, 5))\n",
    "\n",
    "# Define row and column indices as a tuple of arrays\n",
    "row_indices = np.array([0, 1, 2, 3])\n",
    "col_indices = np.array([4, 3, 2, 1])\n",
    "\n",
    "# Use the tuple of arrays to index and select specific elements\n",
    "selected_elements = array_2d[row_indices, col_indices]\n",
    "\n",
    "# Print the original array and the selected elements\n",
    "print('Original 2D array:\\n', array_2d)\n",
    "print('Row indices:\\n', row_indices)\n",
    "print('Column indices:\\n', col_indices)\n",
    "print('Selected elements:\\n', selected_elements)"
   ]
  },
  {
   "cell_type": "code",
   "execution_count": 5,
   "id": "4ff4edf2",
   "metadata": {},
   "outputs": [
    {
     "name": "stdout",
     "output_type": "stream",
     "text": [
      "Original 2D array:\n",
      " [[95 15  7 64 95]\n",
      " [18 51 60  3 55]\n",
      " [46 23 72 39 45]\n",
      " [91 39 11 33 93]\n",
      " [28 11 20 53 77]]\n",
      "Row indices:\n",
      " [1 3]\n",
      "Column indices:\n",
      " [0 2 4]\n",
      "Selected elements using np.ix_:\n",
      " [[18 60 55]\n",
      " [91 11 93]]\n"
     ]
    }
   ],
   "source": [
    "# Create a 2D NumPy array of shape (5, 5) with random integers\n",
    "array_2d = np.random.randint(0, 100, size=(5, 5))\n",
    "\n",
    "# Create two 1D NumPy arrays for cross-indexing\n",
    "row_indices = np.array([1, 3])\n",
    "col_indices = np.array([0, 2, 4])\n",
    "\n",
    "# Use np.ix_ to create an open mesh from the row and column indices\n",
    "index_grid = np.ix_(row_indices, col_indices)\n",
    "\n",
    "# Use the index grid to select elements from the 2D array\n",
    "selected_elements = array_2d[index_grid]\n",
    "\n",
    "# Print the original array and the selected elements\n",
    "print('Original 2D array:\\n', array_2d)\n",
    "print('Row indices:\\n', row_indices)\n",
    "print('Column indices:\\n', col_indices)\n",
    "print('Selected elements using np.ix_:\\n', selected_elements)"
   ]
  },
  {
   "cell_type": "code",
   "execution_count": 6,
   "id": "513e7a1f",
   "metadata": {},
   "outputs": [
    {
     "name": "stdout",
     "output_type": "stream",
     "text": [
      "Modified 2D array:\n",
      " [[-1 23 -1 -1  4]\n",
      " [12 -1 45 -1 -1]\n",
      " [-1  1 -1  3 25]\n",
      " [ 5 -1 -1 48 41]\n",
      " [-1 48 -1 -1 20]]\n"
     ]
    }
   ],
   "source": [
    "# Create a 2D NumPy array of shape (5, 5) with random integers\n",
    "array_2d = np.random.randint(0, 100, size=(5, 5))\n",
    "\n",
    "# Define the condition to replace elements greater than 50\n",
    "condition = array_2d > 50\n",
    "\n",
    "# Define the value to replace the elements that meet the condition\n",
    "replacement_value = -1\n",
    "\n",
    "# Use boolean indexing to replace elements that meet the condition\n",
    "array_2d[condition] = replacement_value\n",
    "\n",
    "# Print the modified array\n",
    "print('Modified 2D array:\\n', array_2d)"
   ]
  }
 ],
 "metadata": {
  "kernelspec": {
   "display_name": "Python 3 (ipykernel)",
   "language": "python",
   "name": "python3"
  },
  "language_info": {
   "codemirror_mode": {
    "name": "ipython",
    "version": 3
   },
   "file_extension": ".py",
   "mimetype": "text/x-python",
   "name": "python",
   "nbconvert_exporter": "python",
   "pygments_lexer": "ipython3",
   "version": "3.9.7"
  }
 },
 "nbformat": 4,
 "nbformat_minor": 5
}
