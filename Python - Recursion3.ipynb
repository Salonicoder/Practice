{
 "cells": [
  {
   "cell_type": "code",
   "execution_count": 1,
   "id": "233e4fd5",
   "metadata": {},
   "outputs": [
    {
     "name": "stdout",
     "output_type": "stream",
     "text": [
      "12\n",
      "9\n"
     ]
    }
   ],
   "source": [
    "# Define a function named sumDigits that calculates the sum of the digits of a given number 'n'\n",
    "def sumDigits(n):\n",
    "    # Check if 'n' is 0 (base case for summing digits)\n",
    "    if n == 0:\n",
    "        # If 'n' is 0, return 0 (no digits to sum)\n",
    "        return 0\n",
    "    else:\n",
    "        # If 'n' is not 0, calculate the sum of the last digit (n % 10) and\n",
    "        # recursively call the sumDigits function on the remaining digits (n / 10)\n",
    "        return n % 10 + sumDigits(int(n / 10))\n",
    "\n",
    "# Print the result of calling the sumDigits function with the input value 345\n",
    "print(sumDigits(345))\n",
    "\n",
    "# Print the result of calling the sumDigits function with the input value 45\n",
    "print(sumDigits(45))\n"
   ]
  },
  {
   "cell_type": "code",
   "execution_count": 2,
   "id": "fcffffdb",
   "metadata": {},
   "outputs": [
    {
     "name": "stdout",
     "output_type": "stream",
     "text": [
      "12\n",
      "30\n"
     ]
    }
   ],
   "source": [
    "# Define a function named sum_series that calculates the sum of a series of numbers\n",
    "def sum_series(n):\n",
    "    # Check if 'n' is less than 1 (base case for the series)\n",
    "    if n < 1:\n",
    "        # If 'n' is less than 1, return 0 (base case value for the sum)\n",
    "        return 0\n",
    "    else:\n",
    "        # If 'n' is greater than or equal to 1, calculate the sum of 'n' and\n",
    "        # recursively call the sum_series function with 'n - 2'\n",
    "        return n + sum_series(n - 2)\n",
    "\n",
    "# Print the result of calling the sum_series function with the input value 6\n",
    "print(sum_series(6))\n",
    "\n",
    "# Print the result of calling the sum_series function with the input value 10\n",
    "print(sum_series(10))\n"
   ]
  },
  {
   "cell_type": "code",
   "execution_count": 3,
   "id": "dbfdf6ed",
   "metadata": {},
   "outputs": [
    {
     "name": "stdout",
     "output_type": "stream",
     "text": [
      "2.5928571428571425\n",
      "2.083333333333333\n"
     ]
    }
   ],
   "source": [
    "# Define a function named harmonic_sum that calculates the harmonic sum up to 'n' terms\n",
    "def harmonic_sum(n):\n",
    "    # Check if 'n' is less than 2 (base case for the harmonic sum)\n",
    "    if n < 2:\n",
    "        # If 'n' is less than 2, return 1 (base case value for the harmonic sum)\n",
    "        return 1\n",
    "    else:\n",
    "        # If 'n' is greater than or equal to 2, calculate the reciprocal of 'n'\n",
    "        # and add it to the result of recursively calling the harmonic_sum function with 'n - 1'\n",
    "        return 1 / n + harmonic_sum(n - 1)\n",
    "\n",
    "# Print the result of calling the harmonic_sum function with the input value 7\n",
    "print(harmonic_sum(7))\n",
    "\n",
    "# Print the result of calling the harmonic_sum function with the input value 4\n",
    "print(harmonic_sum(4))\n"
   ]
  }
 ],
 "metadata": {
  "kernelspec": {
   "display_name": "Python 3 (ipykernel)",
   "language": "python",
   "name": "python3"
  },
  "language_info": {
   "codemirror_mode": {
    "name": "ipython",
    "version": 3
   },
   "file_extension": ".py",
   "mimetype": "text/x-python",
   "name": "python",
   "nbconvert_exporter": "python",
   "pygments_lexer": "ipython3",
   "version": "3.9.7"
  }
 },
 "nbformat": 4,
 "nbformat_minor": 5
}
