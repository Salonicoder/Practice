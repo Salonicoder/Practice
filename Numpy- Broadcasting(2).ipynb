{
 "cells": [
  {
   "cell_type": "code",
   "execution_count": 1,
   "id": "e8b897d9",
   "metadata": {},
   "outputs": [],
   "source": [
    "import numpy as np"
   ]
  },
  {
   "cell_type": "code",
   "execution_count": 2,
   "id": "937f140b",
   "metadata": {},
   "outputs": [
    {
     "data": {
      "text/plain": [
       "array([[[ 2,  4,  6,  8],\n",
       "        [10, 12, 14, 16],\n",
       "        [18, 20, 22, 24]],\n",
       "\n",
       "       [[14, 16, 18, 20],\n",
       "        [22, 24, 26, 28],\n",
       "        [30, 32, 34, 36]]])"
      ]
     },
     "execution_count": 2,
     "metadata": {},
     "output_type": "execute_result"
    }
   ],
   "source": [
    "x =  np.array([[[ 1,  2,  3,  4],\n",
    "               [ 5,  6,  7,  8],\n",
    "               [ 9, 10, 11, 12]],\n",
    "\n",
    "              [[13, 14, 15, 16],\n",
    "               [17, 18, 19, 20],\n",
    "               [21, 22, 23, 24]]])\n",
    "\n",
    "y = np.array([[1, 2, 3, 4],\n",
    "              [5, 6, 7, 8],\n",
    "              [9, 10, 11, 12]])\n",
    "x+y"
   ]
  },
  {
   "cell_type": "code",
   "execution_count": 3,
   "id": "dcfab190",
   "metadata": {},
   "outputs": [
    {
     "data": {
      "text/plain": [
       "array([[ 3,  6,  9, 12],\n",
       "       [15, 18, 21, 24],\n",
       "       [27, 30, 33, 36],\n",
       "       [39, 42, 45, 48]])"
      ]
     },
     "execution_count": 3,
     "metadata": {},
     "output_type": "execute_result"
    }
   ],
   "source": [
    "x = np.array([[1, 2, 3, 4],\n",
    "              [5, 6, 7, 8],\n",
    "              [9, 10, 11, 12],\n",
    "              [13, 14, 15, 16]])\n",
    "y = 3\n",
    "\n",
    "x*y"
   ]
  },
  {
   "cell_type": "code",
   "execution_count": 5,
   "id": "59335751",
   "metadata": {},
   "outputs": [
    {
     "data": {
      "text/plain": [
       "array([[  2,   8,  18,  32],\n",
       "       [ 10,  24,  42,  64],\n",
       "       [ 18,  40,  66,  96],\n",
       "       [ 26,  56,  90, 128]])"
      ]
     },
     "execution_count": 5,
     "metadata": {},
     "output_type": "execute_result"
    }
   ],
   "source": [
    "y =([2, 4, 6, 8])\n",
    "\n",
    "x*y"
   ]
  },
  {
   "cell_type": "code",
   "execution_count": 6,
   "id": "de8aa519",
   "metadata": {},
   "outputs": [
    {
     "data": {
      "text/plain": [
       "array([[[ 2,  3,  4,  5],\n",
       "        [ 7,  8,  9, 10],\n",
       "        [12, 13, 14, 15],\n",
       "        [17, 18, 19, 20],\n",
       "        [22, 23, 24, 25],\n",
       "        [27, 28, 29, 30]],\n",
       "\n",
       "       [[26, 27, 28, 29],\n",
       "        [31, 32, 33, 34],\n",
       "        [36, 37, 38, 39],\n",
       "        [41, 42, 43, 44],\n",
       "        [46, 47, 48, 49],\n",
       "        [51, 52, 53, 54]]])"
      ]
     },
     "execution_count": 6,
     "metadata": {},
     "output_type": "execute_result"
    }
   ],
   "source": [
    "x = np.array([[[ 1,  2,  3,  4],\n",
    "               [ 5,  6,  7,  8],\n",
    "               [ 9, 10, 11, 12],\n",
    "               [13, 14, 15, 16],\n",
    "               [17, 18, 19, 20],\n",
    "               [21, 22, 23, 24]],\n",
    "\n",
    "              [[25, 26, 27, 28],\n",
    "               [29, 30, 31, 32],\n",
    "               [33, 34, 35, 36],\n",
    "               [37, 38, 39, 40],\n",
    "               [41, 42, 43, 44],\n",
    "               [45, 46, 47, 48]]])\n",
    "\n",
    "y = np.array([1, 2 ,3, 4, 5, 6])\n",
    "\n",
    "x+y[:, np.newaxis]"
   ]
  },
  {
   "cell_type": "code",
   "execution_count": 14,
   "id": "231b6df8",
   "metadata": {},
   "outputs": [
    {
     "data": {
      "text/plain": [
       "array([[[ 8,  9, 10],\n",
       "        [ 9, 10, 11],\n",
       "        [10, 11, 12],\n",
       "        [11, 12, 13]],\n",
       "\n",
       "       [[11, 12, 13],\n",
       "        [12, 13, 14],\n",
       "        [13, 14, 15],\n",
       "        [14, 15, 16]]])"
      ]
     },
     "execution_count": 14,
     "metadata": {},
     "output_type": "execute_result"
    }
   ],
   "source": [
    "# Initialize the array x of shape (2, 1, 3)\n",
    "x = np.array([[[1, 2, 3]], \n",
    "              [[4, 5, 6]]])\n",
    "\n",
    "# Initialize the array y of shape (1, 4, 1)\n",
    "y = np.array([[[ 7], [ 8], [ 9], [10]]])\n",
    "\n",
    "x+y"
   ]
  },
  {
   "cell_type": "code",
   "execution_count": 15,
   "id": "22c62c6b",
   "metadata": {},
   "outputs": [
    {
     "data": {
      "text/plain": [
       "array([[[  9,  18,  27,  36],\n",
       "        [ 49,  58,  67,  76],\n",
       "        [ 89,  98, 107, 116]],\n",
       "\n",
       "       [[129, 138, 147, 156],\n",
       "        [169, 178, 187, 196],\n",
       "        [209, 218, 227, 236]]])"
      ]
     },
     "execution_count": 15,
     "metadata": {},
     "output_type": "execute_result"
    }
   ],
   "source": [
    "# Initialize the 3D array of shape (2, 3, 4)\n",
    "x = np.array([[[10, 20, 30, 40],\n",
    "               [50, 60, 70, 80],\n",
    "               [90, 100, 110, 120]],\n",
    "\n",
    "              [[130, 140, 150, 160],\n",
    "               [170, 180, 190, 200],\n",
    "               [210, 220, 230, 240]]])\n",
    "\n",
    "# Initialize the 1D array of shape (4,)\n",
    "y = np.array([1, 2, 3, 4])\n",
    "\n",
    "x-y"
   ]
  },
  {
   "cell_type": "code",
   "execution_count": 17,
   "id": "b2c5c7a8",
   "metadata": {},
   "outputs": [
    {
     "name": "stdout",
     "output_type": "stream",
     "text": [
      "[[10.         20.         30.         40.         50.        ]\n",
      " [ 2.5         7.5        12.5        17.5        22.5       ]\n",
      " [ 0.33333333  0.66666667  1.          1.33333333  1.66666667]\n",
      " [ 1.5         3.          4.5         6.          7.5       ]\n",
      " [ 1.8         3.6         5.4         7.2         9.        ]]\n"
     ]
    }
   ],
   "source": [
    "# Create a 2D array x of shape (5, 5)\n",
    "x = np.array([[10, 20, 30, 40, 50],\n",
    "              [5, 15, 25, 35, 45],\n",
    "              [1, 2, 3, 4, 5],\n",
    "              [6, 12, 18, 24, 30],\n",
    "              [9, 18, 27, 36, 45]])\n",
    "\n",
    "# Create a 1D array y of shape (5,)\n",
    "y = np.array([1, 2, 3, 4, 5])\n",
    "\n",
    "# Divide each row of x by the array y using broadcasting\n",
    "result = x / y[:, np.newaxis]\n",
    "\n",
    "print(result)"
   ]
  },
  {
   "cell_type": "code",
   "execution_count": 18,
   "id": "26612de9",
   "metadata": {},
   "outputs": [
    {
     "name": "stdout",
     "output_type": "stream",
     "text": [
      "[[11 21 31 41]\n",
      " [12 22 32 42]\n",
      " [13 23 33 43]\n",
      " [14 24 34 44]\n",
      " [15 25 35 45]\n",
      " [16 26 36 46]\n",
      " [17 27 37 47]\n",
      " [18 28 38 48]]\n"
     ]
    }
   ],
   "source": [
    "# Create 1D array a of shape (8,)\n",
    "a = np.array([1, 2, 3, 4, 5, 6, 7, 8])\n",
    "\n",
    "# Create 1D array b of shape (4,)\n",
    "b = np.array([10, 20, 30, 40])\n",
    "\n",
    "# Reshape array a to (8, 1) to enable broadcasting\n",
    "a_reshaped = a[:, np.newaxis]\n",
    "\n",
    "# Perform element-wise addition using broadcasting\n",
    "result = a_reshaped + b\n",
    "\n",
    "print(result)"
   ]
  },
  {
   "cell_type": "code",
   "execution_count": 19,
   "id": "a209f528",
   "metadata": {},
   "outputs": [
    {
     "name": "stdout",
     "output_type": "stream",
     "text": [
      "[[[11 22 33 44 55]]\n",
      "\n",
      " [[21 32 43 54 65]]\n",
      "\n",
      " [[31 42 53 64 75]]]\n"
     ]
    }
   ],
   "source": [
    "# Create a 3D array x of shape (3, 1, 5)\n",
    "x = np.array([[[1, 2, 3, 4, 5]],\n",
    "              [[6, 7, 8, 9, 10]],\n",
    "              [[11, 12, 13, 14, 15]]])\n",
    "\n",
    "# Create a 2D array y of shape (3, 5)\n",
    "y = np.array([[10, 20, 30, 40, 50],\n",
    "              [15, 25, 35, 45, 55],\n",
    "              [20, 30, 40, 50, 60]])\n",
    "\n",
    "# Add x and y using broadcasting\n",
    "result = x + y[:, np.newaxis, :]\n",
    "\n",
    "print(result)"
   ]
  },
  {
   "cell_type": "code",
   "execution_count": 20,
   "id": "0698c3f4",
   "metadata": {},
   "outputs": [
    {
     "name": "stdout",
     "output_type": "stream",
     "text": [
      "[[  1   2   3]\n",
      " [  8  10  12]\n",
      " [ 21  24  27]\n",
      " [ 40  44  48]\n",
      " [ 65  70  75]\n",
      " [ 96 102 108]\n",
      " [133 140 147]]\n"
     ]
    }
   ],
   "source": [
    "# Create a 2D array x of shape (7, 3)\n",
    "x = np.array([[1, 2, 3],\n",
    "              [4, 5, 6],\n",
    "              [7, 8, 9],\n",
    "              [10, 11, 12],\n",
    "              [13, 14, 15],\n",
    "              [16, 17, 18],\n",
    "              [19, 20, 21]])\n",
    "\n",
    "# Create a 1D array y of shape (7,)\n",
    "y = np.array([1, 2, 3, 4, 5, 6, 7])\n",
    "\n",
    "# Multiply each column of x by the array y using broadcasting\n",
    "result = x * y[:, np.newaxis]\n",
    "\n",
    "print(result)"
   ]
  }
 ],
 "metadata": {
  "kernelspec": {
   "display_name": "Python 3 (ipykernel)",
   "language": "python",
   "name": "python3"
  },
  "language_info": {
   "codemirror_mode": {
    "name": "ipython",
    "version": 3
   },
   "file_extension": ".py",
   "mimetype": "text/x-python",
   "name": "python",
   "nbconvert_exporter": "python",
   "pygments_lexer": "ipython3",
   "version": "3.9.7"
  }
 },
 "nbformat": 4,
 "nbformat_minor": 5
}
