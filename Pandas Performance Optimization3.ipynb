{
 "cells": [
  {
   "cell_type": "code",
   "execution_count": 1,
   "id": "093331a6",
   "metadata": {},
   "outputs": [],
   "source": [
    "import pandas as pd\n",
    "import numpy as np\n",
    "import time"
   ]
  },
  {
   "cell_type": "code",
   "execution_count": 2,
   "id": "954ac110",
   "metadata": {},
   "outputs": [
    {
     "name": "stdout",
     "output_type": "stream",
     "text": [
      "Aggregation result using groupby:\n",
      "Category\n",
      "A    12541392\n",
      "B    12440541\n",
      "C    12477135\n",
      "D    12502875\n",
      "Name: Values, dtype: int32\n",
      "\n",
      "Time taken using groupby: 0.08902144432067871 seconds\n",
      "\n",
      "Aggregation result using manual iteration:\n",
      "{'A': 12541392, 'D': 12502875, 'B': 12440541, 'C': 12477135}\n",
      "\n",
      "Time taken using manual iteration: 0.2288367748260498 seconds\n"
     ]
    }
   ],
   "source": [
    "# Create a sample DataFrame\n",
    "np.random.seed(0)  # Set seed for reproducibility\n",
    "data = {\n",
    "    'Category': np.random.choice(['A', 'B', 'C', 'D'], size=1000000),\n",
    "    'Values': np.random.randint(1, 100, size=1000000)\n",
    "}\n",
    "df = pd.DataFrame(data)\n",
    "\n",
    "# Define a custom aggregation function\n",
    "def custom_aggregation(data):\n",
    "    result = {}\n",
    "    for category in data['Category'].unique():\n",
    "        result[category] = data[data['Category'] == category]['Values'].sum()\n",
    "    return result\n",
    "\n",
    "# Aggregate data using the groupby method\n",
    "start_time = time.time()  # Record the start time\n",
    "groupby_result = df.groupby('Category')['Values'].sum()\n",
    "time_groupby = time.time() - start_time  # Calculate the time taken\n",
    "\n",
    "# Aggregate data using manual iteration\n",
    "start_time = time.time()  # Record the start time\n",
    "manual_result = custom_aggregation(df)\n",
    "time_manual = time.time() - start_time  # Calculate the time taken\n",
    "\n",
    "# Print the results\n",
    "print(\"Aggregation result using groupby:\")\n",
    "print(groupby_result)\n",
    "print(\"\\nTime taken using groupby:\", time_groupby, \"seconds\")\n",
    "\n",
    "print(\"\\nAggregation result using manual iteration:\")\n",
    "print(manual_result)\n",
    "print(\"\\nTime taken using manual iteration:\", time_manual, \"seconds\")"
   ]
  },
  {
   "cell_type": "code",
   "execution_count": 3,
   "id": "b7350e1f",
   "metadata": {},
   "outputs": [
    {
     "name": "stdout",
     "output_type": "stream",
     "text": [
      "Time taken using merge method: 0.021688222885131836 seconds\n",
      "Time taken using nested for loop: 24.314834117889404 seconds\n"
     ]
    }
   ],
   "source": [
    "# Create two large DataFrames\n",
    "np.random.seed(0)  # Set seed for reproducibility\n",
    "data1 = {\n",
    "    'Key': np.random.randint(1, 1000, size=1000),\n",
    "    'Value1': np.random.randint(1, 100, size=1000)\n",
    "}\n",
    "data2 = {\n",
    "    'Key': np.random.randint(1, 1000, size=1000),\n",
    "    'Value2': np.random.randint(1, 100, size=1000)\n",
    "}\n",
    "df1 = pd.DataFrame(data1)\n",
    "df2 = pd.DataFrame(data2)\n",
    "\n",
    "# Perform merge using the merge method\n",
    "start_time = time.time()  # Record the start time\n",
    "merged_df = pd.merge(df1, df2, on='Key')\n",
    "time_merge = time.time() - start_time  # Calculate the time taken\n",
    "\n",
    "# Perform merge using a nested for loop\n",
    "start_time = time.time()  # Record the start time\n",
    "merged_data = []\n",
    "for index1, row1 in df1.iterrows():\n",
    "    for index2, row2 in df2.iterrows():\n",
    "        if row1['Key'] == row2['Key']:\n",
    "            merged_data.append({**row1, **row2})\n",
    "merged_df_loop = pd.DataFrame(merged_data)\n",
    "time_nested_loop = time.time() - start_time  # Calculate the time taken\n",
    "\n",
    "# Print the time taken for both methods\n",
    "print(\"Time taken using merge method:\", time_merge, \"seconds\")\n",
    "print(\"Time taken using nested for loop:\", time_nested_loop, \"seconds\") "
   ]
  },
  {
   "cell_type": "code",
   "execution_count": 4,
   "id": "817416d4",
   "metadata": {},
   "outputs": [
    {
     "name": "stdout",
     "output_type": "stream",
     "text": [
      "Memory usage before optimization:\n",
      "<class 'pandas.core.frame.DataFrame'>\n",
      "RangeIndex: 1000000 entries, 0 to 999999\n",
      "Data columns (total 2 columns):\n",
      " #   Column    Non-Null Count    Dtype \n",
      "---  ------    --------------    ----- \n",
      " 0   Category  1000000 non-null  object\n",
      " 1   Values    1000000 non-null  int32 \n",
      "dtypes: int32(1), object(1)\n",
      "memory usage: 59.1 MB\n",
      "None\n",
      "\n",
      "Memory usage after optimization:\n",
      "<class 'pandas.core.frame.DataFrame'>\n",
      "RangeIndex: 1000000 entries, 0 to 999999\n",
      "Data columns (total 2 columns):\n",
      " #   Column    Non-Null Count    Dtype   \n",
      "---  ------    --------------    -----   \n",
      " 0   Category  1000000 non-null  category\n",
      " 1   Values    1000000 non-null  int32   \n",
      "dtypes: category(1), int32(1)\n",
      "memory usage: 4.8 MB\n",
      "None\n"
     ]
    }
   ],
   "source": [
    "# Create a sample DataFrame with categorical data\n",
    "np.random.seed(0)  # Set seed for reproducibility\n",
    "data = {\n",
    "    'Category': np.random.choice(['A', 'B', 'C', 'D'], size=1000000),\n",
    "    'Values': np.random.randint(1, 100, size=1000000)\n",
    "}\n",
    "df = pd.DataFrame(data)\n",
    "\n",
    "# Print memory usage before optimization\n",
    "print(\"Memory usage before optimization:\")\n",
    "print(df.info(memory_usage='deep'))\n",
    "\n",
    "# Convert the 'Category' column to the category data type\n",
    "df['Category'] = df['Category'].astype('category')\n",
    "\n",
    "# Print memory usage after optimization\n",
    "print(\"\\nMemory usage after optimization:\")\n",
    "print(df.info(memory_usage='deep'))"
   ]
  },
  {
   "cell_type": "code",
   "execution_count": 5,
   "id": "9364c332",
   "metadata": {},
   "outputs": [
    {
     "name": "stdout",
     "output_type": "stream",
     "text": [
      "Time taken using for loop: 24.76099681854248 seconds\n",
      "Time taken using * operator: 0.0 seconds\n"
     ]
    }
   ],
   "source": [
    "data = {\n",
    "    'A': np.random.randint(1, 100, size=1000000),\n",
    "    'B': np.random.randint(1, 100, size=1000000)\n",
    "}\n",
    "df = pd.DataFrame(data)\n",
    "\n",
    "# Perform element-wise multiplication using a for loop\n",
    "start_time = time.time()  # Record the start time\n",
    "result_for_loop = []\n",
    "for index, row in df.iterrows():\n",
    "    result_for_loop.append(row['A'] * row['B'])\n",
    "result_for_loop = pd.Series(result_for_loop)\n",
    "time_for_loop = time.time() - start_time  # Calculate the time taken\n",
    "\n",
    "# Perform element-wise multiplication using the * operator\n",
    "start_time = time.time()  # Record the start time\n",
    "result_vectorized = df['A'] * df['B']\n",
    "time_vectorized = time.time() - start_time  # Calculate the time taken\n",
    "\n",
    "# Print the time taken for both methods\n",
    "print(\"Time taken using for loop:\", time_for_loop, \"seconds\")\n",
    "print(\"Time taken using * operator:\", time_vectorized, \"seconds\")"
   ]
  },
  {
   "cell_type": "code",
   "execution_count": 6,
   "id": "cc35332c",
   "metadata": {},
   "outputs": [
    {
     "name": "stdout",
     "output_type": "stream",
     "text": [
      "Time taken using standard operations: 0.028382062911987305 seconds\n",
      "Time taken using eval method: 0.13286519050598145 seconds\n"
     ]
    }
   ],
   "source": [
    "# Create a sample DataFrame\n",
    "np.random.seed(0)  # Set seed for reproducibility\n",
    "data = {\n",
    "    'A': np.random.randint(1, 100, size=1000000),\n",
    "    'B': np.random.randint(1, 100, size=1000000),\n",
    "    'C': np.random.randint(1, 100, size=1000000),\n",
    "    'D': np.random.randint(1, 100, size=1000000)\n",
    "}\n",
    "df = pd.DataFrame(data)\n",
    "\n",
    "# Perform arithmetic operations using standard operations\n",
    "start_time = time.time()  # Record the start time\n",
    "df['Result_standard'] = df['A'] + df['B'] - df['C'] * df['D'] / df['A']\n",
    "time_standard = time.time() - start_time  # Calculate the time taken\n",
    "\n",
    "# Perform arithmetic operations using the eval method\n",
    "start_time = time.time()  # Record the start time\n",
    "df['Result_eval'] = df.eval('A + B - C * D / A')\n",
    "time_eval = time.time() - start_time  # Calculate the time taken\n",
    "\n",
    "# Print the time taken for both methods\n",
    "print(\"Time taken using standard operations:\", time_standard, \"seconds\")\n",
    "print(\"Time taken using eval method:\", time_eval, \"seconds\")"
   ]
  }
 ],
 "metadata": {
  "kernelspec": {
   "display_name": "Python 3 (ipykernel)",
   "language": "python",
   "name": "python3"
  },
  "language_info": {
   "codemirror_mode": {
    "name": "ipython",
    "version": 3
   },
   "file_extension": ".py",
   "mimetype": "text/x-python",
   "name": "python",
   "nbconvert_exporter": "python",
   "pygments_lexer": "ipython3",
   "version": "3.9.7"
  }
 },
 "nbformat": 4,
 "nbformat_minor": 5
}
