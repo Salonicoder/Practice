{
 "cells": [
  {
   "cell_type": "markdown",
   "id": "bf32abf1",
   "metadata": {},
   "source": [
    "# NumPy Random"
   ]
  },
  {
   "cell_type": "code",
   "execution_count": 2,
   "id": "dc073af7",
   "metadata": {},
   "outputs": [],
   "source": [
    "import numpy as np"
   ]
  },
  {
   "cell_type": "code",
   "execution_count": 3,
   "id": "1d9287d2",
   "metadata": {},
   "outputs": [
    {
     "data": {
      "text/plain": [
       "array([0.57055112, 0.73923548, 0.28989873, 0.25305315, 0.9168167 ])"
      ]
     },
     "execution_count": 3,
     "metadata": {},
     "output_type": "execute_result"
    }
   ],
   "source": [
    "#Q1\n",
    "np.random.rand(5)"
   ]
  },
  {
   "cell_type": "code",
   "execution_count": 6,
   "id": "93fc3206",
   "metadata": {},
   "outputs": [],
   "source": [
    "numbers = np.random.randn(5)"
   ]
  },
  {
   "cell_type": "code",
   "execution_count": 5,
   "id": "80277df9",
   "metadata": {},
   "outputs": [
    {
     "data": {
      "text/plain": [
       "array([0.35908358, 0.66991985, 0.31820031, 0.33045992, 0.62764792])"
      ]
     },
     "execution_count": 5,
     "metadata": {},
     "output_type": "execute_result"
    }
   ],
   "source": [
    "numbers"
   ]
  },
  {
   "cell_type": "code",
   "execution_count": 7,
   "id": "79a384b6",
   "metadata": {},
   "outputs": [
    {
     "data": {
      "text/plain": [
       "array([22, 11, 22, 12, 10, 15])"
      ]
     },
     "execution_count": 7,
     "metadata": {},
     "output_type": "execute_result"
    }
   ],
   "source": [
    "#Q2\n",
    "x = np.random.randint(10, 30, size=6)\n",
    "x"
   ]
  },
  {
   "cell_type": "code",
   "execution_count": 8,
   "id": "371834c1",
   "metadata": {},
   "outputs": [
    {
     "data": {
      "text/plain": [
       "array([[[0.38719685, 0.03815063, 0.37229211],\n",
       "        [0.18728339, 0.93468446, 0.33418029],\n",
       "        [0.76836059, 0.60812189, 0.57670377]],\n",
       "\n",
       "       [[0.31292464, 0.15890487, 0.53041758],\n",
       "        [0.16364959, 0.0985388 , 0.0739182 ],\n",
       "        [0.18795877, 0.536838  , 0.36660275]],\n",
       "\n",
       "       [[0.90605609, 0.61984388, 0.96605286],\n",
       "        [0.42647229, 0.15030809, 0.58900149],\n",
       "        [0.69817781, 0.39749783, 0.48679874]]])"
      ]
     },
     "execution_count": 8,
     "metadata": {},
     "output_type": "execute_result"
    }
   ],
   "source": [
    "#Q3\n",
    "num = np.random.rand(3,3,3)\n",
    "num"
   ]
  },
  {
   "cell_type": "code",
   "execution_count": 9,
   "id": "9e515153",
   "metadata": {},
   "outputs": [
    {
     "data": {
      "text/plain": [
       "array([[0.67727747, 0.88714026, 0.1231938 , 0.36717651, 0.0991653 ],\n",
       "       [0.14368669, 0.96895722, 0.02115006, 0.74476979, 0.47027993],\n",
       "       [0.02919591, 0.46057658, 0.39092713, 0.57013982, 0.61944419],\n",
       "       [0.36011544, 0.39044838, 0.25331817, 0.77073122, 0.35752021],\n",
       "       [0.24050372, 0.65912532, 0.17483458, 0.63765628, 0.43487963]])"
      ]
     },
     "execution_count": 9,
     "metadata": {},
     "output_type": "execute_result"
    }
   ],
   "source": [
    "#Q4\n",
    "r = np.random.rand(5,5)\n",
    "r"
   ]
  },
  {
   "cell_type": "code",
   "execution_count": 11,
   "id": "af42108b",
   "metadata": {},
   "outputs": [
    {
     "data": {
      "text/plain": [
       "(0.02115005553412297, 0.9689572171191159)"
      ]
     },
     "execution_count": 11,
     "metadata": {},
     "output_type": "execute_result"
    }
   ],
   "source": [
    "r.min(), r.max()"
   ]
  },
  {
   "cell_type": "code",
   "execution_count": 12,
   "id": "96fedb66",
   "metadata": {},
   "outputs": [
    {
     "data": {
      "text/plain": [
       "array([[0.13383615, 0.67317658, 0.11780576, 0.32047817],\n",
       "       [0.82501836, 0.18766306, 0.31156964, 0.50537632],\n",
       "       [0.44875289, 0.54128314, 0.75063167, 0.39009897],\n",
       "       [0.5020866 , 0.94991131, 0.51665497, 0.8964006 ],\n",
       "       [0.70488859, 0.86695532, 0.61702417, 0.81638582],\n",
       "       [0.99133839, 0.37381019, 0.24479924, 0.82144043],\n",
       "       [0.62319637, 0.84133148, 0.52704711, 0.11734587],\n",
       "       [0.91494717, 0.77257059, 0.84234441, 0.02594278],\n",
       "       [0.61672913, 0.71588171, 0.64851013, 0.7593947 ],\n",
       "       [0.82132991, 0.17807889, 0.57614283, 0.05114812]])"
      ]
     },
     "execution_count": 12,
     "metadata": {},
     "output_type": "execute_result"
    }
   ],
   "source": [
    "#Q5\n",
    "array = np.random.rand(10,4)\n",
    "array"
   ]
  },
  {
   "cell_type": "code",
   "execution_count": 15,
   "id": "5384030c",
   "metadata": {},
   "outputs": [
    {
     "data": {
      "text/plain": [
       "array([[0.13383615, 0.67317658, 0.11780576, 0.32047817],\n",
       "       [0.82501836, 0.18766306, 0.31156964, 0.50537632],\n",
       "       [0.44875289, 0.54128314, 0.75063167, 0.39009897],\n",
       "       [0.5020866 , 0.94991131, 0.51665497, 0.8964006 ],\n",
       "       [0.70488859, 0.86695532, 0.61702417, 0.81638582]])"
      ]
     },
     "execution_count": 15,
     "metadata": {},
     "output_type": "execute_result"
    }
   ],
   "source": [
    "ext = array[:5,]\n",
    "ext"
   ]
  },
  {
   "cell_type": "code",
   "execution_count": 16,
   "id": "7b8b320a",
   "metadata": {},
   "outputs": [],
   "source": [
    "#Q6\n",
    "x = np.arange(11)\n",
    "np.random.shuffle(x)"
   ]
  },
  {
   "cell_type": "code",
   "execution_count": 17,
   "id": "b4584fdd",
   "metadata": {},
   "outputs": [
    {
     "data": {
      "text/plain": [
       "array([ 7,  5,  8,  2,  0,  4,  3,  6,  9, 10,  1])"
      ]
     },
     "execution_count": 17,
     "metadata": {},
     "output_type": "execute_result"
    }
   ],
   "source": [
    "x"
   ]
  },
  {
   "cell_type": "code",
   "execution_count": 18,
   "id": "f24b013b",
   "metadata": {},
   "outputs": [
    {
     "data": {
      "text/plain": [
       "array([ 0,  8,  5,  9,  2,  1,  6, 10,  7,  3,  4])"
      ]
     },
     "execution_count": 18,
     "metadata": {},
     "output_type": "execute_result"
    }
   ],
   "source": [
    "np.random.permutation(x)"
   ]
  },
  {
   "cell_type": "code",
   "execution_count": 19,
   "id": "e3a95024",
   "metadata": {},
   "outputs": [],
   "source": [
    "#Q7\n",
    "from sklearn.preprocessing import normalize"
   ]
  },
  {
   "cell_type": "code",
   "execution_count": 20,
   "id": "c4ebbcc6",
   "metadata": {},
   "outputs": [
    {
     "data": {
      "text/plain": [
       "array([[0.05003962, 0.07895652, 0.9274137 ],\n",
       "       [0.54341134, 0.82812922, 0.87810746],\n",
       "       [0.04780192, 0.3055076 , 0.60154196]])"
      ]
     },
     "execution_count": 20,
     "metadata": {},
     "output_type": "execute_result"
    }
   ],
   "source": [
    "x = np.random.rand(3,3)\n",
    "x"
   ]
  },
  {
   "cell_type": "code",
   "execution_count": 21,
   "id": "343869b8",
   "metadata": {},
   "outputs": [
    {
     "data": {
      "text/plain": [
       "array([[0.04736762, 0.07474043, 0.87789195],\n",
       "       [0.24155394, 0.36811502, 0.39033104],\n",
       "       [0.05006215, 0.31995301, 0.62998484]])"
      ]
     },
     "execution_count": 21,
     "metadata": {},
     "output_type": "execute_result"
    }
   ],
   "source": [
    "# Normalize the random 3X3 matrix by rows\n",
    "x_norm = normalize(x, axis=1, norm='l1')\n",
    "x_norm"
   ]
  },
  {
   "cell_type": "code",
   "execution_count": 22,
   "id": "d76724c0",
   "metadata": {},
   "outputs": [
    {
     "data": {
      "text/plain": [
       "array([6.74040055e-01, 6.19805596e-01, 6.31234709e-01, 9.32584830e-05,\n",
       "       1.29654697e-01, 2.09714504e-01, 3.12693749e-01, 5.39726928e-01,\n",
       "       7.76537793e-01, 3.38899277e-01])"
      ]
     },
     "execution_count": 22,
     "metadata": {},
     "output_type": "execute_result"
    }
   ],
   "source": [
    "#Q8\n",
    "p = np.random.rand(10)\n",
    "p"
   ]
  },
  {
   "cell_type": "code",
   "execution_count": 25,
   "id": "f420c354",
   "metadata": {},
   "outputs": [],
   "source": [
    "p.sort()"
   ]
  },
  {
   "cell_type": "code",
   "execution_count": 26,
   "id": "164c281b",
   "metadata": {},
   "outputs": [
    {
     "data": {
      "text/plain": [
       "array([9.32584830e-05, 1.29654697e-01, 2.09714504e-01, 3.12693749e-01,\n",
       "       3.38899277e-01, 5.39726928e-01, 6.19805596e-01, 6.31234709e-01,\n",
       "       6.74040055e-01, 7.76537793e-01])"
      ]
     },
     "execution_count": 26,
     "metadata": {},
     "output_type": "execute_result"
    }
   ],
   "source": [
    "p"
   ]
  },
  {
   "cell_type": "code",
   "execution_count": 3,
   "id": "427e3067",
   "metadata": {},
   "outputs": [
    {
     "data": {
      "text/plain": [
       "array([-0.43728674,  1.00538317, -2.06032754, -2.97963223, -0.50521083,\n",
       "        0.68718991])"
      ]
     },
     "execution_count": 3,
     "metadata": {},
     "output_type": "execute_result"
    }
   ],
   "source": [
    "#Q9\n",
    "x = np.random.randn(6)\n",
    "x"
   ]
  },
  {
   "cell_type": "code",
   "execution_count": 4,
   "id": "77e3b62f",
   "metadata": {},
   "outputs": [],
   "source": [
    "y = 0"
   ]
  },
  {
   "cell_type": "code",
   "execution_count": 5,
   "id": "ae838345",
   "metadata": {},
   "outputs": [
    {
     "data": {
      "text/plain": [
       "0"
      ]
     },
     "execution_count": 5,
     "metadata": {},
     "output_type": "execute_result"
    }
   ],
   "source": [
    "index = np.abs(x-y).argmin()\n",
    "index"
   ]
  },
  {
   "cell_type": "code",
   "execution_count": 9,
   "id": "59a5b4b4",
   "metadata": {},
   "outputs": [
    {
     "data": {
      "text/plain": [
       "-0.4372867445701332"
      ]
     },
     "execution_count": 9,
     "metadata": {},
     "output_type": "execute_result"
    }
   ],
   "source": [
    "x[index]"
   ]
  },
  {
   "cell_type": "code",
   "execution_count": 10,
   "id": "c7e6d7f2",
   "metadata": {},
   "outputs": [
    {
     "data": {
      "text/plain": [
       "array([1, 1, 0, 0, 1, 1])"
      ]
     },
     "execution_count": 10,
     "metadata": {},
     "output_type": "execute_result"
    }
   ],
   "source": [
    "#Q10\n",
    "x = np.random.randint(0,2,6)\n",
    "x"
   ]
  },
  {
   "cell_type": "code",
   "execution_count": 11,
   "id": "56821f59",
   "metadata": {},
   "outputs": [
    {
     "data": {
      "text/plain": [
       "array([0, 1, 0, 0, 1, 0])"
      ]
     },
     "execution_count": 11,
     "metadata": {},
     "output_type": "execute_result"
    }
   ],
   "source": [
    "y = np.random.randint(0,2,6)\n",
    "y"
   ]
  },
  {
   "cell_type": "code",
   "execution_count": 14,
   "id": "9d35fc7b",
   "metadata": {},
   "outputs": [
    {
     "name": "stdout",
     "output_type": "stream",
     "text": [
      "[False  True  True  True  True False]\n"
     ]
    }
   ],
   "source": [
    "print(x==y)"
   ]
  },
  {
   "cell_type": "code",
   "execution_count": 15,
   "id": "07be79cf",
   "metadata": {},
   "outputs": [
    {
     "data": {
      "text/plain": [
       "False"
      ]
     },
     "execution_count": 15,
     "metadata": {},
     "output_type": "execute_result"
    }
   ],
   "source": [
    "np.array_equal(x,y)"
   ]
  },
  {
   "cell_type": "code",
   "execution_count": 17,
   "id": "0ddde793",
   "metadata": {},
   "outputs": [
    {
     "data": {
      "text/plain": [
       "array([0.68694723, 0.06834976, 0.9797826 , 0.68084105, 0.2610153 ,\n",
       "       0.99045535, 0.0183308 , 0.30836123, 0.39030902, 0.15004281,\n",
       "       0.81533347, 0.49078776, 0.51260017, 0.5875927 , 0.98323977])"
      ]
     },
     "execution_count": 17,
     "metadata": {},
     "output_type": "execute_result"
    }
   ],
   "source": [
    "#Q11\n",
    "n = np.random.random(15)\n",
    "n"
   ]
  },
  {
   "cell_type": "code",
   "execution_count": 19,
   "id": "480947c2",
   "metadata": {},
   "outputs": [
    {
     "data": {
      "text/plain": [
       "array([ 0.68694723,  0.06834976,  0.9797826 ,  0.68084105,  0.2610153 ,\n",
       "       -1.        ,  0.0183308 ,  0.30836123,  0.39030902,  0.15004281,\n",
       "        0.81533347,  0.49078776,  0.51260017,  0.5875927 ,  0.98323977])"
      ]
     },
     "execution_count": 19,
     "metadata": {},
     "output_type": "execute_result"
    }
   ],
   "source": [
    "n[n.argmax()] = -1 # find the index of the max value using argmax() and then replace it  with -1\n",
    "n"
   ]
  },
  {
   "cell_type": "code",
   "execution_count": 20,
   "id": "a138ce7c",
   "metadata": {},
   "outputs": [
    {
     "data": {
      "text/plain": [
       "array([[0.        , 0.69194287, 0.89797194, 0.46109032, 0.89804805,\n",
       "        0.91675793, 0.91171608, 0.92610391, 0.84319192, 0.9235643 ],\n",
       "       [0.69194287, 0.        , 0.21098743, 0.24862567, 0.25476992,\n",
       "        0.2926478 , 0.3357238 , 0.34004649, 0.46080368, 0.25832033],\n",
       "       [0.89797194, 0.21098743, 0.        , 0.45941496, 0.22210471,\n",
       "        0.26598268, 0.23786821, 0.33394723, 0.54652215, 0.08193656],\n",
       "       [0.46109032, 0.24862567, 0.45941496, 0.        , 0.43729422,\n",
       "        0.45807562, 0.54757395, 0.47463606, 0.46018398, 0.50364081],\n",
       "       [0.89804805, 0.25476992, 0.22210471, 0.43729422, 0.        ,\n",
       "        0.04533014, 0.45772479, 0.11201913, 0.33963049, 0.30335971],\n",
       "       [0.91675793, 0.2926478 , 0.26598268, 0.45807562, 0.04533014,\n",
       "        0.        , 0.50241806, 0.06833196, 0.3082065 , 0.34669568],\n",
       "       [0.91171608, 0.3357238 , 0.23786821, 0.54757395, 0.45772479,\n",
       "        0.50241806, 0.        , 0.56969344, 0.76484524, 0.16328902],\n",
       "       [0.92610391, 0.34004649, 0.33394723, 0.47463606, 0.11201913,\n",
       "        0.06833196, 0.56969344, 0.        , 0.25075119, 0.41488849],\n",
       "       [0.84319192, 0.46080368, 0.54652215, 0.46018398, 0.33963049,\n",
       "        0.3082065 , 0.76484524, 0.25075119, 0.        , 0.62777574],\n",
       "       [0.9235643 , 0.25832033, 0.08193656, 0.50364081, 0.30335971,\n",
       "        0.34669568, 0.16328902, 0.41488849, 0.62777574, 0.        ]])"
      ]
     },
     "execution_count": 20,
     "metadata": {},
     "output_type": "execute_result"
    }
   ],
   "source": [
    "#Q12\n",
    "a = np.random.random((10, 2))\n",
    "x, y = a[:, 0], a[:, 1]\n",
    "d = np.sqrt((x - x[:,None])**2 + (y - y[:,None])**2) #uses the np.sqrt() function and broadcasting to calculate \n",
    "                                                     #the distance between each pair of points\n",
    "d"
   ]
  },
  {
   "cell_type": "code",
   "execution_count": 23,
   "id": "fe78dbfa",
   "metadata": {},
   "outputs": [
    {
     "data": {
      "text/plain": [
       "array([5, 8, 9, 0, 7, 0, 0, 5, 8, 4, 5, 2, 2, 8, 6, 8, 5, 2, 5, 6])"
      ]
     },
     "execution_count": 23,
     "metadata": {},
     "output_type": "execute_result"
    }
   ],
   "source": [
    "#Q13\n",
    "x = np.random.randint(0,10,20)\n",
    "x"
   ]
  },
  {
   "cell_type": "code",
   "execution_count": 24,
   "id": "2040e8e4",
   "metadata": {},
   "outputs": [
    {
     "data": {
      "text/plain": [
       "array([0, 2, 4, 5, 6, 7, 8, 9])"
      ]
     },
     "execution_count": 24,
     "metadata": {},
     "output_type": "execute_result"
    }
   ],
   "source": [
    "np.unique(x)"
   ]
  },
  {
   "cell_type": "code",
   "execution_count": 27,
   "id": "ee0fdc4a",
   "metadata": {},
   "outputs": [
    {
     "data": {
      "text/plain": [
       "5"
      ]
     },
     "execution_count": 27,
     "metadata": {},
     "output_type": "execute_result"
    }
   ],
   "source": [
    "# Finding the most frequent value in the array using np.bincount() to count occurrences\n",
    "# Then using argmax() to find the index of the maximum count, which represents the most frequent value\n",
    "most_frequent_value = np.bincount(x).argmax()\n",
    "most_frequent_value"
   ]
  },
  {
   "cell_type": "code",
   "execution_count": 28,
   "id": "0f7b0680",
   "metadata": {},
   "outputs": [
    {
     "data": {
      "text/plain": [
       "array([0, 1, 2, 3, 4, 5, 6, 7, 8, 9])"
      ]
     },
     "execution_count": 28,
     "metadata": {},
     "output_type": "execute_result"
    }
   ],
   "source": [
    "#Q14\n",
    "x= np.arange(10)\n",
    "x"
   ]
  },
  {
   "cell_type": "code",
   "execution_count": 29,
   "id": "d3d18c09",
   "metadata": {},
   "outputs": [],
   "source": [
    "np.random.shuffle(x)"
   ]
  },
  {
   "cell_type": "code",
   "execution_count": 30,
   "id": "f77e11ca",
   "metadata": {},
   "outputs": [
    {
     "data": {
      "text/plain": [
       "array([1, 7, 3, 0, 2, 9, 8, 6, 5, 4])"
      ]
     },
     "execution_count": 30,
     "metadata": {},
     "output_type": "execute_result"
    }
   ],
   "source": [
    "x"
   ]
  },
  {
   "cell_type": "code",
   "execution_count": 31,
   "id": "34460e14",
   "metadata": {},
   "outputs": [
    {
     "data": {
      "text/plain": [
       "array([9])"
      ]
     },
     "execution_count": 31,
     "metadata": {},
     "output_type": "execute_result"
    }
   ],
   "source": [
    "n=1\n",
    "x[np.argsort(x)[-n:]]"
   ]
  },
  {
   "cell_type": "code",
   "execution_count": 32,
   "id": "d6039857",
   "metadata": {},
   "outputs": [
    {
     "data": {
      "text/plain": [
       "array([[[ 39, 243, 147,  77, 134],\n",
       "        [ 66, 223, 175, 173,  42],\n",
       "        [226, 111,   5,  59, 138],\n",
       "        ...,\n",
       "        [219, 251, 145,  66, 224],\n",
       "        [248,  67,  35,  92,  61],\n",
       "        [ 58, 246,  44, 123, 177]],\n",
       "\n",
       "       [[174, 213, 211,  96,  41],\n",
       "        [250, 207, 135, 211,  42],\n",
       "        [229, 252,  31, 113,  15],\n",
       "        ...,\n",
       "        [ 53,  36,  94,  21,  37],\n",
       "        [164,  74,  84, 254, 211],\n",
       "        [240,  73, 205, 253,   8]],\n",
       "\n",
       "       [[ 98, 189,  22, 244, 219],\n",
       "        [  4, 221, 181,  58, 247],\n",
       "        [153,  26, 149, 118, 170],\n",
       "        ...,\n",
       "        [151, 156,  58, 186,  99],\n",
       "        [ 52, 206, 197,  13, 173],\n",
       "        [132,  78,  87, 189,  63]],\n",
       "\n",
       "       ...,\n",
       "\n",
       "       [[145, 139, 138,  34, 154],\n",
       "        [237,   5, 146,  80, 173],\n",
       "        [204,  33, 177,  80,  78],\n",
       "        ...,\n",
       "        [ 64, 198, 154,  81, 239],\n",
       "        [100, 215,  92, 196,  87],\n",
       "        [ 93, 140, 157, 245, 115]],\n",
       "\n",
       "       [[ 37,  26, 228, 159,  71],\n",
       "        [ 58, 180, 217,  34, 233],\n",
       "        [120, 193, 234, 132, 139],\n",
       "        ...,\n",
       "        [ 38, 130, 221, 231, 198],\n",
       "        [ 24, 112, 177, 211,  30],\n",
       "        [104,  71,  76,  44,  60]],\n",
       "\n",
       "       [[175, 170, 109, 132, 233],\n",
       "        [254,  57,  62,  71,  62],\n",
       "        [169, 127,  43, 199,  34],\n",
       "        ...,\n",
       "        [215,  52, 209,  34, 125],\n",
       "        [  6,  93,  31,   4,  38],\n",
       "        [189, 190,  51, 193, 172]]])"
      ]
     },
     "execution_count": 32,
     "metadata": {},
     "output_type": "execute_result"
    }
   ],
   "source": [
    "#Q17\n",
    "nums = np.random.randint(0,256, size=(300,400,5))\n",
    "nums"
   ]
  },
  {
   "cell_type": "code",
   "execution_count": 33,
   "id": "3d5f9363",
   "metadata": {},
   "outputs": [
    {
     "data": {
      "text/plain": [
       "(300, 400, 5)"
      ]
     },
     "execution_count": 33,
     "metadata": {},
     "output_type": "execute_result"
    }
   ],
   "source": [
    "nums.shape"
   ]
  }
 ],
 "metadata": {
  "kernelspec": {
   "display_name": "Python 3 (ipykernel)",
   "language": "python",
   "name": "python3"
  },
  "language_info": {
   "codemirror_mode": {
    "name": "ipython",
    "version": 3
   },
   "file_extension": ".py",
   "mimetype": "text/x-python",
   "name": "python",
   "nbconvert_exporter": "python",
   "pygments_lexer": "ipython3",
   "version": "3.9.7"
  }
 },
 "nbformat": 4,
 "nbformat_minor": 5
}
