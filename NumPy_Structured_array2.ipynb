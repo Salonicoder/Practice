{
 "cells": [
  {
   "cell_type": "code",
   "execution_count": 1,
   "id": "e430a68f",
   "metadata": {},
   "outputs": [],
   "source": [
    "import numpy as np"
   ]
  },
  {
   "cell_type": "code",
   "execution_count": 2,
   "id": "185a41d6",
   "metadata": {},
   "outputs": [
    {
     "name": "stdout",
     "output_type": "stream",
     "text": [
      "[('Albin Acha', 30, 5.8) ('Zerach Hav', 35, 6.1) ('Edmund Ter', 40, 5.9)\n",
      " ('Laura Feli', 28, 5.7)]\n",
      "[('Lehi Piero', 25, 5.5)]\n"
     ]
    }
   ],
   "source": [
    "# Define the data type for the structured array\n",
    "dtype = [('name', 'U10'), ('age', 'i4'), ('height', 'f4')]\n",
    "\n",
    "# Create the structured array with sample data\n",
    "structured_array = np.array([\n",
    "    ('Lehi Piero', 25, 5.5),\n",
    "    ('Albin Achan', 30, 5.8),\n",
    "    ('Zerach Hava', 35, 6.1),\n",
    "    ('Edmund Tereza', 40, 5.9),\n",
    "    ('Laura Felinus', 28, 5.7)\n",
    "], dtype=dtype)\n",
    "\n",
    "condition = structured_array['age'] > 25\n",
    "above25 = structured_array[condition]\n",
    "below25 = structured_array[~condition]\n",
    "\n",
    "print(above25)\n",
    "print(below25)"
   ]
  },
  {
   "cell_type": "code",
   "execution_count": 3,
   "id": "667ea7e8",
   "metadata": {},
   "outputs": [
    {
     "data": {
      "text/plain": [
       "array([5.5, 5.8, 6.1, 5.9, 5.7], dtype=float32)"
      ]
     },
     "execution_count": 3,
     "metadata": {},
     "output_type": "execute_result"
    }
   ],
   "source": [
    "h = structured_array['height']\n",
    "h"
   ]
  },
  {
   "cell_type": "code",
   "execution_count": 6,
   "id": "74ee2a9b",
   "metadata": {},
   "outputs": [
    {
     "data": {
      "text/plain": [
       "array([('Lehi Piero', 25, 5.5), ('Albin Acha', 30, 5.8),\n",
       "       ('Zerach Hav', 35, 6.1), ('Edmund Ter', 40, 5.9),\n",
       "       ('Laura Feli', 28, 5.7)],\n",
       "      dtype=[('name', '<U10'), ('age', '<i4'), ('stature', '<f4')])"
      ]
     },
     "execution_count": 6,
     "metadata": {},
     "output_type": "execute_result"
    }
   ],
   "source": [
    "# Rename the 'height' field to 'stature'\n",
    "new_dtype = [('name', 'U10'), ('age', 'i4'), ('stature', 'f4')]\n",
    "\n",
    "# Create a new structured array with the new dtype\n",
    "renamed_array = np.empty(structured_array.shape, dtype=new_dtype)\n",
    "\n",
    "# Copy the data from the old array to the new array\n",
    "for field in structured_array.dtype.names:\n",
    "    renamed_array[field if field != 'height' else 'stature'] = structured_array[field]\n",
    "    \n",
    "renamed_array"
   ]
  },
  {
   "cell_type": "code",
   "execution_count": null,
   "id": "f646c721",
   "metadata": {},
   "outputs": [],
   "source": [
    "structured_array = np.genfromtxt('data.csv', delimiter=',', dtype=dtype, names=True)\n",
    "structured_array"
   ]
  },
  {
   "cell_type": "code",
   "execution_count": 8,
   "id": "76fbe52e",
   "metadata": {},
   "outputs": [
    {
     "name": "stdout",
     "output_type": "stream",
     "text": [
      "Structured array saved to 'structured_array.npy'\n"
     ]
    }
   ],
   "source": [
    "# Define the data type for the structured array\n",
    "dtype = [('name', 'U10'), ('age', 'i4'), ('height', 'f4')]\n",
    "\n",
    "# Create the structured array with sample data\n",
    "structured_array = np.array([\n",
    "    ('Lehi Piero', 25, 5.5),\n",
    "    ('Albin Achan', 30, 5.8),\n",
    "    ('Zerach Hava', 35, 6.1),\n",
    "    ('Edmund Tereza', 40, 5.9),\n",
    "    ('Laura Felinus', 28, 5.7)\n",
    "], dtype=dtype)\n",
    "\n",
    "# Save the structured array to a file\n",
    "# The file will be saved as 'structured_array.npy'\n",
    "np.save('structured_array.npy', structured_array)\n",
    "\n",
    "# Print a message indicating the array has been saved\n",
    "print(\"Structured array saved to 'structured_array.npy'\")"
   ]
  },
  {
   "cell_type": "code",
   "execution_count": 9,
   "id": "2348cfa8",
   "metadata": {},
   "outputs": [
    {
     "name": "stdout",
     "output_type": "stream",
     "text": [
      "Name:Lehi Piero, Height: 5.5\n",
      "Name:Albin Acha, Height: 5.800000190734863\n",
      "Name:Zerach Hav, Height: 6.099999904632568\n",
      "Name:Edmund Ter, Height: 5.900000095367432\n",
      "Name:Laura Feli, Height: 5.699999809265137\n"
     ]
    }
   ],
   "source": [
    "for record in structured_array:\n",
    "    print(f\"Name:{record['name']}, Height: {record['height']}\")"
   ]
  },
  {
   "cell_type": "code",
   "execution_count": 10,
   "id": "2e1facba",
   "metadata": {},
   "outputs": [
    {
     "name": "stdout",
     "output_type": "stream",
     "text": [
      "Structured Array with Nested Fields:\n",
      "[(('Elsi Eunom', 25), 85) (('Sonia Huse', 30), 90)\n",
      " (('Carmen Hil', 35), 95) (('Lino Praka', 40), 80)\n",
      " (('Eshe Walde', 28), 88)]\n"
     ]
    }
   ],
   "source": [
    "# Define the data type for the structured array with nested fields\n",
    "dtype = [('person', [('name', 'U10'), ('age', 'i4')]), ('score', 'i4')]\n",
    "\n",
    "# Create the structured array with sample data\n",
    "structured_array = np.array([\n",
    "    (('Elsi Eunomia', 25), 85),\n",
    "    (('Sonia Husein', 30), 90),\n",
    "    (('Carmen Hildur', 35), 95),\n",
    "    (('Lino Prakash', 40), 80),\n",
    "    (('Eshe Waldemar', 28), 88)\n",
    "], dtype=dtype)\n",
    "\n",
    "# Print the structured array with nested fields\n",
    "print(\"Structured Array with Nested Fields:\")\n",
    "print(structured_array)"
   ]
  },
  {
   "cell_type": "code",
   "execution_count": 11,
   "id": "bf23d8be",
   "metadata": {},
   "outputs": [
    {
     "data": {
      "text/plain": [
       "dtype([('person', [('name', '<U10'), ('age', '<i4')]), ('score', '<i4')])"
      ]
     },
     "execution_count": 11,
     "metadata": {},
     "output_type": "execute_result"
    }
   ],
   "source": [
    "structured_array.dtype"
   ]
  },
  {
   "cell_type": "code",
   "execution_count": 12,
   "id": "c8f3df27",
   "metadata": {},
   "outputs": [
    {
     "name": "stdout",
     "output_type": "stream",
     "text": [
      "Original structured array:  [('Lehi Piero', 25, 5.5) ('Albin Acha', 30, 5.8) ('Zerach Hav', 35, 6.1)\n",
      " ('Edmund Ter', 40, 5.9) ('Laura Feli', 28, 5.7)]\n"
     ]
    },
    {
     "data": {
      "text/plain": [
       "array([('Albin Acha', 30, 5.8), ('Edmund Ter', 40, 5.9),\n",
       "       ('Laura Feli', 28, 5.7)],\n",
       "      dtype=[('name', '<U10'), ('age', '<i4'), ('height', '<f4')])"
      ]
     },
     "execution_count": 12,
     "metadata": {},
     "output_type": "execute_result"
    }
   ],
   "source": [
    "# Define the data type for the structured array\n",
    "dtype = [('name', 'U10'), ('age', 'i4'), ('height', 'f4')]\n",
    "\n",
    "# Create the structured array with sample data\n",
    "structured_array = np.array([\n",
    "    ('Lehi Piero', 25, 5.5),\n",
    "    ('Albin Achan', 30, 5.8),\n",
    "    ('Zerach Hava', 35, 6.1),\n",
    "    ('Edmund Tereza', 40, 5.9),\n",
    "    ('Laura Felinus', 28, 5.7)\n",
    "], dtype=dtype)\n",
    "\n",
    "print(\"Original structured array: \",structured_array)\n",
    "\n",
    "selected_records = structured_array[(structured_array['age'] > 25) & (structured_array['height'] < 6.0)]\n",
    "selected_records"
   ]
  },
  {
   "cell_type": "code",
   "execution_count": 15,
   "id": "72c3b981",
   "metadata": {},
   "outputs": [
    {
     "name": "stdout",
     "output_type": "stream",
     "text": [
      "Original structured array:  [('Lehi Piero', 25, 5.5) ('Albin Acha', 30, 5.8) ('Zerach Hav', 35, 6.1)\n",
      " ('Edmund Ter', 40, 5.9) ('Laura Feli', 28, 5.7)]\n"
     ]
    },
    {
     "data": {
      "text/plain": [
       "array([('Lehi Piero', 25, 5.5, 'Lehi Piero_25'),\n",
       "       ('Albin Acha', 30, 5.8, 'Albin Acha_30'),\n",
       "       ('Zerach Hav', 35, 6.1, 'Zerach Hav_35'),\n",
       "       ('Edmund Ter', 40, 5.9, 'Edmund Ter_40'),\n",
       "       ('Laura Feli', 28, 5.7, 'Laura Feli_28')],\n",
       "      dtype=[('name', '<U10'), ('age', '<i4'), ('height', '<f4'), ('name_age', '<U14')])"
      ]
     },
     "execution_count": 15,
     "metadata": {},
     "output_type": "execute_result"
    }
   ],
   "source": [
    "# Define the data type for the structured array\n",
    "dtype = [('name', 'U10'), ('age', 'i4'), ('height', 'f4')]\n",
    "\n",
    "# Create the structured array with sample data\n",
    "structured_array = np.array([\n",
    "    ('Lehi Piero', 25, 5.5),\n",
    "    ('Albin Achan', 30, 5.8),\n",
    "    ('Zerach Hava', 35, 6.1),\n",
    "    ('Edmund Tereza', 40, 5.9),\n",
    "    ('Laura Felinus', 28, 5.7)\n",
    "], dtype=dtype)\n",
    "\n",
    "print(\"Original structured array: \",structured_array)\n",
    "\n",
    "# Define a new data type with an additional 'name_age' field\n",
    "new_dtype = [('name', 'U10'), ('age', 'i4'), ('height', 'f4'), ('name_age', 'U14')]\n",
    "\n",
    "# Create a new structured array with the new data type\n",
    "new_structured_array = np.empty(structured_array.shape, dtype=new_dtype)\n",
    "\n",
    "# Copy the existing fields to the new structured array\n",
    "for field in structured_array.dtype.names:\n",
    "    new_structured_array[field] = structured_array[field]\n",
    "    \n",
    "# Create the 'name_age' field by concatenating 'name' and 'age' fields\n",
    "new_structured_array['name_age'] = np.array([f\"{name}_{age}\" for name, age in zip(structured_array['name'], structured_array['age'])])\n",
    "new_structured_array"
   ]
  },
  {
   "cell_type": "code",
   "execution_count": 14,
   "id": "05ae6f9f",
   "metadata": {},
   "outputs": [
    {
     "name": "stdout",
     "output_type": "stream",
     "text": [
      "Original structured array:  [('Lehi Piero', 25, 5.5) ('Albin Acha', 30, 5.8) ('Zerach Hav', 35, 6.1)\n",
      " ('Edmund Ter', 40, 5.9) ('Laura Feli', 28, 5.7)]\n"
     ]
    },
    {
     "data": {
      "text/plain": [
       "array([('Lehi Piero', 25, 6.), ('Albin Acha', 30, 6.),\n",
       "       ('Zerach Hav', 35, 6.), ('Edmund Ter', 40, 6.),\n",
       "       ('Laura Feli', 28, 6.)],\n",
       "      dtype=[('name', '<U10'), ('age', '<i4'), ('height', '<f4')])"
      ]
     },
     "execution_count": 14,
     "metadata": {},
     "output_type": "execute_result"
    }
   ],
   "source": [
    "# Define the data type for the structured array\n",
    "dtype = [('name', 'U10'), ('age', 'i4'), ('height', 'f4')]\n",
    "\n",
    "# Create the structured array with sample data\n",
    "structured_array = np.array([\n",
    "    ('Lehi Piero', 25, 5.5),\n",
    "    ('Albin Achan', 30, 5.8),\n",
    "    ('Zerach Hava', 35, 6.1),\n",
    "    ('Edmund Tereza', 40, 5.9),\n",
    "    ('Laura Felinus', 28, 5.7)\n",
    "], dtype=dtype)\n",
    "\n",
    "print(\"Original structured array: \",structured_array)\n",
    "\n",
    "structured_array['height'] = 6.0\n",
    "structured_array"
   ]
  }
 ],
 "metadata": {
  "kernelspec": {
   "display_name": "Python 3 (ipykernel)",
   "language": "python",
   "name": "python3"
  },
  "language_info": {
   "codemirror_mode": {
    "name": "ipython",
    "version": 3
   },
   "file_extension": ".py",
   "mimetype": "text/x-python",
   "name": "python",
   "nbconvert_exporter": "python",
   "pygments_lexer": "ipython3",
   "version": "3.9.7"
  }
 },
 "nbformat": 4,
 "nbformat_minor": 5
}
