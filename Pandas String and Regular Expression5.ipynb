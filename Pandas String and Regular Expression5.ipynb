{
 "cells": [
  {
   "cell_type": "code",
   "execution_count": 1,
   "id": "33df1ee5",
   "metadata": {},
   "outputs": [],
   "source": [
    "import pandas as pd\n",
    "import re as re"
   ]
  },
  {
   "cell_type": "code",
   "execution_count": 2,
   "id": "9b8c8875",
   "metadata": {},
   "outputs": [
    {
     "name": "stdout",
     "output_type": "stream",
     "text": [
      "Original DataFrame:\n",
      "                                  tweets\n",
      "0                    @Obama says goodbye\n",
      "1                     Retweets for @cash\n",
      "2  A political endorsement in @Indonesia\n",
      "3                 1 dog = many #retweets\n",
      "4                     Just a simple #egg\n",
      "\\Extracting @word from dataframe columns:\n",
      "                                  tweets    at_word\n",
      "0                    @Obama says goodbye      Obama\n",
      "1                     Retweets for @cash       cash\n",
      "2  A political endorsement in @Indonesia  Indonesia\n",
      "3                 1 dog = many #retweets           \n",
      "4                     Just a simple #egg           \n"
     ]
    }
   ],
   "source": [
    "pd.set_option('display.max_columns', 10)\n",
    "df = pd.DataFrame({\n",
    "    'tweets': ['@Obama says goodbye','Retweets for @cash','A political endorsement in @Indonesia', '1 dog = many #retweets', 'Just a simple #egg']\n",
    "    })\n",
    "print(\"Original DataFrame:\")\n",
    "print(df)\n",
    "def find_at_word(text):\n",
    "    word=re.findall(r'(?<=@)\\w+',text)\n",
    "    return \" \".join(word)\n",
    "\n",
    "df['at_word']=df['tweets'].apply(lambda x: find_at_word(x))\n",
    "print(\"\\Extracting @word from dataframe columns:\")\n",
    "print(df)"
   ]
  },
  {
   "cell_type": "code",
   "execution_count": 3,
   "id": "46cf1f03",
   "metadata": {},
   "outputs": [
    {
     "name": "stdout",
     "output_type": "stream",
     "text": [
      "Original DataFrame:\n",
      "  company_code                   address\n",
      "0        c0001          7277 Surrey Ave.\n",
      "1        c0002        920 N. Bishop Ave.\n",
      "2        c0003      9910 Golden Star St.\n",
      "3        c0003             25 Dunbar St.\n",
      "4        c0004  17 West Livingston Court\n",
      "\\Extracting numbers from dataframe columns:\n",
      "  company_code                   address number\n",
      "0        c0001          7277 Surrey Ave.   7277\n",
      "1        c0002        920 N. Bishop Ave.    920\n",
      "2        c0003      9910 Golden Star St.   9910\n",
      "3        c0003             25 Dunbar St.     25\n",
      "4        c0004  17 West Livingston Court     17\n"
     ]
    }
   ],
   "source": [
    "pd.set_option('display.max_columns', 10)\n",
    "df = pd.DataFrame({\n",
    "    'company_code': ['c0001','c0002','c0003', 'c0003', 'c0004'],\n",
    "    'address': ['7277 Surrey Ave.','920 N. Bishop Ave.','9910 Golden Star St.', '25 Dunbar St.', '17 West Livingston Court']\n",
    "    })\n",
    "print(\"Original DataFrame:\")\n",
    "print(df)\n",
    "def find_number(text):\n",
    "    num = re.findall(r'[0-9]+',text)\n",
    "    return \" \".join(num)\n",
    "df['number']=df['address'].apply(lambda x: find_number(x))\n",
    "print(\"\\Extracting numbers from dataframe columns:\")\n",
    "print(df)"
   ]
  },
  {
   "cell_type": "code",
   "execution_count": 4,
   "id": "0238ba73",
   "metadata": {},
   "outputs": [
    {
     "name": "stdout",
     "output_type": "stream",
     "text": [
      "Original DataFrame:\n",
      "  company_code               company_phone_no\n",
      "0        c0001  Company1-Phone no. 4695168357\n",
      "1        c0002  Company2-Phone no. 8088729013\n",
      "2        c0003  Company3-Phone no. 6204658086\n",
      "3        c0003  Company4-Phone no. 5159530096\n",
      "4        c0004  Company5-Phone no. 9037952371\n",
      "\\Extracting numbers from dataframe columns:\n",
      "  company_code               company_phone_no      number\n",
      "0        c0001  Company1-Phone no. 4695168357  4695168357\n",
      "1        c0002  Company2-Phone no. 8088729013  8088729013\n",
      "2        c0003  Company3-Phone no. 6204658086  6204658086\n",
      "3        c0003  Company4-Phone no. 5159530096  5159530096\n",
      "4        c0004  Company5-Phone no. 9037952371  9037952371\n"
     ]
    }
   ],
   "source": [
    "pd.set_option('display.max_columns', 10)\n",
    "df = pd.DataFrame({\n",
    "    'company_code': ['c0001','c0002','c0003', 'c0003', 'c0004'],\n",
    "    'company_phone_no': ['Company1-Phone no. 4695168357','Company2-Phone no. 8088729013','Company3-Phone no. 6204658086', 'Company4-Phone no. 5159530096', 'Company5-Phone no. 9037952371']\n",
    "    })\n",
    "print(\"Original DataFrame:\")\n",
    "print(df)\n",
    "def find_phone_number(text):\n",
    "    ph_no = re.findall(r\"\\b\\d{10}\\b\",text)\n",
    "    return \"\".join(ph_no)\n",
    "df['number']=df['company_phone_no'].apply(lambda x: find_phone_number(x))\n",
    "print(\"\\Extracting numbers from dataframe columns:\")\n",
    "print(df)"
   ]
  },
  {
   "cell_type": "code",
   "execution_count": 5,
   "id": "926e5952",
   "metadata": {},
   "outputs": [
    {
     "name": "stdout",
     "output_type": "stream",
     "text": [
      "Original DataFrame:\n",
      "  company_code       year\n",
      "0        c0001  year 1800\n",
      "1        c0002  year 1700\n",
      "2        c0003  year 2300\n",
      "3        c0003  year 1900\n",
      "4        c0004  year 2200\n",
      "\\Extracting year between 1800 to 2200:\n",
      "  company_code       year year_range\n",
      "0        c0001  year 1800     [1800]\n",
      "1        c0002  year 1700         []\n",
      "2        c0003  year 2300         []\n",
      "3        c0003  year 1900     [1900]\n",
      "4        c0004  year 2200     [2200]\n"
     ]
    }
   ],
   "source": [
    "pd.set_option('display.max_columns', 10)\n",
    "df = pd.DataFrame({\n",
    "    'company_code': ['c0001','c0002','c0003', 'c0003', 'c0004'],\n",
    "    'year': ['year 1800','year 1700','year 2300', 'year 1900', 'year 2200']\n",
    "    })\n",
    "print(\"Original DataFrame:\")\n",
    "print(df)\n",
    "def find_year(text):\n",
    "    #line=re.findall(r\"\\b(18[0][0]|2[0-2][00])\\b\",text)\n",
    "    result = re.findall(r\"\\b(18[0-9]{2}|19[0-8][0-9]|199[0-9]|2[01][0-9]{2}|2200)\\b\",text)\n",
    "    return result\n",
    "df['year_range']=df['year'].apply(lambda x: find_year(x))\n",
    "print(\"\\Extracting year between 1800 to 2200:\")\n",
    "print(df)"
   ]
  },
  {
   "cell_type": "code",
   "execution_count": 6,
   "id": "524d5118",
   "metadata": {},
   "outputs": [
    {
     "name": "stdout",
     "output_type": "stream",
     "text": [
      "Original DataFrame:\n",
      "  company_code       year\n",
      "0       c0001#  year 1800\n",
      "1      c00@0^2  year 1700\n",
      "2       $c0003  year 2300\n",
      "3        c0003  year 1900\n",
      "4       &c0004  year 2200\n",
      "\\Extracting only non alphanumeric characters from company_code:\n",
      "  company_code       year nonalpha\n",
      "0       c0001#  year 1800      [#]\n",
      "1      c00@0^2  year 1700   [@, ^]\n",
      "2       $c0003  year 2300      [$]\n",
      "3        c0003  year 1900       []\n",
      "4       &c0004  year 2200      [&]\n"
     ]
    }
   ],
   "source": [
    "pd.set_option('display.max_columns', 10)\n",
    "df = pd.DataFrame({\n",
    "    'company_code': ['c0001#','c00@0^2','$c0003', 'c0003', '&c0004'],\n",
    "    'year': ['year 1800','year 1700','year 2300', 'year 1900', 'year 2200']\n",
    "    })\n",
    "print(\"Original DataFrame:\")\n",
    "print(df)\n",
    "def find_nonalpha(text):\n",
    "    result = re.findall(\"[^A-Za-z0-9 ]\",text)\n",
    "    return result\n",
    "df['nonalpha']=df['company_code'].apply(lambda x: find_nonalpha(x))\n",
    "print(\"\\Extracting only non alphanumeric characters from company_code:\")\n",
    "print(df)"
   ]
  }
 ],
 "metadata": {
  "kernelspec": {
   "display_name": "Python 3 (ipykernel)",
   "language": "python",
   "name": "python3"
  },
  "language_info": {
   "codemirror_mode": {
    "name": "ipython",
    "version": 3
   },
   "file_extension": ".py",
   "mimetype": "text/x-python",
   "name": "python",
   "nbconvert_exporter": "python",
   "pygments_lexer": "ipython3",
   "version": "3.9.7"
  }
 },
 "nbformat": 4,
 "nbformat_minor": 5
}
