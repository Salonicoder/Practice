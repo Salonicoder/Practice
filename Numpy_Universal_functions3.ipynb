{
 "cells": [
  {
   "cell_type": "code",
   "execution_count": 1,
   "id": "abe017f3",
   "metadata": {},
   "outputs": [],
   "source": [
    "import numpy as np"
   ]
  },
  {
   "cell_type": "code",
   "execution_count": 2,
   "id": "a45afa26",
   "metadata": {},
   "outputs": [
    {
     "name": "stdout",
     "output_type": "stream",
     "text": [
      "Result Array after In-Place Addition:\n",
      "[11 22 33 44 55]\n"
     ]
    }
   ],
   "source": [
    "# Create a NumPy array\n",
    "array_x = np.array([1, 2, 3, 4, 5])\n",
    "\n",
    "# Create another array to add\n",
    "array_y = np.array([10, 20, 30, 40, 50])\n",
    "\n",
    "# Perform in-place addition using np.ad with the out parameter\n",
    "np.add(array_x, array_y, out=array_x)\n",
    "\n",
    "# Print the resulting array\n",
    "print(\"Result Array after In-Place Addition:\")\n",
    "print(array_x)"
   ]
  },
  {
   "cell_type": "code",
   "execution_count": 3,
   "id": "d048e70e",
   "metadata": {},
   "outputs": [
    {
     "name": "stdout",
     "output_type": "stream",
     "text": [
      "Original Array with NaN values:\n",
      "[ 1.  2. nan  4. nan  6.]\n",
      "\n",
      "Array after replacing NaN values:\n",
      "[1. 2. 0. 4. 0. 6.]\n"
     ]
    }
   ],
   "source": [
    "# Create a NumPy array with NaN values\n",
    "array_with_nan = np.array([1, 2, np.nan, 4, np.nan, 6])\n",
    "\n",
    "# Replace NaN values with a specified number, e.g., 0\n",
    "array_without_nan = np.nan_to_num(array_with_nan, nan=0.0)\n",
    "\n",
    "# Print the original and modified arrays\n",
    "print(\"Original Array with NaN values:\")\n",
    "print(array_with_nan)\n",
    "\n",
    "print(\"\\nArray after replacing NaN values:\")\n",
    "print(array_without_nan)"
   ]
  },
  {
   "cell_type": "code",
   "execution_count": 4,
   "id": "da8d22f6",
   "metadata": {},
   "outputs": [
    {
     "name": "stdout",
     "output_type": "stream",
     "text": [
      "Original Complex Array:\n",
      "[1.+2.j 3.+4.j 5.+6.j]\n",
      "\n",
      "Result Array after applying custom ufunc:\n",
      "[3.0 7.0 11.0]\n"
     ]
    }
   ],
   "source": [
    "# Define a custom function to operate on complex numbers\n",
    "def custom_complex_operation(z):\n",
    "    return z.real + z.imag\n",
    "\n",
    "# Convert the custom function to a NumPy ufunc\n",
    "custom_ufunc = np.frompyfunc(custom_complex_operation, 1, 1)\n",
    "\n",
    "# Create a NumPy array of complex numbers\n",
    "complex_array = np.array([1+2j, 3+4j, 5+6j])\n",
    "\n",
    "# Apply the custom ufunc to the complex array\n",
    "result_array = custom_ufunc(complex_array)\n",
    "\n",
    "# Print the original complex array and the result array\n",
    "print(\"Original Complex Array:\")\n",
    "print(complex_array)\n",
    "\n",
    "print(\"\\nResult Array after applying custom ufunc:\")\n",
    "print(result_array)"
   ]
  },
  {
   "cell_type": "code",
   "execution_count": 5,
   "id": "9f778d2e",
   "metadata": {},
   "outputs": [
    {
     "name": "stdout",
     "output_type": "stream",
     "text": [
      "Array A:\n",
      "[ True False  True False]\n",
      "\n",
      "Array B:\n",
      "[ True  True False False]\n",
      "\n",
      "Result Array after applying np.logical_and:\n",
      "[ True False False False]\n"
     ]
    }
   ],
   "source": [
    "# Create two boolean arrays\n",
    "array_a = np.array([True, False, True, False])\n",
    "array_b = np.array([True, True, False, False])\n",
    "\n",
    "# Combine the boolean arrays using np.logical_and\n",
    "result_array = np.logical_and(array_a, array_b)\n",
    "\n",
    "# Print the original boolean arrays and the result array\n",
    "print(\"Array A:\")\n",
    "print(array_a)\n",
    "\n",
    "print(\"\\nArray B:\")\n",
    "print(array_b)\n",
    "\n",
    "print(\"\\nResult Array after applying np.logical_and:\")\n",
    "print(result_array)"
   ]
  },
  {
   "cell_type": "code",
   "execution_count": 6,
   "id": "16a94b3d",
   "metadata": {},
   "outputs": [
    {
     "name": "stdout",
     "output_type": "stream",
     "text": [
      "Original 2D Array:\n",
      "[[1 2 3]\n",
      " [4 5 6]\n",
      " [7 8 9]]\n",
      "\n",
      "Maximum elements along axis 0:\n",
      "[7 8 9]\n",
      "\n",
      "Maximum elements along axis 1:\n",
      "[3 6 9]\n"
     ]
    }
   ],
   "source": [
    "# Create a 2D NumPy array\n",
    "array_2d = np.array([[1, 2, 3], [4, 5, 6], [7, 8, 9]])\n",
    "\n",
    "# Find the maximum element along the specified axis (e.g., axis=0) columns\n",
    "max_elements_axis0 = np.maximum.reduce(array_2d, axis=0)\n",
    "\n",
    "# Find the maximum element along the specified axis (e.g., axis=1) rows\n",
    "max_elements_axis1 = np.maximum.reduce(array_2d, axis=1)\n",
    "\n",
    "# Print the original 2D array and the results\n",
    "print(\"Original 2D Array:\")\n",
    "print(array_2d)\n",
    "\n",
    "print(\"\\nMaximum elements along axis 0:\")\n",
    "print(max_elements_axis0)\n",
    "\n",
    "print(\"\\nMaximum elements along axis 1:\")\n",
    "print(max_elements_axis1)"
   ]
  }
 ],
 "metadata": {
  "kernelspec": {
   "display_name": "Python 3 (ipykernel)",
   "language": "python",
   "name": "python3"
  },
  "language_info": {
   "codemirror_mode": {
    "name": "ipython",
    "version": 3
   },
   "file_extension": ".py",
   "mimetype": "text/x-python",
   "name": "python",
   "nbconvert_exporter": "python",
   "pygments_lexer": "ipython3",
   "version": "3.9.7"
  }
 },
 "nbformat": 4,
 "nbformat_minor": 5
}
