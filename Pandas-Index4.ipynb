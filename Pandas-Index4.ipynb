{
 "cells": [
  {
   "cell_type": "code",
   "execution_count": 1,
   "id": "36b90b85",
   "metadata": {},
   "outputs": [],
   "source": [
    "import pandas as pd\n",
    "import numpy as np"
   ]
  },
  {
   "cell_type": "code",
   "execution_count": 2,
   "id": "dae6ffb7",
   "metadata": {},
   "outputs": [
    {
     "name": "stdout",
     "output_type": "stream",
     "text": [
      "Create a MultiIndex:\n",
      "[('sale1', 'city1'), ('sale1', 'city2'), ('sale2', 'city1'), ('sale2', 'city2'), ('sale3', 'city1'), ('sale3', 'city2'), ('sale4', 'city1'), ('sale4', 'city2')]\n",
      "\n",
      "Construct a Dataframe using the said MultiIndex levels: \n",
      "                    0         1         2         3         4\n",
      "sale  city                                                   \n",
      "sale1 city1  0.319560  0.781822 -1.417803 -0.668402  1.096322\n",
      "      city2  0.308146  0.584726 -0.380437 -1.656905  0.418197\n",
      "sale2 city1  0.101555  0.710694 -1.059535  0.958604  0.712967\n",
      "      city2  1.004231 -1.735734 -1.463535  0.246618  0.081802\n",
      "sale3 city1 -0.668502 -0.766354 -0.428296 -2.072374 -1.015761\n",
      "      city2  1.274309  1.054053 -0.591799  0.991911 -1.321014\n",
      "sale4 city1 -0.593244 -1.396514 -0.499621 -0.378353  0.423967\n",
      "      city2  0.229696 -1.212464  0.222840  0.072602  0.897592\n"
     ]
    }
   ],
   "source": [
    "sales_arrays = [['sale1', 'sale1', 'sale2', 'sale2', 'sale3', 'sale3', 'sale4', 'sale4'],\n",
    "          ['city1', 'city2', 'city1', 'city2', 'city1', 'city2', 'city1', 'city2']]\n",
    "sales_tuples = list(zip(*sales_arrays))\n",
    "print(\"Create a MultiIndex:\")\n",
    "sales_index = pd.MultiIndex.from_tuples(sales_tuples, names=['sale', 'city'])\n",
    "print(sales_tuples)\n",
    "print(\"\\nConstruct a Dataframe using the said MultiIndex levels: \")\n",
    "df = pd.DataFrame(np.random.randn(8, 5), index=sales_index)\n",
    "print(df)"
   ]
  },
  {
   "cell_type": "code",
   "execution_count": 3,
   "id": "ea57073f",
   "metadata": {},
   "outputs": [
    {
     "name": "stdout",
     "output_type": "stream",
     "text": [
      "[('sale1', 'city1'), ('sale1', 'city2'), ('sale2', 'city1'), ('sale2', 'city2'), ('sale3', 'city1'), ('sale3', 'city2'), ('sale4', 'city1'), ('sale4', 'city2')]\n",
      "\n",
      "Construct a Dataframe using the said MultiIndex levels: \n",
      "                    0         1         2         3         4\n",
      "sale  city                                                   \n",
      "sale1 city1 -0.047856 -0.863758  0.559994  0.931517 -0.996772\n",
      "      city2  0.749611  1.923307  0.273886 -0.045858  1.400739\n",
      "sale2 city1 -0.374729  0.739047 -0.691928  1.231495  0.308219\n",
      "      city2  0.644379 -0.311246  2.590693  0.629625  1.727508\n",
      "sale3 city1  0.231407  0.836937  0.429406 -0.704112 -1.522196\n",
      "      city2 -0.985866  0.205843  1.107952 -0.173665  0.092729\n",
      "sale4 city1 -1.459269 -0.636304  0.886219  0.390209 -0.445068\n",
      "      city2 -0.636731  0.830403 -0.609885  0.142207 -0.958399\n",
      "\n",
      "Extract a single row from the said dataframe:\n",
      "0    0.644379\n",
      "1   -0.311246\n",
      "2    2.590693\n",
      "3    0.629625\n",
      "4    1.727508\n",
      "Name: (sale2, city2), dtype: float64\n",
      "\n",
      "Extract a single row from the said dataframe:\n",
      "0    0.644379\n",
      "1   -0.311246\n",
      "2    2.590693\n",
      "3    0.629625\n",
      "4    1.727508\n",
      "Name: (sale2, city2), dtype: float64\n",
      "\n",
      "Extract number of rows from the said dataframe:\n",
      "              0         1         2         3         4\n",
      "city                                                   \n",
      "city1 -0.047856 -0.863758  0.559994  0.931517 -0.996772\n",
      "city2  0.749611  1.923307  0.273886 -0.045858  1.400739\n",
      "\n",
      "Extract number of rows from the said dataframe:\n",
      "              0         1         2         3         4\n",
      "city                                                   \n",
      "city1  0.231407  0.836937  0.429406 -0.704112 -1.522196\n",
      "city2 -0.985866  0.205843  1.107952 -0.173665  0.092729\n",
      "\n",
      "Extract a single value from the said dataframe:\n",
      "1.9233074730722222\n",
      "\n",
      "Extract a single value from the said dataframe:\n",
      "-0.4450683150982747\n"
     ]
    }
   ],
   "source": [
    "#Q14\n",
    "sales_arrays = [['sale1', 'sale1', 'sale2', 'sale2', 'sale3', 'sale3', 'sale4', 'sale4'],\n",
    "          ['city1', 'city2', 'city1', 'city2', 'city1', 'city2', 'city1', 'city2']]\n",
    "sales_tuples = list(zip(*sales_arrays))\n",
    "sales_index = pd.MultiIndex.from_tuples(sales_tuples, names=['sale', 'city'])\n",
    "print(sales_tuples)\n",
    "print(\"\\nConstruct a Dataframe using the said MultiIndex levels: \")\n",
    "df = pd.DataFrame(np.random.randn(8, 5), index=sales_index)\n",
    "print(df)\n",
    "\n",
    "print(\"\\nExtract a single row from the said dataframe:\")\n",
    "print(df.loc[('sale2', 'city2')])\n",
    "print(\"\\nExtract a single row from the said dataframe:\")\n",
    "print(df.loc[('sale2', 'city2')])\n",
    "\n",
    "print(\"\\nExtract number of rows from the said dataframe:\")\n",
    "print(df.loc['sale1'])\n",
    "print(\"\\nExtract number of rows from the said dataframe:\")\n",
    "print(df.loc['sale3'])\n",
    "\n",
    "print(\"\\nExtract a single value from the said dataframe:\")\n",
    "print(df.loc[('sale1', 'city2'), 1])\n",
    "print(\"\\nExtract a single value from the said dataframe:\")\n",
    "print(df.loc[('sale4', 'city1'), 4])"
   ]
  },
  {
   "cell_type": "code",
   "execution_count": 4,
   "id": "0e98fbba",
   "metadata": {},
   "outputs": [
    {
     "name": "stdout",
     "output_type": "stream",
     "text": [
      "[('sale1', 'city1'), ('sale1', 'city2'), ('sale2', 'city1'), ('sale2', 'city2'), ('sale3', 'city1'), ('sale3', 'city2'), ('sale4', 'city1'), ('sale4', 'city2')]\n",
      "\n",
      "Construct a Dataframe using the said MultiIndex levels: \n",
      "                    0         1         2         3         4\n",
      "sale  city                                                   \n",
      "sale1 city1  0.504972 -0.460932 -0.346817 -0.511037 -0.311695\n",
      "      city2  1.678241 -0.095903  1.377239 -0.435176  0.047277\n",
      "sale2 city1  0.050779  1.168001 -2.297502  0.544122  0.304260\n",
      "      city2 -0.142055  1.127882 -0.437350  0.089209 -0.835783\n",
      "sale3 city1  0.530937  1.004902 -1.013829 -0.657093 -0.603926\n",
      "      city2  1.860970 -0.109545  0.255334 -0.519720 -0.025815\n",
      "sale4 city1  1.855853  0.654788 -0.686488  1.181600 -1.076847\n",
      "      city2 -0.996282  1.270367 -0.924798 -0.390687 -1.068007\n",
      "\n",
      "Rename the columns name of the said dataframe\n",
      "                 col1      col2      col3      col4      col5\n",
      "sale  city                                                   \n",
      "sale1 city1  0.504972 -0.460932 -0.346817 -0.511037 -0.311695\n",
      "      city2  1.678241 -0.095903  1.377239 -0.435176  0.047277\n",
      "sale2 city1  0.050779  1.168001 -2.297502  0.544122  0.304260\n",
      "      city2 -0.142055  1.127882 -0.437350  0.089209 -0.835783\n",
      "sale3 city1  0.530937  1.004902 -1.013829 -0.657093 -0.603926\n",
      "      city2  1.860970 -0.109545  0.255334 -0.519720 -0.025815\n",
      "sale4 city1  1.855853  0.654788 -0.686488  1.181600 -1.076847\n",
      "      city2 -0.996282  1.270367 -0.924798 -0.390687 -1.068007\n",
      "\n",
      "Rename specific labels of the main index of the DataFrame\n",
      "                 col1      col2      col3      col4      col5\n",
      "sale  city                                                   \n",
      "sale1 city1  0.504972 -0.460932 -0.346817 -0.511037 -0.311695\n",
      "      C2     1.678241 -0.095903  1.377239 -0.435176  0.047277\n",
      "S2    city1  0.050779  1.168001 -2.297502  0.544122  0.304260\n",
      "      C2    -0.142055  1.127882 -0.437350  0.089209 -0.835783\n",
      "sale3 city1  0.530937  1.004902 -1.013829 -0.657093 -0.603926\n",
      "      C2     1.860970 -0.109545  0.255334 -0.519720 -0.025815\n",
      "sale4 city1  1.855853  0.654788 -0.686488  1.181600 -1.076847\n",
      "      C2    -0.996282  1.270367 -0.924798 -0.390687 -1.068007\n"
     ]
    }
   ],
   "source": [
    "#Q15\n",
    "sales_arrays = [['sale1', 'sale1', 'sale2', 'sale2', 'sale3', 'sale3', 'sale4', 'sale4'],\n",
    "          ['city1', 'city2', 'city1', 'city2', 'city1', 'city2', 'city1', 'city2']]\n",
    "sales_tuples = list(zip(*sales_arrays))\n",
    "sales_index = pd.MultiIndex.from_tuples(sales_tuples, names=['sale', 'city'])\n",
    "print(sales_tuples)\n",
    "print(\"\\nConstruct a Dataframe using the said MultiIndex levels: \")\n",
    "df = pd.DataFrame(np.random.randn(8, 5), index=sales_index)\n",
    "print(df)\n",
    "print(\"\\nRename the columns name of the said dataframe\")\n",
    "df1 = df.rename(columns={0: \"col1\", 1: \"col2\", 2:\"col3\", 3:\"col4\", 4:\"col5\"})\n",
    "print(df1)\n",
    "print(\"\\nRename specific labels of the main index of the DataFrame\")\n",
    "df2 = df1.rename(index={\"sale2\": \"S2\", \"city2\": \"C2\"})\n",
    "print(df2)"
   ]
  }
 ],
 "metadata": {
  "kernelspec": {
   "display_name": "Python 3 (ipykernel)",
   "language": "python",
   "name": "python3"
  },
  "language_info": {
   "codemirror_mode": {
    "name": "ipython",
    "version": 3
   },
   "file_extension": ".py",
   "mimetype": "text/x-python",
   "name": "python",
   "nbconvert_exporter": "python",
   "pygments_lexer": "ipython3",
   "version": "3.9.7"
  }
 },
 "nbformat": 4,
 "nbformat_minor": 5
}
