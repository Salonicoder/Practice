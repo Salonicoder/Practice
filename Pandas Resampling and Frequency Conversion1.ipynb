{
 "cells": [
  {
   "cell_type": "code",
   "execution_count": 1,
   "id": "058195a1",
   "metadata": {},
   "outputs": [],
   "source": [
    "# Import necessary libraries\n",
    "import pandas as pd\n",
    "import numpy as np"
   ]
  },
  {
   "cell_type": "code",
   "execution_count": 9,
   "id": "6d8a043b",
   "metadata": {},
   "outputs": [
    {
     "name": "stdout",
     "output_type": "stream",
     "text": [
      "2024-01-01    0.106905\n",
      "2024-01-02   -0.060140\n",
      "2024-01-03   -0.133164\n",
      "2024-01-04   -0.478725\n",
      "2024-01-05    0.065343\n",
      "Freq: D, dtype: float64\n"
     ]
    }
   ],
   "source": [
    "# Create a time series data with hourly frequency\n",
    "date_rng = pd.date_range(start='2024-01-01', end='2024-01-05', freq='H')\n",
    "ts = pd.Series(np.random.randn(len(date_rng)), index=date_rng)\n",
    "\n",
    "# Resample the time series to daily frequency\n",
    "ts_daily = ts.resample('D').mean()\n",
    "\n",
    "# Display the resampled time series\n",
    "print(ts_daily)"
   ]
  },
  {
   "cell_type": "code",
   "execution_count": 3,
   "id": "5109b00f",
   "metadata": {},
   "outputs": [
    {
     "name": "stdout",
     "output_type": "stream",
     "text": [
      "2021-01-01 00:00:00   -1.781396\n",
      "2021-01-01 01:00:00   -1.781396\n",
      "2021-01-01 02:00:00   -1.781396\n",
      "2021-01-01 03:00:00   -1.781396\n",
      "2021-01-01 04:00:00   -1.781396\n",
      "                         ...   \n",
      "2021-01-04 20:00:00   -1.417797\n",
      "2021-01-04 21:00:00   -1.417797\n",
      "2021-01-04 22:00:00   -1.417797\n",
      "2021-01-04 23:00:00   -1.417797\n",
      "2021-01-05 00:00:00    1.245010\n",
      "Freq: H, Length: 97, dtype: float64\n"
     ]
    }
   ],
   "source": [
    "# Create a time series data with daily frequency\n",
    "date_rng = pd.date_range(start='2021-01-01', end='2021-01-05', freq='D')\n",
    "ts = pd.Series(np.random.randn(len(date_rng)), index=date_rng)\n",
    "\n",
    "# Upsample the time series to hourly frequency\n",
    "ts_hourly = ts.resample('H').ffill()\n",
    "\n",
    "# Display the upsampled time series\n",
    "print(ts_hourly)"
   ]
  },
  {
   "cell_type": "code",
   "execution_count": 8,
   "id": "d9056dc7",
   "metadata": {},
   "outputs": [
    {
     "name": "stdout",
     "output_type": "stream",
     "text": [
      "Daily Mean:\n",
      " 2024-01-01   -0.258083\n",
      "2024-01-02   -0.228803\n",
      "2024-01-03    0.255660\n",
      "2024-01-04   -0.234782\n",
      "2024-01-05    0.527249\n",
      "Freq: D, dtype: float64\n",
      "Daily Sum:\n",
      " 2024-01-01   -6.193999\n",
      "2024-01-02   -5.491280\n",
      "2024-01-03    6.135832\n",
      "2024-01-04   -5.634769\n",
      "2024-01-05    0.527249\n",
      "Freq: D, dtype: float64\n",
      "Daily Max:\n",
      " 2024-01-01    1.711633\n",
      "2024-01-02    2.236665\n",
      "2024-01-03    2.163050\n",
      "2024-01-04    1.936067\n",
      "2024-01-05    0.527249\n",
      "Freq: D, dtype: float64\n"
     ]
    }
   ],
   "source": [
    "# Create a time series data with hourly frequency\n",
    "date_rng = pd.date_range(start='2024-01-01', end='2024-01-05', freq='H')\n",
    "ts = pd.Series(np.random.randn(len(date_rng)), index=date_rng)\n",
    "\n",
    "# Resample the time series to daily frequency using different aggregation methods\n",
    "ts_daily_mean = ts.resample('D').mean()\n",
    "ts_daily_sum = ts.resample('D').sum()\n",
    "ts_daily_max = ts.resample('D').max()\n",
    "\n",
    "# Display the resampled time series\n",
    "print(\"Daily Mean:\\n\", ts_daily_mean)\n",
    "print(\"Daily Sum:\\n\", ts_daily_sum)\n",
    "print(\"Daily Max:\\n\", ts_daily_max)"
   ]
  },
  {
   "cell_type": "code",
   "execution_count": 5,
   "id": "ffffe478",
   "metadata": {},
   "outputs": [
    {
     "name": "stdout",
     "output_type": "stream",
     "text": [
      "2021-01-03   -0.378764\n",
      "2021-01-10   -0.284927\n",
      "2021-01-17   -0.078642\n",
      "2021-01-24   -0.326122\n",
      "2021-01-31   -0.262753\n",
      "2021-02-07   -1.768842\n",
      "Freq: W-SUN, dtype: float64\n"
     ]
    }
   ],
   "source": [
    "# Create a time series data with daily frequency\n",
    "date_rng = pd.date_range(start='2021-01-01', end='2021-02-01', freq='D')\n",
    "ts = pd.Series(np.random.randn(len(date_rng)), index=date_rng)\n",
    "\n",
    "# Resample the time series to weekly frequency\n",
    "ts_weekly = ts.resample('W').mean()\n",
    "\n",
    "# Display the resampled time series\n",
    "print(ts_weekly)"
   ]
  },
  {
   "cell_type": "code",
   "execution_count": 7,
   "id": "a80508d1",
   "metadata": {},
   "outputs": [
    {
     "name": "stdout",
     "output_type": "stream",
     "text": [
      "2024-01-01 00:00:00     3.432750\n",
      "2024-01-01 01:00:00    -9.232459\n",
      "2024-01-01 02:00:00    -4.726680\n",
      "2024-01-01 03:00:00     1.305359\n",
      "2024-01-01 04:00:00    -9.705940\n",
      "2024-01-01 05:00:00    -7.721907\n",
      "2024-01-01 06:00:00    11.874888\n",
      "2024-01-01 07:00:00     8.201588\n",
      "2024-01-01 08:00:00    -0.711148\n",
      "2024-01-01 09:00:00    -7.949711\n",
      "2024-01-01 10:00:00     5.217914\n",
      "2024-01-01 11:00:00    -6.415661\n",
      "2024-01-01 12:00:00     0.127214\n",
      "2024-01-01 13:00:00     0.069922\n",
      "2024-01-01 14:00:00    -0.925503\n",
      "2024-01-01 15:00:00     3.692446\n",
      "2024-01-01 16:00:00    10.451908\n",
      "2024-01-01 17:00:00    -2.823683\n",
      "2024-01-01 18:00:00     2.687958\n",
      "2024-01-01 19:00:00    -4.880346\n",
      "2024-01-01 20:00:00    -9.629051\n",
      "2024-01-01 21:00:00    -3.435683\n",
      "2024-01-01 22:00:00    -7.280840\n",
      "2024-01-01 23:00:00    -3.274515\n",
      "Freq: H, dtype: float64\n"
     ]
    }
   ],
   "source": [
    "# Create a time series data with minute frequency\n",
    "date_rng = pd.date_range(start='2024-01-01', end='2024-01-01 23:59', freq='T')\n",
    "ts = pd.Series(np.random.randn(len(date_rng)), index=date_rng)\n",
    "# Downsample the time series to hourly frequency\n",
    "ts_hourly = ts.resample('H').sum()\n",
    "\n",
    "# Display the downsampled time series\n",
    "print(ts_hourly)"
   ]
  }
 ],
 "metadata": {
  "kernelspec": {
   "display_name": "Python 3 (ipykernel)",
   "language": "python",
   "name": "python3"
  },
  "language_info": {
   "codemirror_mode": {
    "name": "ipython",
    "version": 3
   },
   "file_extension": ".py",
   "mimetype": "text/x-python",
   "name": "python",
   "nbconvert_exporter": "python",
   "pygments_lexer": "ipython3",
   "version": "3.9.7"
  }
 },
 "nbformat": 4,
 "nbformat_minor": 5
}
