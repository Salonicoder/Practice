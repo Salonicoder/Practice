{
 "cells": [
  {
   "cell_type": "code",
   "execution_count": 1,
   "id": "38d9160d",
   "metadata": {},
   "outputs": [
    {
     "name": "stdout",
     "output_type": "stream",
     "text": [
      "4x4 Array:\n",
      " [[0.42920679 0.46162148 0.03825132 0.14867221]\n",
      " [0.00522182 0.79561561 0.86933733 0.04877585]\n",
      " [0.96287645 0.34918462 0.11281321 0.2151617 ]\n",
      " [0.70575894 0.74653889 0.45277592 0.96622739]]\n",
      "Upper Triangular Part of the Array:\n",
      " [[0.42920679 0.46162148 0.03825132 0.14867221]\n",
      " [0.         0.79561561 0.86933733 0.04877585]\n",
      " [0.         0.         0.11281321 0.2151617 ]\n",
      " [0.         0.         0.         0.96622739]]\n"
     ]
    }
   ],
   "source": [
    "# Importing the necessary NumPy library\n",
    "import numpy as np\n",
    "\n",
    "# Create a 4x4 array with random values\n",
    "array = np.random.rand(4, 4)\n",
    "\n",
    "# Extract the upper triangular part of the matrix\n",
    "upper_triangular = np.triu(array)\n",
    "\n",
    "# Printing the original array and its upper triangular part\n",
    "print(\"4x4 Array:\\n\", array)\n",
    "print(\"Upper Triangular Part of the Array:\\n\", upper_triangular)\n"
   ]
  }
 ],
 "metadata": {
  "kernelspec": {
   "display_name": "Python 3 (ipykernel)",
   "language": "python",
   "name": "python3"
  },
  "language_info": {
   "codemirror_mode": {
    "name": "ipython",
    "version": 3
   },
   "file_extension": ".py",
   "mimetype": "text/x-python",
   "name": "python",
   "nbconvert_exporter": "python",
   "pygments_lexer": "ipython3",
   "version": "3.9.7"
  }
 },
 "nbformat": 4,
 "nbformat_minor": 5
}
