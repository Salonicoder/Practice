{
 "cells": [
  {
   "cell_type": "code",
   "execution_count": 1,
   "id": "0c5c6de6",
   "metadata": {},
   "outputs": [],
   "source": [
    "import pandas as pd\n",
    "import numpy as np\n",
    "import time"
   ]
  },
  {
   "cell_type": "code",
   "execution_count": 4,
   "id": "79bc9930",
   "metadata": {},
   "outputs": [
    {
     "name": "stdout",
     "output_type": "stream",
     "text": [
      "Time taken using pd.concat: 0.013920 seconds\n",
      "Time taken using for loop: 0.216248 seconds\n"
     ]
    }
   ],
   "source": [
    "# Function to create a list of DataFrames\n",
    "def create_dataframes(num_dfs, num_rows, num_cols):\n",
    "    return [pd.DataFrame(np.random.randn(num_rows, num_cols)) for _ in range(num_dfs)]\n",
    "\n",
    "# Number of DataFrames, rows, and columns\n",
    "num_dfs = 100\n",
    "num_rows = 1000\n",
    "num_cols = 10\n",
    "\n",
    "# Create DataFrames\n",
    "dfs = create_dataframes(num_dfs, num_rows, num_cols)\n",
    "\n",
    "# Measure time for pd.concat method\n",
    "start_time = time.time()\n",
    "result_concat = pd.concat(dfs, axis=0)\n",
    "end_time = time.time()\n",
    "concat_time = end_time - start_time\n",
    "\n",
    "# Measure time for for-loop method\n",
    "start_time = time.time()\n",
    "result_for_loop = dfs[0]\n",
    "for df in dfs[1:]:\n",
    "    result_for_loop = pd.concat([result_for_loop, df], axis=0)\n",
    "end_time = time.time()\n",
    "for_loop_time = end_time - start_time\n",
    "\n",
    "# Print the time taken for each method\n",
    "print(f\"Time taken using pd.concat: {concat_time:.6f} seconds\")\n",
    "print(f\"Time taken using for loop: {for_loop_time:.6f} seconds\")"
   ]
  },
  {
   "cell_type": "code",
   "execution_count": 5,
   "id": "f9416045",
   "metadata": {},
   "outputs": [
    {
     "name": "stdout",
     "output_type": "stream",
     "text": [
      "Time taken using query method: 0.075012 seconds\n",
      "Time taken using boolean indexing: 0.033163 seconds\n"
     ]
    }
   ],
   "source": [
    "# Create a sample DataFrame\n",
    "num_rows = 1000000\n",
    "df = pd.DataFrame({\n",
    "    'A': np.random.randint(0, 100, size=num_rows),\n",
    "    'B': np.random.randn(num_rows),\n",
    "    'C': np.random.rand(num_rows)\n",
    "})\n",
    "\n",
    "# Define the condition\n",
    "condition = 'A > 50 and B < 0'\n",
    "\n",
    "# Measure time for query method\n",
    "start_time = time.time()\n",
    "result_query = df.query(condition)\n",
    "end_time = time.time()\n",
    "query_time = end_time - start_time\n",
    "\n",
    "# Measure time for boolean indexing\n",
    "start_time = time.time()\n",
    "result_boolean_indexing = df[(df['A'] > 50) & (df['B'] < 0)]\n",
    "end_time = time.time()\n",
    "boolean_indexing_time = end_time - start_time\n",
    "\n",
    "# Print the time taken for each method\n",
    "print(f\"Time taken using query method: {query_time:.6f} seconds\")\n",
    "print(f\"Time taken using boolean indexing: {boolean_indexing_time:.6f} seconds\")"
   ]
  },
  {
   "cell_type": "code",
   "execution_count": 6,
   "id": "8d9425a1",
   "metadata": {},
   "outputs": [
    {
     "name": "stdout",
     "output_type": "stream",
     "text": [
      "Time taken using resample method: 0.059435 seconds\n",
      "Time taken using manual resampling: 0.026432 seconds\n"
     ]
    }
   ],
   "source": [
    "# Create a time series DataFrame\n",
    "num_rows = 1000000\n",
    "date_range = pd.date_range(start='1/1/2020', periods=num_rows, freq='T')\n",
    "df = pd.DataFrame({'value': np.random.randn(num_rows)}, index=date_range)\n",
    "\n",
    "# Resampling frequency\n",
    "resample_freq = 'H'\n",
    "\n",
    "# Measure time for resample method\n",
    "start_time = time.time()\n",
    "resampled_df = df.resample(resample_freq).mean()\n",
    "end_time = time.time()\n",
    "resample_time = end_time - start_time\n",
    "\n",
    "# Measure time for manual resampling\n",
    "start_time = time.time()\n",
    "manual_resampled_df = df.groupby(pd.Grouper(freq=resample_freq)).mean()\n",
    "end_time = time.time()\n",
    "manual_resample_time = end_time - start_time\n",
    "\n",
    "# Print the time taken for each method\n",
    "print(f\"Time taken using resample method: {resample_time:.6f} seconds\")\n",
    "print(f\"Time taken using manual resampling: {manual_resample_time:.6f} seconds\")"
   ]
  },
  {
   "cell_type": "code",
   "execution_count": 7,
   "id": "d630f968",
   "metadata": {},
   "outputs": [
    {
     "name": "stdout",
     "output_type": "stream",
     "text": [
      "Time taken using cumsum method: 0.017408 seconds\n",
      "Time taken using for loop: 13.826880 seconds\n"
     ]
    }
   ],
   "source": [
    "# Create a sample DataFrame\n",
    "num_rows = 1000000\n",
    "df = pd.DataFrame({'value': np.random.randn(num_rows)})\n",
    "\n",
    "# Measure time for cumsum method\n",
    "start_time = time.time()\n",
    "cumsum_result = df['value'].cumsum()\n",
    "end_time = time.time()\n",
    "cumsum_time = end_time - start_time\n",
    "\n",
    "# Measure time for for loop method\n",
    "start_time = time.time()\n",
    "cumsum_for_loop = np.zeros(num_rows)\n",
    "cumsum_for_loop[0] = df['value'].iloc[0]\n",
    "for i in range(1, num_rows):\n",
    "    cumsum_for_loop[i] = cumsum_for_loop[i-1] + df['value'].iloc[i]\n",
    "end_time = time.time()\n",
    "for_loop_time = end_time - start_time\n",
    "\n",
    "# Print the time taken for each method\n",
    "print(f\"Time taken using cumsum method: {cumsum_time:.6f} seconds\")\n",
    "print(f\"Time taken using for loop: {for_loop_time:.6f} seconds\")"
   ]
  },
  {
   "cell_type": "code",
   "execution_count": 8,
   "id": "c5215b5f",
   "metadata": {},
   "outputs": [
    {
     "name": "stdout",
     "output_type": "stream",
     "text": [
      "Time taken using str accessor: 0.465502 seconds\n",
      "Time taken using apply method: 0.400365 seconds\n"
     ]
    }
   ],
   "source": [
    "# Create a sample DataFrame\n",
    "num_rows = 1000000\n",
    "df = pd.DataFrame({\n",
    "    'text': ['example_string'] * num_rows\n",
    "})\n",
    "\n",
    "# Measure time for str accessor method\n",
    "start_time = time.time()\n",
    "str_accessor_result = df['text'].str.upper()\n",
    "end_time = time.time()\n",
    "str_accessor_time = end_time - start_time\n",
    "\n",
    "# Define a custom function to apply\n",
    "def to_upper(text):\n",
    "    return text.upper()\n",
    "\n",
    "# Measure time for apply method\n",
    "start_time = time.time()\n",
    "apply_result = df['text'].apply(to_upper)\n",
    "end_time = time.time()\n",
    "apply_time = end_time - start_time\n",
    "\n",
    "# Print the time taken for each method\n",
    "print(f\"Time taken using str accessor: {str_accessor_time:.6f} seconds\")\n",
    "print(f\"Time taken using apply method: {apply_time:.6f} seconds\")"
   ]
  },
  {
   "cell_type": "code",
   "execution_count": 9,
   "id": "08d848bc",
   "metadata": {},
   "outputs": [
    {
     "name": "stdout",
     "output_type": "stream",
     "text": [
      "Time taken using pivot_table method: 0.412065 seconds\n",
      "Time taken using manual reshaping: 2.536218 seconds\n"
     ]
    }
   ],
   "source": [
    "# Create a sample DataFrame\n",
    "num_rows = 1000000\n",
    "df = pd.DataFrame({\n",
    "    'A': np.random.choice(['foo', 'bar', 'baz'], size=num_rows),\n",
    "    'B': np.random.choice(['one', 'two', 'three'], size=num_rows),\n",
    "    'values': np.random.randn(num_rows)\n",
    "})\n",
    "\n",
    "# Measure time for pivot_table method\n",
    "start_time = time.time()\n",
    "pivot_table_result = df.pivot_table(index='A', columns='B', values='values', aggfunc='mean')\n",
    "end_time = time.time()\n",
    "pivot_table_time = end_time - start_time\n",
    "\n",
    "# Measure time for manual reshaping using for loops\n",
    "start_time = time.time()\n",
    "result = {}\n",
    "for a in df['A'].unique():\n",
    "    result[a] = {}\n",
    "    for b in df['B'].unique():\n",
    "        result[a][b] = df[(df['A'] == a) & (df['B'] == b)]['values'].mean()\n",
    "\n",
    "manual_reshape_result = pd.DataFrame(result).T\n",
    "end_time = time.time()\n",
    "manual_reshape_time = end_time - start_time\n",
    "\n",
    "# Print the time taken for each method\n",
    "print(f\"Time taken using pivot_table method: {pivot_table_time:.6f} seconds\")\n",
    "print(f\"Time taken using manual reshaping: {manual_reshape_time:.6f} seconds\")"
   ]
  },
  {
   "cell_type": "code",
   "execution_count": 10,
   "id": "271fbf84",
   "metadata": {},
   "outputs": [
    {
     "name": "stdout",
     "output_type": "stream",
     "text": [
      "Time taken using sort_values method: 0.188197 seconds\n",
      "Time taken using apply method: 0.245891 seconds\n"
     ]
    }
   ],
   "source": [
    "# Create a sample DataFrame\n",
    "num_rows = 1000000\n",
    "df = pd.DataFrame({\n",
    "    'A': np.random.randint(0, 100, size=num_rows),\n",
    "    'B': np.random.randn(num_rows)\n",
    "})\n",
    "\n",
    "# Measure time for sort_values method\n",
    "start_time = time.time()\n",
    "sorted_df = df.sort_values(by='A')\n",
    "end_time = time.time()\n",
    "sort_values_time = end_time - start_time\n",
    "\n",
    "# Define a custom sorting function\n",
    "def sort_custom(df):\n",
    "    return df.sort_values(by='A')\n",
    "\n",
    "# Measure time for apply method\n",
    "start_time = time.time()\n",
    "apply_sorted_df = df.apply(lambda x: x).sort_values(by='A')\n",
    "end_time = time.time()\n",
    "apply_time = end_time - start_time\n",
    "\n",
    "# Print the time taken for each method\n",
    "print(f\"Time taken using sort_values method: {sort_values_time:.6f} seconds\")\n",
    "print(f\"Time taken using apply method: {apply_time:.6f} seconds\")"
   ]
  },
  {
   "cell_type": "code",
   "execution_count": 11,
   "id": "5f9d47e0",
   "metadata": {},
   "outputs": [
    {
     "name": "stdout",
     "output_type": "stream",
     "text": [
      "Time taken using rolling method: 0.085488 seconds\n",
      "Time taken using manual calculation: 251.220275 seconds\n"
     ]
    }
   ],
   "source": [
    "# Create a time series DataFrame\n",
    "num_rows = 1000000\n",
    "date_range = pd.date_range(start='1/1/2020', periods=num_rows, freq='T')\n",
    "df = pd.DataFrame({'value': np.random.randn(num_rows)}, index=date_range)\n",
    "\n",
    "# Define the window size\n",
    "window_size = 60\n",
    "\n",
    "# Measure time for rolling method\n",
    "start_time = time.time()\n",
    "rolling_mean = df['value'].rolling(window=window_size).mean()\n",
    "end_time = time.time()\n",
    "rolling_time = end_time - start_time\n",
    "\n",
    "# Measure time for manual rolling calculation\n",
    "start_time = time.time()\n",
    "manual_rolling_mean = df['value'].copy()\n",
    "for i in range(window_size, num_rows):\n",
    "    manual_rolling_mean.iloc[i] = df['value'].iloc[i-window_size:i].mean()\n",
    "end_time = time.time()\n",
    "manual_rolling_time = end_time - start_time\n",
    "\n",
    "# Print the time taken for each method\n",
    "print(f\"Time taken using rolling method: {rolling_time:.6f} seconds\")\n",
    "print(f\"Time taken using manual calculation: {manual_rolling_time:.6f} seconds\")"
   ]
  },
  {
   "cell_type": "code",
   "execution_count": 16,
   "id": "812fe9b7",
   "metadata": {},
   "outputs": [
    {
     "name": "stdout",
     "output_type": "stream",
     "text": [
      "Time using agg method: 0.002640 seconds\n",
      "Time applying functions individually: 0.000000 seconds\n",
      "Aggregated results using agg method:\n",
      "                 A           B             C\n",
      "sum   49723.000000  509.199400  48276.000000\n",
      "mean     49.723000    0.509199     48.276000\n",
      "std      28.857183    0.296208     28.470799\n",
      "Results applying functions individually:\n",
      "{'A_sum': 49723, 'A_mean': 49.723, 'A_std': 28.857182953434812, 'B_sum': 509.19940043113445, 'B_mean': 0.5091994004311343, 'B_std': 0.2962083809189193, 'C_sum': 48276, 'C_mean': 48.276, 'C_std': 28.47079925837016}\n"
     ]
    }
   ],
   "source": [
    "# Create a sample DataFrame\n",
    "np.random.seed(0)\n",
    "df = pd.DataFrame({\n",
    "    'A': np.random.randint(1, 100, 1000),\n",
    "    'B': np.random.rand(1000),\n",
    "    'C': np.random.randint(1, 100, 1000)\n",
    "})\n",
    "\n",
    "# Define aggregation functions\n",
    "aggregations = {\n",
    "    'A': ['sum', 'mean', 'std'],\n",
    "    'B': ['sum', 'mean', 'std'],\n",
    "    'C': ['sum', 'mean', 'std']\n",
    "}\n",
    "\n",
    "# Timing the agg method\n",
    "start_time_agg = time.time()\n",
    "df_agg = df.agg(aggregations)\n",
    "time_agg = time.time() - start_time_agg\n",
    "\n",
    "# Timing the individual application of functions\n",
    "start_time_individual = time.time()\n",
    "results_individual = {\n",
    "    'A_sum': df['A'].sum(),\n",
    "    'A_mean': df['A'].mean(),\n",
    "    'A_std': df['A'].std(),\n",
    "    'B_sum': df['B'].sum(),\n",
    "    'B_mean': df['B'].mean(),\n",
    "    'B_std': df['B'].std(),\n",
    "    'C_sum': df['C'].sum(),\n",
    "    'C_mean': df['C'].mean(),\n",
    "    'C_std': df['C'].std()\n",
    "}\n",
    "time_individual = time.time() - start_time_individual\n",
    "\n",
    "# Print results\n",
    "print(f\"Time using agg method: {time_agg:.6f} seconds\")\n",
    "print(f\"Time applying functions individually: {time_individual:.6f} seconds\")\n",
    "print(\"Aggregated results using agg method:\")\n",
    "print(df_agg)\n",
    "print(\"Results applying functions individually:\")\n",
    "print(results_individual)"
   ]
  }
 ],
 "metadata": {
  "kernelspec": {
   "display_name": "Python 3 (ipykernel)",
   "language": "python",
   "name": "python3"
  },
  "language_info": {
   "codemirror_mode": {
    "name": "ipython",
    "version": 3
   },
   "file_extension": ".py",
   "mimetype": "text/x-python",
   "name": "python",
   "nbconvert_exporter": "python",
   "pygments_lexer": "ipython3",
   "version": "3.9.7"
  }
 },
 "nbformat": 4,
 "nbformat_minor": 5
}
