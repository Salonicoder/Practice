{
 "cells": [
  {
   "cell_type": "code",
   "execution_count": 1,
   "id": "04bce2d4",
   "metadata": {},
   "outputs": [],
   "source": [
    "import numpy as np  # Import NumPy library\n",
    "from scipy.linalg import qr, lu, cholesky  # Import linear algebra decomposition functions from SciPy"
   ]
  },
  {
   "cell_type": "code",
   "execution_count": 2,
   "id": "0c697b83",
   "metadata": {},
   "outputs": [
    {
     "name": "stdout",
     "output_type": "stream",
     "text": [
      "Original Matrix:\n",
      "[[  4  12 -16]\n",
      " [ 12  37 -43]\n",
      " [-16 -43  98]]\n",
      "\n",
      "QR Decomposition:\n",
      "Q matrix:\n",
      "[[-0.19611614 -0.16947544  0.96582428]\n",
      " [-0.58834841 -0.76762404 -0.25416428]\n",
      " [ 0.78446454 -0.61808689  0.05083286]]\n",
      "R matrix:\n",
      "[[-20.39607805 -57.85425987 105.31436457]\n",
      " [  0.          -3.8580585  -24.85307452]\n",
      " [  0.           0.           0.45749571]]\n",
      "\n",
      "LU Decomposition:\n",
      "P matrix:\n",
      "[[0. 0. 1.]\n",
      " [0. 1. 0.]\n",
      " [1. 0. 0.]]\n",
      "L matrix:\n",
      "[[ 1.          0.          0.        ]\n",
      " [-0.75        1.          0.        ]\n",
      " [-0.25        0.26315789  1.        ]]\n",
      "U matrix:\n",
      "[[-16.         -43.          98.        ]\n",
      " [  0.           4.75        30.5       ]\n",
      " [  0.           0.           0.47368421]]\n",
      "\n",
      "Cholesky Decomposition:\n",
      "L matrix:\n",
      "[[ 2.  0.  0.]\n",
      " [ 6.  1.  0.]\n",
      " [-8.  5.  3.]]\n"
     ]
    }
   ],
   "source": [
    "# Create a matrix using NumPy\n",
    "matrix = np.array([\n",
    "    [4, 12, -16],\n",
    "    [12, 37, -43],\n",
    "    [-16, -43, 98]\n",
    "])\n",
    "\n",
    "# Apply QR decomposition\n",
    "Q, R = qr(matrix)\n",
    "\n",
    "# Apply LU decomposition\n",
    "P, L, U = lu(matrix)\n",
    "\n",
    "# Apply Cholesky decomposition\n",
    "# Ensure the matrix is positive-definite for Cholesky decomposition\n",
    "cholesky_matrix = np.array([\n",
    "    [4, 12, -16],\n",
    "    [12, 37, -43],\n",
    "    [-16, -43, 98]\n",
    "])\n",
    "L_cholesky = cholesky(cholesky_matrix, lower=True)\n",
    "\n",
    "# Print the original matrix and the decomposition results\n",
    "print(\"Original Matrix:\")\n",
    "print(matrix)\n",
    "\n",
    "print(\"\\nQR Decomposition:\")\n",
    "print(\"Q matrix:\")\n",
    "print(Q)\n",
    "print(\"R matrix:\")\n",
    "print(R)\n",
    "\n",
    "print(\"\\nLU Decomposition:\")\n",
    "print(\"P matrix:\")\n",
    "print(P)\n",
    "print(\"L matrix:\")\n",
    "print(L)\n",
    "print(\"U matrix:\")\n",
    "print(U)\n",
    "\n",
    "print(\"\\nCholesky Decomposition:\")\n",
    "print(\"L matrix:\")\n",
    "print(L_cholesky)"
   ]
  }
 ],
 "metadata": {
  "kernelspec": {
   "display_name": "Python 3 (ipykernel)",
   "language": "python",
   "name": "python3"
  },
  "language_info": {
   "codemirror_mode": {
    "name": "ipython",
    "version": 3
   },
   "file_extension": ".py",
   "mimetype": "text/x-python",
   "name": "python",
   "nbconvert_exporter": "python",
   "pygments_lexer": "ipython3",
   "version": "3.9.7"
  }
 },
 "nbformat": 4,
 "nbformat_minor": 5
}
