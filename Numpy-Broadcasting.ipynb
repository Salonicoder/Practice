{
 "cells": [
  {
   "cell_type": "code",
   "execution_count": 1,
   "id": "ddd3ec1c",
   "metadata": {},
   "outputs": [],
   "source": [
    "import numpy as np"
   ]
  },
  {
   "cell_type": "code",
   "execution_count": 2,
   "id": "f9fd72b8",
   "metadata": {},
   "outputs": [
    {
     "data": {
      "text/plain": [
       "array([[11, 12, 13],\n",
       "       [21, 22, 23],\n",
       "       [31, 32, 33]])"
      ]
     },
     "execution_count": 2,
     "metadata": {},
     "output_type": "execute_result"
    }
   ],
   "source": [
    "x = np.array([1, 2, 3]) \n",
    "y = np.array([[10], [20], [30]])\n",
    "\n",
    "result = x+y\n",
    "result"
   ]
  },
  {
   "cell_type": "code",
   "execution_count": 3,
   "id": "0b6c08fe",
   "metadata": {},
   "outputs": [
    {
     "data": {
      "text/plain": [
       "array([[4, 4, 4, 4],\n",
       "       [0, 0, 0, 0],\n",
       "       [8, 8, 8, 8]])"
      ]
     },
     "execution_count": 3,
     "metadata": {},
     "output_type": "execute_result"
    }
   ],
   "source": [
    "# Create a 2D array x with shape (3, 4)\n",
    "x = np.array([[5, 6, 7, 8], [1, 2, 3, 4], [9, 10, 11, 12]])\n",
    "\n",
    "# Create a 1D array y with shape (4,)\n",
    "y = np.array([1, 2, 3, 4])\n",
    "\n",
    "x-y"
   ]
  },
  {
   "cell_type": "code",
   "execution_count": 4,
   "id": "b27aa8e9",
   "metadata": {},
   "outputs": [
    {
     "data": {
      "text/plain": [
       "array([[[  2,   6,  12,  20],\n",
       "        [ 10,  18,  28,  40],\n",
       "        [ 18,  30,  44,  60]],\n",
       "\n",
       "       [[ 26,  42,  60,  80],\n",
       "        [ 34,  54,  76, 100],\n",
       "        [ 42,  66,  92, 120]]])"
      ]
     },
     "execution_count": 4,
     "metadata": {},
     "output_type": "execute_result"
    }
   ],
   "source": [
    "# Create a 3D array a with shape (2, 3, 4)\n",
    "a = np.array([[[1, 2, 3, 4],\n",
    "               [5, 6, 7, 8],\n",
    "               [9, 10, 11, 12]],\n",
    "\n",
    "              [[13, 14, 15, 16],\n",
    "               [17, 18, 19, 20],\n",
    "               [21, 22, 23, 24]]])\n",
    "\n",
    "# Create a 1D array b with shape (4,)\n",
    "b = np.array([2, 3, 4, 5])\n",
    "\n",
    "a*b"
   ]
  },
  {
   "cell_type": "code",
   "execution_count": 5,
   "id": "e4911711",
   "metadata": {},
   "outputs": [
    {
     "data": {
      "text/plain": [
       "array([[11, 12, 13, 14, 15],\n",
       "       [16, 17, 18, 19, 20],\n",
       "       [21, 22, 23, 24, 25],\n",
       "       [26, 27, 28, 29, 30],\n",
       "       [31, 32, 33, 34, 35]])"
      ]
     },
     "execution_count": 5,
     "metadata": {},
     "output_type": "execute_result"
    }
   ],
   "source": [
    "# Create a 2D array with shape (5, 5)\n",
    "array_2d = np.array([[1, 2, 3, 4, 5],\n",
    "                     [6, 7, 8, 9, 10],\n",
    "                     [11, 12, 13, 14, 15],\n",
    "                     [16, 17, 18, 19, 20],\n",
    "                     [21, 22, 23, 24, 25]])\n",
    "\n",
    "# Define a scalar value\n",
    "scalar = 10\n",
    "\n",
    "result = array_2d + scalar\n",
    "result"
   ]
  },
  {
   "cell_type": "code",
   "execution_count": 6,
   "id": "fe193bb8",
   "metadata": {},
   "outputs": [],
   "source": [
    "# Create a 1D array x\n",
    "x = np.array([1, 2, 3])\n",
    "\n",
    "# Create a 1D array y\n",
    "y = np.array([4, 5, 6, 7, 8, 9])\n",
    "\n",
    "# Reshape x to be a column vector (3, 1)\n",
    "x_reshaped = x.reshape(3, 1)\n",
    "\n",
    "# Reshape y to be a row vector (1, 6)\n",
    "y_reshaped = y.reshape(1, 6)\n"
   ]
  },
  {
   "cell_type": "code",
   "execution_count": 7,
   "id": "51c1894e",
   "metadata": {},
   "outputs": [
    {
     "data": {
      "text/plain": [
       "array([[1],\n",
       "       [2],\n",
       "       [3]])"
      ]
     },
     "execution_count": 7,
     "metadata": {},
     "output_type": "execute_result"
    }
   ],
   "source": [
    "x_reshaped"
   ]
  },
  {
   "cell_type": "code",
   "execution_count": 8,
   "id": "bcba17e6",
   "metadata": {},
   "outputs": [
    {
     "data": {
      "text/plain": [
       "array([[4, 5, 6, 7, 8, 9]])"
      ]
     },
     "execution_count": 8,
     "metadata": {},
     "output_type": "execute_result"
    }
   ],
   "source": [
    "y_reshaped"
   ]
  },
  {
   "cell_type": "code",
   "execution_count": 9,
   "id": "b00b1196",
   "metadata": {},
   "outputs": [
    {
     "data": {
      "text/plain": [
       "array([[ 4,  5,  6,  7,  8,  9],\n",
       "       [ 8, 10, 12, 14, 16, 18],\n",
       "       [12, 15, 18, 21, 24, 27]])"
      ]
     },
     "execution_count": 9,
     "metadata": {},
     "output_type": "execute_result"
    }
   ],
   "source": [
    "x_reshaped*y_reshaped"
   ]
  },
  {
   "cell_type": "code",
   "execution_count": 10,
   "id": "ac854d15",
   "metadata": {},
   "outputs": [
    {
     "data": {
      "text/plain": [
       "array([[ 4.,  8., 12.],\n",
       "       [ 1.,  2.,  3.],\n",
       "       [ 4.,  8., 12.],\n",
       "       [ 1.,  2.,  3.]])"
      ]
     },
     "execution_count": 10,
     "metadata": {},
     "output_type": "execute_result"
    }
   ],
   "source": [
    "# Create a 2D array x with shape (4, 3)\n",
    "x = np.array([[8, 16, 24],\n",
    "              [2, 4, 6],\n",
    "              [12, 24, 36],\n",
    "              [4, 8, 12]])\n",
    "\n",
    "# Create a 1D array y with shape (4,)\n",
    "y = np.array([2, 2, 3, 4])\n",
    "\n",
    "# Reshape y to be a column vector (4, 1) for broadcasting\n",
    "y_reshaped = y.reshape(4, 1)\n",
    "\n",
    "# Divide each column of x by y using broadcasting\n",
    "result = x / y_reshaped\n",
    "result"
   ]
  },
  {
   "cell_type": "code",
   "execution_count": 11,
   "id": "2d49cb5f",
   "metadata": {},
   "outputs": [
    {
     "data": {
      "text/plain": [
       "array([[ 2,  8, 14],\n",
       "       [ 3,  9, 15],\n",
       "       [ 4, 10, 16],\n",
       "       [ 5, 11, 17],\n",
       "       [ 6, 12, 18]])"
      ]
     },
     "execution_count": 11,
     "metadata": {},
     "output_type": "execute_result"
    }
   ],
   "source": [
    "# Initialize the 2D array of shape (3, 5)\n",
    "array_2d = np.array([[1, 2, 3, 4, 5],\n",
    "                     [6, 7, 8, 9, 10],\n",
    "                     [11, 12, 13, 14, 15]])\n",
    "\n",
    "# Initialize the 1D array of shape (3,)\n",
    "array_1d = np.array([1, 2, 3])\n",
    "\n",
    "# Transpose the 2D array to get shape (5, 3)\n",
    "transposed_array = np.transpose(array_2d)\n",
    "\n",
    "transposed_array+array_1d"
   ]
  },
  {
   "cell_type": "code",
   "execution_count": 13,
   "id": "a85b6717",
   "metadata": {},
   "outputs": [
    {
     "name": "stdout",
     "output_type": "stream",
     "text": [
      "[[[ 0  1  2  3]\n",
      "  [ 3  4  5  6]\n",
      "  [ 6  7  8  9]]\n",
      "\n",
      " [[12 13 14 15]\n",
      "  [15 16 17 18]\n",
      "  [18 19 20 21]]]\n"
     ]
    }
   ],
   "source": [
    "# Initialize the 3D array of shape (2, 3, 4)\n",
    "array_3d = np.array([[[ 1,  2,  3,  4],\n",
    "                      [ 5,  6,  7,  8],\n",
    "                      [ 9, 10, 11, 12]],\n",
    "\n",
    "                     [[13, 14, 15, 16],\n",
    "                      [17, 18, 19, 20],\n",
    "                      [21, 22, 23, 24]]])\n",
    "\n",
    "# Initialize the 1D array of shape (3,)\n",
    "array_1d = np.array([1, 2, 3])\n",
    "\n",
    "# Subtract the 1D array from each 2D slice of the 3D array\n",
    "# Broadcasting is used here to subtract 1D array from each 2D slice of 3D array\n",
    "result_array = array_3d - array_1d[:, np.newaxis]\n",
    "\n",
    "# Display the result\n",
    "print(result_array)"
   ]
  },
  {
   "cell_type": "code",
   "execution_count": 14,
   "id": "eff4ef29",
   "metadata": {},
   "outputs": [
    {
     "name": "stdout",
     "output_type": "stream",
     "text": [
      "[[11 21 31 41 51]\n",
      " [12 22 32 42 52]\n",
      " [13 23 33 43 53]\n",
      " [14 24 34 44 54]\n",
      " [15 25 35 45 55]]\n"
     ]
    }
   ],
   "source": [
    "# Initialize two 1D arrays of shape (5,)\n",
    "x = np.array([1, 2, 3, 4, 5])\n",
    "y = np.array([10, 20, 30, 40, 50])\n",
    "\n",
    "# Reshape the arrays to (5, 1) and (1, 5) respectively\n",
    "x_reshaped = x.reshape((5, 1))\n",
    "y_reshaped = y.reshape((1, 5))\n",
    "\n",
    "# Perform element-wise addition using broadcasting\n",
    "result_array = x_reshaped + y_reshaped\n",
    "\n",
    "# Display the result\n",
    "print(result_array)"
   ]
  },
  {
   "cell_type": "code",
   "execution_count": 15,
   "id": "56c0f656",
   "metadata": {},
   "outputs": [
    {
     "name": "stdout",
     "output_type": "stream",
     "text": [
      "[[6. 6. 6. 6.]\n",
      " [5. 5. 5. 5.]\n",
      " [4. 4. 4. 4.]\n",
      " [3. 3. 3. 3.]\n",
      " [2. 2. 2. 2.]\n",
      " [1. 1. 1. 1.]]\n"
     ]
    }
   ],
   "source": [
    "# Initialize the 2D array of shape (6, 4)\n",
    "x = np.array([[12, 24, 36, 48],\n",
    "              [10, 20, 30, 40],\n",
    "              [8, 16, 24, 32],\n",
    "              [6, 12, 18, 24],\n",
    "              [4, 8, 12, 16],\n",
    "              [2, 4, 6, 8]])\n",
    "\n",
    "# Initialize the 1D array of shape (4,)\n",
    "y = np.array([2, 4, 6, 8])\n",
    "\n",
    "# Perform element-wise division using broadcasting\n",
    "result_array = x / y\n",
    "\n",
    "# Display the result\n",
    "print(result_array)"
   ]
  }
 ],
 "metadata": {
  "kernelspec": {
   "display_name": "Python 3 (ipykernel)",
   "language": "python",
   "name": "python3"
  },
  "language_info": {
   "codemirror_mode": {
    "name": "ipython",
    "version": 3
   },
   "file_extension": ".py",
   "mimetype": "text/x-python",
   "name": "python",
   "nbconvert_exporter": "python",
   "pygments_lexer": "ipython3",
   "version": "3.9.7"
  }
 },
 "nbformat": 4,
 "nbformat_minor": 5
}
