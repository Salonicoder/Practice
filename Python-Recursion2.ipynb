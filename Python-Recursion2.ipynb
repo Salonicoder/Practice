{
 "cells": [
  {
   "cell_type": "code",
   "execution_count": 1,
   "id": "0033ec29",
   "metadata": {},
   "outputs": [
    {
     "name": "stdout",
     "output_type": "stream",
     "text": [
      "21\n"
     ]
    }
   ],
   "source": [
    "# Define a function named recursive_list_sum that calculates the sum of elements in a nested list\n",
    "def recursive_list_sum(data_list):\n",
    "    # Initialize a variable 'total' to store the cumulative sum\n",
    "    total = 0\n",
    "    \n",
    "    # Iterate through each element in the input list\n",
    "    for element in data_list:\n",
    "        # Check if the current element is a list (nested list)\n",
    "        if type(element) == type([]):\n",
    "            # If the element is a list, recursively call the recursive_list_sum function on the element\n",
    "            total = total + recursive_list_sum(element)\n",
    "        else:\n",
    "            # If the element is not a list, add its value to the total\n",
    "            total = total + element\n",
    "\n",
    "    # Return the total sum\n",
    "    return total\n",
    "\n",
    "# Print the result of calling the recursive_list_sum function with the input list [1, 2, [3,4], [5,6]]\n",
    "print(recursive_list_sum([1, 2, [3, 4], [5, 6]]))\n"
   ]
  },
  {
   "cell_type": "code",
   "execution_count": 2,
   "id": "e11b805c",
   "metadata": {},
   "outputs": [
    {
     "name": "stdout",
     "output_type": "stream",
     "text": [
      "120\n"
     ]
    }
   ],
   "source": [
    "#Q4\n",
    "# Define a function named factorial that calculates the factorial of a given number 'n'\n",
    "def factorial(n):\n",
    "    # Check if 'n' is less than or equal to 1\n",
    "    if n <= 1:\n",
    "        # If 'n' is 1 or less, return 1 (base case for factorial)\n",
    "        return 1\n",
    "    else:\n",
    "        # If 'n' is greater than 1, recursively call the factorial function\n",
    "        # to calculate the factorial of (n - 1) and multiply the result by 'n'\n",
    "        return n * factorial(n - 1)\n",
    "\n",
    "# Print the result of calling the factorial function with the input value 5\n",
    "print(factorial(5))\n"
   ]
  },
  {
   "cell_type": "code",
   "execution_count": 3,
   "id": "fb81d029",
   "metadata": {},
   "outputs": [
    {
     "name": "stdout",
     "output_type": "stream",
     "text": [
      "13\n"
     ]
    }
   ],
   "source": [
    "# Define a function named fibonacci that calculates the nth Fibonacci number\n",
    "def fibonacci(n):\n",
    "    # Check if n is 1 or 2 (base cases for Fibonacci)\n",
    "    if n == 1 or n == 2:\n",
    "        # If n is 1 or 2, return 1 (Fibonacci sequence starts with 1, 1)\n",
    "        return 1\n",
    "    else:\n",
    "        # If n is greater than 2, recursively call the fibonacci function\n",
    "        # to calculate the sum of the (n-1)th and (n-2)th Fibonacci numbers\n",
    "        return fibonacci(n - 1) + fibonacci(n - 2)\n",
    "\n",
    "# Print the result of calling the fibonacci function with the input value 7\n",
    "print(fibonacci(7))\n"
   ]
  }
 ],
 "metadata": {
  "kernelspec": {
   "display_name": "Python 3 (ipykernel)",
   "language": "python",
   "name": "python3"
  },
  "language_info": {
   "codemirror_mode": {
    "name": "ipython",
    "version": 3
   },
   "file_extension": ".py",
   "mimetype": "text/x-python",
   "name": "python",
   "nbconvert_exporter": "python",
   "pygments_lexer": "ipython3",
   "version": "3.9.7"
  }
 },
 "nbformat": 4,
 "nbformat_minor": 5
}
