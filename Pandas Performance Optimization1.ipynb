{
 "cells": [
  {
   "cell_type": "code",
   "execution_count": 1,
   "id": "4cc23f91",
   "metadata": {},
   "outputs": [],
   "source": [
    "import pandas as pd  # Import the Pandas library\n",
    "import numpy as np  # Import the NumPy library\n",
    "import time  # Import the time module to measure execution time\n"
   ]
  },
  {
   "cell_type": "code",
   "execution_count": 2,
   "id": "2b2c4bcd",
   "metadata": {},
   "outputs": [
    {
     "name": "stdout",
     "output_type": "stream",
     "text": [
      "Sum using for loop: 49988718\n",
      "Time taken using for loop: 0.264101505279541 seconds\n",
      "Sum using sum method: 49988718\n",
      "Time taken using sum method: 0.0061228275299072266 seconds\n"
     ]
    }
   ],
   "source": [
    "# Create a large DataFrame with random integers\n",
    "np.random.seed(0)  # Set seed for reproducibility\n",
    "data = np.random.randint(1, 100, size=(1000000, 1))  # Generate random data\n",
    "df = pd.DataFrame(data, columns=['Values'])  # Create a DataFrame\n",
    "\n",
    "# Measure the time taken to sum the column using a for loop\n",
    "start_time = time.time()  # Record the start time\n",
    "sum_for_loop = 0  # Initialize the sum variable\n",
    "for value in df['Values']:  # Iterate through each value in the column\n",
    "    sum_for_loop += value  # Add the value to the sum variable\n",
    "time_for_loop = time.time() - start_time  # Calculate the time taken\n",
    "\n",
    "# Measure the time taken to sum the column using the sum method\n",
    "start_time = time.time()  # Record the start time\n",
    "sum_method = df['Values'].sum()  # Use the sum method to calculate the sum\n",
    "time_sum_method = time.time() - start_time  # Calculate the time taken\n",
    "\n",
    "# Print the results\n",
    "print(\"Sum using for loop:\", sum_for_loop)\n",
    "print(\"Time taken using for loop:\", time_for_loop, \"seconds\")\n",
    "print(\"Sum using sum method:\", sum_method)\n",
    "print(\"Time taken using sum method:\", time_sum_method, \"seconds\")"
   ]
  }
 ],
 "metadata": {
  "kernelspec": {
   "display_name": "Python 3 (ipykernel)",
   "language": "python",
   "name": "python3"
  },
  "language_info": {
   "codemirror_mode": {
    "name": "ipython",
    "version": 3
   },
   "file_extension": ".py",
   "mimetype": "text/x-python",
   "name": "python",
   "nbconvert_exporter": "python",
   "pygments_lexer": "ipython3",
   "version": "3.9.7"
  }
 },
 "nbformat": 4,
 "nbformat_minor": 5
}
